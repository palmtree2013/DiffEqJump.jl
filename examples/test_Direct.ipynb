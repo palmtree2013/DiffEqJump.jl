{
 "cells": [
  {
   "cell_type": "code",
   "execution_count": 1,
   "source": [
    "abstract type AbstractJumpAggregator end\r\n",
    "abstract type AbstractJump end\r\n",
    "abstract type AbstractSSAJumpAggregator <: AbstractJumpAggregator end\r\n",
    "mutable struct DirectJumpAggregation{T,S,F1,F2,RNG} <: AbstractSSAJumpAggregator\r\n",
    "  next_jump::Int\r\n",
    "  prev_jump::Int\r\n",
    "  next_jump_time::T\r\n",
    "  end_time::T\r\n",
    "  cur_rates::Vector{T}\r\n",
    "  sum_rate::T\r\n",
    "  ma_jumps::S\r\n",
    "  rates::F1\r\n",
    "  affects!::F2\r\n",
    "  save_positions::Tuple{Bool,Bool}\r\n",
    "  rng::RNG\r\n",
    "end\r\n",
    "DirectJumpAggregation(nj::Int, njt::T, et::T, crs::Vector{T}, sr::T, maj::S, rs::F1, affs!::F2, sps::Tuple{Bool,Bool}, rng::RNG; kwargs...) where {T,S,F1,F2,RNG} =\r\n",
    "  DirectJumpAggregation{T,S,F1,F2,RNG}(nj, nj, njt, et, crs, sr, maj, rs, affs!, sps, rng)"
   ],
   "outputs": [
    {
     "data": {
      "text/plain": [
       "DirectJumpAggregation"
      ]
     },
     "metadata": {},
     "output_type": "display_data"
    }
   ],
   "metadata": {}
  },
  {
   "cell_type": "code",
   "execution_count": 2,
   "source": [
    "abstract type AbstractAggregatorAlgorithm end\r\n",
    "struct Direct <: AbstractAggregatorAlgorithm end"
   ],
   "outputs": [],
   "metadata": {}
  },
  {
   "cell_type": "code",
   "execution_count": 3,
   "source": [
    "using UnPack, StaticArrays\r\n",
    "using Random"
   ],
   "outputs": [],
   "metadata": {}
  },
  {
   "cell_type": "code",
   "execution_count": 4,
   "source": [
    "# creating the JumpAggregation structure (tuple-based constant jumps)\r\n",
    "function aggregate(aggregator::Direct, u, p, t, end_time, constant_jumps,\r\n",
    "    ma_jumps, save_positions, rng; kwargs...)\r\n",
    "\r\n",
    "    # handle constant jumps using tuples\r\n",
    "    rates, affects! = get_jump_info_tuples(constant_jumps)\r\n",
    "\r\n",
    "    build_jump_aggregation(DirectJumpAggregation, u, p, t, end_time, ma_jumps,\r\n",
    "            rates, affects!, save_positions, rng; kwargs...)\r\n",
    "end"
   ],
   "outputs": [
    {
     "data": {
      "text/plain": [
       "aggregate (generic function with 1 method)"
      ]
     },
     "metadata": {},
     "output_type": "display_data"
    }
   ],
   "metadata": {}
  },
  {
   "cell_type": "code",
   "execution_count": 5,
   "source": [
    "function get_jump_info_tuples(constant_jumps)\r\n",
    "    if (constant_jumps !== nothing) && !isempty(constant_jumps)\r\n",
    "      rates    = ((c.rate for c in constant_jumps)...,)\r\n",
    "      affects! = ((c.affect! for c in constant_jumps)...,)\r\n",
    "    else\r\n",
    "      rates    = ()\r\n",
    "      affects! = ()\r\n",
    "    end\r\n",
    "  \r\n",
    "    rates, affects!\r\n",
    "  end"
   ],
   "outputs": [
    {
     "data": {
      "text/plain": [
       "get_jump_info_tuples (generic function with 1 method)"
      ]
     },
     "metadata": {},
     "output_type": "display_data"
    }
   ],
   "metadata": {}
  },
  {
   "cell_type": "code",
   "execution_count": 6,
   "source": [
    "function build_jump_aggregation(jump_agg_type, u, p, t, end_time, ma_jumps, rates,\r\n",
    "    affects!, save_positions, rng; kwargs...)\r\n",
    "\r\n",
    "    # mass action jumps\r\n",
    "    majumps = ma_jumps\r\n",
    "    if majumps === nothing\r\n",
    "        majumps = MassActionJump(Vector{typeof(t)}(),\r\n",
    "        Vector{Vector{Pair{Int,eltype(u)}}}(),\r\n",
    "        Vector{Vector{Pair{Int,eltype(u)}}}())\r\n",
    "    end\r\n",
    "\r\n",
    "    # current jump rates, allows mass action rates and constant jumps\r\n",
    "    cur_rates = Vector{typeof(t)}(undef, get_num_majumps(majumps) + length(rates))\r\n",
    "\r\n",
    "    sum_rate = zero(typeof(t))\r\n",
    "    next_jump = 0\r\n",
    "    next_jump_time = typemax(typeof(t))\r\n",
    "    jump_agg_type(next_jump, next_jump_time, end_time, cur_rates, sum_rate,\r\n",
    "    majumps, rates, affects!, save_positions, rng; kwargs...)\r\n",
    "end"
   ],
   "outputs": [
    {
     "data": {
      "text/plain": [
       "build_jump_aggregation (generic function with 1 method)"
      ]
     },
     "metadata": {},
     "output_type": "display_data"
    }
   ],
   "metadata": {}
  },
  {
   "cell_type": "markdown",
   "source": [
    "## where `get_num_majumps` is defined by:"
   ],
   "metadata": {}
  },
  {
   "cell_type": "markdown",
   "source": [
    "Here invoque type `MassActionJump`  so have to define it as follows"
   ],
   "metadata": {}
  },
  {
   "cell_type": "markdown",
   "source": [
    "# Define ConstantRateJump and MassActionJump"
   ],
   "metadata": {}
  },
  {
   "cell_type": "code",
   "execution_count": 7,
   "source": [
    "#TODO Simplify the code pmapper maybe\r\n",
    "struct MassActionJump{T,S,U,V} <: AbstractJump\r\n",
    "    scaled_rates::T\r\n",
    "    reactant_stoch::S\r\n",
    "    net_stoch::U\r\n",
    "    param_mapper::V\r\n",
    "  \r\n",
    "    function MassActionJump{T,S,U,V}(rates::T, rs_in::S, ns::U, pmapper::V, scale_rates::Bool, useiszero::Bool, nocopy::Bool) where {T <: AbstractVector, S, U, V}\r\n",
    "      sr  = nocopy ? rates : copy(rates)\r\n",
    "      rs = nocopy ? rs_in : copy(rs_in)\r\n",
    "      for i in eachindex(rs)\r\n",
    "        if useiszero && (length(rs[i]) == 1) && iszero(rs[i][1][1])\r\n",
    "          rs[i] = typeof(rs[i])()\r\n",
    "        end\r\n",
    "      end\r\n",
    "  \r\n",
    "      if scale_rates && !isempty(sr)\r\n",
    "        scalerates!(sr, rs)\r\n",
    "      end\r\n",
    "      new(sr, rs, ns, pmapper)\r\n",
    "    end\r\n",
    "    function MassActionJump{Nothing,Vector{S},Vector{U},V}(::Nothing, rs_in::Vector{S}, ns::Vector{U}, pmapper::V, scale_rates::Bool, useiszero::Bool, nocopy::Bool) where {S<:AbstractVector, U<:AbstractVector, V}\r\n",
    "      rs = nocopy ? rs_in : copy(rs_in)\r\n",
    "      for i in eachindex(rs)\r\n",
    "        if useiszero && (length(rs[i]) == 1) && iszero(rs[i][1][1])\r\n",
    "          rs[i] = typeof(rs[i])()\r\n",
    "        end\r\n",
    "      end\r\n",
    "      new(nothing, rs, ns, pmapper)\r\n",
    "    end\r\n",
    "    function MassActionJump{T,S,U,V}(rate::T, rs_in::S, ns::U, pmapper::V, scale_rates::Bool, useiszero::Bool, nocopy::Bool) where {T <: Number, S, U, V}\r\n",
    "      rs = rs_in\r\n",
    "      if useiszero && (length(rs) == 1) && iszero(rs[1][1])\r\n",
    "        rs = typeof(rs)()\r\n",
    "      end\r\n",
    "      sr = scale_rates ? scalerate(rate, rs) : rate\r\n",
    "      new(sr, rs, ns, pmapper)\r\n",
    "    end\r\n",
    "    function MassActionJump{Nothing,S,U,V}(::Nothing, rs_in::S, ns::U, pmapper::V, scale_rates::Bool, useiszero::Bool, nocopy::Bool) where {S, U, V}\r\n",
    "      rs = rs_in\r\n",
    "      if useiszero && (length(rs) == 1) && iszero(rs[1][1])\r\n",
    "        rs = typeof(rs)()\r\n",
    "      end\r\n",
    "      new(nothing, rs, ns, pmapper)\r\n",
    "    end\r\n",
    "  \r\n",
    "end\r\n",
    "MassActionJump(usr::T, rs::S, ns::U, pmapper::V; scale_rates = true, useiszero = true, nocopy=false) where {T,S,U,V} = MassActionJump{T,S,U,V}(usr, rs, ns, pmapper, scale_rates, useiszero, nocopy)\r\n",
    "\r\n",
    "MassActionJump(usr::T, rs, ns; scale_rates = true, useiszero = true, nocopy=false) where {T <: AbstractVector,S,U} = MassActionJump(usr, rs, ns, nothing; scale_rates=scale_rates, useiszero=useiszero, nocopy=nocopy)\r\n",
    "\r\n",
    "MassActionJump(usr::T, rs, ns; scale_rates = true, useiszero = true, nocopy=false) where {T <: Number,S,U} = MassActionJump(usr, rs, ns, nothing; scale_rates=scale_rates, useiszero=useiszero, nocopy=nocopy)\r\n",
    "\r\n",
    "# with parameter indices or mapping, multiple jump case\r\n",
    "function MassActionJump(rs, ns; param_idxs=nothing, param_mapper=nothing, scale_rates = true, useiszero = true, nocopy=false)\r\n",
    "  if param_mapper === nothing \r\n",
    "    (param_idxs === nothing) && error(\"If no parameter indices are given via param_idxs, an explicit parameter mapping must be passed in via param_mapper.\")\r\n",
    "    pmapper = MassActionJumpParamMapper(param_idxs)\r\n",
    "  else\r\n",
    "    (param_idxs !== nothing) && error(\"Only one of param_idxs and param_mapper should be passed.\")\r\n",
    "    pmapper = param_mapper\r\n",
    "  end\r\n",
    "                      \r\n",
    "  MassActionJump(nothing, nocopy ? rs : copy(rs), ns, pmapper; scale_rates=scale_rates, \r\n",
    "                 useiszero=useiszero, nocopy=true)\r\n",
    "end"
   ],
   "outputs": [
    {
     "data": {
      "text/plain": [
       "MassActionJump"
      ]
     },
     "metadata": {},
     "output_type": "display_data"
    }
   ],
   "metadata": {}
  },
  {
   "cell_type": "code",
   "execution_count": 8,
   "source": [
    "@inline get_num_majumps(maj::MassActionJump) = length(maj.scaled_rates)\r\n",
    "@inline get_num_majumps(maj::Nothing) = 0"
   ],
   "outputs": [
    {
     "data": {
      "text/plain": [
       "get_num_majumps (generic function with 2 methods)"
      ]
     },
     "metadata": {},
     "output_type": "display_data"
    }
   ],
   "metadata": {}
  },
  {
   "cell_type": "code",
   "execution_count": 9,
   "source": [
    "struct ConstantRateJump{F1,F2} <: AbstractJump\r\n",
    "    rate::F1\r\n",
    "    affect!::F2\r\n",
    "end  "
   ],
   "outputs": [],
   "metadata": {}
  },
  {
   "cell_type": "code",
   "execution_count": 10,
   "source": [
    "function scalerates!(unscaled_rates::AbstractVector{U}, stochmat::AbstractVector{V}) where {U,S,T,W <: Pair{S,T}, V <: AbstractVector{W}}\r\n",
    "    @inbounds for i in eachindex(unscaled_rates)\r\n",
    "        coef = one(T)\r\n",
    "        @inbounds for specstoch in stochmat[i]\r\n",
    "            coef *= factorial(specstoch[2])\r\n",
    "        end\r\n",
    "        unscaled_rates[i] /= coef\r\n",
    "    end\r\n",
    "    nothing\r\n",
    "end\r\n",
    "\r\n",
    "function scalerate(unscaled_rate::U, stochmat::AbstractVector{Pair{S,T}}) where {U <: Number, S, T}\r\n",
    "    coef = one(T)\r\n",
    "    @inbounds for specstoch in stochmat\r\n",
    "        coef *= factorial(specstoch[2])\r\n",
    "    end\r\n",
    "    unscaled_rate /= coef\r\n",
    "end"
   ],
   "outputs": [
    {
     "data": {
      "text/plain": [
       "scalerate (generic function with 1 method)"
      ]
     },
     "metadata": {},
     "output_type": "display_data"
    }
   ],
   "metadata": {}
  },
  {
   "cell_type": "markdown",
   "source": [
    "## An example of MassActionJump"
   ],
   "metadata": {}
  },
  {
   "cell_type": "code",
   "execution_count": 11,
   "source": [
    "rates1 = [0.1/1000.0]\r\n",
    "reactant_stoich1 = [[1=>1,2=>1]]\r\n",
    "net_stoich1 = [[1=>-1,2=>1]]\r\n",
    "jump1 = MassActionJump(rates1, reactant_stoich1, net_stoich1; scale_rates = false)"
   ],
   "outputs": [
    {
     "data": {
      "text/plain": [
       "MassActionJump{Vector{Float64}, Vector{Vector{Pair{Int64, Int64}}}, Vector{Vector{Pair{Int64, Int64}}}, Nothing}([0.0001], [[1 => 1, 2 => 1]], [[1 => -1, 2 => 1]], nothing)"
      ]
     },
     "metadata": {},
     "output_type": "display_data"
    }
   ],
   "metadata": {}
  },
  {
   "cell_type": "markdown",
   "source": [
    "## An example of ConstantRateJump"
   ],
   "metadata": {}
  },
  {
   "cell_type": "code",
   "execution_count": 12,
   "source": [
    "rate2 = (u,p,t) -> 0.01u[2]\r\n",
    "affect! = function (integrator)\r\n",
    "  integrator.u[2] -= 1\r\n",
    "  integrator.u[3] += 1\r\n",
    "end\r\n",
    "jump2 = ConstantRateJump(rate2,affect!)"
   ],
   "outputs": [
    {
     "data": {
      "text/plain": [
       "ConstantRateJump{var\"#14#15\", var\"#16#17\"}(var\"#14#15\"(), var\"#16#17\"())"
      ]
     },
     "metadata": {},
     "output_type": "display_data"
    }
   ],
   "metadata": {}
  },
  {
   "cell_type": "markdown",
   "source": [
    "# Next we want to build aggregator"
   ],
   "metadata": {}
  },
  {
   "cell_type": "code",
   "execution_count": 13,
   "source": [
    "u0 = [999.,1.,0.]\r\n",
    "p = nothing\r\n",
    "t0 = 0.0 # initial time\r\n",
    "end_time  = 200.\r\n",
    "constant_jumps = jump2 \r\n",
    "ma_jumps = jump1\r\n",
    "save_positions = (false,false)\r\n",
    "rng = Random.seed!(1234)"
   ],
   "outputs": [
    {
     "data": {
      "text/plain": [
       "MersenneTwister(1234)"
      ]
     },
     "metadata": {},
     "output_type": "display_data"
    }
   ],
   "metadata": {}
  },
  {
   "cell_type": "code",
   "execution_count": 14,
   "source": [
    "struct JumpSet{T1,T2,T3,T4} <: AbstractJump\r\n",
    "    variable_jumps::T1\r\n",
    "    constant_jumps::T2\r\n",
    "    regular_jump::T3\r\n",
    "    massaction_jump::T4\r\n",
    "end"
   ],
   "outputs": [],
   "metadata": {}
  },
  {
   "cell_type": "code",
   "execution_count": 15,
   "source": [
    "jumpset=JumpSet((),(constant_jumps,),nothing,ma_jumps)"
   ],
   "outputs": [
    {
     "data": {
      "text/plain": [
       "JumpSet{Tuple{}, Tuple{ConstantRateJump{var\"#14#15\", var\"#16#17\"}}, Nothing, MassActionJump{Vector{Float64}, Vector{Vector{Pair{Int64, Int64}}}, Vector{Vector{Pair{Int64, Int64}}}, Nothing}}((), (ConstantRateJump{var\"#14#15\", var\"#16#17\"}(var\"#14#15\"(), var\"#16#17\"()),), nothing, MassActionJump{Vector{Float64}, Vector{Vector{Pair{Int64, Int64}}}, Vector{Vector{Pair{Int64, Int64}}}, Nothing}([0.0001], [[1 => 1, 2 => 1]], [[1 => -1, 2 => 1]], nothing))"
      ]
     },
     "metadata": {},
     "output_type": "display_data"
    }
   ],
   "metadata": {}
  },
  {
   "cell_type": "code",
   "execution_count": 16,
   "source": [
    "jumpset.constant_jumps"
   ],
   "outputs": [
    {
     "data": {
      "text/plain": [
       "(ConstantRateJump{var\"#14#15\", var\"#16#17\"}(var\"#14#15\"(), var\"#16#17\"()),)"
      ]
     },
     "metadata": {},
     "output_type": "display_data"
    }
   ],
   "metadata": {}
  },
  {
   "cell_type": "code",
   "execution_count": 17,
   "source": [
    "dja = aggregate(Direct(),u0,p,t0,end_time,jumpset.constant_jumps, jumpset.massaction_jump, save_positions, rng)"
   ],
   "outputs": [
    {
     "data": {
      "text/plain": [
       "DirectJumpAggregation{Float64, MassActionJump{Vector{Float64}, Vector{Vector{Pair{Int64, Int64}}}, Vector{Vector{Pair{Int64, Int64}}}, Nothing}, Tuple{var\"#14#15\"}, Tuple{var\"#16#17\"}, MersenneTwister}(0, 0, Inf, 200.0, [5.0e-323, 4.4e-323], 0.0, MassActionJump{Vector{Float64}, Vector{Vector{Pair{Int64, Int64}}}, Vector{Vector{Pair{Int64, Int64}}}, Nothing}([0.0001], [[1 => 1, 2 => 1]], [[1 => -1, 2 => 1]], nothing), (var\"#14#15\"(),), (var\"#16#17\"(),), (false, false), MersenneTwister(1234))"
      ]
     },
     "metadata": {},
     "output_type": "display_data"
    }
   ],
   "metadata": {}
  },
  {
   "cell_type": "markdown",
   "source": [
    "## So if we look at the aggregator, the issue is that the next_jump_time = Inf, this is normall because we haven't initialize the prob, in order to do it, one needs to define the `JumpProblem`. Maybe we can skip the defining the DEProblem, because it will have a lot of dependencies. So one idea is to just update `aggregator` for the first time."
   ],
   "metadata": {}
  },
  {
   "cell_type": "code",
   "execution_count": 18,
   "source": [
    "\"\"\"\r\n",
    "fill_rates_and_sum!(p::AbstractSSAJumpAggregator, u, params, t)\r\n",
    "\r\n",
    "Reevaluate all rates and their sum.\r\n",
    "\"\"\"\r\n",
    "function fill_rates_and_sum!(p::AbstractSSAJumpAggregator, u, params, t)\r\n",
    "    sum_rate = zero(typeof(p.sum_rate))\r\n",
    "\r\n",
    "    # mass action jumps\r\n",
    "    majumps   = p.ma_jumps\r\n",
    "    cur_rates = p.cur_rates\r\n",
    "    @inbounds for i in 1:get_num_majumps(majumps)\r\n",
    "        cur_rates[i] = evalrxrate(u, i, majumps)\r\n",
    "        sum_rate    += cur_rates[i]\r\n",
    "    end\r\n",
    "\r\n",
    "    # constant rates\r\n",
    "    rates = p.rates\r\n",
    "    idx   = get_num_majumps(majumps) + 1\r\n",
    "    @inbounds for rate in rates\r\n",
    "        cur_rates[idx] = rate(u, params, t)\r\n",
    "        sum_rate += cur_rates[idx]\r\n",
    "        idx += 1\r\n",
    "    end\r\n",
    "\r\n",
    "    p.sum_rate = sum_rate\r\n",
    "    nothing\r\n",
    "end\r\n",
    "@inline @fastmath function evalrxrate(speciesvec::AbstractVector{T}, rxidx::S, majump::MassActionJump{U,V,W,X})::R where {T,S,R,U <: AbstractVector{R},V,W,X}\r\n",
    "    val = one(T)\r\n",
    "    @inbounds for specstoch in majump.reactant_stoch[rxidx]\r\n",
    "        specpop = speciesvec[specstoch[1]]\r\n",
    "        val    *= specpop\r\n",
    "        @inbounds for k = 2:specstoch[2]\r\n",
    "            specpop -= one(specpop)\r\n",
    "            val     *= specpop\r\n",
    "        end\r\n",
    "    end\r\n",
    "\r\n",
    "    @inbounds return val * majump.scaled_rates[rxidx]\r\n",
    "end"
   ],
   "outputs": [
    {
     "data": {
      "text/plain": [
       "evalrxrate (generic function with 1 method)"
      ]
     },
     "metadata": {},
     "output_type": "display_data"
    }
   ],
   "metadata": {}
  },
  {
   "cell_type": "markdown",
   "source": [
    "## update the rates and sum of rates"
   ],
   "metadata": {}
  },
  {
   "cell_type": "code",
   "execution_count": 19,
   "source": [
    "fill_rates_and_sum!(dja, u0, p, t0)"
   ],
   "outputs": [],
   "metadata": {}
  },
  {
   "cell_type": "code",
   "execution_count": 20,
   "source": [
    "dja"
   ],
   "outputs": [
    {
     "data": {
      "text/plain": [
       "DirectJumpAggregation{Float64, MassActionJump{Vector{Float64}, Vector{Vector{Pair{Int64, Int64}}}, Vector{Vector{Pair{Int64, Int64}}}, Nothing}, Tuple{var\"#14#15\"}, Tuple{var\"#16#17\"}, MersenneTwister}(0, 0, Inf, 200.0, [0.0999, 0.01], 0.1099, MassActionJump{Vector{Float64}, Vector{Vector{Pair{Int64, Int64}}}, Vector{Vector{Pair{Int64, Int64}}}, Nothing}([0.0001], [[1 => 1, 2 => 1]], [[1 => -1, 2 => 1]], nothing), (var\"#14#15\"(),), (var\"#16#17\"(),), (false, false), MersenneTwister(1234))"
      ]
     },
     "metadata": {},
     "output_type": "display_data"
    }
   ],
   "metadata": {}
  },
  {
   "cell_type": "code",
   "execution_count": 21,
   "source": [
    "function initialize!(p::DirectJumpAggregation, integrator, u, params, t)\r\n",
    "  generate_jumps!(p, integrator, u, params, t)\r\n",
    "  nothing\r\n",
    "end\r\n",
    "# calculate the next jump / jump time\r\n",
    "function generate_jumps!(p::DirectJumpAggregation, integrator, u, params, t)\r\n",
    "  p.sum_rate, ttnj = time_to_next_jump(p, u, params, t)\r\n",
    "  @fastmath p.next_jump_time = t + ttnj\r\n",
    "  @inbounds p.next_jump = searchsortedfirst(p.cur_rates, rand(p.rng) * p.sum_rate) # 这里用到了 searchsortedfirst 是一个加速的function\r\n",
    "  nothing\r\n",
    "end"
   ],
   "outputs": [
    {
     "data": {
      "text/plain": [
       "generate_jumps! (generic function with 1 method)"
      ]
     },
     "metadata": {},
     "output_type": "display_data"
    }
   ],
   "metadata": {}
  },
  {
   "cell_type": "markdown",
   "source": [
    "## 下面这个是核心函数，这个决定如何更新 \n",
    "- `next_jump`\n",
    "- `next_jump_time`\n",
    "- `sum_rate`"
   ],
   "metadata": {}
  },
  {
   "cell_type": "code",
   "execution_count": 22,
   "source": [
    "@fastmath function time_to_next_jump(p::DirectJumpAggregation{T,S,F1,F2,RNG}, u, params, t) where {T,S,F1 <: Tuple, F2 <: Tuple, RNG}\r\n",
    "  prev_rate = zero(t)\r\n",
    "  new_rate  = zero(t)\r\n",
    "  cur_rates = p.cur_rates\r\n",
    "\r\n",
    "  # mass action rates\r\n",
    "  majumps   = p.ma_jumps\r\n",
    "  idx       = get_num_majumps(majumps)\r\n",
    "  @inbounds for i in 1:idx\r\n",
    "    new_rate     = evalrxrate(u, i, majumps)\r\n",
    "    cur_rates[i] = new_rate + prev_rate\r\n",
    "    prev_rate    = cur_rates[i]\r\n",
    "  end\r\n",
    "\r\n",
    "  # constant jump rates\r\n",
    "  rates = p.rates\r\n",
    "  if !isempty(rates)\r\n",
    "    idx  += 1\r\n",
    "    fill_cur_rates(u, params, t, cur_rates, idx, rates...)\r\n",
    "    @inbounds for i in idx:length(cur_rates)\r\n",
    "      cur_rates[i] = cur_rates[i] + prev_rate\r\n",
    "      prev_rate    = cur_rates[i]\r\n",
    "    end\r\n",
    "  end\r\n",
    "\r\n",
    "  @inbounds sum_rate = cur_rates[end]\r\n",
    "  sum_rate, randexp(p.rng) / sum_rate\r\n",
    "end\r\n",
    "@inline function fill_cur_rates(u, p, t, cur_rates, idx, rate, rates...)\r\n",
    "  @inbounds cur_rates[idx] = rate(u, p, t)\r\n",
    "  idx += 1\r\n",
    "  fill_cur_rates(u, p, t, cur_rates, idx, rates...)\r\n",
    "end\r\n",
    "\r\n",
    "@inline function fill_cur_rates(u, p, t, cur_rates, idx, rate)\r\n",
    "  @inbounds cur_rates[idx] = rate(u, p, t)\r\n",
    "  nothing\r\n",
    "end\r\n"
   ],
   "outputs": [
    {
     "data": {
      "text/plain": [
       "fill_cur_rates (generic function with 2 methods)"
      ]
     },
     "metadata": {},
     "output_type": "display_data"
    }
   ],
   "metadata": {}
  },
  {
   "cell_type": "markdown",
   "source": [
    "## Now the Integrator is needed \n",
    "## First, let us construct the `Integrator`, which encodes the time and state information"
   ],
   "metadata": {}
  },
  {
   "cell_type": "markdown",
   "source": [
    "## Next step update integrator, the key function is `update_state!`"
   ],
   "metadata": {}
  },
  {
   "cell_type": "code",
   "execution_count": 23,
   "source": [
    "function (p::AbstractSSAJumpAggregator)(integrator)\r\n",
    "    execute_jumps!(p, integrator, integrator.u, integrator.p, integrator.t)\r\n",
    "    register_next_jump_time!(p,integrator)\r\n",
    "    generate_jumps!(p, integrator, integrator.u, integrator.p, integrator.t)\r\n",
    "    nothing\r\n",
    "end\r\n",
    "\r\n",
    "\"\"\"\r\n",
    "self_defined\r\n",
    "\"\"\"\r\n",
    "@inline function register_next_jump_time!(p::DirectJumpAggregation,integrator)\r\n",
    "    integrator.tprev = integrator.t\r\n",
    "    integrator.t = p.next_jump_time\r\n",
    "    integrator.i +=1\r\n",
    "    nothing\r\n",
    "end\r\n",
    "@inline function execute_jumps!(p::DirectJumpAggregation, integrator, u, params, t)\r\n",
    "    update_state!(p, integrator, u)\r\n",
    "    nothing\r\n",
    "end\r\n",
    "@inline function update_state!(p::AbstractSSAJumpAggregator, integrator, u)\r\n",
    "    @unpack ma_jumps, next_jump = p\r\n",
    "    num_ma_rates = get_num_majumps(ma_jumps)\r\n",
    "    if next_jump <= num_ma_rates # is next jump a mass action jump\r\n",
    "        if u isa SVector\r\n",
    "            integrator.u = executerx(u, next_jump, ma_jumps)\r\n",
    "        else\r\n",
    "            @inbounds executerx!(u, next_jump, ma_jumps)\r\n",
    "        end\r\n",
    "    else\r\n",
    "        idx = next_jump - num_ma_rates\r\n",
    "        @inbounds p.affects![idx](integrator)\r\n",
    "    end\r\n",
    "\r\n",
    "    # save jump that was just executed\r\n",
    "    p.prev_jump = next_jump\r\n",
    "    return integrator.u\r\n",
    "end\r\n",
    "@inline @fastmath function executerx!(speciesvec::AbstractVector{T}, rxidx::S,\r\n",
    "    majump::MassActionJump{U,V,W,X}) where {T,S,U,V,W,X}\r\n",
    "@inbounds net_stoch = majump.net_stoch[rxidx]\r\n",
    "@inbounds for specstoch in net_stoch\r\n",
    "speciesvec[specstoch[1]] += specstoch[2]\r\n",
    "end\r\n",
    "nothing\r\n",
    "end\r\n"
   ],
   "outputs": [
    {
     "data": {
      "text/plain": [
       "executerx! (generic function with 1 method)"
      ]
     },
     "metadata": {},
     "output_type": "display_data"
    }
   ],
   "metadata": {}
  },
  {
   "cell_type": "markdown",
   "source": [
    "# So up to now we are able to update the integrator by each iteration.\r\n",
    "## Next question is how to store to integrator in a list\r\n",
    "## the following functions are basically simplified version, self-defined"
   ],
   "metadata": {}
  },
  {
   "cell_type": "code",
   "execution_count": 24,
   "source": [
    "mutable struct SSAIntegrator{uType,tType,P,S,SA} \r\n",
    "    u::uType\r\n",
    "    t::tType\r\n",
    "    tprev::tType\r\n",
    "    p::P\r\n",
    "    sol::S\r\n",
    "    i::Int\r\n",
    "    saveat::SA\r\n",
    "    cur_saveat::Int\r\n",
    "    end_time::tType\r\n",
    "    save_end::Bool\r\n",
    "end"
   ],
   "outputs": [],
   "metadata": {}
  },
  {
   "cell_type": "code",
   "execution_count": 25,
   "source": [
    "mutable struct SSASolution{tType,uType}\r\n",
    "    t::Vector{tType}\r\n",
    "    u::Vector{uType}\r\n",
    "end"
   ],
   "outputs": [],
   "metadata": {}
  },
  {
   "cell_type": "code",
   "execution_count": 26,
   "source": [
    "function initialize_integrator(u0::uType,t0::tType,p::P,tspan::Tuple,saveat::SA;save_end::Bool=true) where {uType,tType,P,SA}\r\n",
    "    _u0 = copy(u0)\r\n",
    "    _t0 = copy(t0)\r\n",
    "    end_time = tspan[2]\r\n",
    "    ssa_sol = SSASolution([t0],[u0])\r\n",
    "    if typeof(saveat) <: Number\r\n",
    "        _saveat = tspan[1]:saveat:tspan[2]\r\n",
    "    else\r\n",
    "        _saveat = saveat\r\n",
    "    end\r\n",
    "    if _saveat !== nothing && !isempty(_saveat) && _saveat[1] == tspan[1]\r\n",
    "        cur_saveat = 2\r\n",
    "    else\r\n",
    "        cur_saveat = 1\r\n",
    "    end\r\n",
    "    integrator = SSAIntegrator(_u0,_t0,_t0,p,ssa_sol,0,_saveat,cur_saveat,end_time,save_end)\r\n",
    "    integrator\r\n",
    "end\r\n",
    "function initialize_dja(integrator,jumpset::JumpSet,rng) where {uType,tType,P}\r\n",
    "    _u0 = copy(integrator.u)\r\n",
    "    _t0 = copy(integrator.t)\r\n",
    "    end_time = copy(integrator.end_time)\r\n",
    "    dja = aggregate(Direct(),_u0,p,_t0,end_time,jumpset.constant_jumps, jumpset.massaction_jump, save_positions, rng)\r\n",
    "    initialize!(dja, integrator, _u0, p, _t0)\r\n",
    "    return dja\r\n",
    "end"
   ],
   "outputs": [
    {
     "data": {
      "text/plain": [
       "initialize_dja (generic function with 1 method)"
      ]
     },
     "metadata": {},
     "output_type": "display_data"
    }
   ],
   "metadata": {}
  },
  {
   "cell_type": "code",
   "execution_count": 27,
   "source": [
    "tspan = (0.,200.)\r\n",
    "integrator = initialize_integrator(u0,t0,p,tspan,1.)\r\n"
   ],
   "outputs": [
    {
     "data": {
      "text/plain": [
       "SSAIntegrator{Vector{Float64}, Float64, Nothing, SSASolution{Float64, Vector{Float64}}, StepRangeLen{Float64, Base.TwicePrecision{Float64}, Base.TwicePrecision{Float64}}}([999.0, 1.0, 0.0], 0.0, 0.0, nothing, SSASolution{Float64, Vector{Float64}}([0.0], [[999.0, 1.0, 0.0]]), 0, 0.0:1.0:200.0, 2, 200.0, true)"
      ]
     },
     "metadata": {},
     "output_type": "display_data"
    }
   ],
   "metadata": {}
  },
  {
   "cell_type": "code",
   "execution_count": 28,
   "source": [
    "dja = initialize_dja(integrator,jumpset,Random.seed!(1234))"
   ],
   "outputs": [
    {
     "data": {
      "text/plain": [
       "DirectJumpAggregation{Float64, MassActionJump{Vector{Float64}, Vector{Vector{Pair{Int64, Int64}}}, Vector{Vector{Pair{Int64, Int64}}}, Nothing}, Tuple{var\"#14#15\"}, Tuple{var\"#16#17\"}, MersenneTwister}(1, 0, 22.597865080896174, 200.0, [0.0999, 0.1099], 0.1099, MassActionJump{Vector{Float64}, Vector{Vector{Pair{Int64, Int64}}}, Vector{Vector{Pair{Int64, Int64}}}, Nothing}([0.0001], [[1 => 1, 2 => 1]], [[1 => -1, 2 => 1]], nothing), (var\"#14#15\"(),), (var\"#16#17\"(),), (false, false), MersenneTwister(1234, (0, 1002, 0, 2)))"
      ]
     },
     "metadata": {},
     "output_type": "display_data"
    }
   ],
   "metadata": {}
  },
  {
   "cell_type": "markdown",
   "source": [
    "##  each time dja(integrator), both `dja` and `integrator` are updated"
   ],
   "metadata": {}
  },
  {
   "cell_type": "code",
   "execution_count": 29,
   "source": [
    "dja(integrator)"
   ],
   "outputs": [],
   "metadata": {}
  },
  {
   "cell_type": "code",
   "execution_count": 30,
   "source": [
    "integrator"
   ],
   "outputs": [
    {
     "data": {
      "text/plain": [
       "SSAIntegrator{Vector{Float64}, Float64, Nothing, SSASolution{Float64, Vector{Float64}}, StepRangeLen{Float64, Base.TwicePrecision{Float64}, Base.TwicePrecision{Float64}}}([998.0, 2.0, 0.0], 22.597865080896174, 0.0, nothing, SSASolution{Float64, Vector{Float64}}([0.0], [[999.0, 1.0, 0.0]]), 1, 0.0:1.0:200.0, 2, 200.0, true)"
      ]
     },
     "metadata": {},
     "output_type": "display_data"
    }
   ],
   "metadata": {}
  },
  {
   "cell_type": "code",
   "execution_count": 31,
   "source": [
    "dja"
   ],
   "outputs": [
    {
     "data": {
      "text/plain": [
       "DirectJumpAggregation{Float64, MassActionJump{Vector{Float64}, Vector{Vector{Pair{Int64, Int64}}}, Vector{Vector{Pair{Int64, Int64}}}, Nothing}, Tuple{var\"#14#15\"}, Tuple{var\"#16#17\"}, MersenneTwister}(1, 1, 25.350308100488803, 200.0, [0.1996, 0.2196], 0.2196, MassActionJump{Vector{Float64}, Vector{Vector{Pair{Int64, Int64}}}, Vector{Vector{Pair{Int64, Int64}}}, Nothing}([0.0001], [[1 => 1, 2 => 1]], [[1 => -1, 2 => 1]], nothing), (var\"#14#15\"(),), (var\"#16#17\"(),), (false, false), MersenneTwister(1234, (0, 1002, 0, 4)))"
      ]
     },
     "metadata": {},
     "output_type": "display_data"
    }
   ],
   "metadata": {}
  },
  {
   "cell_type": "markdown",
   "source": [
    "# steps\r\n",
    "- initialize dja\r\n",
    "- initialize integrator\r\n",
    "- initialize "
   ],
   "metadata": {}
  },
  {
   "cell_type": "code",
   "execution_count": 32,
   "source": [
    "function SSAsolve(u0,t0,p,tspan,jumpset;saveat=nothing,rng=Random.seed!(rand(UInt64)),save_end::Bool=true)\r\n",
    "    end_time = tspan[2]\r\n",
    "    integrator = initialize_integrator(u0,t0,p,tspan,saveat,save_end=save_end)\r\n",
    "    dja = initialize_dja(integrator,jumpset,rng)    \r\n",
    "    if integrator.saveat == nothing || isempty(integrator.saveat)\r\n",
    "        while integrator.t < integrator.end_time\r\n",
    "            dja(integrator)\r\n",
    "            push!(integrator.sol.t,integrator.t)\r\n",
    "            push!(integrator.sol.u,copy(integrator.u))\r\n",
    "        end\r\n",
    "    end    \r\n",
    "    if integrator.saveat !== nothing && !isempty(integrator.saveat)\r\n",
    "    # Split to help prediction\r\n",
    "        while integrator.t < end_time\r\n",
    "            while integrator.cur_saveat <= length(integrator.saveat) &&\r\n",
    "                integrator.saveat[integrator.cur_saveat] < integrator.t\r\n",
    "                push!(integrator.sol.t,integrator.saveat[integrator.cur_saveat])\r\n",
    "                push!(integrator.sol.u,copy(integrator.u))\r\n",
    "                integrator.cur_saveat += 1\r\n",
    "            end\r\n",
    "            dja(integrator)\r\n",
    "        end\r\n",
    "    end\r\n",
    "    if integrator.save_end && integrator.sol.t[end] != end_time\r\n",
    "        push!(integrator.sol.t,end_time)\r\n",
    "        push!(integrator.sol.u,copy(integrator.u))\r\n",
    "    end\r\n",
    "    return integrator.sol\r\n",
    "end"
   ],
   "outputs": [
    {
     "data": {
      "text/plain": [
       "SSAsolve (generic function with 1 method)"
      ]
     },
     "metadata": {},
     "output_type": "display_data"
    }
   ],
   "metadata": {}
  },
  {
   "cell_type": "code",
   "execution_count": 37,
   "source": [
    "sol=SSAsolve(u0,t0,p,tspan,jumpset;rng=Random.seed!(1234),saveat=1.)"
   ],
   "outputs": [
    {
     "data": {
      "text/plain": [
       "SSASolution{Float64, Vector{Float64}}([0.0, 1.0, 2.0, 3.0, 4.0, 5.0, 6.0, 7.0, 8.0, 9.0  …  191.0, 192.0, 193.0, 194.0, 195.0, 196.0, 197.0, 198.0, 199.0, 200.0], [[999.0, 1.0, 0.0], [998.0, 2.0, 0.0], [998.0, 2.0, 0.0], [998.0, 2.0, 0.0], [998.0, 2.0, 0.0], [998.0, 2.0, 0.0], [998.0, 2.0, 0.0], [998.0, 2.0, 0.0], [998.0, 2.0, 0.0], [998.0, 2.0, 0.0]  …  [2.0, 341.0, 657.0], [1.0, 340.0, 659.0], [1.0, 335.0, 664.0], [1.0, 331.0, 668.0], [1.0, 328.0, 671.0], [1.0, 325.0, 674.0], [1.0, 320.0, 679.0], [1.0, 316.0, 683.0], [1.0, 314.0, 685.0], [1.0, 311.0, 688.0]])"
      ]
     },
     "metadata": {},
     "output_type": "display_data"
    }
   ],
   "metadata": {}
  },
  {
   "cell_type": "code",
   "execution_count": 38,
   "source": [
    "using Plots; theme(:vibrant)"
   ],
   "outputs": [],
   "metadata": {}
  },
  {
   "cell_type": "code",
   "execution_count": 39,
   "source": [
    "function ssaplot(sol::SSASolution)\r\n",
    "    n_species = length(sol.u[1]) \r\n",
    "    plot(sol.t,[[sol.u[i][j] for i in eachindex(sol.u)] for j in 1:n_species])\r\n",
    "end"
   ],
   "outputs": [
    {
     "data": {
      "text/plain": [
       "ssaplot (generic function with 1 method)"
      ]
     },
     "metadata": {},
     "output_type": "display_data"
    }
   ],
   "metadata": {}
  },
  {
   "cell_type": "code",
   "execution_count": 40,
   "source": [
    "ssaplot(sol)"
   ],
   "outputs": [
    {
     "data": {
      "image/svg+xml": "<?xml version=\"1.0\" encoding=\"utf-8\"?>\n<svg xmlns=\"http://www.w3.org/2000/svg\" xmlns:xlink=\"http://www.w3.org/1999/xlink\" width=\"600\" height=\"400\" viewBox=\"0 0 2400 1600\">\n<defs>\n  <clipPath id=\"clip610\">\n    <rect x=\"0\" y=\"0\" width=\"2400\" height=\"1600\"/>\n  </clipPath>\n</defs>\n<path clip-path=\"url(#clip610)\" d=\"\nM0 1600 L2400 1600 L2400 0 L0 0  Z\n  \" fill=\"#ffffff\" fill-rule=\"evenodd\" fill-opacity=\"1\"/>\n<defs>\n  <clipPath id=\"clip611\">\n    <rect x=\"480\" y=\"0\" width=\"1681\" height=\"1600\"/>\n  </clipPath>\n</defs>\n<path clip-path=\"url(#clip610)\" d=\"\nM199.283 1486.45 L2352.76 1486.45 L2352.76 47.2441 L199.283 47.2441  Z\n  \" fill=\"#ffffff\" fill-rule=\"evenodd\" fill-opacity=\"1\"/>\n<defs>\n  <clipPath id=\"clip612\">\n    <rect x=\"199\" y=\"47\" width=\"2154\" height=\"1440\"/>\n  </clipPath>\n</defs>\n<polyline clip-path=\"url(#clip612)\" style=\"stroke:#222255; stroke-linecap:butt; stroke-linejoin:round; stroke-width:2; stroke-opacity:0.1; fill:none\" points=\"\n  260.231,1486.45 260.231,47.2441 \n  \"/>\n<polyline clip-path=\"url(#clip612)\" style=\"stroke:#222255; stroke-linecap:butt; stroke-linejoin:round; stroke-width:2; stroke-opacity:0.1; fill:none\" points=\"\n  768.125,1486.45 768.125,47.2441 \n  \"/>\n<polyline clip-path=\"url(#clip612)\" style=\"stroke:#222255; stroke-linecap:butt; stroke-linejoin:round; stroke-width:2; stroke-opacity:0.1; fill:none\" points=\"\n  1276.02,1486.45 1276.02,47.2441 \n  \"/>\n<polyline clip-path=\"url(#clip612)\" style=\"stroke:#222255; stroke-linecap:butt; stroke-linejoin:round; stroke-width:2; stroke-opacity:0.1; fill:none\" points=\"\n  1783.91,1486.45 1783.91,47.2441 \n  \"/>\n<polyline clip-path=\"url(#clip612)\" style=\"stroke:#222255; stroke-linecap:butt; stroke-linejoin:round; stroke-width:2; stroke-opacity:0.1; fill:none\" points=\"\n  2291.81,1486.45 2291.81,47.2441 \n  \"/>\n<polyline clip-path=\"url(#clip612)\" style=\"stroke:#222255; stroke-linecap:butt; stroke-linejoin:round; stroke-width:2; stroke-opacity:0.05; fill:none\" points=\"\n  361.809,1486.45 361.809,47.2441 \n  \"/>\n<polyline clip-path=\"url(#clip612)\" style=\"stroke:#222255; stroke-linecap:butt; stroke-linejoin:round; stroke-width:2; stroke-opacity:0.05; fill:none\" points=\"\n  463.388,1486.45 463.388,47.2441 \n  \"/>\n<polyline clip-path=\"url(#clip612)\" style=\"stroke:#222255; stroke-linecap:butt; stroke-linejoin:round; stroke-width:2; stroke-opacity:0.05; fill:none\" points=\"\n  564.967,1486.45 564.967,47.2441 \n  \"/>\n<polyline clip-path=\"url(#clip612)\" style=\"stroke:#222255; stroke-linecap:butt; stroke-linejoin:round; stroke-width:2; stroke-opacity:0.05; fill:none\" points=\"\n  666.546,1486.45 666.546,47.2441 \n  \"/>\n<polyline clip-path=\"url(#clip612)\" style=\"stroke:#222255; stroke-linecap:butt; stroke-linejoin:round; stroke-width:2; stroke-opacity:0.05; fill:none\" points=\"\n  869.704,1486.45 869.704,47.2441 \n  \"/>\n<polyline clip-path=\"url(#clip612)\" style=\"stroke:#222255; stroke-linecap:butt; stroke-linejoin:round; stroke-width:2; stroke-opacity:0.05; fill:none\" points=\"\n  971.283,1486.45 971.283,47.2441 \n  \"/>\n<polyline clip-path=\"url(#clip612)\" style=\"stroke:#222255; stroke-linecap:butt; stroke-linejoin:round; stroke-width:2; stroke-opacity:0.05; fill:none\" points=\"\n  1072.86,1486.45 1072.86,47.2441 \n  \"/>\n<polyline clip-path=\"url(#clip612)\" style=\"stroke:#222255; stroke-linecap:butt; stroke-linejoin:round; stroke-width:2; stroke-opacity:0.05; fill:none\" points=\"\n  1174.44,1486.45 1174.44,47.2441 \n  \"/>\n<polyline clip-path=\"url(#clip612)\" style=\"stroke:#222255; stroke-linecap:butt; stroke-linejoin:round; stroke-width:2; stroke-opacity:0.05; fill:none\" points=\"\n  1377.6,1486.45 1377.6,47.2441 \n  \"/>\n<polyline clip-path=\"url(#clip612)\" style=\"stroke:#222255; stroke-linecap:butt; stroke-linejoin:round; stroke-width:2; stroke-opacity:0.05; fill:none\" points=\"\n  1479.18,1486.45 1479.18,47.2441 \n  \"/>\n<polyline clip-path=\"url(#clip612)\" style=\"stroke:#222255; stroke-linecap:butt; stroke-linejoin:round; stroke-width:2; stroke-opacity:0.05; fill:none\" points=\"\n  1580.76,1486.45 1580.76,47.2441 \n  \"/>\n<polyline clip-path=\"url(#clip612)\" style=\"stroke:#222255; stroke-linecap:butt; stroke-linejoin:round; stroke-width:2; stroke-opacity:0.05; fill:none\" points=\"\n  1682.34,1486.45 1682.34,47.2441 \n  \"/>\n<polyline clip-path=\"url(#clip612)\" style=\"stroke:#222255; stroke-linecap:butt; stroke-linejoin:round; stroke-width:2; stroke-opacity:0.05; fill:none\" points=\"\n  1885.49,1486.45 1885.49,47.2441 \n  \"/>\n<polyline clip-path=\"url(#clip612)\" style=\"stroke:#222255; stroke-linecap:butt; stroke-linejoin:round; stroke-width:2; stroke-opacity:0.05; fill:none\" points=\"\n  1987.07,1486.45 1987.07,47.2441 \n  \"/>\n<polyline clip-path=\"url(#clip612)\" style=\"stroke:#222255; stroke-linecap:butt; stroke-linejoin:round; stroke-width:2; stroke-opacity:0.05; fill:none\" points=\"\n  2088.65,1486.45 2088.65,47.2441 \n  \"/>\n<polyline clip-path=\"url(#clip612)\" style=\"stroke:#222255; stroke-linecap:butt; stroke-linejoin:round; stroke-width:2; stroke-opacity:0.05; fill:none\" points=\"\n  2190.23,1486.45 2190.23,47.2441 \n  \"/>\n<polyline clip-path=\"url(#clip610)\" style=\"stroke:#222255; stroke-linecap:butt; stroke-linejoin:round; stroke-width:4; stroke-opacity:0; fill:none\" points=\"\n  260.231,1486.45 260.231,1467.55 \n  \"/>\n<polyline clip-path=\"url(#clip610)\" style=\"stroke:#222255; stroke-linecap:butt; stroke-linejoin:round; stroke-width:4; stroke-opacity:0; fill:none\" points=\"\n  768.125,1486.45 768.125,1467.55 \n  \"/>\n<polyline clip-path=\"url(#clip610)\" style=\"stroke:#222255; stroke-linecap:butt; stroke-linejoin:round; stroke-width:4; stroke-opacity:0; fill:none\" points=\"\n  1276.02,1486.45 1276.02,1467.55 \n  \"/>\n<polyline clip-path=\"url(#clip610)\" style=\"stroke:#222255; stroke-linecap:butt; stroke-linejoin:round; stroke-width:4; stroke-opacity:0; fill:none\" points=\"\n  1783.91,1486.45 1783.91,1467.55 \n  \"/>\n<polyline clip-path=\"url(#clip610)\" style=\"stroke:#222255; stroke-linecap:butt; stroke-linejoin:round; stroke-width:4; stroke-opacity:0; fill:none\" points=\"\n  2291.81,1486.45 2291.81,1467.55 \n  \"/>\n<polyline clip-path=\"url(#clip610)\" style=\"stroke:#222255; stroke-linecap:butt; stroke-linejoin:round; stroke-width:4; stroke-opacity:0; fill:none\" points=\"\n  361.809,1486.45 361.809,1477 \n  \"/>\n<polyline clip-path=\"url(#clip610)\" style=\"stroke:#222255; stroke-linecap:butt; stroke-linejoin:round; stroke-width:4; stroke-opacity:0; fill:none\" points=\"\n  463.388,1486.45 463.388,1477 \n  \"/>\n<polyline clip-path=\"url(#clip610)\" style=\"stroke:#222255; stroke-linecap:butt; stroke-linejoin:round; stroke-width:4; stroke-opacity:0; fill:none\" points=\"\n  564.967,1486.45 564.967,1477 \n  \"/>\n<polyline clip-path=\"url(#clip610)\" style=\"stroke:#222255; stroke-linecap:butt; stroke-linejoin:round; stroke-width:4; stroke-opacity:0; fill:none\" points=\"\n  666.546,1486.45 666.546,1477 \n  \"/>\n<polyline clip-path=\"url(#clip610)\" style=\"stroke:#222255; stroke-linecap:butt; stroke-linejoin:round; stroke-width:4; stroke-opacity:0; fill:none\" points=\"\n  869.704,1486.45 869.704,1477 \n  \"/>\n<polyline clip-path=\"url(#clip610)\" style=\"stroke:#222255; stroke-linecap:butt; stroke-linejoin:round; stroke-width:4; stroke-opacity:0; fill:none\" points=\"\n  971.283,1486.45 971.283,1477 \n  \"/>\n<polyline clip-path=\"url(#clip610)\" style=\"stroke:#222255; stroke-linecap:butt; stroke-linejoin:round; stroke-width:4; stroke-opacity:0; fill:none\" points=\"\n  1072.86,1486.45 1072.86,1477 \n  \"/>\n<polyline clip-path=\"url(#clip610)\" style=\"stroke:#222255; stroke-linecap:butt; stroke-linejoin:round; stroke-width:4; stroke-opacity:0; fill:none\" points=\"\n  1174.44,1486.45 1174.44,1477 \n  \"/>\n<polyline clip-path=\"url(#clip610)\" style=\"stroke:#222255; stroke-linecap:butt; stroke-linejoin:round; stroke-width:4; stroke-opacity:0; fill:none\" points=\"\n  1377.6,1486.45 1377.6,1477 \n  \"/>\n<polyline clip-path=\"url(#clip610)\" style=\"stroke:#222255; stroke-linecap:butt; stroke-linejoin:round; stroke-width:4; stroke-opacity:0; fill:none\" points=\"\n  1479.18,1486.45 1479.18,1477 \n  \"/>\n<polyline clip-path=\"url(#clip610)\" style=\"stroke:#222255; stroke-linecap:butt; stroke-linejoin:round; stroke-width:4; stroke-opacity:0; fill:none\" points=\"\n  1580.76,1486.45 1580.76,1477 \n  \"/>\n<polyline clip-path=\"url(#clip610)\" style=\"stroke:#222255; stroke-linecap:butt; stroke-linejoin:round; stroke-width:4; stroke-opacity:0; fill:none\" points=\"\n  1682.34,1486.45 1682.34,1477 \n  \"/>\n<polyline clip-path=\"url(#clip610)\" style=\"stroke:#222255; stroke-linecap:butt; stroke-linejoin:round; stroke-width:4; stroke-opacity:0; fill:none\" points=\"\n  1885.49,1486.45 1885.49,1477 \n  \"/>\n<polyline clip-path=\"url(#clip610)\" style=\"stroke:#222255; stroke-linecap:butt; stroke-linejoin:round; stroke-width:4; stroke-opacity:0; fill:none\" points=\"\n  1987.07,1486.45 1987.07,1477 \n  \"/>\n<polyline clip-path=\"url(#clip610)\" style=\"stroke:#222255; stroke-linecap:butt; stroke-linejoin:round; stroke-width:4; stroke-opacity:0; fill:none\" points=\"\n  2088.65,1486.45 2088.65,1477 \n  \"/>\n<polyline clip-path=\"url(#clip610)\" style=\"stroke:#222255; stroke-linecap:butt; stroke-linejoin:round; stroke-width:4; stroke-opacity:0; fill:none\" points=\"\n  2190.23,1486.45 2190.23,1477 \n  \"/>\n<path clip-path=\"url(#clip610)\" d=\"M260.231 1515.64 Q256.619 1515.64 254.791 1519.2 Q252.985 1522.75 252.985 1529.87 Q252.985 1536.98 254.791 1540.55 Q256.619 1544.09 260.231 1544.09 Q263.865 1544.09 265.67 1540.55 Q267.499 1536.98 267.499 1529.87 Q267.499 1522.75 265.67 1519.2 Q263.865 1515.64 260.231 1515.64 M260.231 1511.93 Q266.041 1511.93 269.096 1516.54 Q272.175 1521.12 272.175 1529.87 Q272.175 1538.6 269.096 1543.21 Q266.041 1547.79 260.231 1547.79 Q254.42 1547.79 251.342 1543.21 Q248.286 1538.6 248.286 1529.87 Q248.286 1521.12 251.342 1516.54 Q254.42 1511.93 260.231 1511.93 Z\" fill=\"#000000\" fill-rule=\"evenodd\" fill-opacity=\"1\" /><path clip-path=\"url(#clip610)\" d=\"M742.824 1512.56 L761.181 1512.56 L761.181 1516.5 L747.107 1516.5 L747.107 1524.97 Q748.125 1524.62 749.144 1524.46 Q750.162 1524.27 751.181 1524.27 Q756.968 1524.27 760.347 1527.44 Q763.727 1530.62 763.727 1536.03 Q763.727 1541.61 760.255 1544.71 Q756.783 1547.79 750.463 1547.79 Q748.287 1547.79 746.019 1547.42 Q743.773 1547.05 741.366 1546.31 L741.366 1541.61 Q743.449 1542.74 745.671 1543.3 Q747.894 1543.86 750.371 1543.86 Q754.375 1543.86 756.713 1541.75 Q759.051 1539.64 759.051 1536.03 Q759.051 1532.42 756.713 1530.31 Q754.375 1528.21 750.371 1528.21 Q748.496 1528.21 746.621 1528.62 Q744.769 1529.04 742.824 1529.92 L742.824 1512.56 Z\" fill=\"#000000\" fill-rule=\"evenodd\" fill-opacity=\"1\" /><path clip-path=\"url(#clip610)\" d=\"M782.94 1515.64 Q779.329 1515.64 777.5 1519.2 Q775.694 1522.75 775.694 1529.87 Q775.694 1536.98 777.5 1540.55 Q779.329 1544.09 782.94 1544.09 Q786.574 1544.09 788.38 1540.55 Q790.208 1536.98 790.208 1529.87 Q790.208 1522.75 788.38 1519.2 Q786.574 1515.64 782.94 1515.64 M782.94 1511.93 Q788.75 1511.93 791.805 1516.54 Q794.884 1521.12 794.884 1529.87 Q794.884 1538.6 791.805 1543.21 Q788.75 1547.79 782.94 1547.79 Q777.13 1547.79 774.051 1543.21 Q770.995 1538.6 770.995 1529.87 Q770.995 1521.12 774.051 1516.54 Q777.13 1511.93 782.94 1511.93 Z\" fill=\"#000000\" fill-rule=\"evenodd\" fill-opacity=\"1\" /><path clip-path=\"url(#clip610)\" d=\"M1235.63 1543.18 L1243.27 1543.18 L1243.27 1516.82 L1234.95 1518.49 L1234.95 1514.23 L1243.22 1512.56 L1247.89 1512.56 L1247.89 1543.18 L1255.53 1543.18 L1255.53 1547.12 L1235.63 1547.12 L1235.63 1543.18 Z\" fill=\"#000000\" fill-rule=\"evenodd\" fill-opacity=\"1\" /><path clip-path=\"url(#clip610)\" d=\"M1274.98 1515.64 Q1271.37 1515.64 1269.54 1519.2 Q1267.73 1522.75 1267.73 1529.87 Q1267.73 1536.98 1269.54 1540.55 Q1271.37 1544.09 1274.98 1544.09 Q1278.61 1544.09 1280.42 1540.55 Q1282.25 1536.98 1282.25 1529.87 Q1282.25 1522.75 1280.42 1519.2 Q1278.61 1515.64 1274.98 1515.64 M1274.98 1511.93 Q1280.79 1511.93 1283.84 1516.54 Q1286.92 1521.12 1286.92 1529.87 Q1286.92 1538.6 1283.84 1543.21 Q1280.79 1547.79 1274.98 1547.79 Q1269.17 1547.79 1266.09 1543.21 Q1263.03 1538.6 1263.03 1529.87 Q1263.03 1521.12 1266.09 1516.54 Q1269.17 1511.93 1274.98 1511.93 Z\" fill=\"#000000\" fill-rule=\"evenodd\" fill-opacity=\"1\" /><path clip-path=\"url(#clip610)\" d=\"M1305.14 1515.64 Q1301.53 1515.64 1299.7 1519.2 Q1297.89 1522.75 1297.89 1529.87 Q1297.89 1536.98 1299.7 1540.55 Q1301.53 1544.09 1305.14 1544.09 Q1308.77 1544.09 1310.58 1540.55 Q1312.41 1536.98 1312.41 1529.87 Q1312.41 1522.75 1310.58 1519.2 Q1308.77 1515.64 1305.14 1515.64 M1305.14 1511.93 Q1310.95 1511.93 1314.01 1516.54 Q1317.08 1521.12 1317.08 1529.87 Q1317.08 1538.6 1314.01 1543.21 Q1310.95 1547.79 1305.14 1547.79 Q1299.33 1547.79 1296.25 1543.21 Q1293.2 1538.6 1293.2 1529.87 Q1293.2 1521.12 1296.25 1516.54 Q1299.33 1511.93 1305.14 1511.93 Z\" fill=\"#000000\" fill-rule=\"evenodd\" fill-opacity=\"1\" /><path clip-path=\"url(#clip610)\" d=\"M1743.52 1543.18 L1751.16 1543.18 L1751.16 1516.82 L1742.85 1518.49 L1742.85 1514.23 L1751.11 1512.56 L1755.79 1512.56 L1755.79 1543.18 L1763.43 1543.18 L1763.43 1547.12 L1743.52 1547.12 L1743.52 1543.18 Z\" fill=\"#000000\" fill-rule=\"evenodd\" fill-opacity=\"1\" /><path clip-path=\"url(#clip610)\" d=\"M1772.92 1512.56 L1791.28 1512.56 L1791.28 1516.5 L1777.2 1516.5 L1777.2 1524.97 Q1778.22 1524.62 1779.24 1524.46 Q1780.26 1524.27 1781.28 1524.27 Q1787.06 1524.27 1790.44 1527.44 Q1793.82 1530.62 1793.82 1536.03 Q1793.82 1541.61 1790.35 1544.71 Q1786.88 1547.79 1780.56 1547.79 Q1778.38 1547.79 1776.11 1547.42 Q1773.87 1547.05 1771.46 1546.31 L1771.46 1541.61 Q1773.54 1542.74 1775.77 1543.3 Q1777.99 1543.86 1780.47 1543.86 Q1784.47 1543.86 1786.81 1541.75 Q1789.15 1539.64 1789.15 1536.03 Q1789.15 1532.42 1786.81 1530.31 Q1784.47 1528.21 1780.47 1528.21 Q1778.59 1528.21 1776.72 1528.62 Q1774.86 1529.04 1772.92 1529.92 L1772.92 1512.56 Z\" fill=\"#000000\" fill-rule=\"evenodd\" fill-opacity=\"1\" /><path clip-path=\"url(#clip610)\" d=\"M1813.03 1515.64 Q1809.42 1515.64 1807.59 1519.2 Q1805.79 1522.75 1805.79 1529.87 Q1805.79 1536.98 1807.59 1540.55 Q1809.42 1544.09 1813.03 1544.09 Q1816.67 1544.09 1818.47 1540.55 Q1820.3 1536.98 1820.3 1529.87 Q1820.3 1522.75 1818.47 1519.2 Q1816.67 1515.64 1813.03 1515.64 M1813.03 1511.93 Q1818.84 1511.93 1821.9 1516.54 Q1824.98 1521.12 1824.98 1529.87 Q1824.98 1538.6 1821.9 1543.21 Q1818.84 1547.79 1813.03 1547.79 Q1807.22 1547.79 1804.15 1543.21 Q1801.09 1538.6 1801.09 1529.87 Q1801.09 1521.12 1804.15 1516.54 Q1807.22 1511.93 1813.03 1511.93 Z\" fill=\"#000000\" fill-rule=\"evenodd\" fill-opacity=\"1\" /><path clip-path=\"url(#clip610)\" d=\"M2255.5 1543.18 L2271.82 1543.18 L2271.82 1547.12 L2249.88 1547.12 L2249.88 1543.18 Q2252.54 1540.43 2257.12 1535.8 Q2261.73 1531.15 2262.91 1529.81 Q2265.15 1527.28 2266.03 1525.55 Q2266.94 1523.79 2266.94 1522.1 Q2266.94 1519.34 2264.99 1517.61 Q2263.07 1515.87 2259.97 1515.87 Q2257.77 1515.87 2255.32 1516.63 Q2252.89 1517.4 2250.11 1518.95 L2250.11 1514.23 Q2252.93 1513.09 2255.39 1512.51 Q2257.84 1511.93 2259.88 1511.93 Q2265.25 1511.93 2268.44 1514.62 Q2271.64 1517.31 2271.64 1521.8 Q2271.64 1523.93 2270.82 1525.85 Q2270.04 1527.74 2267.93 1530.34 Q2267.35 1531.01 2264.25 1534.23 Q2261.15 1537.42 2255.5 1543.18 Z\" fill=\"#000000\" fill-rule=\"evenodd\" fill-opacity=\"1\" /><path clip-path=\"url(#clip610)\" d=\"M2291.63 1515.64 Q2288.02 1515.64 2286.2 1519.2 Q2284.39 1522.75 2284.39 1529.87 Q2284.39 1536.98 2286.2 1540.55 Q2288.02 1544.09 2291.63 1544.09 Q2295.27 1544.09 2297.07 1540.55 Q2298.9 1536.98 2298.9 1529.87 Q2298.9 1522.75 2297.07 1519.2 Q2295.27 1515.64 2291.63 1515.64 M2291.63 1511.93 Q2297.45 1511.93 2300.5 1516.54 Q2303.58 1521.12 2303.58 1529.87 Q2303.58 1538.6 2300.5 1543.21 Q2297.45 1547.79 2291.63 1547.79 Q2285.82 1547.79 2282.75 1543.21 Q2279.69 1538.6 2279.69 1529.87 Q2279.69 1521.12 2282.75 1516.54 Q2285.82 1511.93 2291.63 1511.93 Z\" fill=\"#000000\" fill-rule=\"evenodd\" fill-opacity=\"1\" /><path clip-path=\"url(#clip610)\" d=\"M2321.8 1515.64 Q2318.19 1515.64 2316.36 1519.2 Q2314.55 1522.75 2314.55 1529.87 Q2314.55 1536.98 2316.36 1540.55 Q2318.19 1544.09 2321.8 1544.09 Q2325.43 1544.09 2327.24 1540.55 Q2329.07 1536.98 2329.07 1529.87 Q2329.07 1522.75 2327.24 1519.2 Q2325.43 1515.64 2321.8 1515.64 M2321.8 1511.93 Q2327.61 1511.93 2330.66 1516.54 Q2333.74 1521.12 2333.74 1529.87 Q2333.74 1538.6 2330.66 1543.21 Q2327.61 1547.79 2321.8 1547.79 Q2315.99 1547.79 2312.91 1543.21 Q2309.85 1538.6 2309.85 1529.87 Q2309.85 1521.12 2312.91 1516.54 Q2315.99 1511.93 2321.8 1511.93 Z\" fill=\"#000000\" fill-rule=\"evenodd\" fill-opacity=\"1\" /><polyline clip-path=\"url(#clip612)\" style=\"stroke:#222255; stroke-linecap:butt; stroke-linejoin:round; stroke-width:2; stroke-opacity:0.1; fill:none\" points=\"\n  199.283,1445.72 2352.76,1445.72 \n  \"/>\n<polyline clip-path=\"url(#clip612)\" style=\"stroke:#222255; stroke-linecap:butt; stroke-linejoin:round; stroke-width:2; stroke-opacity:0.1; fill:none\" points=\"\n  199.283,1105.94 2352.76,1105.94 \n  \"/>\n<polyline clip-path=\"url(#clip612)\" style=\"stroke:#222255; stroke-linecap:butt; stroke-linejoin:round; stroke-width:2; stroke-opacity:0.1; fill:none\" points=\"\n  199.283,766.166 2352.76,766.166 \n  \"/>\n<polyline clip-path=\"url(#clip612)\" style=\"stroke:#222255; stroke-linecap:butt; stroke-linejoin:round; stroke-width:2; stroke-opacity:0.1; fill:none\" points=\"\n  199.283,426.392 2352.76,426.392 \n  \"/>\n<polyline clip-path=\"url(#clip612)\" style=\"stroke:#222255; stroke-linecap:butt; stroke-linejoin:round; stroke-width:2; stroke-opacity:0.1; fill:none\" points=\"\n  199.283,86.6172 2352.76,86.6172 \n  \"/>\n<polyline clip-path=\"url(#clip612)\" style=\"stroke:#222255; stroke-linecap:butt; stroke-linejoin:round; stroke-width:2; stroke-opacity:0.05; fill:none\" points=\"\n  199.283,1377.76 2352.76,1377.76 \n  \"/>\n<polyline clip-path=\"url(#clip612)\" style=\"stroke:#222255; stroke-linecap:butt; stroke-linejoin:round; stroke-width:2; stroke-opacity:0.05; fill:none\" points=\"\n  199.283,1309.81 2352.76,1309.81 \n  \"/>\n<polyline clip-path=\"url(#clip612)\" style=\"stroke:#222255; stroke-linecap:butt; stroke-linejoin:round; stroke-width:2; stroke-opacity:0.05; fill:none\" points=\"\n  199.283,1241.85 2352.76,1241.85 \n  \"/>\n<polyline clip-path=\"url(#clip612)\" style=\"stroke:#222255; stroke-linecap:butt; stroke-linejoin:round; stroke-width:2; stroke-opacity:0.05; fill:none\" points=\"\n  199.283,1173.9 2352.76,1173.9 \n  \"/>\n<polyline clip-path=\"url(#clip612)\" style=\"stroke:#222255; stroke-linecap:butt; stroke-linejoin:round; stroke-width:2; stroke-opacity:0.05; fill:none\" points=\"\n  199.283,1037.99 2352.76,1037.99 \n  \"/>\n<polyline clip-path=\"url(#clip612)\" style=\"stroke:#222255; stroke-linecap:butt; stroke-linejoin:round; stroke-width:2; stroke-opacity:0.05; fill:none\" points=\"\n  199.283,970.031 2352.76,970.031 \n  \"/>\n<polyline clip-path=\"url(#clip612)\" style=\"stroke:#222255; stroke-linecap:butt; stroke-linejoin:round; stroke-width:2; stroke-opacity:0.05; fill:none\" points=\"\n  199.283,902.076 2352.76,902.076 \n  \"/>\n<polyline clip-path=\"url(#clip612)\" style=\"stroke:#222255; stroke-linecap:butt; stroke-linejoin:round; stroke-width:2; stroke-opacity:0.05; fill:none\" points=\"\n  199.283,834.121 2352.76,834.121 \n  \"/>\n<polyline clip-path=\"url(#clip612)\" style=\"stroke:#222255; stroke-linecap:butt; stroke-linejoin:round; stroke-width:2; stroke-opacity:0.05; fill:none\" points=\"\n  199.283,698.212 2352.76,698.212 \n  \"/>\n<polyline clip-path=\"url(#clip612)\" style=\"stroke:#222255; stroke-linecap:butt; stroke-linejoin:round; stroke-width:2; stroke-opacity:0.05; fill:none\" points=\"\n  199.283,630.257 2352.76,630.257 \n  \"/>\n<polyline clip-path=\"url(#clip612)\" style=\"stroke:#222255; stroke-linecap:butt; stroke-linejoin:round; stroke-width:2; stroke-opacity:0.05; fill:none\" points=\"\n  199.283,562.302 2352.76,562.302 \n  \"/>\n<polyline clip-path=\"url(#clip612)\" style=\"stroke:#222255; stroke-linecap:butt; stroke-linejoin:round; stroke-width:2; stroke-opacity:0.05; fill:none\" points=\"\n  199.283,494.347 2352.76,494.347 \n  \"/>\n<polyline clip-path=\"url(#clip612)\" style=\"stroke:#222255; stroke-linecap:butt; stroke-linejoin:round; stroke-width:2; stroke-opacity:0.05; fill:none\" points=\"\n  199.283,358.437 2352.76,358.437 \n  \"/>\n<polyline clip-path=\"url(#clip612)\" style=\"stroke:#222255; stroke-linecap:butt; stroke-linejoin:round; stroke-width:2; stroke-opacity:0.05; fill:none\" points=\"\n  199.283,290.482 2352.76,290.482 \n  \"/>\n<polyline clip-path=\"url(#clip612)\" style=\"stroke:#222255; stroke-linecap:butt; stroke-linejoin:round; stroke-width:2; stroke-opacity:0.05; fill:none\" points=\"\n  199.283,222.527 2352.76,222.527 \n  \"/>\n<polyline clip-path=\"url(#clip612)\" style=\"stroke:#222255; stroke-linecap:butt; stroke-linejoin:round; stroke-width:2; stroke-opacity:0.05; fill:none\" points=\"\n  199.283,154.572 2352.76,154.572 \n  \"/>\n<polyline clip-path=\"url(#clip610)\" style=\"stroke:#222255; stroke-linecap:butt; stroke-linejoin:round; stroke-width:4; stroke-opacity:0; fill:none\" points=\"\n  199.283,1445.72 218.181,1445.72 \n  \"/>\n<polyline clip-path=\"url(#clip610)\" style=\"stroke:#222255; stroke-linecap:butt; stroke-linejoin:round; stroke-width:4; stroke-opacity:0; fill:none\" points=\"\n  199.283,1105.94 218.181,1105.94 \n  \"/>\n<polyline clip-path=\"url(#clip610)\" style=\"stroke:#222255; stroke-linecap:butt; stroke-linejoin:round; stroke-width:4; stroke-opacity:0; fill:none\" points=\"\n  199.283,766.166 218.181,766.166 \n  \"/>\n<polyline clip-path=\"url(#clip610)\" style=\"stroke:#222255; stroke-linecap:butt; stroke-linejoin:round; stroke-width:4; stroke-opacity:0; fill:none\" points=\"\n  199.283,426.392 218.181,426.392 \n  \"/>\n<polyline clip-path=\"url(#clip610)\" style=\"stroke:#222255; stroke-linecap:butt; stroke-linejoin:round; stroke-width:4; stroke-opacity:0; fill:none\" points=\"\n  199.283,86.6172 218.181,86.6172 \n  \"/>\n<polyline clip-path=\"url(#clip610)\" style=\"stroke:#222255; stroke-linecap:butt; stroke-linejoin:round; stroke-width:4; stroke-opacity:0; fill:none\" points=\"\n  199.283,1377.76 208.732,1377.76 \n  \"/>\n<polyline clip-path=\"url(#clip610)\" style=\"stroke:#222255; stroke-linecap:butt; stroke-linejoin:round; stroke-width:4; stroke-opacity:0; fill:none\" points=\"\n  199.283,1309.81 208.732,1309.81 \n  \"/>\n<polyline clip-path=\"url(#clip610)\" style=\"stroke:#222255; stroke-linecap:butt; stroke-linejoin:round; stroke-width:4; stroke-opacity:0; fill:none\" points=\"\n  199.283,1241.85 208.732,1241.85 \n  \"/>\n<polyline clip-path=\"url(#clip610)\" style=\"stroke:#222255; stroke-linecap:butt; stroke-linejoin:round; stroke-width:4; stroke-opacity:0; fill:none\" points=\"\n  199.283,1173.9 208.732,1173.9 \n  \"/>\n<polyline clip-path=\"url(#clip610)\" style=\"stroke:#222255; stroke-linecap:butt; stroke-linejoin:round; stroke-width:4; stroke-opacity:0; fill:none\" points=\"\n  199.283,1037.99 208.732,1037.99 \n  \"/>\n<polyline clip-path=\"url(#clip610)\" style=\"stroke:#222255; stroke-linecap:butt; stroke-linejoin:round; stroke-width:4; stroke-opacity:0; fill:none\" points=\"\n  199.283,970.031 208.732,970.031 \n  \"/>\n<polyline clip-path=\"url(#clip610)\" style=\"stroke:#222255; stroke-linecap:butt; stroke-linejoin:round; stroke-width:4; stroke-opacity:0; fill:none\" points=\"\n  199.283,902.076 208.732,902.076 \n  \"/>\n<polyline clip-path=\"url(#clip610)\" style=\"stroke:#222255; stroke-linecap:butt; stroke-linejoin:round; stroke-width:4; stroke-opacity:0; fill:none\" points=\"\n  199.283,834.121 208.732,834.121 \n  \"/>\n<polyline clip-path=\"url(#clip610)\" style=\"stroke:#222255; stroke-linecap:butt; stroke-linejoin:round; stroke-width:4; stroke-opacity:0; fill:none\" points=\"\n  199.283,698.212 208.732,698.212 \n  \"/>\n<polyline clip-path=\"url(#clip610)\" style=\"stroke:#222255; stroke-linecap:butt; stroke-linejoin:round; stroke-width:4; stroke-opacity:0; fill:none\" points=\"\n  199.283,630.257 208.732,630.257 \n  \"/>\n<polyline clip-path=\"url(#clip610)\" style=\"stroke:#222255; stroke-linecap:butt; stroke-linejoin:round; stroke-width:4; stroke-opacity:0; fill:none\" points=\"\n  199.283,562.302 208.732,562.302 \n  \"/>\n<polyline clip-path=\"url(#clip610)\" style=\"stroke:#222255; stroke-linecap:butt; stroke-linejoin:round; stroke-width:4; stroke-opacity:0; fill:none\" points=\"\n  199.283,494.347 208.732,494.347 \n  \"/>\n<polyline clip-path=\"url(#clip610)\" style=\"stroke:#222255; stroke-linecap:butt; stroke-linejoin:round; stroke-width:4; stroke-opacity:0; fill:none\" points=\"\n  199.283,358.437 208.732,358.437 \n  \"/>\n<polyline clip-path=\"url(#clip610)\" style=\"stroke:#222255; stroke-linecap:butt; stroke-linejoin:round; stroke-width:4; stroke-opacity:0; fill:none\" points=\"\n  199.283,290.482 208.732,290.482 \n  \"/>\n<polyline clip-path=\"url(#clip610)\" style=\"stroke:#222255; stroke-linecap:butt; stroke-linejoin:round; stroke-width:4; stroke-opacity:0; fill:none\" points=\"\n  199.283,222.527 208.732,222.527 \n  \"/>\n<polyline clip-path=\"url(#clip610)\" style=\"stroke:#222255; stroke-linecap:butt; stroke-linejoin:round; stroke-width:4; stroke-opacity:0; fill:none\" points=\"\n  199.283,154.572 208.732,154.572 \n  \"/>\n<path clip-path=\"url(#clip610)\" d=\"M151.339 1431.51 Q147.728 1431.51 145.899 1435.08 Q144.093 1438.62 144.093 1445.75 Q144.093 1452.86 145.899 1456.42 Q147.728 1459.96 151.339 1459.96 Q154.973 1459.96 156.779 1456.42 Q158.607 1452.86 158.607 1445.75 Q158.607 1438.62 156.779 1435.08 Q154.973 1431.51 151.339 1431.51 M151.339 1427.81 Q157.149 1427.81 160.205 1432.42 Q163.283 1437 163.283 1445.75 Q163.283 1454.48 160.205 1459.08 Q157.149 1463.67 151.339 1463.67 Q145.529 1463.67 142.45 1459.08 Q139.394 1454.48 139.394 1445.75 Q139.394 1437 142.45 1432.42 Q145.529 1427.81 151.339 1427.81 Z\" fill=\"#000000\" fill-rule=\"evenodd\" fill-opacity=\"1\" /><path clip-path=\"url(#clip610)\" d=\"M85.0429 1119.29 L101.362 1119.29 L101.362 1123.22 L79.4179 1123.22 L79.4179 1119.29 Q82.0799 1116.53 86.6632 1111.9 Q91.2697 1107.25 92.4502 1105.91 Q94.6956 1103.38 95.5752 1101.65 Q96.478 1099.89 96.478 1098.2 Q96.478 1095.44 94.5336 1093.71 Q92.6123 1091.97 89.5104 1091.97 Q87.3114 1091.97 84.8577 1092.74 Q82.4271 1093.5 79.6494 1095.05 L79.6494 1090.33 Q82.4734 1089.19 84.9271 1088.61 Q87.3808 1088.04 89.4178 1088.04 Q94.7882 1088.04 97.9826 1090.72 Q101.177 1093.41 101.177 1097.9 Q101.177 1100.03 100.367 1101.95 Q99.5798 1103.85 97.4734 1106.44 Q96.8947 1107.11 93.7928 1110.33 Q90.691 1113.52 85.0429 1119.29 Z\" fill=\"#000000\" fill-rule=\"evenodd\" fill-opacity=\"1\" /><path clip-path=\"url(#clip610)\" d=\"M111.223 1088.66 L129.58 1088.66 L129.58 1092.6 L115.506 1092.6 L115.506 1101.07 Q116.524 1100.72 117.543 1100.56 Q118.561 1100.37 119.58 1100.37 Q125.367 1100.37 128.746 1103.55 Q132.126 1106.72 132.126 1112.13 Q132.126 1117.71 128.654 1120.81 Q125.182 1123.89 118.862 1123.89 Q116.686 1123.89 114.418 1123.52 Q112.172 1123.15 109.765 1122.41 L109.765 1117.71 Q111.848 1118.85 114.07 1119.4 Q116.293 1119.96 118.77 1119.96 Q122.774 1119.96 125.112 1117.85 Q127.45 1115.74 127.45 1112.13 Q127.45 1108.52 125.112 1106.42 Q122.774 1104.31 118.77 1104.31 Q116.895 1104.31 115.02 1104.73 Q113.168 1105.14 111.223 1106.02 L111.223 1088.66 Z\" fill=\"#000000\" fill-rule=\"evenodd\" fill-opacity=\"1\" /><path clip-path=\"url(#clip610)\" d=\"M151.339 1091.74 Q147.728 1091.74 145.899 1095.3 Q144.093 1098.85 144.093 1105.98 Q144.093 1113.08 145.899 1116.65 Q147.728 1120.19 151.339 1120.19 Q154.973 1120.19 156.779 1116.65 Q158.607 1113.08 158.607 1105.98 Q158.607 1098.85 156.779 1095.3 Q154.973 1091.74 151.339 1091.74 M151.339 1088.04 Q157.149 1088.04 160.205 1092.64 Q163.283 1097.23 163.283 1105.98 Q163.283 1114.7 160.205 1119.31 Q157.149 1123.89 151.339 1123.89 Q145.529 1123.89 142.45 1119.31 Q139.394 1114.7 139.394 1105.98 Q139.394 1097.23 142.45 1092.64 Q145.529 1088.04 151.339 1088.04 Z\" fill=\"#000000\" fill-rule=\"evenodd\" fill-opacity=\"1\" /><path clip-path=\"url(#clip610)\" d=\"M81.0614 748.886 L99.4178 748.886 L99.4178 752.822 L85.3438 752.822 L85.3438 761.294 Q86.3623 760.947 87.3808 760.785 Q88.3993 760.599 89.4178 760.599 Q95.2049 760.599 98.5845 763.771 Q101.964 766.942 101.964 772.359 Q101.964 777.937 98.4919 781.039 Q95.0197 784.118 88.7003 784.118 Q86.5243 784.118 84.2558 783.747 Q82.0105 783.377 79.6031 782.636 L79.6031 777.937 Q81.6864 779.071 83.9086 779.627 Q86.1308 780.183 88.6077 780.183 Q92.6123 780.183 94.9502 778.076 Q97.2882 775.97 97.2882 772.359 Q97.2882 768.747 94.9502 766.641 Q92.6123 764.534 88.6077 764.534 Q86.7327 764.534 84.8577 764.951 Q83.0058 765.368 81.0614 766.247 L81.0614 748.886 Z\" fill=\"#000000\" fill-rule=\"evenodd\" fill-opacity=\"1\" /><path clip-path=\"url(#clip610)\" d=\"M121.177 751.965 Q117.566 751.965 115.737 755.53 Q113.932 759.072 113.932 766.201 Q113.932 773.308 115.737 776.872 Q117.566 780.414 121.177 780.414 Q124.811 780.414 126.617 776.872 Q128.445 773.308 128.445 766.201 Q128.445 759.072 126.617 755.53 Q124.811 751.965 121.177 751.965 M121.177 748.261 Q126.987 748.261 130.043 752.868 Q133.121 757.451 133.121 766.201 Q133.121 774.928 130.043 779.534 Q126.987 784.118 121.177 784.118 Q115.367 784.118 112.288 779.534 Q109.233 774.928 109.233 766.201 Q109.233 757.451 112.288 752.868 Q115.367 748.261 121.177 748.261 Z\" fill=\"#000000\" fill-rule=\"evenodd\" fill-opacity=\"1\" /><path clip-path=\"url(#clip610)\" d=\"M151.339 751.965 Q147.728 751.965 145.899 755.53 Q144.093 759.072 144.093 766.201 Q144.093 773.308 145.899 776.872 Q147.728 780.414 151.339 780.414 Q154.973 780.414 156.779 776.872 Q158.607 773.308 158.607 766.201 Q158.607 759.072 156.779 755.53 Q154.973 751.965 151.339 751.965 M151.339 748.261 Q157.149 748.261 160.205 752.868 Q163.283 757.451 163.283 766.201 Q163.283 774.928 160.205 779.534 Q157.149 784.118 151.339 784.118 Q145.529 784.118 142.45 779.534 Q139.394 774.928 139.394 766.201 Q139.394 757.451 142.45 752.868 Q145.529 748.261 151.339 748.261 Z\" fill=\"#000000\" fill-rule=\"evenodd\" fill-opacity=\"1\" /><path clip-path=\"url(#clip610)\" d=\"M79.8346 409.112 L102.057 409.112 L102.057 411.103 L89.5104 443.672 L84.6262 443.672 L96.4317 413.047 L79.8346 413.047 L79.8346 409.112 Z\" fill=\"#000000\" fill-rule=\"evenodd\" fill-opacity=\"1\" /><path clip-path=\"url(#clip610)\" d=\"M111.223 409.112 L129.58 409.112 L129.58 413.047 L115.506 413.047 L115.506 421.519 Q116.524 421.172 117.543 421.01 Q118.561 420.825 119.58 420.825 Q125.367 420.825 128.746 423.996 Q132.126 427.167 132.126 432.584 Q132.126 438.163 128.654 441.264 Q125.182 444.343 118.862 444.343 Q116.686 444.343 114.418 443.973 Q112.172 443.602 109.765 442.862 L109.765 438.163 Q111.848 439.297 114.07 439.852 Q116.293 440.408 118.77 440.408 Q122.774 440.408 125.112 438.301 Q127.45 436.195 127.45 432.584 Q127.45 428.973 125.112 426.866 Q122.774 424.76 118.77 424.76 Q116.895 424.76 115.02 425.177 Q113.168 425.593 111.223 426.473 L111.223 409.112 Z\" fill=\"#000000\" fill-rule=\"evenodd\" fill-opacity=\"1\" /><path clip-path=\"url(#clip610)\" d=\"M151.339 412.19 Q147.728 412.19 145.899 415.755 Q144.093 419.297 144.093 426.427 Q144.093 433.533 145.899 437.098 Q147.728 440.639 151.339 440.639 Q154.973 440.639 156.779 437.098 Q158.607 433.533 158.607 426.427 Q158.607 419.297 156.779 415.755 Q154.973 412.19 151.339 412.19 M151.339 408.487 Q157.149 408.487 160.205 413.093 Q163.283 417.677 163.283 426.427 Q163.283 435.153 160.205 439.76 Q157.149 444.343 151.339 444.343 Q145.529 444.343 142.45 439.76 Q139.394 435.153 139.394 426.427 Q139.394 417.677 142.45 413.093 Q145.529 408.487 151.339 408.487 Z\" fill=\"#000000\" fill-rule=\"evenodd\" fill-opacity=\"1\" /><path clip-path=\"url(#clip610)\" d=\"M51.6634 99.962 L59.3023 99.962 L59.3023 73.5964 L50.9921 75.2631 L50.9921 71.0038 L59.256 69.3372 L63.9319 69.3372 L63.9319 99.962 L71.5707 99.962 L71.5707 103.897 L51.6634 103.897 L51.6634 99.962 Z\" fill=\"#000000\" fill-rule=\"evenodd\" fill-opacity=\"1\" /><path clip-path=\"url(#clip610)\" d=\"M91.0151 72.4159 Q87.404 72.4159 85.5753 75.9807 Q83.7697 79.5223 83.7697 86.6519 Q83.7697 93.7583 85.5753 97.3231 Q87.404 100.865 91.0151 100.865 Q94.6493 100.865 96.4548 97.3231 Q98.2835 93.7583 98.2835 86.6519 Q98.2835 79.5223 96.4548 75.9807 Q94.6493 72.4159 91.0151 72.4159 M91.0151 68.7122 Q96.8252 68.7122 99.8808 73.3186 Q102.959 77.9019 102.959 86.6519 Q102.959 95.3787 99.8808 99.9852 Q96.8252 104.568 91.0151 104.568 Q85.2049 104.568 82.1262 99.9852 Q79.0707 95.3787 79.0707 86.6519 Q79.0707 77.9019 82.1262 73.3186 Q85.2049 68.7122 91.0151 68.7122 Z\" fill=\"#000000\" fill-rule=\"evenodd\" fill-opacity=\"1\" /><path clip-path=\"url(#clip610)\" d=\"M121.177 72.4159 Q117.566 72.4159 115.737 75.9807 Q113.932 79.5223 113.932 86.6519 Q113.932 93.7583 115.737 97.3231 Q117.566 100.865 121.177 100.865 Q124.811 100.865 126.617 97.3231 Q128.445 93.7583 128.445 86.6519 Q128.445 79.5223 126.617 75.9807 Q124.811 72.4159 121.177 72.4159 M121.177 68.7122 Q126.987 68.7122 130.043 73.3186 Q133.121 77.9019 133.121 86.6519 Q133.121 95.3787 130.043 99.9852 Q126.987 104.568 121.177 104.568 Q115.367 104.568 112.288 99.9852 Q109.233 95.3787 109.233 86.6519 Q109.233 77.9019 112.288 73.3186 Q115.367 68.7122 121.177 68.7122 Z\" fill=\"#000000\" fill-rule=\"evenodd\" fill-opacity=\"1\" /><path clip-path=\"url(#clip610)\" d=\"M151.339 72.4159 Q147.728 72.4159 145.899 75.9807 Q144.093 79.5223 144.093 86.6519 Q144.093 93.7583 145.899 97.3231 Q147.728 100.865 151.339 100.865 Q154.973 100.865 156.779 97.3231 Q158.607 93.7583 158.607 86.6519 Q158.607 79.5223 156.779 75.9807 Q154.973 72.4159 151.339 72.4159 M151.339 68.7122 Q157.149 68.7122 160.205 73.3186 Q163.283 77.9019 163.283 86.6519 Q163.283 95.3787 160.205 99.9852 Q157.149 104.568 151.339 104.568 Q145.529 104.568 142.45 99.9852 Q139.394 95.3787 139.394 86.6519 Q139.394 77.9019 142.45 73.3186 Q145.529 68.7122 151.339 68.7122 Z\" fill=\"#000000\" fill-rule=\"evenodd\" fill-opacity=\"1\" /><polyline clip-path=\"url(#clip612)\" style=\"stroke:#ee7733; stroke-linecap:butt; stroke-linejoin:round; stroke-width:4.8; stroke-opacity:1; fill:none\" points=\"\n  260.231,87.9763 270.388,89.3354 280.546,89.3354 290.704,89.3354 300.862,89.3354 311.02,89.3354 321.178,89.3354 331.336,89.3354 341.494,89.3354 351.652,89.3354 \n  361.809,89.3354 371.967,89.3354 382.125,89.3354 392.283,89.3354 402.441,89.3354 412.599,89.3354 422.757,89.3354 432.915,89.3354 443.073,89.3354 453.23,89.3354 \n  463.388,89.3354 473.546,89.3354 483.704,89.3354 493.862,90.6945 504.02,90.6945 514.178,90.6945 524.336,92.0536 534.494,92.0536 544.651,92.0536 554.809,92.0536 \n  564.967,93.4127 575.125,94.7718 585.283,96.1309 595.441,97.49 605.599,97.49 615.757,97.49 625.915,100.208 636.072,101.567 646.23,101.567 656.388,104.285 \n  666.546,105.645 676.704,108.363 686.862,113.799 697.02,117.876 707.178,120.595 717.336,127.39 727.493,134.186 737.651,138.263 747.809,145.058 757.967,147.777 \n  768.125,155.931 778.283,155.931 788.441,164.086 798.599,172.24 808.757,183.113 818.914,188.55 829.072,193.986 839.23,206.218 849.388,217.091 859.546,233.4 \n  869.704,251.068 879.862,266.018 890.02,285.046 900.178,297.277 910.336,313.587 920.493,339.41 930.651,358.437 940.809,374.746 950.967,397.851 961.125,414.16 \n  971.283,437.265 981.441,463.087 991.599,476.678 1001.76,509.297 1011.91,535.12 1022.07,562.302 1032.23,582.688 1042.39,608.511 1052.55,630.257 1062.7,653.361 \n  1072.86,677.825 1083.02,710.443 1093.18,748.498 1103.34,783.835 1113.49,806.939 1123.65,838.199 1133.81,873.535 1143.97,903.435 1154.12,923.822 1164.28,963.236 \n  1174.44,995.854 1184.6,1017.6 1194.76,1037.99 1204.91,1048.86 1215.07,1069.25 1225.23,1101.86 1235.39,1129.05 1245.55,1163.02 1255.7,1184.77 1265.86,1203.8 \n  1276.02,1220.11 1286.18,1236.41 1296.34,1258.16 1306.49,1269.03 1316.65,1273.11 1326.81,1282.62 1336.97,1286.7 1347.12,1294.86 1357.28,1303.01 1367.44,1312.52 \n  1377.6,1319.32 1387.76,1328.83 1397.91,1334.27 1408.07,1339.71 1418.23,1345.14 1428.39,1354.66 1438.55,1361.45 1448.7,1361.45 1458.86,1368.25 1469.02,1373.68 \n  1479.18,1379.12 1489.34,1384.56 1499.49,1391.35 1509.65,1402.22 1519.81,1404.94 1529.97,1407.66 1540.12,1409.02 1550.28,1411.74 1560.44,1414.46 1570.6,1417.17 \n  1580.76,1417.17 1590.91,1417.17 1601.07,1418.53 1611.23,1418.53 1621.39,1419.89 1631.55,1422.61 1641.7,1423.97 1651.86,1425.33 1662.02,1425.33 1672.18,1428.05 \n  1682.34,1428.05 1692.49,1429.41 1702.65,1429.41 1712.81,1430.77 1722.97,1432.12 1733.12,1433.48 1743.28,1433.48 1753.44,1433.48 1763.6,1436.2 1773.76,1436.2 \n  1783.91,1436.2 1794.07,1436.2 1804.23,1436.2 1814.39,1436.2 1824.55,1436.2 1834.7,1437.56 1844.86,1437.56 1855.02,1437.56 1865.18,1437.56 1875.34,1437.56 \n  1885.49,1437.56 1895.65,1437.56 1905.81,1437.56 1915.97,1437.56 1926.12,1437.56 1936.28,1437.56 1946.44,1437.56 1956.6,1440.28 1966.76,1440.28 1976.91,1440.28 \n  1987.07,1440.28 1997.23,1440.28 2007.39,1440.28 2017.55,1440.28 2027.7,1440.28 2037.86,1440.28 2048.02,1441.64 2058.18,1441.64 2068.33,1443 2078.49,1443 \n  2088.65,1443 2098.81,1443 2108.97,1443 2119.12,1443 2129.28,1443 2139.44,1443 2149.6,1443 2159.76,1443 2169.91,1443 2180.07,1443 \n  2190.23,1443 2200.39,1443 2210.55,1444.36 2220.7,1444.36 2230.86,1444.36 2241.02,1444.36 2251.18,1444.36 2261.33,1444.36 2271.49,1444.36 2281.65,1444.36 \n  2291.81,1444.36 \n  \"/>\n<polyline clip-path=\"url(#clip612)\" style=\"stroke:#0077bb; stroke-linecap:butt; stroke-linejoin:round; stroke-width:4.8; stroke-opacity:1; fill:none\" points=\"\n  260.231,1444.36 270.388,1443 280.546,1443 290.704,1443 300.862,1443 311.02,1443 321.178,1443 331.336,1443 341.494,1443 351.652,1443 \n  361.809,1443 371.967,1443 382.125,1443 392.283,1443 402.441,1443 412.599,1443 422.757,1443 432.915,1443 443.073,1443 453.23,1443 \n  463.388,1443 473.546,1443 483.704,1443 493.862,1441.64 504.02,1441.64 514.178,1441.64 524.336,1440.28 534.494,1440.28 544.651,1440.28 554.809,1440.28 \n  564.967,1438.92 575.125,1437.56 585.283,1436.2 595.441,1436.2 605.599,1436.2 615.757,1436.2 625.915,1434.84 636.072,1433.48 646.23,1433.48 656.388,1430.77 \n  666.546,1430.77 676.704,1428.05 686.862,1422.61 697.02,1418.53 707.178,1415.82 717.336,1409.02 727.493,1402.22 737.651,1398.15 747.809,1391.35 757.967,1388.63 \n  768.125,1380.48 778.283,1381.84 788.441,1373.68 798.599,1366.89 808.757,1357.37 818.914,1351.94 829.072,1347.86 839.23,1336.99 849.388,1328.83 859.546,1313.88 \n  869.704,1297.57 879.862,1285.34 890.02,1266.31 900.178,1258.16 910.336,1245.93 920.493,1222.82 930.651,1205.16 940.809,1192.92 950.967,1173.9 961.125,1157.59 \n  971.283,1138.56 981.441,1112.74 991.599,1101.86 1001.76,1073.32 1011.91,1047.5 1022.07,1025.75 1032.23,1006.73 1042.39,984.981 1052.55,965.954 1062.7,948.286 \n  1072.86,931.976 1083.02,902.076 1093.18,870.817 1103.34,836.84 1113.49,819.171 1123.65,794.708 1133.81,763.448 1143.97,741.703 1154.12,728.112 1164.28,695.493 \n  1174.44,671.03 1184.6,661.516 1194.76,647.925 1204.91,645.207 1215.07,632.975 1225.23,605.793 1235.39,581.329 1245.55,558.224 1255.7,547.352 1265.86,535.12 \n  1276.02,528.324 1286.18,524.247 1296.34,512.015 1306.49,513.374 1316.65,517.451 1326.81,520.17 1336.97,524.247 1347.12,531.042 1357.28,532.401 1367.44,531.042 \n  1377.6,535.12 1387.76,537.838 1397.91,539.197 1408.07,544.633 1418.23,551.429 1428.39,547.352 1438.55,545.992 1448.7,555.506 1458.86,559.583 1469.02,562.302 \n  1479.18,569.097 1489.34,578.611 1499.49,585.406 1509.65,582.688 1519.81,589.484 1529.97,594.92 1540.12,597.638 1550.28,601.716 1560.44,608.511 1570.6,612.588 \n  1580.76,619.384 1590.91,627.538 1601.07,635.693 1611.23,642.488 1621.39,650.643 1631.55,657.439 1641.7,660.157 1651.86,669.67 1662.02,680.543 1672.18,688.698 \n  1682.34,698.212 1692.49,700.93 1702.65,711.802 1712.81,718.598 1722.97,724.034 1733.12,732.189 1743.28,736.266 1753.44,743.062 1763.6,747.139 1773.76,751.216 \n  1783.91,753.935 1794.07,763.448 1804.23,767.526 1814.39,772.962 1824.55,779.757 1834.7,785.194 1844.86,790.63 1855.02,794.708 1865.18,805.58 1875.34,812.376 \n  1885.49,823.249 1895.65,830.044 1905.81,832.762 1915.97,838.199 1926.12,838.199 1936.28,844.994 1946.44,851.79 1956.6,858.585 1966.76,859.944 1976.91,865.381 \n  1987.07,870.817 1997.23,880.331 2007.39,885.767 2017.55,891.203 2027.7,899.358 2037.86,902.076 2048.02,907.513 2058.18,911.59 2068.33,919.745 2078.49,929.258 \n  2088.65,933.336 2098.81,942.849 2108.97,948.286 2119.12,949.645 2129.28,957.799 2139.44,963.236 2149.6,967.313 2159.76,967.313 2169.91,975.468 2180.07,975.468 \n  2190.23,979.545 2200.39,982.263 2210.55,983.622 2220.7,990.418 2230.86,995.854 2241.02,999.931 2251.18,1004.01 2261.33,1010.8 2271.49,1016.24 2281.65,1018.96 \n  2291.81,1023.04 \n  \"/>\n<polyline clip-path=\"url(#clip612)\" style=\"stroke:#33bbee; stroke-linecap:butt; stroke-linejoin:round; stroke-width:4.8; stroke-opacity:1; fill:none\" points=\"\n  260.231,1445.72 270.388,1445.72 280.546,1445.72 290.704,1445.72 300.862,1445.72 311.02,1445.72 321.178,1445.72 331.336,1445.72 341.494,1445.72 351.652,1445.72 \n  361.809,1445.72 371.967,1445.72 382.125,1445.72 392.283,1445.72 402.441,1445.72 412.599,1445.72 422.757,1445.72 432.915,1445.72 443.073,1445.72 453.23,1445.72 \n  463.388,1445.72 473.546,1445.72 483.704,1445.72 493.862,1445.72 504.02,1445.72 514.178,1445.72 524.336,1445.72 534.494,1445.72 544.651,1445.72 554.809,1445.72 \n  564.967,1445.72 575.125,1445.72 585.283,1445.72 595.441,1444.36 605.599,1444.36 615.757,1444.36 625.915,1443 636.072,1443 646.23,1443 656.388,1443 \n  666.546,1441.64 676.704,1441.64 686.862,1441.64 697.02,1441.64 707.178,1441.64 717.336,1441.64 727.493,1441.64 737.651,1441.64 747.809,1441.64 757.967,1441.64 \n  768.125,1441.64 778.283,1440.28 788.441,1440.28 798.599,1438.92 808.757,1437.56 818.914,1437.56 829.072,1436.2 839.23,1434.84 849.388,1432.12 859.546,1430.77 \n  869.704,1429.41 879.862,1426.69 890.02,1426.69 900.178,1422.61 910.336,1418.53 920.493,1415.82 930.651,1414.46 940.809,1410.38 950.967,1406.3 961.125,1406.3 \n  971.283,1402.22 981.441,1402.22 991.599,1399.51 1001.76,1395.43 1011.91,1395.43 1022.07,1389.99 1032.23,1388.63 1042.39,1384.56 1052.55,1381.84 1062.7,1376.4 \n  1072.86,1368.25 1083.02,1365.53 1093.18,1358.73 1103.34,1357.37 1113.49,1351.94 1123.65,1345.14 1133.81,1341.07 1143.97,1332.91 1154.12,1326.12 1164.28,1319.32 \n  1174.44,1311.16 1184.6,1298.93 1194.76,1292.14 1204.91,1283.98 1215.07,1275.83 1225.23,1270.39 1235.39,1267.67 1245.55,1256.8 1255.7,1245.93 1265.86,1239.13 \n  1276.02,1229.62 1286.18,1217.39 1296.34,1207.87 1306.49,1195.64 1316.65,1187.49 1326.81,1175.26 1336.97,1167.1 1347.12,1152.15 1357.28,1142.64 1367.44,1134.48 \n  1377.6,1123.61 1387.76,1111.38 1397.91,1104.58 1408.07,1093.71 1418.23,1081.48 1428.39,1076.04 1438.55,1070.6 1448.7,1061.09 1458.86,1050.22 1469.02,1042.06 \n  1479.18,1029.83 1489.34,1014.88 1499.49,1001.29 1509.65,993.136 1519.81,983.622 1529.97,975.468 1540.12,971.39 1550.28,964.595 1560.44,955.081 1570.6,948.286 \n  1580.76,941.49 1590.91,933.336 1601.07,923.822 1611.23,917.026 1621.39,907.513 1631.55,897.999 1641.7,893.922 1651.86,883.049 1662.02,872.176 1672.18,861.303 \n  1682.34,851.79 1692.49,847.712 1702.65,836.84 1712.81,828.685 1722.97,821.889 1733.12,812.376 1743.28,808.298 1753.44,801.503 1763.6,794.708 1773.76,790.63 \n  1783.91,787.912 1794.07,778.398 1804.23,774.321 1814.39,768.885 1824.55,762.089 1834.7,755.294 1844.86,749.857 1855.02,745.78 1865.18,734.907 1875.34,728.112 \n  1885.49,717.239 1895.65,710.443 1905.81,707.725 1915.97,702.289 1926.12,702.289 1936.28,695.493 1946.44,688.698 1956.6,679.184 1966.76,677.825 1976.91,672.389 \n  1987.07,666.952 1997.23,657.439 2007.39,652.002 2017.55,646.566 2027.7,638.411 2037.86,635.693 2048.02,628.897 2058.18,624.82 2068.33,615.307 2078.49,605.793 \n  2088.65,601.716 2098.81,592.202 2108.97,586.765 2119.12,585.406 2129.28,577.252 2139.44,571.815 2149.6,567.738 2159.76,567.738 2169.91,559.583 2180.07,559.583 \n  2190.23,555.506 2200.39,552.788 2210.55,550.07 2220.7,543.274 2230.86,537.838 2241.02,533.761 2251.18,529.683 2261.33,522.888 2271.49,517.451 2281.65,514.733 \n  2291.81,510.656 \n  \"/>\n<path clip-path=\"url(#clip610)\" d=\"\nM1988.69 302.578 L2280.97 302.578 L2280.97 95.2176 L1988.69 95.2176  Z\n  \" fill=\"#ffffff\" fill-rule=\"evenodd\" fill-opacity=\"0.9\"/>\n<polyline clip-path=\"url(#clip610)\" style=\"stroke:#222255; stroke-linecap:butt; stroke-linejoin:round; stroke-width:4; stroke-opacity:0.1; fill:none\" points=\"\n  1988.69,302.578 2280.97,302.578 2280.97,95.2176 1988.69,95.2176 1988.69,302.578 \n  \"/>\n<polyline clip-path=\"url(#clip610)\" style=\"stroke:#ee7733; stroke-linecap:butt; stroke-linejoin:round; stroke-width:4; stroke-opacity:1; fill:none\" points=\"\n  2012.62,147.058 2156.18,147.058 \n  \"/>\n<path clip-path=\"url(#clip610)\" d=\"M2193.95 166.745 Q2192.15 171.375 2190.43 172.787 Q2188.72 174.199 2185.85 174.199 L2182.45 174.199 L2182.45 170.634 L2184.95 170.634 Q2186.71 170.634 2187.68 169.8 Q2188.65 168.967 2189.83 165.865 L2190.6 163.921 L2180.11 138.412 L2184.62 138.412 L2192.73 158.689 L2200.83 138.412 L2205.34 138.412 L2193.95 166.745 Z\" fill=\"#000000\" fill-rule=\"evenodd\" fill-opacity=\"1\" /><path clip-path=\"url(#clip610)\" d=\"M2212.63 160.402 L2220.27 160.402 L2220.27 134.037 L2211.96 135.703 L2211.96 131.444 L2220.23 129.778 L2224.9 129.778 L2224.9 160.402 L2232.54 160.402 L2232.54 164.338 L2212.63 164.338 L2212.63 160.402 Z\" fill=\"#000000\" fill-rule=\"evenodd\" fill-opacity=\"1\" /><polyline clip-path=\"url(#clip610)\" style=\"stroke:#0077bb; stroke-linecap:butt; stroke-linejoin:round; stroke-width:4; stroke-opacity:1; fill:none\" points=\"\n  2012.62,198.898 2156.18,198.898 \n  \"/>\n<path clip-path=\"url(#clip610)\" d=\"M2193.95 218.585 Q2192.15 223.215 2190.43 224.627 Q2188.72 226.039 2185.85 226.039 L2182.45 226.039 L2182.45 222.474 L2184.95 222.474 Q2186.71 222.474 2187.68 221.64 Q2188.65 220.807 2189.83 217.705 L2190.6 215.761 L2180.11 190.252 L2184.62 190.252 L2192.73 210.529 L2200.83 190.252 L2205.34 190.252 L2193.95 218.585 Z\" fill=\"#000000\" fill-rule=\"evenodd\" fill-opacity=\"1\" /><path clip-path=\"url(#clip610)\" d=\"M2215.85 212.242 L2232.17 212.242 L2232.17 216.178 L2210.23 216.178 L2210.23 212.242 Q2212.89 209.488 2217.47 204.858 Q2222.08 200.205 2223.26 198.863 Q2225.5 196.34 2226.38 194.604 Q2227.29 192.844 2227.29 191.155 Q2227.29 188.4 2225.34 186.664 Q2223.42 184.928 2220.32 184.928 Q2218.12 184.928 2215.66 185.692 Q2213.23 186.455 2210.46 188.006 L2210.46 183.284 Q2213.28 182.15 2215.73 181.571 Q2218.19 180.993 2220.23 180.993 Q2225.6 180.993 2228.79 183.678 Q2231.98 186.363 2231.98 190.854 Q2231.98 192.983 2231.17 194.905 Q2230.39 196.803 2228.28 199.395 Q2227.7 200.067 2224.6 203.284 Q2221.5 206.479 2215.85 212.242 Z\" fill=\"#000000\" fill-rule=\"evenodd\" fill-opacity=\"1\" /><polyline clip-path=\"url(#clip610)\" style=\"stroke:#33bbee; stroke-linecap:butt; stroke-linejoin:round; stroke-width:4; stroke-opacity:1; fill:none\" points=\"\n  2012.62,250.738 2156.18,250.738 \n  \"/>\n<path clip-path=\"url(#clip610)\" d=\"M2193.95 270.425 Q2192.15 275.055 2190.43 276.467 Q2188.72 277.879 2185.85 277.879 L2182.45 277.879 L2182.45 274.314 L2184.95 274.314 Q2186.71 274.314 2187.68 273.48 Q2188.65 272.647 2189.83 269.545 L2190.6 267.601 L2180.11 242.092 L2184.62 242.092 L2192.73 262.369 L2200.83 242.092 L2205.34 242.092 L2193.95 270.425 Z\" fill=\"#000000\" fill-rule=\"evenodd\" fill-opacity=\"1\" /><path clip-path=\"url(#clip610)\" d=\"M2225.99 249.383 Q2229.35 250.101 2231.22 252.369 Q2233.12 254.638 2233.12 257.971 Q2233.12 263.087 2229.6 265.888 Q2226.08 268.689 2219.6 268.689 Q2217.42 268.689 2215.11 268.249 Q2212.82 267.832 2210.36 266.976 L2210.36 262.462 Q2212.31 263.596 2214.62 264.175 Q2216.94 264.754 2219.46 264.754 Q2223.86 264.754 2226.15 263.018 Q2228.47 261.281 2228.47 257.971 Q2228.47 254.916 2226.31 253.203 Q2224.18 251.467 2220.36 251.467 L2216.34 251.467 L2216.34 247.624 L2220.55 247.624 Q2224 247.624 2225.83 246.258 Q2227.66 244.87 2227.66 242.277 Q2227.66 239.615 2225.76 238.203 Q2223.88 236.768 2220.36 236.768 Q2218.44 236.768 2216.24 237.184 Q2214.04 237.601 2211.41 238.481 L2211.41 234.314 Q2214.07 233.573 2216.38 233.203 Q2218.72 232.833 2220.78 232.833 Q2226.1 232.833 2229.21 235.263 Q2232.31 237.67 2232.31 241.791 Q2232.31 244.661 2230.66 246.652 Q2229.02 248.62 2225.99 249.383 Z\" fill=\"#000000\" fill-rule=\"evenodd\" fill-opacity=\"1\" /></svg>\n",
      "text/html": [
       "<?xml version=\"1.0\" encoding=\"utf-8\"?>\n",
       "<svg xmlns=\"http://www.w3.org/2000/svg\" xmlns:xlink=\"http://www.w3.org/1999/xlink\" width=\"600\" height=\"400\" viewBox=\"0 0 2400 1600\">\n",
       "<defs>\n",
       "  <clipPath id=\"clip660\">\n",
       "    <rect x=\"0\" y=\"0\" width=\"2400\" height=\"1600\"/>\n",
       "  </clipPath>\n",
       "</defs>\n",
       "<path clip-path=\"url(#clip660)\" d=\"\n",
       "M0 1600 L2400 1600 L2400 0 L0 0  Z\n",
       "  \" fill=\"#ffffff\" fill-rule=\"evenodd\" fill-opacity=\"1\"/>\n",
       "<defs>\n",
       "  <clipPath id=\"clip661\">\n",
       "    <rect x=\"480\" y=\"0\" width=\"1681\" height=\"1600\"/>\n",
       "  </clipPath>\n",
       "</defs>\n",
       "<path clip-path=\"url(#clip660)\" d=\"\n",
       "M199.283 1486.45 L2352.76 1486.45 L2352.76 47.2441 L199.283 47.2441  Z\n",
       "  \" fill=\"#ffffff\" fill-rule=\"evenodd\" fill-opacity=\"1\"/>\n",
       "<defs>\n",
       "  <clipPath id=\"clip662\">\n",
       "    <rect x=\"199\" y=\"47\" width=\"2154\" height=\"1440\"/>\n",
       "  </clipPath>\n",
       "</defs>\n",
       "<polyline clip-path=\"url(#clip662)\" style=\"stroke:#222255; stroke-linecap:butt; stroke-linejoin:round; stroke-width:2; stroke-opacity:0.1; fill:none\" points=\"\n",
       "  260.231,1486.45 260.231,47.2441 \n",
       "  \"/>\n",
       "<polyline clip-path=\"url(#clip662)\" style=\"stroke:#222255; stroke-linecap:butt; stroke-linejoin:round; stroke-width:2; stroke-opacity:0.1; fill:none\" points=\"\n",
       "  768.125,1486.45 768.125,47.2441 \n",
       "  \"/>\n",
       "<polyline clip-path=\"url(#clip662)\" style=\"stroke:#222255; stroke-linecap:butt; stroke-linejoin:round; stroke-width:2; stroke-opacity:0.1; fill:none\" points=\"\n",
       "  1276.02,1486.45 1276.02,47.2441 \n",
       "  \"/>\n",
       "<polyline clip-path=\"url(#clip662)\" style=\"stroke:#222255; stroke-linecap:butt; stroke-linejoin:round; stroke-width:2; stroke-opacity:0.1; fill:none\" points=\"\n",
       "  1783.91,1486.45 1783.91,47.2441 \n",
       "  \"/>\n",
       "<polyline clip-path=\"url(#clip662)\" style=\"stroke:#222255; stroke-linecap:butt; stroke-linejoin:round; stroke-width:2; stroke-opacity:0.1; fill:none\" points=\"\n",
       "  2291.81,1486.45 2291.81,47.2441 \n",
       "  \"/>\n",
       "<polyline clip-path=\"url(#clip662)\" style=\"stroke:#222255; stroke-linecap:butt; stroke-linejoin:round; stroke-width:2; stroke-opacity:0.05; fill:none\" points=\"\n",
       "  361.809,1486.45 361.809,47.2441 \n",
       "  \"/>\n",
       "<polyline clip-path=\"url(#clip662)\" style=\"stroke:#222255; stroke-linecap:butt; stroke-linejoin:round; stroke-width:2; stroke-opacity:0.05; fill:none\" points=\"\n",
       "  463.388,1486.45 463.388,47.2441 \n",
       "  \"/>\n",
       "<polyline clip-path=\"url(#clip662)\" style=\"stroke:#222255; stroke-linecap:butt; stroke-linejoin:round; stroke-width:2; stroke-opacity:0.05; fill:none\" points=\"\n",
       "  564.967,1486.45 564.967,47.2441 \n",
       "  \"/>\n",
       "<polyline clip-path=\"url(#clip662)\" style=\"stroke:#222255; stroke-linecap:butt; stroke-linejoin:round; stroke-width:2; stroke-opacity:0.05; fill:none\" points=\"\n",
       "  666.546,1486.45 666.546,47.2441 \n",
       "  \"/>\n",
       "<polyline clip-path=\"url(#clip662)\" style=\"stroke:#222255; stroke-linecap:butt; stroke-linejoin:round; stroke-width:2; stroke-opacity:0.05; fill:none\" points=\"\n",
       "  869.704,1486.45 869.704,47.2441 \n",
       "  \"/>\n",
       "<polyline clip-path=\"url(#clip662)\" style=\"stroke:#222255; stroke-linecap:butt; stroke-linejoin:round; stroke-width:2; stroke-opacity:0.05; fill:none\" points=\"\n",
       "  971.283,1486.45 971.283,47.2441 \n",
       "  \"/>\n",
       "<polyline clip-path=\"url(#clip662)\" style=\"stroke:#222255; stroke-linecap:butt; stroke-linejoin:round; stroke-width:2; stroke-opacity:0.05; fill:none\" points=\"\n",
       "  1072.86,1486.45 1072.86,47.2441 \n",
       "  \"/>\n",
       "<polyline clip-path=\"url(#clip662)\" style=\"stroke:#222255; stroke-linecap:butt; stroke-linejoin:round; stroke-width:2; stroke-opacity:0.05; fill:none\" points=\"\n",
       "  1174.44,1486.45 1174.44,47.2441 \n",
       "  \"/>\n",
       "<polyline clip-path=\"url(#clip662)\" style=\"stroke:#222255; stroke-linecap:butt; stroke-linejoin:round; stroke-width:2; stroke-opacity:0.05; fill:none\" points=\"\n",
       "  1377.6,1486.45 1377.6,47.2441 \n",
       "  \"/>\n",
       "<polyline clip-path=\"url(#clip662)\" style=\"stroke:#222255; stroke-linecap:butt; stroke-linejoin:round; stroke-width:2; stroke-opacity:0.05; fill:none\" points=\"\n",
       "  1479.18,1486.45 1479.18,47.2441 \n",
       "  \"/>\n",
       "<polyline clip-path=\"url(#clip662)\" style=\"stroke:#222255; stroke-linecap:butt; stroke-linejoin:round; stroke-width:2; stroke-opacity:0.05; fill:none\" points=\"\n",
       "  1580.76,1486.45 1580.76,47.2441 \n",
       "  \"/>\n",
       "<polyline clip-path=\"url(#clip662)\" style=\"stroke:#222255; stroke-linecap:butt; stroke-linejoin:round; stroke-width:2; stroke-opacity:0.05; fill:none\" points=\"\n",
       "  1682.34,1486.45 1682.34,47.2441 \n",
       "  \"/>\n",
       "<polyline clip-path=\"url(#clip662)\" style=\"stroke:#222255; stroke-linecap:butt; stroke-linejoin:round; stroke-width:2; stroke-opacity:0.05; fill:none\" points=\"\n",
       "  1885.49,1486.45 1885.49,47.2441 \n",
       "  \"/>\n",
       "<polyline clip-path=\"url(#clip662)\" style=\"stroke:#222255; stroke-linecap:butt; stroke-linejoin:round; stroke-width:2; stroke-opacity:0.05; fill:none\" points=\"\n",
       "  1987.07,1486.45 1987.07,47.2441 \n",
       "  \"/>\n",
       "<polyline clip-path=\"url(#clip662)\" style=\"stroke:#222255; stroke-linecap:butt; stroke-linejoin:round; stroke-width:2; stroke-opacity:0.05; fill:none\" points=\"\n",
       "  2088.65,1486.45 2088.65,47.2441 \n",
       "  \"/>\n",
       "<polyline clip-path=\"url(#clip662)\" style=\"stroke:#222255; stroke-linecap:butt; stroke-linejoin:round; stroke-width:2; stroke-opacity:0.05; fill:none\" points=\"\n",
       "  2190.23,1486.45 2190.23,47.2441 \n",
       "  \"/>\n",
       "<polyline clip-path=\"url(#clip660)\" style=\"stroke:#222255; stroke-linecap:butt; stroke-linejoin:round; stroke-width:4; stroke-opacity:0; fill:none\" points=\"\n",
       "  260.231,1486.45 260.231,1467.55 \n",
       "  \"/>\n",
       "<polyline clip-path=\"url(#clip660)\" style=\"stroke:#222255; stroke-linecap:butt; stroke-linejoin:round; stroke-width:4; stroke-opacity:0; fill:none\" points=\"\n",
       "  768.125,1486.45 768.125,1467.55 \n",
       "  \"/>\n",
       "<polyline clip-path=\"url(#clip660)\" style=\"stroke:#222255; stroke-linecap:butt; stroke-linejoin:round; stroke-width:4; stroke-opacity:0; fill:none\" points=\"\n",
       "  1276.02,1486.45 1276.02,1467.55 \n",
       "  \"/>\n",
       "<polyline clip-path=\"url(#clip660)\" style=\"stroke:#222255; stroke-linecap:butt; stroke-linejoin:round; stroke-width:4; stroke-opacity:0; fill:none\" points=\"\n",
       "  1783.91,1486.45 1783.91,1467.55 \n",
       "  \"/>\n",
       "<polyline clip-path=\"url(#clip660)\" style=\"stroke:#222255; stroke-linecap:butt; stroke-linejoin:round; stroke-width:4; stroke-opacity:0; fill:none\" points=\"\n",
       "  2291.81,1486.45 2291.81,1467.55 \n",
       "  \"/>\n",
       "<polyline clip-path=\"url(#clip660)\" style=\"stroke:#222255; stroke-linecap:butt; stroke-linejoin:round; stroke-width:4; stroke-opacity:0; fill:none\" points=\"\n",
       "  361.809,1486.45 361.809,1477 \n",
       "  \"/>\n",
       "<polyline clip-path=\"url(#clip660)\" style=\"stroke:#222255; stroke-linecap:butt; stroke-linejoin:round; stroke-width:4; stroke-opacity:0; fill:none\" points=\"\n",
       "  463.388,1486.45 463.388,1477 \n",
       "  \"/>\n",
       "<polyline clip-path=\"url(#clip660)\" style=\"stroke:#222255; stroke-linecap:butt; stroke-linejoin:round; stroke-width:4; stroke-opacity:0; fill:none\" points=\"\n",
       "  564.967,1486.45 564.967,1477 \n",
       "  \"/>\n",
       "<polyline clip-path=\"url(#clip660)\" style=\"stroke:#222255; stroke-linecap:butt; stroke-linejoin:round; stroke-width:4; stroke-opacity:0; fill:none\" points=\"\n",
       "  666.546,1486.45 666.546,1477 \n",
       "  \"/>\n",
       "<polyline clip-path=\"url(#clip660)\" style=\"stroke:#222255; stroke-linecap:butt; stroke-linejoin:round; stroke-width:4; stroke-opacity:0; fill:none\" points=\"\n",
       "  869.704,1486.45 869.704,1477 \n",
       "  \"/>\n",
       "<polyline clip-path=\"url(#clip660)\" style=\"stroke:#222255; stroke-linecap:butt; stroke-linejoin:round; stroke-width:4; stroke-opacity:0; fill:none\" points=\"\n",
       "  971.283,1486.45 971.283,1477 \n",
       "  \"/>\n",
       "<polyline clip-path=\"url(#clip660)\" style=\"stroke:#222255; stroke-linecap:butt; stroke-linejoin:round; stroke-width:4; stroke-opacity:0; fill:none\" points=\"\n",
       "  1072.86,1486.45 1072.86,1477 \n",
       "  \"/>\n",
       "<polyline clip-path=\"url(#clip660)\" style=\"stroke:#222255; stroke-linecap:butt; stroke-linejoin:round; stroke-width:4; stroke-opacity:0; fill:none\" points=\"\n",
       "  1174.44,1486.45 1174.44,1477 \n",
       "  \"/>\n",
       "<polyline clip-path=\"url(#clip660)\" style=\"stroke:#222255; stroke-linecap:butt; stroke-linejoin:round; stroke-width:4; stroke-opacity:0; fill:none\" points=\"\n",
       "  1377.6,1486.45 1377.6,1477 \n",
       "  \"/>\n",
       "<polyline clip-path=\"url(#clip660)\" style=\"stroke:#222255; stroke-linecap:butt; stroke-linejoin:round; stroke-width:4; stroke-opacity:0; fill:none\" points=\"\n",
       "  1479.18,1486.45 1479.18,1477 \n",
       "  \"/>\n",
       "<polyline clip-path=\"url(#clip660)\" style=\"stroke:#222255; stroke-linecap:butt; stroke-linejoin:round; stroke-width:4; stroke-opacity:0; fill:none\" points=\"\n",
       "  1580.76,1486.45 1580.76,1477 \n",
       "  \"/>\n",
       "<polyline clip-path=\"url(#clip660)\" style=\"stroke:#222255; stroke-linecap:butt; stroke-linejoin:round; stroke-width:4; stroke-opacity:0; fill:none\" points=\"\n",
       "  1682.34,1486.45 1682.34,1477 \n",
       "  \"/>\n",
       "<polyline clip-path=\"url(#clip660)\" style=\"stroke:#222255; stroke-linecap:butt; stroke-linejoin:round; stroke-width:4; stroke-opacity:0; fill:none\" points=\"\n",
       "  1885.49,1486.45 1885.49,1477 \n",
       "  \"/>\n",
       "<polyline clip-path=\"url(#clip660)\" style=\"stroke:#222255; stroke-linecap:butt; stroke-linejoin:round; stroke-width:4; stroke-opacity:0; fill:none\" points=\"\n",
       "  1987.07,1486.45 1987.07,1477 \n",
       "  \"/>\n",
       "<polyline clip-path=\"url(#clip660)\" style=\"stroke:#222255; stroke-linecap:butt; stroke-linejoin:round; stroke-width:4; stroke-opacity:0; fill:none\" points=\"\n",
       "  2088.65,1486.45 2088.65,1477 \n",
       "  \"/>\n",
       "<polyline clip-path=\"url(#clip660)\" style=\"stroke:#222255; stroke-linecap:butt; stroke-linejoin:round; stroke-width:4; stroke-opacity:0; fill:none\" points=\"\n",
       "  2190.23,1486.45 2190.23,1477 \n",
       "  \"/>\n",
       "<path clip-path=\"url(#clip660)\" d=\"M260.231 1515.64 Q256.619 1515.64 254.791 1519.2 Q252.985 1522.75 252.985 1529.87 Q252.985 1536.98 254.791 1540.55 Q256.619 1544.09 260.231 1544.09 Q263.865 1544.09 265.67 1540.55 Q267.499 1536.98 267.499 1529.87 Q267.499 1522.75 265.67 1519.2 Q263.865 1515.64 260.231 1515.64 M260.231 1511.93 Q266.041 1511.93 269.096 1516.54 Q272.175 1521.12 272.175 1529.87 Q272.175 1538.6 269.096 1543.21 Q266.041 1547.79 260.231 1547.79 Q254.42 1547.79 251.342 1543.21 Q248.286 1538.6 248.286 1529.87 Q248.286 1521.12 251.342 1516.54 Q254.42 1511.93 260.231 1511.93 Z\" fill=\"#000000\" fill-rule=\"evenodd\" fill-opacity=\"1\" /><path clip-path=\"url(#clip660)\" d=\"M742.824 1512.56 L761.181 1512.56 L761.181 1516.5 L747.107 1516.5 L747.107 1524.97 Q748.125 1524.62 749.144 1524.46 Q750.162 1524.27 751.181 1524.27 Q756.968 1524.27 760.347 1527.44 Q763.727 1530.62 763.727 1536.03 Q763.727 1541.61 760.255 1544.71 Q756.783 1547.79 750.463 1547.79 Q748.287 1547.79 746.019 1547.42 Q743.773 1547.05 741.366 1546.31 L741.366 1541.61 Q743.449 1542.74 745.671 1543.3 Q747.894 1543.86 750.371 1543.86 Q754.375 1543.86 756.713 1541.75 Q759.051 1539.64 759.051 1536.03 Q759.051 1532.42 756.713 1530.31 Q754.375 1528.21 750.371 1528.21 Q748.496 1528.21 746.621 1528.62 Q744.769 1529.04 742.824 1529.92 L742.824 1512.56 Z\" fill=\"#000000\" fill-rule=\"evenodd\" fill-opacity=\"1\" /><path clip-path=\"url(#clip660)\" d=\"M782.94 1515.64 Q779.329 1515.64 777.5 1519.2 Q775.694 1522.75 775.694 1529.87 Q775.694 1536.98 777.5 1540.55 Q779.329 1544.09 782.94 1544.09 Q786.574 1544.09 788.38 1540.55 Q790.208 1536.98 790.208 1529.87 Q790.208 1522.75 788.38 1519.2 Q786.574 1515.64 782.94 1515.64 M782.94 1511.93 Q788.75 1511.93 791.805 1516.54 Q794.884 1521.12 794.884 1529.87 Q794.884 1538.6 791.805 1543.21 Q788.75 1547.79 782.94 1547.79 Q777.13 1547.79 774.051 1543.21 Q770.995 1538.6 770.995 1529.87 Q770.995 1521.12 774.051 1516.54 Q777.13 1511.93 782.94 1511.93 Z\" fill=\"#000000\" fill-rule=\"evenodd\" fill-opacity=\"1\" /><path clip-path=\"url(#clip660)\" d=\"M1235.63 1543.18 L1243.27 1543.18 L1243.27 1516.82 L1234.95 1518.49 L1234.95 1514.23 L1243.22 1512.56 L1247.89 1512.56 L1247.89 1543.18 L1255.53 1543.18 L1255.53 1547.12 L1235.63 1547.12 L1235.63 1543.18 Z\" fill=\"#000000\" fill-rule=\"evenodd\" fill-opacity=\"1\" /><path clip-path=\"url(#clip660)\" d=\"M1274.98 1515.64 Q1271.37 1515.64 1269.54 1519.2 Q1267.73 1522.75 1267.73 1529.87 Q1267.73 1536.98 1269.54 1540.55 Q1271.37 1544.09 1274.98 1544.09 Q1278.61 1544.09 1280.42 1540.55 Q1282.25 1536.98 1282.25 1529.87 Q1282.25 1522.75 1280.42 1519.2 Q1278.61 1515.64 1274.98 1515.64 M1274.98 1511.93 Q1280.79 1511.93 1283.84 1516.54 Q1286.92 1521.12 1286.92 1529.87 Q1286.92 1538.6 1283.84 1543.21 Q1280.79 1547.79 1274.98 1547.79 Q1269.17 1547.79 1266.09 1543.21 Q1263.03 1538.6 1263.03 1529.87 Q1263.03 1521.12 1266.09 1516.54 Q1269.17 1511.93 1274.98 1511.93 Z\" fill=\"#000000\" fill-rule=\"evenodd\" fill-opacity=\"1\" /><path clip-path=\"url(#clip660)\" d=\"M1305.14 1515.64 Q1301.53 1515.64 1299.7 1519.2 Q1297.89 1522.75 1297.89 1529.87 Q1297.89 1536.98 1299.7 1540.55 Q1301.53 1544.09 1305.14 1544.09 Q1308.77 1544.09 1310.58 1540.55 Q1312.41 1536.98 1312.41 1529.87 Q1312.41 1522.75 1310.58 1519.2 Q1308.77 1515.64 1305.14 1515.64 M1305.14 1511.93 Q1310.95 1511.93 1314.01 1516.54 Q1317.08 1521.12 1317.08 1529.87 Q1317.08 1538.6 1314.01 1543.21 Q1310.95 1547.79 1305.14 1547.79 Q1299.33 1547.79 1296.25 1543.21 Q1293.2 1538.6 1293.2 1529.87 Q1293.2 1521.12 1296.25 1516.54 Q1299.33 1511.93 1305.14 1511.93 Z\" fill=\"#000000\" fill-rule=\"evenodd\" fill-opacity=\"1\" /><path clip-path=\"url(#clip660)\" d=\"M1743.52 1543.18 L1751.16 1543.18 L1751.16 1516.82 L1742.85 1518.49 L1742.85 1514.23 L1751.11 1512.56 L1755.79 1512.56 L1755.79 1543.18 L1763.43 1543.18 L1763.43 1547.12 L1743.52 1547.12 L1743.52 1543.18 Z\" fill=\"#000000\" fill-rule=\"evenodd\" fill-opacity=\"1\" /><path clip-path=\"url(#clip660)\" d=\"M1772.92 1512.56 L1791.28 1512.56 L1791.28 1516.5 L1777.2 1516.5 L1777.2 1524.97 Q1778.22 1524.62 1779.24 1524.46 Q1780.26 1524.27 1781.28 1524.27 Q1787.06 1524.27 1790.44 1527.44 Q1793.82 1530.62 1793.82 1536.03 Q1793.82 1541.61 1790.35 1544.71 Q1786.88 1547.79 1780.56 1547.79 Q1778.38 1547.79 1776.11 1547.42 Q1773.87 1547.05 1771.46 1546.31 L1771.46 1541.61 Q1773.54 1542.74 1775.77 1543.3 Q1777.99 1543.86 1780.47 1543.86 Q1784.47 1543.86 1786.81 1541.75 Q1789.15 1539.64 1789.15 1536.03 Q1789.15 1532.42 1786.81 1530.31 Q1784.47 1528.21 1780.47 1528.21 Q1778.59 1528.21 1776.72 1528.62 Q1774.86 1529.04 1772.92 1529.92 L1772.92 1512.56 Z\" fill=\"#000000\" fill-rule=\"evenodd\" fill-opacity=\"1\" /><path clip-path=\"url(#clip660)\" d=\"M1813.03 1515.64 Q1809.42 1515.64 1807.59 1519.2 Q1805.79 1522.75 1805.79 1529.87 Q1805.79 1536.98 1807.59 1540.55 Q1809.42 1544.09 1813.03 1544.09 Q1816.67 1544.09 1818.47 1540.55 Q1820.3 1536.98 1820.3 1529.87 Q1820.3 1522.75 1818.47 1519.2 Q1816.67 1515.64 1813.03 1515.64 M1813.03 1511.93 Q1818.84 1511.93 1821.9 1516.54 Q1824.98 1521.12 1824.98 1529.87 Q1824.98 1538.6 1821.9 1543.21 Q1818.84 1547.79 1813.03 1547.79 Q1807.22 1547.79 1804.15 1543.21 Q1801.09 1538.6 1801.09 1529.87 Q1801.09 1521.12 1804.15 1516.54 Q1807.22 1511.93 1813.03 1511.93 Z\" fill=\"#000000\" fill-rule=\"evenodd\" fill-opacity=\"1\" /><path clip-path=\"url(#clip660)\" d=\"M2255.5 1543.18 L2271.82 1543.18 L2271.82 1547.12 L2249.88 1547.12 L2249.88 1543.18 Q2252.54 1540.43 2257.12 1535.8 Q2261.73 1531.15 2262.91 1529.81 Q2265.15 1527.28 2266.03 1525.55 Q2266.94 1523.79 2266.94 1522.1 Q2266.94 1519.34 2264.99 1517.61 Q2263.07 1515.87 2259.97 1515.87 Q2257.77 1515.87 2255.32 1516.63 Q2252.89 1517.4 2250.11 1518.95 L2250.11 1514.23 Q2252.93 1513.09 2255.39 1512.51 Q2257.84 1511.93 2259.88 1511.93 Q2265.25 1511.93 2268.44 1514.62 Q2271.64 1517.31 2271.64 1521.8 Q2271.64 1523.93 2270.82 1525.85 Q2270.04 1527.74 2267.93 1530.34 Q2267.35 1531.01 2264.25 1534.23 Q2261.15 1537.42 2255.5 1543.18 Z\" fill=\"#000000\" fill-rule=\"evenodd\" fill-opacity=\"1\" /><path clip-path=\"url(#clip660)\" d=\"M2291.63 1515.64 Q2288.02 1515.64 2286.2 1519.2 Q2284.39 1522.75 2284.39 1529.87 Q2284.39 1536.98 2286.2 1540.55 Q2288.02 1544.09 2291.63 1544.09 Q2295.27 1544.09 2297.07 1540.55 Q2298.9 1536.98 2298.9 1529.87 Q2298.9 1522.75 2297.07 1519.2 Q2295.27 1515.64 2291.63 1515.64 M2291.63 1511.93 Q2297.45 1511.93 2300.5 1516.54 Q2303.58 1521.12 2303.58 1529.87 Q2303.58 1538.6 2300.5 1543.21 Q2297.45 1547.79 2291.63 1547.79 Q2285.82 1547.79 2282.75 1543.21 Q2279.69 1538.6 2279.69 1529.87 Q2279.69 1521.12 2282.75 1516.54 Q2285.82 1511.93 2291.63 1511.93 Z\" fill=\"#000000\" fill-rule=\"evenodd\" fill-opacity=\"1\" /><path clip-path=\"url(#clip660)\" d=\"M2321.8 1515.64 Q2318.19 1515.64 2316.36 1519.2 Q2314.55 1522.75 2314.55 1529.87 Q2314.55 1536.98 2316.36 1540.55 Q2318.19 1544.09 2321.8 1544.09 Q2325.43 1544.09 2327.24 1540.55 Q2329.07 1536.98 2329.07 1529.87 Q2329.07 1522.75 2327.24 1519.2 Q2325.43 1515.64 2321.8 1515.64 M2321.8 1511.93 Q2327.61 1511.93 2330.66 1516.54 Q2333.74 1521.12 2333.74 1529.87 Q2333.74 1538.6 2330.66 1543.21 Q2327.61 1547.79 2321.8 1547.79 Q2315.99 1547.79 2312.91 1543.21 Q2309.85 1538.6 2309.85 1529.87 Q2309.85 1521.12 2312.91 1516.54 Q2315.99 1511.93 2321.8 1511.93 Z\" fill=\"#000000\" fill-rule=\"evenodd\" fill-opacity=\"1\" /><polyline clip-path=\"url(#clip662)\" style=\"stroke:#222255; stroke-linecap:butt; stroke-linejoin:round; stroke-width:2; stroke-opacity:0.1; fill:none\" points=\"\n",
       "  199.283,1445.72 2352.76,1445.72 \n",
       "  \"/>\n",
       "<polyline clip-path=\"url(#clip662)\" style=\"stroke:#222255; stroke-linecap:butt; stroke-linejoin:round; stroke-width:2; stroke-opacity:0.1; fill:none\" points=\"\n",
       "  199.283,1105.94 2352.76,1105.94 \n",
       "  \"/>\n",
       "<polyline clip-path=\"url(#clip662)\" style=\"stroke:#222255; stroke-linecap:butt; stroke-linejoin:round; stroke-width:2; stroke-opacity:0.1; fill:none\" points=\"\n",
       "  199.283,766.166 2352.76,766.166 \n",
       "  \"/>\n",
       "<polyline clip-path=\"url(#clip662)\" style=\"stroke:#222255; stroke-linecap:butt; stroke-linejoin:round; stroke-width:2; stroke-opacity:0.1; fill:none\" points=\"\n",
       "  199.283,426.392 2352.76,426.392 \n",
       "  \"/>\n",
       "<polyline clip-path=\"url(#clip662)\" style=\"stroke:#222255; stroke-linecap:butt; stroke-linejoin:round; stroke-width:2; stroke-opacity:0.1; fill:none\" points=\"\n",
       "  199.283,86.6172 2352.76,86.6172 \n",
       "  \"/>\n",
       "<polyline clip-path=\"url(#clip662)\" style=\"stroke:#222255; stroke-linecap:butt; stroke-linejoin:round; stroke-width:2; stroke-opacity:0.05; fill:none\" points=\"\n",
       "  199.283,1377.76 2352.76,1377.76 \n",
       "  \"/>\n",
       "<polyline clip-path=\"url(#clip662)\" style=\"stroke:#222255; stroke-linecap:butt; stroke-linejoin:round; stroke-width:2; stroke-opacity:0.05; fill:none\" points=\"\n",
       "  199.283,1309.81 2352.76,1309.81 \n",
       "  \"/>\n",
       "<polyline clip-path=\"url(#clip662)\" style=\"stroke:#222255; stroke-linecap:butt; stroke-linejoin:round; stroke-width:2; stroke-opacity:0.05; fill:none\" points=\"\n",
       "  199.283,1241.85 2352.76,1241.85 \n",
       "  \"/>\n",
       "<polyline clip-path=\"url(#clip662)\" style=\"stroke:#222255; stroke-linecap:butt; stroke-linejoin:round; stroke-width:2; stroke-opacity:0.05; fill:none\" points=\"\n",
       "  199.283,1173.9 2352.76,1173.9 \n",
       "  \"/>\n",
       "<polyline clip-path=\"url(#clip662)\" style=\"stroke:#222255; stroke-linecap:butt; stroke-linejoin:round; stroke-width:2; stroke-opacity:0.05; fill:none\" points=\"\n",
       "  199.283,1037.99 2352.76,1037.99 \n",
       "  \"/>\n",
       "<polyline clip-path=\"url(#clip662)\" style=\"stroke:#222255; stroke-linecap:butt; stroke-linejoin:round; stroke-width:2; stroke-opacity:0.05; fill:none\" points=\"\n",
       "  199.283,970.031 2352.76,970.031 \n",
       "  \"/>\n",
       "<polyline clip-path=\"url(#clip662)\" style=\"stroke:#222255; stroke-linecap:butt; stroke-linejoin:round; stroke-width:2; stroke-opacity:0.05; fill:none\" points=\"\n",
       "  199.283,902.076 2352.76,902.076 \n",
       "  \"/>\n",
       "<polyline clip-path=\"url(#clip662)\" style=\"stroke:#222255; stroke-linecap:butt; stroke-linejoin:round; stroke-width:2; stroke-opacity:0.05; fill:none\" points=\"\n",
       "  199.283,834.121 2352.76,834.121 \n",
       "  \"/>\n",
       "<polyline clip-path=\"url(#clip662)\" style=\"stroke:#222255; stroke-linecap:butt; stroke-linejoin:round; stroke-width:2; stroke-opacity:0.05; fill:none\" points=\"\n",
       "  199.283,698.212 2352.76,698.212 \n",
       "  \"/>\n",
       "<polyline clip-path=\"url(#clip662)\" style=\"stroke:#222255; stroke-linecap:butt; stroke-linejoin:round; stroke-width:2; stroke-opacity:0.05; fill:none\" points=\"\n",
       "  199.283,630.257 2352.76,630.257 \n",
       "  \"/>\n",
       "<polyline clip-path=\"url(#clip662)\" style=\"stroke:#222255; stroke-linecap:butt; stroke-linejoin:round; stroke-width:2; stroke-opacity:0.05; fill:none\" points=\"\n",
       "  199.283,562.302 2352.76,562.302 \n",
       "  \"/>\n",
       "<polyline clip-path=\"url(#clip662)\" style=\"stroke:#222255; stroke-linecap:butt; stroke-linejoin:round; stroke-width:2; stroke-opacity:0.05; fill:none\" points=\"\n",
       "  199.283,494.347 2352.76,494.347 \n",
       "  \"/>\n",
       "<polyline clip-path=\"url(#clip662)\" style=\"stroke:#222255; stroke-linecap:butt; stroke-linejoin:round; stroke-width:2; stroke-opacity:0.05; fill:none\" points=\"\n",
       "  199.283,358.437 2352.76,358.437 \n",
       "  \"/>\n",
       "<polyline clip-path=\"url(#clip662)\" style=\"stroke:#222255; stroke-linecap:butt; stroke-linejoin:round; stroke-width:2; stroke-opacity:0.05; fill:none\" points=\"\n",
       "  199.283,290.482 2352.76,290.482 \n",
       "  \"/>\n",
       "<polyline clip-path=\"url(#clip662)\" style=\"stroke:#222255; stroke-linecap:butt; stroke-linejoin:round; stroke-width:2; stroke-opacity:0.05; fill:none\" points=\"\n",
       "  199.283,222.527 2352.76,222.527 \n",
       "  \"/>\n",
       "<polyline clip-path=\"url(#clip662)\" style=\"stroke:#222255; stroke-linecap:butt; stroke-linejoin:round; stroke-width:2; stroke-opacity:0.05; fill:none\" points=\"\n",
       "  199.283,154.572 2352.76,154.572 \n",
       "  \"/>\n",
       "<polyline clip-path=\"url(#clip660)\" style=\"stroke:#222255; stroke-linecap:butt; stroke-linejoin:round; stroke-width:4; stroke-opacity:0; fill:none\" points=\"\n",
       "  199.283,1445.72 218.181,1445.72 \n",
       "  \"/>\n",
       "<polyline clip-path=\"url(#clip660)\" style=\"stroke:#222255; stroke-linecap:butt; stroke-linejoin:round; stroke-width:4; stroke-opacity:0; fill:none\" points=\"\n",
       "  199.283,1105.94 218.181,1105.94 \n",
       "  \"/>\n",
       "<polyline clip-path=\"url(#clip660)\" style=\"stroke:#222255; stroke-linecap:butt; stroke-linejoin:round; stroke-width:4; stroke-opacity:0; fill:none\" points=\"\n",
       "  199.283,766.166 218.181,766.166 \n",
       "  \"/>\n",
       "<polyline clip-path=\"url(#clip660)\" style=\"stroke:#222255; stroke-linecap:butt; stroke-linejoin:round; stroke-width:4; stroke-opacity:0; fill:none\" points=\"\n",
       "  199.283,426.392 218.181,426.392 \n",
       "  \"/>\n",
       "<polyline clip-path=\"url(#clip660)\" style=\"stroke:#222255; stroke-linecap:butt; stroke-linejoin:round; stroke-width:4; stroke-opacity:0; fill:none\" points=\"\n",
       "  199.283,86.6172 218.181,86.6172 \n",
       "  \"/>\n",
       "<polyline clip-path=\"url(#clip660)\" style=\"stroke:#222255; stroke-linecap:butt; stroke-linejoin:round; stroke-width:4; stroke-opacity:0; fill:none\" points=\"\n",
       "  199.283,1377.76 208.732,1377.76 \n",
       "  \"/>\n",
       "<polyline clip-path=\"url(#clip660)\" style=\"stroke:#222255; stroke-linecap:butt; stroke-linejoin:round; stroke-width:4; stroke-opacity:0; fill:none\" points=\"\n",
       "  199.283,1309.81 208.732,1309.81 \n",
       "  \"/>\n",
       "<polyline clip-path=\"url(#clip660)\" style=\"stroke:#222255; stroke-linecap:butt; stroke-linejoin:round; stroke-width:4; stroke-opacity:0; fill:none\" points=\"\n",
       "  199.283,1241.85 208.732,1241.85 \n",
       "  \"/>\n",
       "<polyline clip-path=\"url(#clip660)\" style=\"stroke:#222255; stroke-linecap:butt; stroke-linejoin:round; stroke-width:4; stroke-opacity:0; fill:none\" points=\"\n",
       "  199.283,1173.9 208.732,1173.9 \n",
       "  \"/>\n",
       "<polyline clip-path=\"url(#clip660)\" style=\"stroke:#222255; stroke-linecap:butt; stroke-linejoin:round; stroke-width:4; stroke-opacity:0; fill:none\" points=\"\n",
       "  199.283,1037.99 208.732,1037.99 \n",
       "  \"/>\n",
       "<polyline clip-path=\"url(#clip660)\" style=\"stroke:#222255; stroke-linecap:butt; stroke-linejoin:round; stroke-width:4; stroke-opacity:0; fill:none\" points=\"\n",
       "  199.283,970.031 208.732,970.031 \n",
       "  \"/>\n",
       "<polyline clip-path=\"url(#clip660)\" style=\"stroke:#222255; stroke-linecap:butt; stroke-linejoin:round; stroke-width:4; stroke-opacity:0; fill:none\" points=\"\n",
       "  199.283,902.076 208.732,902.076 \n",
       "  \"/>\n",
       "<polyline clip-path=\"url(#clip660)\" style=\"stroke:#222255; stroke-linecap:butt; stroke-linejoin:round; stroke-width:4; stroke-opacity:0; fill:none\" points=\"\n",
       "  199.283,834.121 208.732,834.121 \n",
       "  \"/>\n",
       "<polyline clip-path=\"url(#clip660)\" style=\"stroke:#222255; stroke-linecap:butt; stroke-linejoin:round; stroke-width:4; stroke-opacity:0; fill:none\" points=\"\n",
       "  199.283,698.212 208.732,698.212 \n",
       "  \"/>\n",
       "<polyline clip-path=\"url(#clip660)\" style=\"stroke:#222255; stroke-linecap:butt; stroke-linejoin:round; stroke-width:4; stroke-opacity:0; fill:none\" points=\"\n",
       "  199.283,630.257 208.732,630.257 \n",
       "  \"/>\n",
       "<polyline clip-path=\"url(#clip660)\" style=\"stroke:#222255; stroke-linecap:butt; stroke-linejoin:round; stroke-width:4; stroke-opacity:0; fill:none\" points=\"\n",
       "  199.283,562.302 208.732,562.302 \n",
       "  \"/>\n",
       "<polyline clip-path=\"url(#clip660)\" style=\"stroke:#222255; stroke-linecap:butt; stroke-linejoin:round; stroke-width:4; stroke-opacity:0; fill:none\" points=\"\n",
       "  199.283,494.347 208.732,494.347 \n",
       "  \"/>\n",
       "<polyline clip-path=\"url(#clip660)\" style=\"stroke:#222255; stroke-linecap:butt; stroke-linejoin:round; stroke-width:4; stroke-opacity:0; fill:none\" points=\"\n",
       "  199.283,358.437 208.732,358.437 \n",
       "  \"/>\n",
       "<polyline clip-path=\"url(#clip660)\" style=\"stroke:#222255; stroke-linecap:butt; stroke-linejoin:round; stroke-width:4; stroke-opacity:0; fill:none\" points=\"\n",
       "  199.283,290.482 208.732,290.482 \n",
       "  \"/>\n",
       "<polyline clip-path=\"url(#clip660)\" style=\"stroke:#222255; stroke-linecap:butt; stroke-linejoin:round; stroke-width:4; stroke-opacity:0; fill:none\" points=\"\n",
       "  199.283,222.527 208.732,222.527 \n",
       "  \"/>\n",
       "<polyline clip-path=\"url(#clip660)\" style=\"stroke:#222255; stroke-linecap:butt; stroke-linejoin:round; stroke-width:4; stroke-opacity:0; fill:none\" points=\"\n",
       "  199.283,154.572 208.732,154.572 \n",
       "  \"/>\n",
       "<path clip-path=\"url(#clip660)\" d=\"M151.339 1431.51 Q147.728 1431.51 145.899 1435.08 Q144.093 1438.62 144.093 1445.75 Q144.093 1452.86 145.899 1456.42 Q147.728 1459.96 151.339 1459.96 Q154.973 1459.96 156.779 1456.42 Q158.607 1452.86 158.607 1445.75 Q158.607 1438.62 156.779 1435.08 Q154.973 1431.51 151.339 1431.51 M151.339 1427.81 Q157.149 1427.81 160.205 1432.42 Q163.283 1437 163.283 1445.75 Q163.283 1454.48 160.205 1459.08 Q157.149 1463.67 151.339 1463.67 Q145.529 1463.67 142.45 1459.08 Q139.394 1454.48 139.394 1445.75 Q139.394 1437 142.45 1432.42 Q145.529 1427.81 151.339 1427.81 Z\" fill=\"#000000\" fill-rule=\"evenodd\" fill-opacity=\"1\" /><path clip-path=\"url(#clip660)\" d=\"M85.0429 1119.29 L101.362 1119.29 L101.362 1123.22 L79.4179 1123.22 L79.4179 1119.29 Q82.0799 1116.53 86.6632 1111.9 Q91.2697 1107.25 92.4502 1105.91 Q94.6956 1103.38 95.5752 1101.65 Q96.478 1099.89 96.478 1098.2 Q96.478 1095.44 94.5336 1093.71 Q92.6123 1091.97 89.5104 1091.97 Q87.3114 1091.97 84.8577 1092.74 Q82.4271 1093.5 79.6494 1095.05 L79.6494 1090.33 Q82.4734 1089.19 84.9271 1088.61 Q87.3808 1088.04 89.4178 1088.04 Q94.7882 1088.04 97.9826 1090.72 Q101.177 1093.41 101.177 1097.9 Q101.177 1100.03 100.367 1101.95 Q99.5798 1103.85 97.4734 1106.44 Q96.8947 1107.11 93.7928 1110.33 Q90.691 1113.52 85.0429 1119.29 Z\" fill=\"#000000\" fill-rule=\"evenodd\" fill-opacity=\"1\" /><path clip-path=\"url(#clip660)\" d=\"M111.223 1088.66 L129.58 1088.66 L129.58 1092.6 L115.506 1092.6 L115.506 1101.07 Q116.524 1100.72 117.543 1100.56 Q118.561 1100.37 119.58 1100.37 Q125.367 1100.37 128.746 1103.55 Q132.126 1106.72 132.126 1112.13 Q132.126 1117.71 128.654 1120.81 Q125.182 1123.89 118.862 1123.89 Q116.686 1123.89 114.418 1123.52 Q112.172 1123.15 109.765 1122.41 L109.765 1117.71 Q111.848 1118.85 114.07 1119.4 Q116.293 1119.96 118.77 1119.96 Q122.774 1119.96 125.112 1117.85 Q127.45 1115.74 127.45 1112.13 Q127.45 1108.52 125.112 1106.42 Q122.774 1104.31 118.77 1104.31 Q116.895 1104.31 115.02 1104.73 Q113.168 1105.14 111.223 1106.02 L111.223 1088.66 Z\" fill=\"#000000\" fill-rule=\"evenodd\" fill-opacity=\"1\" /><path clip-path=\"url(#clip660)\" d=\"M151.339 1091.74 Q147.728 1091.74 145.899 1095.3 Q144.093 1098.85 144.093 1105.98 Q144.093 1113.08 145.899 1116.65 Q147.728 1120.19 151.339 1120.19 Q154.973 1120.19 156.779 1116.65 Q158.607 1113.08 158.607 1105.98 Q158.607 1098.85 156.779 1095.3 Q154.973 1091.74 151.339 1091.74 M151.339 1088.04 Q157.149 1088.04 160.205 1092.64 Q163.283 1097.23 163.283 1105.98 Q163.283 1114.7 160.205 1119.31 Q157.149 1123.89 151.339 1123.89 Q145.529 1123.89 142.45 1119.31 Q139.394 1114.7 139.394 1105.98 Q139.394 1097.23 142.45 1092.64 Q145.529 1088.04 151.339 1088.04 Z\" fill=\"#000000\" fill-rule=\"evenodd\" fill-opacity=\"1\" /><path clip-path=\"url(#clip660)\" d=\"M81.0614 748.886 L99.4178 748.886 L99.4178 752.822 L85.3438 752.822 L85.3438 761.294 Q86.3623 760.947 87.3808 760.785 Q88.3993 760.599 89.4178 760.599 Q95.2049 760.599 98.5845 763.771 Q101.964 766.942 101.964 772.359 Q101.964 777.937 98.4919 781.039 Q95.0197 784.118 88.7003 784.118 Q86.5243 784.118 84.2558 783.747 Q82.0105 783.377 79.6031 782.636 L79.6031 777.937 Q81.6864 779.071 83.9086 779.627 Q86.1308 780.183 88.6077 780.183 Q92.6123 780.183 94.9502 778.076 Q97.2882 775.97 97.2882 772.359 Q97.2882 768.747 94.9502 766.641 Q92.6123 764.534 88.6077 764.534 Q86.7327 764.534 84.8577 764.951 Q83.0058 765.368 81.0614 766.247 L81.0614 748.886 Z\" fill=\"#000000\" fill-rule=\"evenodd\" fill-opacity=\"1\" /><path clip-path=\"url(#clip660)\" d=\"M121.177 751.965 Q117.566 751.965 115.737 755.53 Q113.932 759.072 113.932 766.201 Q113.932 773.308 115.737 776.872 Q117.566 780.414 121.177 780.414 Q124.811 780.414 126.617 776.872 Q128.445 773.308 128.445 766.201 Q128.445 759.072 126.617 755.53 Q124.811 751.965 121.177 751.965 M121.177 748.261 Q126.987 748.261 130.043 752.868 Q133.121 757.451 133.121 766.201 Q133.121 774.928 130.043 779.534 Q126.987 784.118 121.177 784.118 Q115.367 784.118 112.288 779.534 Q109.233 774.928 109.233 766.201 Q109.233 757.451 112.288 752.868 Q115.367 748.261 121.177 748.261 Z\" fill=\"#000000\" fill-rule=\"evenodd\" fill-opacity=\"1\" /><path clip-path=\"url(#clip660)\" d=\"M151.339 751.965 Q147.728 751.965 145.899 755.53 Q144.093 759.072 144.093 766.201 Q144.093 773.308 145.899 776.872 Q147.728 780.414 151.339 780.414 Q154.973 780.414 156.779 776.872 Q158.607 773.308 158.607 766.201 Q158.607 759.072 156.779 755.53 Q154.973 751.965 151.339 751.965 M151.339 748.261 Q157.149 748.261 160.205 752.868 Q163.283 757.451 163.283 766.201 Q163.283 774.928 160.205 779.534 Q157.149 784.118 151.339 784.118 Q145.529 784.118 142.45 779.534 Q139.394 774.928 139.394 766.201 Q139.394 757.451 142.45 752.868 Q145.529 748.261 151.339 748.261 Z\" fill=\"#000000\" fill-rule=\"evenodd\" fill-opacity=\"1\" /><path clip-path=\"url(#clip660)\" d=\"M79.8346 409.112 L102.057 409.112 L102.057 411.103 L89.5104 443.672 L84.6262 443.672 L96.4317 413.047 L79.8346 413.047 L79.8346 409.112 Z\" fill=\"#000000\" fill-rule=\"evenodd\" fill-opacity=\"1\" /><path clip-path=\"url(#clip660)\" d=\"M111.223 409.112 L129.58 409.112 L129.58 413.047 L115.506 413.047 L115.506 421.519 Q116.524 421.172 117.543 421.01 Q118.561 420.825 119.58 420.825 Q125.367 420.825 128.746 423.996 Q132.126 427.167 132.126 432.584 Q132.126 438.163 128.654 441.264 Q125.182 444.343 118.862 444.343 Q116.686 444.343 114.418 443.973 Q112.172 443.602 109.765 442.862 L109.765 438.163 Q111.848 439.297 114.07 439.852 Q116.293 440.408 118.77 440.408 Q122.774 440.408 125.112 438.301 Q127.45 436.195 127.45 432.584 Q127.45 428.973 125.112 426.866 Q122.774 424.76 118.77 424.76 Q116.895 424.76 115.02 425.177 Q113.168 425.593 111.223 426.473 L111.223 409.112 Z\" fill=\"#000000\" fill-rule=\"evenodd\" fill-opacity=\"1\" /><path clip-path=\"url(#clip660)\" d=\"M151.339 412.19 Q147.728 412.19 145.899 415.755 Q144.093 419.297 144.093 426.427 Q144.093 433.533 145.899 437.098 Q147.728 440.639 151.339 440.639 Q154.973 440.639 156.779 437.098 Q158.607 433.533 158.607 426.427 Q158.607 419.297 156.779 415.755 Q154.973 412.19 151.339 412.19 M151.339 408.487 Q157.149 408.487 160.205 413.093 Q163.283 417.677 163.283 426.427 Q163.283 435.153 160.205 439.76 Q157.149 444.343 151.339 444.343 Q145.529 444.343 142.45 439.76 Q139.394 435.153 139.394 426.427 Q139.394 417.677 142.45 413.093 Q145.529 408.487 151.339 408.487 Z\" fill=\"#000000\" fill-rule=\"evenodd\" fill-opacity=\"1\" /><path clip-path=\"url(#clip660)\" d=\"M51.6634 99.962 L59.3023 99.962 L59.3023 73.5964 L50.9921 75.2631 L50.9921 71.0038 L59.256 69.3372 L63.9319 69.3372 L63.9319 99.962 L71.5707 99.962 L71.5707 103.897 L51.6634 103.897 L51.6634 99.962 Z\" fill=\"#000000\" fill-rule=\"evenodd\" fill-opacity=\"1\" /><path clip-path=\"url(#clip660)\" d=\"M91.0151 72.4159 Q87.404 72.4159 85.5753 75.9807 Q83.7697 79.5223 83.7697 86.6519 Q83.7697 93.7583 85.5753 97.3231 Q87.404 100.865 91.0151 100.865 Q94.6493 100.865 96.4548 97.3231 Q98.2835 93.7583 98.2835 86.6519 Q98.2835 79.5223 96.4548 75.9807 Q94.6493 72.4159 91.0151 72.4159 M91.0151 68.7122 Q96.8252 68.7122 99.8808 73.3186 Q102.959 77.9019 102.959 86.6519 Q102.959 95.3787 99.8808 99.9852 Q96.8252 104.568 91.0151 104.568 Q85.2049 104.568 82.1262 99.9852 Q79.0707 95.3787 79.0707 86.6519 Q79.0707 77.9019 82.1262 73.3186 Q85.2049 68.7122 91.0151 68.7122 Z\" fill=\"#000000\" fill-rule=\"evenodd\" fill-opacity=\"1\" /><path clip-path=\"url(#clip660)\" d=\"M121.177 72.4159 Q117.566 72.4159 115.737 75.9807 Q113.932 79.5223 113.932 86.6519 Q113.932 93.7583 115.737 97.3231 Q117.566 100.865 121.177 100.865 Q124.811 100.865 126.617 97.3231 Q128.445 93.7583 128.445 86.6519 Q128.445 79.5223 126.617 75.9807 Q124.811 72.4159 121.177 72.4159 M121.177 68.7122 Q126.987 68.7122 130.043 73.3186 Q133.121 77.9019 133.121 86.6519 Q133.121 95.3787 130.043 99.9852 Q126.987 104.568 121.177 104.568 Q115.367 104.568 112.288 99.9852 Q109.233 95.3787 109.233 86.6519 Q109.233 77.9019 112.288 73.3186 Q115.367 68.7122 121.177 68.7122 Z\" fill=\"#000000\" fill-rule=\"evenodd\" fill-opacity=\"1\" /><path clip-path=\"url(#clip660)\" d=\"M151.339 72.4159 Q147.728 72.4159 145.899 75.9807 Q144.093 79.5223 144.093 86.6519 Q144.093 93.7583 145.899 97.3231 Q147.728 100.865 151.339 100.865 Q154.973 100.865 156.779 97.3231 Q158.607 93.7583 158.607 86.6519 Q158.607 79.5223 156.779 75.9807 Q154.973 72.4159 151.339 72.4159 M151.339 68.7122 Q157.149 68.7122 160.205 73.3186 Q163.283 77.9019 163.283 86.6519 Q163.283 95.3787 160.205 99.9852 Q157.149 104.568 151.339 104.568 Q145.529 104.568 142.45 99.9852 Q139.394 95.3787 139.394 86.6519 Q139.394 77.9019 142.45 73.3186 Q145.529 68.7122 151.339 68.7122 Z\" fill=\"#000000\" fill-rule=\"evenodd\" fill-opacity=\"1\" /><polyline clip-path=\"url(#clip662)\" style=\"stroke:#ee7733; stroke-linecap:butt; stroke-linejoin:round; stroke-width:4.8; stroke-opacity:1; fill:none\" points=\"\n",
       "  260.231,87.9763 270.388,89.3354 280.546,89.3354 290.704,89.3354 300.862,89.3354 311.02,89.3354 321.178,89.3354 331.336,89.3354 341.494,89.3354 351.652,89.3354 \n",
       "  361.809,89.3354 371.967,89.3354 382.125,89.3354 392.283,89.3354 402.441,89.3354 412.599,89.3354 422.757,89.3354 432.915,89.3354 443.073,89.3354 453.23,89.3354 \n",
       "  463.388,89.3354 473.546,89.3354 483.704,89.3354 493.862,90.6945 504.02,90.6945 514.178,90.6945 524.336,92.0536 534.494,92.0536 544.651,92.0536 554.809,92.0536 \n",
       "  564.967,93.4127 575.125,94.7718 585.283,96.1309 595.441,97.49 605.599,97.49 615.757,97.49 625.915,100.208 636.072,101.567 646.23,101.567 656.388,104.285 \n",
       "  666.546,105.645 676.704,108.363 686.862,113.799 697.02,117.876 707.178,120.595 717.336,127.39 727.493,134.186 737.651,138.263 747.809,145.058 757.967,147.777 \n",
       "  768.125,155.931 778.283,155.931 788.441,164.086 798.599,172.24 808.757,183.113 818.914,188.55 829.072,193.986 839.23,206.218 849.388,217.091 859.546,233.4 \n",
       "  869.704,251.068 879.862,266.018 890.02,285.046 900.178,297.277 910.336,313.587 920.493,339.41 930.651,358.437 940.809,374.746 950.967,397.851 961.125,414.16 \n",
       "  971.283,437.265 981.441,463.087 991.599,476.678 1001.76,509.297 1011.91,535.12 1022.07,562.302 1032.23,582.688 1042.39,608.511 1052.55,630.257 1062.7,653.361 \n",
       "  1072.86,677.825 1083.02,710.443 1093.18,748.498 1103.34,783.835 1113.49,806.939 1123.65,838.199 1133.81,873.535 1143.97,903.435 1154.12,923.822 1164.28,963.236 \n",
       "  1174.44,995.854 1184.6,1017.6 1194.76,1037.99 1204.91,1048.86 1215.07,1069.25 1225.23,1101.86 1235.39,1129.05 1245.55,1163.02 1255.7,1184.77 1265.86,1203.8 \n",
       "  1276.02,1220.11 1286.18,1236.41 1296.34,1258.16 1306.49,1269.03 1316.65,1273.11 1326.81,1282.62 1336.97,1286.7 1347.12,1294.86 1357.28,1303.01 1367.44,1312.52 \n",
       "  1377.6,1319.32 1387.76,1328.83 1397.91,1334.27 1408.07,1339.71 1418.23,1345.14 1428.39,1354.66 1438.55,1361.45 1448.7,1361.45 1458.86,1368.25 1469.02,1373.68 \n",
       "  1479.18,1379.12 1489.34,1384.56 1499.49,1391.35 1509.65,1402.22 1519.81,1404.94 1529.97,1407.66 1540.12,1409.02 1550.28,1411.74 1560.44,1414.46 1570.6,1417.17 \n",
       "  1580.76,1417.17 1590.91,1417.17 1601.07,1418.53 1611.23,1418.53 1621.39,1419.89 1631.55,1422.61 1641.7,1423.97 1651.86,1425.33 1662.02,1425.33 1672.18,1428.05 \n",
       "  1682.34,1428.05 1692.49,1429.41 1702.65,1429.41 1712.81,1430.77 1722.97,1432.12 1733.12,1433.48 1743.28,1433.48 1753.44,1433.48 1763.6,1436.2 1773.76,1436.2 \n",
       "  1783.91,1436.2 1794.07,1436.2 1804.23,1436.2 1814.39,1436.2 1824.55,1436.2 1834.7,1437.56 1844.86,1437.56 1855.02,1437.56 1865.18,1437.56 1875.34,1437.56 \n",
       "  1885.49,1437.56 1895.65,1437.56 1905.81,1437.56 1915.97,1437.56 1926.12,1437.56 1936.28,1437.56 1946.44,1437.56 1956.6,1440.28 1966.76,1440.28 1976.91,1440.28 \n",
       "  1987.07,1440.28 1997.23,1440.28 2007.39,1440.28 2017.55,1440.28 2027.7,1440.28 2037.86,1440.28 2048.02,1441.64 2058.18,1441.64 2068.33,1443 2078.49,1443 \n",
       "  2088.65,1443 2098.81,1443 2108.97,1443 2119.12,1443 2129.28,1443 2139.44,1443 2149.6,1443 2159.76,1443 2169.91,1443 2180.07,1443 \n",
       "  2190.23,1443 2200.39,1443 2210.55,1444.36 2220.7,1444.36 2230.86,1444.36 2241.02,1444.36 2251.18,1444.36 2261.33,1444.36 2271.49,1444.36 2281.65,1444.36 \n",
       "  2291.81,1444.36 \n",
       "  \"/>\n",
       "<polyline clip-path=\"url(#clip662)\" style=\"stroke:#0077bb; stroke-linecap:butt; stroke-linejoin:round; stroke-width:4.8; stroke-opacity:1; fill:none\" points=\"\n",
       "  260.231,1444.36 270.388,1443 280.546,1443 290.704,1443 300.862,1443 311.02,1443 321.178,1443 331.336,1443 341.494,1443 351.652,1443 \n",
       "  361.809,1443 371.967,1443 382.125,1443 392.283,1443 402.441,1443 412.599,1443 422.757,1443 432.915,1443 443.073,1443 453.23,1443 \n",
       "  463.388,1443 473.546,1443 483.704,1443 493.862,1441.64 504.02,1441.64 514.178,1441.64 524.336,1440.28 534.494,1440.28 544.651,1440.28 554.809,1440.28 \n",
       "  564.967,1438.92 575.125,1437.56 585.283,1436.2 595.441,1436.2 605.599,1436.2 615.757,1436.2 625.915,1434.84 636.072,1433.48 646.23,1433.48 656.388,1430.77 \n",
       "  666.546,1430.77 676.704,1428.05 686.862,1422.61 697.02,1418.53 707.178,1415.82 717.336,1409.02 727.493,1402.22 737.651,1398.15 747.809,1391.35 757.967,1388.63 \n",
       "  768.125,1380.48 778.283,1381.84 788.441,1373.68 798.599,1366.89 808.757,1357.37 818.914,1351.94 829.072,1347.86 839.23,1336.99 849.388,1328.83 859.546,1313.88 \n",
       "  869.704,1297.57 879.862,1285.34 890.02,1266.31 900.178,1258.16 910.336,1245.93 920.493,1222.82 930.651,1205.16 940.809,1192.92 950.967,1173.9 961.125,1157.59 \n",
       "  971.283,1138.56 981.441,1112.74 991.599,1101.86 1001.76,1073.32 1011.91,1047.5 1022.07,1025.75 1032.23,1006.73 1042.39,984.981 1052.55,965.954 1062.7,948.286 \n",
       "  1072.86,931.976 1083.02,902.076 1093.18,870.817 1103.34,836.84 1113.49,819.171 1123.65,794.708 1133.81,763.448 1143.97,741.703 1154.12,728.112 1164.28,695.493 \n",
       "  1174.44,671.03 1184.6,661.516 1194.76,647.925 1204.91,645.207 1215.07,632.975 1225.23,605.793 1235.39,581.329 1245.55,558.224 1255.7,547.352 1265.86,535.12 \n",
       "  1276.02,528.324 1286.18,524.247 1296.34,512.015 1306.49,513.374 1316.65,517.451 1326.81,520.17 1336.97,524.247 1347.12,531.042 1357.28,532.401 1367.44,531.042 \n",
       "  1377.6,535.12 1387.76,537.838 1397.91,539.197 1408.07,544.633 1418.23,551.429 1428.39,547.352 1438.55,545.992 1448.7,555.506 1458.86,559.583 1469.02,562.302 \n",
       "  1479.18,569.097 1489.34,578.611 1499.49,585.406 1509.65,582.688 1519.81,589.484 1529.97,594.92 1540.12,597.638 1550.28,601.716 1560.44,608.511 1570.6,612.588 \n",
       "  1580.76,619.384 1590.91,627.538 1601.07,635.693 1611.23,642.488 1621.39,650.643 1631.55,657.439 1641.7,660.157 1651.86,669.67 1662.02,680.543 1672.18,688.698 \n",
       "  1682.34,698.212 1692.49,700.93 1702.65,711.802 1712.81,718.598 1722.97,724.034 1733.12,732.189 1743.28,736.266 1753.44,743.062 1763.6,747.139 1773.76,751.216 \n",
       "  1783.91,753.935 1794.07,763.448 1804.23,767.526 1814.39,772.962 1824.55,779.757 1834.7,785.194 1844.86,790.63 1855.02,794.708 1865.18,805.58 1875.34,812.376 \n",
       "  1885.49,823.249 1895.65,830.044 1905.81,832.762 1915.97,838.199 1926.12,838.199 1936.28,844.994 1946.44,851.79 1956.6,858.585 1966.76,859.944 1976.91,865.381 \n",
       "  1987.07,870.817 1997.23,880.331 2007.39,885.767 2017.55,891.203 2027.7,899.358 2037.86,902.076 2048.02,907.513 2058.18,911.59 2068.33,919.745 2078.49,929.258 \n",
       "  2088.65,933.336 2098.81,942.849 2108.97,948.286 2119.12,949.645 2129.28,957.799 2139.44,963.236 2149.6,967.313 2159.76,967.313 2169.91,975.468 2180.07,975.468 \n",
       "  2190.23,979.545 2200.39,982.263 2210.55,983.622 2220.7,990.418 2230.86,995.854 2241.02,999.931 2251.18,1004.01 2261.33,1010.8 2271.49,1016.24 2281.65,1018.96 \n",
       "  2291.81,1023.04 \n",
       "  \"/>\n",
       "<polyline clip-path=\"url(#clip662)\" style=\"stroke:#33bbee; stroke-linecap:butt; stroke-linejoin:round; stroke-width:4.8; stroke-opacity:1; fill:none\" points=\"\n",
       "  260.231,1445.72 270.388,1445.72 280.546,1445.72 290.704,1445.72 300.862,1445.72 311.02,1445.72 321.178,1445.72 331.336,1445.72 341.494,1445.72 351.652,1445.72 \n",
       "  361.809,1445.72 371.967,1445.72 382.125,1445.72 392.283,1445.72 402.441,1445.72 412.599,1445.72 422.757,1445.72 432.915,1445.72 443.073,1445.72 453.23,1445.72 \n",
       "  463.388,1445.72 473.546,1445.72 483.704,1445.72 493.862,1445.72 504.02,1445.72 514.178,1445.72 524.336,1445.72 534.494,1445.72 544.651,1445.72 554.809,1445.72 \n",
       "  564.967,1445.72 575.125,1445.72 585.283,1445.72 595.441,1444.36 605.599,1444.36 615.757,1444.36 625.915,1443 636.072,1443 646.23,1443 656.388,1443 \n",
       "  666.546,1441.64 676.704,1441.64 686.862,1441.64 697.02,1441.64 707.178,1441.64 717.336,1441.64 727.493,1441.64 737.651,1441.64 747.809,1441.64 757.967,1441.64 \n",
       "  768.125,1441.64 778.283,1440.28 788.441,1440.28 798.599,1438.92 808.757,1437.56 818.914,1437.56 829.072,1436.2 839.23,1434.84 849.388,1432.12 859.546,1430.77 \n",
       "  869.704,1429.41 879.862,1426.69 890.02,1426.69 900.178,1422.61 910.336,1418.53 920.493,1415.82 930.651,1414.46 940.809,1410.38 950.967,1406.3 961.125,1406.3 \n",
       "  971.283,1402.22 981.441,1402.22 991.599,1399.51 1001.76,1395.43 1011.91,1395.43 1022.07,1389.99 1032.23,1388.63 1042.39,1384.56 1052.55,1381.84 1062.7,1376.4 \n",
       "  1072.86,1368.25 1083.02,1365.53 1093.18,1358.73 1103.34,1357.37 1113.49,1351.94 1123.65,1345.14 1133.81,1341.07 1143.97,1332.91 1154.12,1326.12 1164.28,1319.32 \n",
       "  1174.44,1311.16 1184.6,1298.93 1194.76,1292.14 1204.91,1283.98 1215.07,1275.83 1225.23,1270.39 1235.39,1267.67 1245.55,1256.8 1255.7,1245.93 1265.86,1239.13 \n",
       "  1276.02,1229.62 1286.18,1217.39 1296.34,1207.87 1306.49,1195.64 1316.65,1187.49 1326.81,1175.26 1336.97,1167.1 1347.12,1152.15 1357.28,1142.64 1367.44,1134.48 \n",
       "  1377.6,1123.61 1387.76,1111.38 1397.91,1104.58 1408.07,1093.71 1418.23,1081.48 1428.39,1076.04 1438.55,1070.6 1448.7,1061.09 1458.86,1050.22 1469.02,1042.06 \n",
       "  1479.18,1029.83 1489.34,1014.88 1499.49,1001.29 1509.65,993.136 1519.81,983.622 1529.97,975.468 1540.12,971.39 1550.28,964.595 1560.44,955.081 1570.6,948.286 \n",
       "  1580.76,941.49 1590.91,933.336 1601.07,923.822 1611.23,917.026 1621.39,907.513 1631.55,897.999 1641.7,893.922 1651.86,883.049 1662.02,872.176 1672.18,861.303 \n",
       "  1682.34,851.79 1692.49,847.712 1702.65,836.84 1712.81,828.685 1722.97,821.889 1733.12,812.376 1743.28,808.298 1753.44,801.503 1763.6,794.708 1773.76,790.63 \n",
       "  1783.91,787.912 1794.07,778.398 1804.23,774.321 1814.39,768.885 1824.55,762.089 1834.7,755.294 1844.86,749.857 1855.02,745.78 1865.18,734.907 1875.34,728.112 \n",
       "  1885.49,717.239 1895.65,710.443 1905.81,707.725 1915.97,702.289 1926.12,702.289 1936.28,695.493 1946.44,688.698 1956.6,679.184 1966.76,677.825 1976.91,672.389 \n",
       "  1987.07,666.952 1997.23,657.439 2007.39,652.002 2017.55,646.566 2027.7,638.411 2037.86,635.693 2048.02,628.897 2058.18,624.82 2068.33,615.307 2078.49,605.793 \n",
       "  2088.65,601.716 2098.81,592.202 2108.97,586.765 2119.12,585.406 2129.28,577.252 2139.44,571.815 2149.6,567.738 2159.76,567.738 2169.91,559.583 2180.07,559.583 \n",
       "  2190.23,555.506 2200.39,552.788 2210.55,550.07 2220.7,543.274 2230.86,537.838 2241.02,533.761 2251.18,529.683 2261.33,522.888 2271.49,517.451 2281.65,514.733 \n",
       "  2291.81,510.656 \n",
       "  \"/>\n",
       "<path clip-path=\"url(#clip660)\" d=\"\n",
       "M1988.69 302.578 L2280.97 302.578 L2280.97 95.2176 L1988.69 95.2176  Z\n",
       "  \" fill=\"#ffffff\" fill-rule=\"evenodd\" fill-opacity=\"0.9\"/>\n",
       "<polyline clip-path=\"url(#clip660)\" style=\"stroke:#222255; stroke-linecap:butt; stroke-linejoin:round; stroke-width:4; stroke-opacity:0.1; fill:none\" points=\"\n",
       "  1988.69,302.578 2280.97,302.578 2280.97,95.2176 1988.69,95.2176 1988.69,302.578 \n",
       "  \"/>\n",
       "<polyline clip-path=\"url(#clip660)\" style=\"stroke:#ee7733; stroke-linecap:butt; stroke-linejoin:round; stroke-width:4; stroke-opacity:1; fill:none\" points=\"\n",
       "  2012.62,147.058 2156.18,147.058 \n",
       "  \"/>\n",
       "<path clip-path=\"url(#clip660)\" d=\"M2193.95 166.745 Q2192.15 171.375 2190.43 172.787 Q2188.72 174.199 2185.85 174.199 L2182.45 174.199 L2182.45 170.634 L2184.95 170.634 Q2186.71 170.634 2187.68 169.8 Q2188.65 168.967 2189.83 165.865 L2190.6 163.921 L2180.11 138.412 L2184.62 138.412 L2192.73 158.689 L2200.83 138.412 L2205.34 138.412 L2193.95 166.745 Z\" fill=\"#000000\" fill-rule=\"evenodd\" fill-opacity=\"1\" /><path clip-path=\"url(#clip660)\" d=\"M2212.63 160.402 L2220.27 160.402 L2220.27 134.037 L2211.96 135.703 L2211.96 131.444 L2220.23 129.778 L2224.9 129.778 L2224.9 160.402 L2232.54 160.402 L2232.54 164.338 L2212.63 164.338 L2212.63 160.402 Z\" fill=\"#000000\" fill-rule=\"evenodd\" fill-opacity=\"1\" /><polyline clip-path=\"url(#clip660)\" style=\"stroke:#0077bb; stroke-linecap:butt; stroke-linejoin:round; stroke-width:4; stroke-opacity:1; fill:none\" points=\"\n",
       "  2012.62,198.898 2156.18,198.898 \n",
       "  \"/>\n",
       "<path clip-path=\"url(#clip660)\" d=\"M2193.95 218.585 Q2192.15 223.215 2190.43 224.627 Q2188.72 226.039 2185.85 226.039 L2182.45 226.039 L2182.45 222.474 L2184.95 222.474 Q2186.71 222.474 2187.68 221.64 Q2188.65 220.807 2189.83 217.705 L2190.6 215.761 L2180.11 190.252 L2184.62 190.252 L2192.73 210.529 L2200.83 190.252 L2205.34 190.252 L2193.95 218.585 Z\" fill=\"#000000\" fill-rule=\"evenodd\" fill-opacity=\"1\" /><path clip-path=\"url(#clip660)\" d=\"M2215.85 212.242 L2232.17 212.242 L2232.17 216.178 L2210.23 216.178 L2210.23 212.242 Q2212.89 209.488 2217.47 204.858 Q2222.08 200.205 2223.26 198.863 Q2225.5 196.34 2226.38 194.604 Q2227.29 192.844 2227.29 191.155 Q2227.29 188.4 2225.34 186.664 Q2223.42 184.928 2220.32 184.928 Q2218.12 184.928 2215.66 185.692 Q2213.23 186.455 2210.46 188.006 L2210.46 183.284 Q2213.28 182.15 2215.73 181.571 Q2218.19 180.993 2220.23 180.993 Q2225.6 180.993 2228.79 183.678 Q2231.98 186.363 2231.98 190.854 Q2231.98 192.983 2231.17 194.905 Q2230.39 196.803 2228.28 199.395 Q2227.7 200.067 2224.6 203.284 Q2221.5 206.479 2215.85 212.242 Z\" fill=\"#000000\" fill-rule=\"evenodd\" fill-opacity=\"1\" /><polyline clip-path=\"url(#clip660)\" style=\"stroke:#33bbee; stroke-linecap:butt; stroke-linejoin:round; stroke-width:4; stroke-opacity:1; fill:none\" points=\"\n",
       "  2012.62,250.738 2156.18,250.738 \n",
       "  \"/>\n",
       "<path clip-path=\"url(#clip660)\" d=\"M2193.95 270.425 Q2192.15 275.055 2190.43 276.467 Q2188.72 277.879 2185.85 277.879 L2182.45 277.879 L2182.45 274.314 L2184.95 274.314 Q2186.71 274.314 2187.68 273.48 Q2188.65 272.647 2189.83 269.545 L2190.6 267.601 L2180.11 242.092 L2184.62 242.092 L2192.73 262.369 L2200.83 242.092 L2205.34 242.092 L2193.95 270.425 Z\" fill=\"#000000\" fill-rule=\"evenodd\" fill-opacity=\"1\" /><path clip-path=\"url(#clip660)\" d=\"M2225.99 249.383 Q2229.35 250.101 2231.22 252.369 Q2233.12 254.638 2233.12 257.971 Q2233.12 263.087 2229.6 265.888 Q2226.08 268.689 2219.6 268.689 Q2217.42 268.689 2215.11 268.249 Q2212.82 267.832 2210.36 266.976 L2210.36 262.462 Q2212.31 263.596 2214.62 264.175 Q2216.94 264.754 2219.46 264.754 Q2223.86 264.754 2226.15 263.018 Q2228.47 261.281 2228.47 257.971 Q2228.47 254.916 2226.31 253.203 Q2224.18 251.467 2220.36 251.467 L2216.34 251.467 L2216.34 247.624 L2220.55 247.624 Q2224 247.624 2225.83 246.258 Q2227.66 244.87 2227.66 242.277 Q2227.66 239.615 2225.76 238.203 Q2223.88 236.768 2220.36 236.768 Q2218.44 236.768 2216.24 237.184 Q2214.04 237.601 2211.41 238.481 L2211.41 234.314 Q2214.07 233.573 2216.38 233.203 Q2218.72 232.833 2220.78 232.833 Q2226.1 232.833 2229.21 235.263 Q2232.31 237.67 2232.31 241.791 Q2232.31 244.661 2230.66 246.652 Q2229.02 248.62 2225.99 249.383 Z\" fill=\"#000000\" fill-rule=\"evenodd\" fill-opacity=\"1\" /></svg>\n"
      ],
      "image/png": "[encoded data removed]"
     },
     "metadata": {},
     "output_type": "display_data"
    }
   ],
   "metadata": {}
  },
  {
   "cell_type": "code",
   "execution_count": 41,
   "source": [],
   "outputs": [],
   "metadata": {}
  }
 ],
 "metadata": {
  "orig_nbformat": 4,
  "language_info": {
   "file_extension": ".jl",
   "name": "julia",
   "mimetype": "application/julia",
   "version": "1.6.2"
  },
  "kernelspec": {
   "name": "julia-1.6",
   "display_name": "Julia 1.6.2",
   "language": "julia"
  }
 },
 "nbformat": 4,
 "nbformat_minor": 2
}