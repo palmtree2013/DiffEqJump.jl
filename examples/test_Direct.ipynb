{
 "cells": [
  {
   "cell_type": "code",
   "execution_count": 1,
   "source": [
    "abstract type AbstractJumpAggregator end\r\n",
    "abstract type AbstractJump end\r\n",
    "abstract type AbstractSSAJumpAggregator <: AbstractJumpAggregator end\r\n",
    "mutable struct DirectJumpAggregation{T,S,F1,F2,RNG} <: AbstractSSAJumpAggregator\r\n",
    "  next_jump::Int\r\n",
    "  prev_jump::Int\r\n",
    "  next_jump_time::T\r\n",
    "  end_time::T\r\n",
    "  cur_rates::Vector{T}\r\n",
    "  sum_rate::T\r\n",
    "  ma_jumps::S\r\n",
    "  rates::F1\r\n",
    "  affects!::F2\r\n",
    "  save_positions::Tuple{Bool,Bool}\r\n",
    "  rng::RNG\r\n",
    "end\r\n",
    "DirectJumpAggregation(nj::Int, njt::T, et::T, crs::Vector{T}, sr::T, maj::S, rs::F1, affs!::F2, sps::Tuple{Bool,Bool}, rng::RNG; kwargs...) where {T,S,F1,F2,RNG} =\r\n",
    "  DirectJumpAggregation{T,S,F1,F2,RNG}(nj, nj, njt, et, crs, sr, maj, rs, affs!, sps, rng)"
   ],
   "outputs": [
    {
     "output_type": "display_data",
     "data": {
      "text/plain": [
       "DirectJumpAggregation"
      ]
     },
     "metadata": {}
    }
   ],
   "metadata": {}
  },
  {
   "cell_type": "code",
   "execution_count": 2,
   "source": [
    "abstract type AbstractAggregatorAlgorithm end\r\n",
    "struct Direct <: AbstractAggregatorAlgorithm end"
   ],
   "outputs": [],
   "metadata": {}
  },
  {
   "cell_type": "code",
   "execution_count": 3,
   "source": [
    "using UnPack, StaticArrays\r\n",
    "using Random"
   ],
   "outputs": [],
   "metadata": {}
  },
  {
   "cell_type": "code",
   "execution_count": 4,
   "source": [
    "# creating the JumpAggregation structure (tuple-based constant jumps)\r\n",
    "function aggregate(aggregator::Direct, u, p, t, end_time, constant_jumps,\r\n",
    "    ma_jumps, save_positions, rng; kwargs...)\r\n",
    "\r\n",
    "    # handle constant jumps using tuples\r\n",
    "    rates, affects! = get_jump_info_tuples(constant_jumps)\r\n",
    "\r\n",
    "    build_jump_aggregation(DirectJumpAggregation, u, p, t, end_time, ma_jumps,\r\n",
    "            rates, affects!, save_positions, rng; kwargs...)\r\n",
    "end"
   ],
   "outputs": [
    {
     "output_type": "display_data",
     "data": {
      "text/plain": [
       "aggregate (generic function with 1 method)"
      ]
     },
     "metadata": {}
    }
   ],
   "metadata": {}
  },
  {
   "cell_type": "code",
   "execution_count": 5,
   "source": [
    "function get_jump_info_tuples(constant_jumps)\r\n",
    "    if (constant_jumps !== nothing) && !isempty(constant_jumps)\r\n",
    "      rates    = ((c.rate for c in constant_jumps)...,)\r\n",
    "      affects! = ((c.affect! for c in constant_jumps)...,)\r\n",
    "    else\r\n",
    "      rates    = ()\r\n",
    "      affects! = ()\r\n",
    "    end\r\n",
    "  \r\n",
    "    rates, affects!\r\n",
    "  end"
   ],
   "outputs": [
    {
     "output_type": "display_data",
     "data": {
      "text/plain": [
       "get_jump_info_tuples (generic function with 1 method)"
      ]
     },
     "metadata": {}
    }
   ],
   "metadata": {}
  },
  {
   "cell_type": "code",
   "execution_count": 6,
   "source": [
    "function build_jump_aggregation(jump_agg_type, u, p, t, end_time, ma_jumps, rates,\r\n",
    "    affects!, save_positions, rng; kwargs...)\r\n",
    "\r\n",
    "    # mass action jumps\r\n",
    "    majumps = ma_jumps\r\n",
    "    if majumps === nothing\r\n",
    "        majumps = MassActionJump(Vector{typeof(t)}(),\r\n",
    "        Vector{Vector{Pair{Int,eltype(u)}}}(),\r\n",
    "        Vector{Vector{Pair{Int,eltype(u)}}}())\r\n",
    "    end\r\n",
    "\r\n",
    "    # current jump rates, allows mass action rates and constant jumps\r\n",
    "    cur_rates = Vector{typeof(t)}(undef, get_num_majumps(majumps) + length(rates))\r\n",
    "\r\n",
    "    sum_rate = zero(typeof(t))\r\n",
    "    next_jump = 0\r\n",
    "    next_jump_time = typemax(typeof(t))\r\n",
    "    jump_agg_type(next_jump, next_jump_time, end_time, cur_rates, sum_rate,\r\n",
    "    majumps, rates, affects!, save_positions, rng; kwargs...)\r\n",
    "end"
   ],
   "outputs": [
    {
     "output_type": "display_data",
     "data": {
      "text/plain": [
       "build_jump_aggregation (generic function with 1 method)"
      ]
     },
     "metadata": {}
    }
   ],
   "metadata": {}
  },
  {
   "cell_type": "markdown",
   "source": [
    "## where `get_num_majumps` is defined by:"
   ],
   "metadata": {}
  },
  {
   "cell_type": "markdown",
   "source": [
    "Here invoque type `MassActionJump`  so have to define it as follows"
   ],
   "metadata": {}
  },
  {
   "cell_type": "markdown",
   "source": [
    "# Define ConstantRateJump and MassActionJump"
   ],
   "metadata": {}
  },
  {
   "cell_type": "code",
   "execution_count": 7,
   "source": [
    "#TODO Simplify the code pmapper maybe\r\n",
    "struct MassActionJump{T,S,U,V} <: AbstractJump\r\n",
    "  scaled_rates::T\r\n",
    "  reactant_stoch::S\r\n",
    "  net_stoch::U\r\n",
    "  param_mapper::V\r\n",
    "\r\n",
    "  function MassActionJump{T,S,U,V}(rates::T, rs_in::S, ns::U, pmapper::V, scale_rates::Bool, useiszero::Bool, nocopy::Bool) where {T <: AbstractVector, S, U, V}\r\n",
    "    sr  = nocopy ? rates : copy(rates)\r\n",
    "    rs = nocopy ? rs_in : copy(rs_in)\r\n",
    "    for i in eachindex(rs)\r\n",
    "      if useiszero && (length(rs[i]) == 1) && iszero(rs[i][1][1])\r\n",
    "        rs[i] = typeof(rs[i])()\r\n",
    "      end\r\n",
    "    end\r\n",
    "\r\n",
    "    if scale_rates && !isempty(sr)\r\n",
    "      scalerates!(sr, rs)\r\n",
    "    end\r\n",
    "    new(sr, rs, ns, pmapper)\r\n",
    "  end\r\n",
    "  function MassActionJump{Nothing,Vector{S},Vector{U},V}(::Nothing, rs_in::Vector{S}, ns::Vector{U}, pmapper::V, scale_rates::Bool, useiszero::Bool, nocopy::Bool) where {S<:AbstractVector, U<:AbstractVector, V}\r\n",
    "    rs = nocopy ? rs_in : copy(rs_in)\r\n",
    "    for i in eachindex(rs)\r\n",
    "      if useiszero && (length(rs[i]) == 1) && iszero(rs[i][1][1])\r\n",
    "        rs[i] = typeof(rs[i])()\r\n",
    "      end\r\n",
    "    end\r\n",
    "    new(nothing, rs, ns, pmapper)\r\n",
    "  end\r\n",
    "  function MassActionJump{T,S,U,V}(rate::T, rs_in::S, ns::U, pmapper::V, scale_rates::Bool, useiszero::Bool, nocopy::Bool) where {T <: Number, S, U, V}\r\n",
    "    rs = rs_in\r\n",
    "    if useiszero && (length(rs) == 1) && iszero(rs[1][1])\r\n",
    "      rs = typeof(rs)()\r\n",
    "    end\r\n",
    "    sr = scale_rates ? scalerate(rate, rs) : rate\r\n",
    "    new(sr, rs, ns, pmapper)\r\n",
    "  end\r\n",
    "  function MassActionJump{Nothing,S,U,V}(::Nothing, rs_in::S, ns::U, pmapper::V, scale_rates::Bool, useiszero::Bool, nocopy::Bool) where {S, U, V}\r\n",
    "    rs = rs_in\r\n",
    "    if useiszero && (length(rs) == 1) && iszero(rs[1][1])\r\n",
    "      rs = typeof(rs)()\r\n",
    "    end\r\n",
    "    new(nothing, rs, ns, pmapper)\r\n",
    "  end\r\n",
    "\r\n",
    "end\r\n",
    "MassActionJump(usr::T, rs::S, ns::U, pmapper::V; scale_rates = true, useiszero = true, nocopy=false) where {T,S,U,V} = MassActionJump{T,S,U,V}(usr, rs, ns, pmapper, scale_rates, useiszero, nocopy)\r\n",
    "\r\n",
    "MassActionJump(usr::T, rs, ns; scale_rates = true, useiszero = true, nocopy=false) where {T <: AbstractVector,S,U} = MassActionJump(usr, rs, ns, nothing; scale_rates=scale_rates, useiszero=useiszero, nocopy=nocopy)\r\n",
    "\r\n",
    "MassActionJump(usr::T, rs, ns; scale_rates = true, useiszero = true, nocopy=false) where {T <: Number,S,U} = MassActionJump(usr, rs, ns, nothing; scale_rates=scale_rates, useiszero=useiszero, nocopy=nocopy)\r\n",
    "\r\n",
    "# with parameter indices or mapping, multiple jump case\r\n",
    "function MassActionJump(rs, ns; param_idxs=nothing, param_mapper=nothing, scale_rates = true, useiszero = true, nocopy=false)\r\n",
    "if param_mapper === nothing \r\n",
    "  (param_idxs === nothing) && error(\"If no parameter indices are given via param_idxs, an explicit parameter mapping must be passed in via param_mapper.\")\r\n",
    "  pmapper = MassActionJumpParamMapper(param_idxs)\r\n",
    "else\r\n",
    "  (param_idxs !== nothing) && error(\"Only one of param_idxs and param_mapper should be passed.\")\r\n",
    "  pmapper = param_mapper\r\n",
    "end\r\n",
    "                    \r\n",
    "MassActionJump(nothing, nocopy ? rs : copy(rs), ns, pmapper; scale_rates=scale_rates, \r\n",
    "               useiszero=useiszero, nocopy=true)\r\n",
    "end"
   ],
   "outputs": [
    {
     "output_type": "display_data",
     "data": {
      "text/plain": [
       "MassActionJump"
      ]
     },
     "metadata": {}
    }
   ],
   "metadata": {}
  },
  {
   "cell_type": "code",
   "execution_count": 8,
   "source": [
    "@inline get_num_majumps(maj::MassActionJump) = length(maj.scaled_rates)\r\n",
    "@inline get_num_majumps(maj::Nothing) = 0"
   ],
   "outputs": [
    {
     "output_type": "display_data",
     "data": {
      "text/plain": [
       "get_num_majumps (generic function with 2 methods)"
      ]
     },
     "metadata": {}
    }
   ],
   "metadata": {}
  },
  {
   "cell_type": "code",
   "execution_count": 9,
   "source": [
    "struct ConstantRateJump{F1,F2} <: AbstractJump\r\n",
    "    rate::F1\r\n",
    "    affect!::F2\r\n",
    "end  "
   ],
   "outputs": [],
   "metadata": {}
  },
  {
   "cell_type": "code",
   "execution_count": 10,
   "source": [
    "function scalerates!(unscaled_rates::AbstractVector{U}, stochmat::AbstractVector{V}) where {U,S,T,W <: Pair{S,T}, V <: AbstractVector{W}}\r\n",
    "    @inbounds for i in eachindex(unscaled_rates)\r\n",
    "        coef = one(T)\r\n",
    "        @inbounds for specstoch in stochmat[i]\r\n",
    "            coef *= factorial(specstoch[2])\r\n",
    "        end\r\n",
    "        unscaled_rates[i] /= coef\r\n",
    "    end\r\n",
    "    nothing\r\n",
    "end\r\n",
    "\r\n",
    "function scalerate(unscaled_rate::U, stochmat::AbstractVector{Pair{S,T}}) where {U <: Number, S, T}\r\n",
    "    coef = one(T)\r\n",
    "    @inbounds for specstoch in stochmat\r\n",
    "        coef *= factorial(specstoch[2])\r\n",
    "    end\r\n",
    "    unscaled_rate /= coef\r\n",
    "end"
   ],
   "outputs": [
    {
     "output_type": "display_data",
     "data": {
      "text/plain": [
       "scalerate (generic function with 1 method)"
      ]
     },
     "metadata": {}
    }
   ],
   "metadata": {}
  },
  {
   "cell_type": "markdown",
   "source": [
    "## An example of MassActionJump"
   ],
   "metadata": {}
  },
  {
   "cell_type": "code",
   "execution_count": 11,
   "source": [
    "rates1 = [0.1/1000.0]\r\n",
    "reactant_stoich1 = [[1=>1,2=>1]]\r\n",
    "net_stoich1 = [[1=>-1,2=>1]]\r\n",
    "jump1 = MassActionJump(rates1, reactant_stoich1, net_stoich1; scale_rates = false)"
   ],
   "outputs": [
    {
     "output_type": "display_data",
     "data": {
      "text/plain": [
       "MassActionJump{Vector{Float64}, Vector{Vector{Pair{Int64, Int64}}}, Vector{Vector{Pair{Int64, Int64}}}, Nothing}([0.0001], [[1 => 1, 2 => 1]], [[1 => -1, 2 => 1]], nothing)"
      ]
     },
     "metadata": {}
    }
   ],
   "metadata": {}
  },
  {
   "cell_type": "markdown",
   "source": [
    "## An example of ConstantRateJump"
   ],
   "metadata": {}
  },
  {
   "cell_type": "code",
   "execution_count": 12,
   "source": [
    "rate2 = (u,p,t) -> 0.01u[2]\r\n",
    "affect! = function (integrator)\r\n",
    "  integrator.u[2] -= 1\r\n",
    "  integrator.u[3] += 1\r\n",
    "end\r\n",
    "jump2 = ConstantRateJump(rate2,affect!)"
   ],
   "outputs": [
    {
     "output_type": "display_data",
     "data": {
      "text/plain": [
       "ConstantRateJump{var\"#14#15\", var\"#16#17\"}(var\"#14#15\"(), var\"#16#17\"())"
      ]
     },
     "metadata": {}
    }
   ],
   "metadata": {}
  },
  {
   "cell_type": "markdown",
   "source": [
    "# Next we want to build aggregator"
   ],
   "metadata": {}
  },
  {
   "cell_type": "code",
   "execution_count": 13,
   "source": [
    "u0 = [999.,1.,0.]\r\n",
    "p = nothing\r\n",
    "t0 = 0.0 # initial time\r\n",
    "end_time  = 200.\r\n",
    "constant_jumps = jump2 \r\n",
    "ma_jumps = jump1\r\n",
    "save_positions = (false,false)\r\n",
    "rng = Random.seed!(1234)"
   ],
   "outputs": [
    {
     "output_type": "display_data",
     "data": {
      "text/plain": [
       "MersenneTwister(1234)"
      ]
     },
     "metadata": {}
    }
   ],
   "metadata": {}
  },
  {
   "cell_type": "code",
   "execution_count": 14,
   "source": [
    "struct JumpSet{T1,T2,T3,T4} <: AbstractJump\r\n",
    "    variable_jumps::T1\r\n",
    "    constant_jumps::T2\r\n",
    "    regular_jump::T3\r\n",
    "    massaction_jump::T4\r\n",
    "end"
   ],
   "outputs": [],
   "metadata": {}
  },
  {
   "cell_type": "code",
   "execution_count": 15,
   "source": [
    "jumpset=JumpSet((),(constant_jumps,),nothing,ma_jumps)"
   ],
   "outputs": [
    {
     "output_type": "display_data",
     "data": {
      "text/plain": [
       "JumpSet{Tuple{}, Tuple{ConstantRateJump{var\"#14#15\", var\"#16#17\"}}, Nothing, MassActionJump{Vector{Float64}, Vector{Vector{Pair{Int64, Int64}}}, Vector{Vector{Pair{Int64, Int64}}}, Nothing}}((), (ConstantRateJump{var\"#14#15\", var\"#16#17\"}(var\"#14#15\"(), var\"#16#17\"()),), nothing, MassActionJump{Vector{Float64}, Vector{Vector{Pair{Int64, Int64}}}, Vector{Vector{Pair{Int64, Int64}}}, Nothing}([0.0001], [[1 => 1, 2 => 1]], [[1 => -1, 2 => 1]], nothing))"
      ]
     },
     "metadata": {}
    }
   ],
   "metadata": {}
  },
  {
   "cell_type": "code",
   "execution_count": 16,
   "source": [
    "jumpset.constant_jumps"
   ],
   "outputs": [
    {
     "output_type": "display_data",
     "data": {
      "text/plain": [
       "(ConstantRateJump{var\"#14#15\", var\"#16#17\"}(var\"#14#15\"(), var\"#16#17\"()),)"
      ]
     },
     "metadata": {}
    }
   ],
   "metadata": {}
  },
  {
   "cell_type": "code",
   "execution_count": 17,
   "source": [
    "dja = aggregate(Direct(),u0,p,t0,end_time,jumpset.constant_jumps, jumpset.massaction_jump, save_positions, rng)"
   ],
   "outputs": [
    {
     "output_type": "display_data",
     "data": {
      "text/plain": [
       "DirectJumpAggregation{Float64, MassActionJump{Vector{Float64}, Vector{Vector{Pair{Int64, Int64}}}, Vector{Vector{Pair{Int64, Int64}}}, Nothing}, Tuple{var\"#14#15\"}, Tuple{var\"#16#17\"}, MersenneTwister}(0, 0, Inf, 200.0, [1.19673221e-315, 1.19673158e-315], 0.0, MassActionJump{Vector{Float64}, Vector{Vector{Pair{Int64, Int64}}}, Vector{Vector{Pair{Int64, Int64}}}, Nothing}([0.0001], [[1 => 1, 2 => 1]], [[1 => -1, 2 => 1]], nothing), (var\"#14#15\"(),), (var\"#16#17\"(),), (false, false), MersenneTwister(1234))"
      ]
     },
     "metadata": {}
    }
   ],
   "metadata": {}
  },
  {
   "cell_type": "markdown",
   "source": [
    "## So if we look at the aggregator, the issue is that the next_jump_time = Inf, this is normall because we haven't initialize the prob, in order to do it, one needs to define the `JumpProblem`. Maybe we can skip the defining the DEProblem, because it will have a lot of dependencies. So one idea is to just update `aggregator` for the first time."
   ],
   "metadata": {}
  },
  {
   "cell_type": "code",
   "execution_count": 18,
   "source": [
    "\"\"\"\r\n",
    "fill_rates_and_sum!(p::AbstractSSAJumpAggregator, u, params, t)\r\n",
    "\r\n",
    "Reevaluate all rates and their sum.\r\n",
    "\"\"\"\r\n",
    "function fill_rates_and_sum!(p::AbstractSSAJumpAggregator, u, params, t)\r\n",
    "    sum_rate = zero(typeof(p.sum_rate))\r\n",
    "\r\n",
    "    # mass action jumps\r\n",
    "    majumps   = p.ma_jumps\r\n",
    "    cur_rates = p.cur_rates\r\n",
    "    @inbounds for i in 1:get_num_majumps(majumps)\r\n",
    "        cur_rates[i] = evalrxrate(u, i, majumps)\r\n",
    "        sum_rate    += cur_rates[i]\r\n",
    "    end\r\n",
    "\r\n",
    "    # constant rates\r\n",
    "    rates = p.rates\r\n",
    "    idx   = get_num_majumps(majumps) + 1\r\n",
    "    @inbounds for rate in rates\r\n",
    "        cur_rates[idx] = rate(u, params, t)\r\n",
    "        sum_rate += cur_rates[idx]\r\n",
    "        idx += 1\r\n",
    "    end\r\n",
    "\r\n",
    "    p.sum_rate = sum_rate\r\n",
    "    nothing\r\n",
    "end\r\n",
    "@inline @fastmath function evalrxrate(speciesvec::AbstractVector{T}, rxidx::S, majump::MassActionJump{U,V,W,X})::R where {T,S,R,U <: AbstractVector{R},V,W,X}\r\n",
    "    val = one(T)\r\n",
    "    @inbounds for specstoch in majump.reactant_stoch[rxidx]\r\n",
    "        specpop = speciesvec[specstoch[1]]\r\n",
    "        val    *= specpop\r\n",
    "        @inbounds for k = 2:specstoch[2]\r\n",
    "            specpop -= one(specpop)\r\n",
    "            val     *= specpop\r\n",
    "        end\r\n",
    "    end\r\n",
    "\r\n",
    "    @inbounds return val * majump.scaled_rates[rxidx]\r\n",
    "end"
   ],
   "outputs": [
    {
     "output_type": "display_data",
     "data": {
      "text/plain": [
       "evalrxrate (generic function with 1 method)"
      ]
     },
     "metadata": {}
    }
   ],
   "metadata": {}
  },
  {
   "cell_type": "markdown",
   "source": [
    "## update the rates and sum of rates"
   ],
   "metadata": {}
  },
  {
   "cell_type": "code",
   "execution_count": 19,
   "source": [
    "fill_rates_and_sum!(dja, u0, p, t0)"
   ],
   "outputs": [],
   "metadata": {}
  },
  {
   "cell_type": "code",
   "execution_count": 20,
   "source": [
    "dja"
   ],
   "outputs": [
    {
     "output_type": "display_data",
     "data": {
      "text/plain": [
       "DirectJumpAggregation{Float64, MassActionJump{Vector{Float64}, Vector{Vector{Pair{Int64, Int64}}}, Vector{Vector{Pair{Int64, Int64}}}, Nothing}, Tuple{var\"#14#15\"}, Tuple{var\"#16#17\"}, MersenneTwister}(0, 0, Inf, 200.0, [0.0999, 0.01], 0.1099, MassActionJump{Vector{Float64}, Vector{Vector{Pair{Int64, Int64}}}, Vector{Vector{Pair{Int64, Int64}}}, Nothing}([0.0001], [[1 => 1, 2 => 1]], [[1 => -1, 2 => 1]], nothing), (var\"#14#15\"(),), (var\"#16#17\"(),), (false, false), MersenneTwister(1234))"
      ]
     },
     "metadata": {}
    }
   ],
   "metadata": {}
  },
  {
   "cell_type": "code",
   "execution_count": 21,
   "source": [
    "function initialize!(p::DirectJumpAggregation, integrator, u, params, t)\r\n",
    "  generate_jumps!(p, integrator, u, params, t)\r\n",
    "  nothing\r\n",
    "end\r\n",
    "# calculate the next jump / jump time\r\n",
    "function generate_jumps!(p::DirectJumpAggregation, integrator, u, params, t)\r\n",
    "  p.sum_rate, ttnj = time_to_next_jump(p, u, params, t)\r\n",
    "  @fastmath p.next_jump_time = t + ttnj\r\n",
    "  @inbounds p.next_jump = searchsortedfirst(p.cur_rates, rand(p.rng) * p.sum_rate) # 这里用到了 searchsortedfirst 是一个加速的function\r\n",
    "  nothing\r\n",
    "end"
   ],
   "outputs": [
    {
     "output_type": "display_data",
     "data": {
      "text/plain": [
       "generate_jumps! (generic function with 1 method)"
      ]
     },
     "metadata": {}
    }
   ],
   "metadata": {}
  },
  {
   "cell_type": "markdown",
   "source": [
    "## 下面这个是核心函数，这个决定如何更新 \n",
    "- `next_jump`\n",
    "- `next_jump_time`\n",
    "- `sum_rate`"
   ],
   "metadata": {}
  },
  {
   "cell_type": "code",
   "execution_count": 22,
   "source": [
    "@fastmath function time_to_next_jump(p::DirectJumpAggregation{T,S,F1,F2,RNG}, u, params, t) where {T,S,F1 <: Tuple, F2 <: Tuple, RNG}\r\n",
    "  prev_rate = zero(t)\r\n",
    "  new_rate  = zero(t)\r\n",
    "  cur_rates = p.cur_rates\r\n",
    "\r\n",
    "  # mass action rates\r\n",
    "  majumps   = p.ma_jumps\r\n",
    "  idx       = get_num_majumps(majumps)\r\n",
    "  @inbounds for i in 1:idx\r\n",
    "    new_rate     = evalrxrate(u, i, majumps)\r\n",
    "    cur_rates[i] = new_rate + prev_rate\r\n",
    "    prev_rate    = cur_rates[i]\r\n",
    "  end\r\n",
    "\r\n",
    "  # constant jump rates\r\n",
    "  rates = p.rates\r\n",
    "  if !isempty(rates)\r\n",
    "    idx  += 1\r\n",
    "    fill_cur_rates(u, params, t, cur_rates, idx, rates...)\r\n",
    "    @inbounds for i in idx:length(cur_rates)\r\n",
    "      cur_rates[i] = cur_rates[i] + prev_rate\r\n",
    "      prev_rate    = cur_rates[i]\r\n",
    "    end\r\n",
    "  end\r\n",
    "\r\n",
    "  @inbounds sum_rate = cur_rates[end]\r\n",
    "  sum_rate, randexp(p.rng) / sum_rate\r\n",
    "end\r\n",
    "@inline function fill_cur_rates(u, p, t, cur_rates, idx, rate, rates...)\r\n",
    "  @inbounds cur_rates[idx] = rate(u, p, t)\r\n",
    "  idx += 1\r\n",
    "  fill_cur_rates(u, p, t, cur_rates, idx, rates...)\r\n",
    "end\r\n",
    "\r\n",
    "@inline function fill_cur_rates(u, p, t, cur_rates, idx, rate)\r\n",
    "  @inbounds cur_rates[idx] = rate(u, p, t)\r\n",
    "  nothing\r\n",
    "end\r\n"
   ],
   "outputs": [
    {
     "output_type": "display_data",
     "data": {
      "text/plain": [
       "fill_cur_rates (generic function with 2 methods)"
      ]
     },
     "metadata": {}
    }
   ],
   "metadata": {}
  },
  {
   "cell_type": "markdown",
   "source": [
    "## Now the Integrator is needed \n",
    "## First, let us construct the `Integrator`, which encodes the time and state information"
   ],
   "metadata": {}
  },
  {
   "cell_type": "markdown",
   "source": [
    "## Next step update integrator, the key function is `update_state!`"
   ],
   "metadata": {}
  },
  {
   "cell_type": "code",
   "execution_count": 23,
   "source": [
    "function (p::AbstractSSAJumpAggregator)(integrator)\r\n",
    "    execute_jumps!(p, integrator, integrator.u, integrator.p, integrator.t)\r\n",
    "    register_next_jump_time!(p,integrator)\r\n",
    "    generate_jumps!(p, integrator, integrator.u, integrator.p, integrator.t)\r\n",
    "    nothing\r\n",
    "end\r\n",
    "\r\n",
    "\"\"\"\r\n",
    "self_defined\r\n",
    "\"\"\"\r\n",
    "@inline function register_next_jump_time!(p::DirectJumpAggregation,integrator)\r\n",
    "    integrator.tprev = integrator.t\r\n",
    "    integrator.t = p.next_jump_time\r\n",
    "    integrator.i +=1\r\n",
    "    nothing\r\n",
    "end\r\n",
    "@inline function execute_jumps!(p::DirectJumpAggregation, integrator, u, params, t)\r\n",
    "    update_state!(p, integrator, u)\r\n",
    "    nothing\r\n",
    "end\r\n",
    "@inline function update_state!(p::AbstractSSAJumpAggregator, integrator, u)\r\n",
    "    @unpack ma_jumps, next_jump = p\r\n",
    "    num_ma_rates = get_num_majumps(ma_jumps)\r\n",
    "    if next_jump <= num_ma_rates # is next jump a mass action jump\r\n",
    "        if u isa SVector\r\n",
    "            integrator.u = executerx(u, next_jump, ma_jumps)\r\n",
    "        else\r\n",
    "            @inbounds executerx!(u, next_jump, ma_jumps)\r\n",
    "        end\r\n",
    "    else\r\n",
    "        idx = next_jump - num_ma_rates\r\n",
    "        @inbounds p.affects![idx](integrator)\r\n",
    "    end\r\n",
    "\r\n",
    "    # save jump that was just executed\r\n",
    "    p.prev_jump = next_jump\r\n",
    "    return integrator.u\r\n",
    "end\r\n",
    "@inline @fastmath function executerx!(speciesvec::AbstractVector{T}, rxidx::S,\r\n",
    "    majump::MassActionJump{U,V,W,X}) where {T,S,U,V,W,X}\r\n",
    "@inbounds net_stoch = majump.net_stoch[rxidx]\r\n",
    "@inbounds for specstoch in net_stoch\r\n",
    "speciesvec[specstoch[1]] += specstoch[2]\r\n",
    "end\r\n",
    "nothing\r\n",
    "end\r\n"
   ],
   "outputs": [
    {
     "output_type": "display_data",
     "data": {
      "text/plain": [
       "executerx! (generic function with 1 method)"
      ]
     },
     "metadata": {}
    }
   ],
   "metadata": {}
  },
  {
   "cell_type": "markdown",
   "source": [
    "# So up to now we are able to update the integrator by each iteration.\r\n",
    "## Next question is how to store to integrator in a list\r\n",
    "## the following functions are basically simplified version, self-defined"
   ],
   "metadata": {}
  },
  {
   "cell_type": "code",
   "execution_count": 24,
   "source": [
    "mutable struct SSAIntegrator{uType,tType,P,S,SA} \r\n",
    "    u::uType\r\n",
    "    t::tType\r\n",
    "    tprev::tType\r\n",
    "    p::P\r\n",
    "    sol::S\r\n",
    "    i::Int\r\n",
    "    saveat::SA\r\n",
    "    cur_saveat::Int\r\n",
    "    end_time::tType\r\n",
    "    save_end::Bool\r\n",
    "end"
   ],
   "outputs": [],
   "metadata": {}
  },
  {
   "cell_type": "code",
   "execution_count": 25,
   "source": [
    "mutable struct SSASolution{tType,uType}\r\n",
    "    t::Vector{tType}\r\n",
    "    u::Vector{uType}\r\n",
    "end"
   ],
   "outputs": [],
   "metadata": {}
  },
  {
   "cell_type": "code",
   "execution_count": 26,
   "source": [
    "function initialize_integrator(u0::uType,t0::tType,p::P,tspan::Tuple,saveat::SA;save_end::Bool=true) where {uType,tType,P,SA}\r\n",
    "    _u0 = copy(u0)\r\n",
    "    _t0 = copy(t0)\r\n",
    "    end_time = tspan[2]\r\n",
    "    ssa_sol = SSASolution([t0],[u0])\r\n",
    "    if typeof(saveat) <: Number\r\n",
    "        _saveat = tspan[1]:saveat:tspan[2]\r\n",
    "    else\r\n",
    "        _saveat = saveat\r\n",
    "    end\r\n",
    "    if _saveat !== nothing && !isempty(_saveat) && _saveat[1] == tspan[1]\r\n",
    "        cur_saveat = 2\r\n",
    "    else\r\n",
    "        cur_saveat = 1\r\n",
    "    end\r\n",
    "    integrator = SSAIntegrator(_u0,_t0,_t0,p,ssa_sol,0,_saveat,cur_saveat,end_time,save_end)\r\n",
    "    integrator\r\n",
    "end\r\n",
    "function initialize_dja(integrator,aggregatoralgo::AbstractAggregatorAlgorithm,jumpset::JumpSet,save_positions,rng)\r\n",
    "    _u0 = copy(integrator.u)\r\n",
    "    _t0 = copy(integrator.t)\r\n",
    "    end_time = copy(integrator.end_time)\r\n",
    "    dja = aggregate(aggregatoralgo,_u0,p,_t0,end_time,jumpset.constant_jumps, jumpset.massaction_jump, save_positions, rng)\r\n",
    "    initialize!(dja, integrator, _u0, p, _t0)\r\n",
    "    return dja\r\n",
    "end"
   ],
   "outputs": [
    {
     "output_type": "display_data",
     "data": {
      "text/plain": [
       "initialize_dja (generic function with 1 method)"
      ]
     },
     "metadata": {}
    }
   ],
   "metadata": {}
  },
  {
   "cell_type": "code",
   "execution_count": 28,
   "source": [
    "tspan = (0.,200.)\r\n",
    "integrator = initialize_integrator(u0,t0,p,tspan,1.)\r\n"
   ],
   "outputs": [
    {
     "output_type": "display_data",
     "data": {
      "text/plain": [
       "SSAIntegrator{Vector{Float64}, Float64, Nothing, SSASolution{Float64, Vector{Float64}}, StepRangeLen{Float64, Base.TwicePrecision{Float64}, Base.TwicePrecision{Float64}}}([999.0, 1.0, 0.0], 0.0, 0.0, nothing, SSASolution{Float64, Vector{Float64}}([0.0], [[999.0, 1.0, 0.0]]), 0, 0.0:1.0:200.0, 2, 200.0, true)"
      ]
     },
     "metadata": {}
    }
   ],
   "metadata": {}
  },
  {
   "cell_type": "code",
   "execution_count": 34,
   "source": [
    "dja = initialize_dja(integrator,Direct(),jumpset,(false,false),Random.seed!(1234))"
   ],
   "outputs": [
    {
     "output_type": "display_data",
     "data": {
      "text/plain": [
       "DirectJumpAggregation{Float64, MassActionJump{Vector{Float64}, Vector{Vector{Pair{Int64, Int64}}}, Vector{Vector{Pair{Int64, Int64}}}, Nothing}, Tuple{var\"#14#15\"}, Tuple{var\"#16#17\"}, MersenneTwister}(1, 0, 22.597865080896174, 200.0, [0.0999, 0.1099], 0.1099, MassActionJump{Vector{Float64}, Vector{Vector{Pair{Int64, Int64}}}, Vector{Vector{Pair{Int64, Int64}}}, Nothing}([0.0001], [[1 => 1, 2 => 1]], [[1 => -1, 2 => 1]], nothing), (var\"#14#15\"(),), (var\"#16#17\"(),), (false, false), MersenneTwister(1234, (0, 1002, 0, 2)))"
      ]
     },
     "metadata": {}
    }
   ],
   "metadata": {}
  },
  {
   "cell_type": "markdown",
   "source": [
    "##  each time dja(integrator), both `dja` and `integrator` are updated"
   ],
   "metadata": {}
  },
  {
   "cell_type": "code",
   "execution_count": 35,
   "source": [
    "dja(integrator)"
   ],
   "outputs": [],
   "metadata": {}
  },
  {
   "cell_type": "code",
   "execution_count": 36,
   "source": [
    "integrator"
   ],
   "outputs": [
    {
     "output_type": "display_data",
     "data": {
      "text/plain": [
       "SSAIntegrator{Vector{Float64}, Float64, Nothing, SSASolution{Float64, Vector{Float64}}, StepRangeLen{Float64, Base.TwicePrecision{Float64}, Base.TwicePrecision{Float64}}}([998.0, 2.0, 0.0], 22.597865080896174, 0.0, nothing, SSASolution{Float64, Vector{Float64}}([0.0], [[999.0, 1.0, 0.0]]), 1, 0.0:1.0:200.0, 2, 200.0, true)"
      ]
     },
     "metadata": {}
    }
   ],
   "metadata": {}
  },
  {
   "cell_type": "code",
   "execution_count": 37,
   "source": [
    "dja"
   ],
   "outputs": [
    {
     "output_type": "display_data",
     "data": {
      "text/plain": [
       "DirectJumpAggregation{Float64, MassActionJump{Vector{Float64}, Vector{Vector{Pair{Int64, Int64}}}, Vector{Vector{Pair{Int64, Int64}}}, Nothing}, Tuple{var\"#14#15\"}, Tuple{var\"#16#17\"}, MersenneTwister}(1, 1, 25.350308100488803, 200.0, [0.1996, 0.2196], 0.2196, MassActionJump{Vector{Float64}, Vector{Vector{Pair{Int64, Int64}}}, Vector{Vector{Pair{Int64, Int64}}}, Nothing}([0.0001], [[1 => 1, 2 => 1]], [[1 => -1, 2 => 1]], nothing), (var\"#14#15\"(),), (var\"#16#17\"(),), (false, false), MersenneTwister(1234, (0, 1002, 0, 4)))"
      ]
     },
     "metadata": {}
    }
   ],
   "metadata": {}
  },
  {
   "cell_type": "markdown",
   "source": [
    "# steps\r\n",
    "- initialize dja\r\n",
    "- initialize integrator\r\n",
    "- initialize "
   ],
   "metadata": {}
  },
  {
   "cell_type": "code",
   "execution_count": 38,
   "source": [
    "function SSAsolve(u0,t0,p,tspan,jumpset,aggregatoralgo::AbstractAggregatorAlgorithm;saveat=nothing,rng=Random.seed!(rand(UInt64)),save_end::Bool=true,save_positions=(false,false))\r\n",
    "    end_time = tspan[2]\r\n",
    "    integrator = initialize_integrator(u0,t0,p,tspan,saveat,save_end=save_end)\r\n",
    "    dja = initialize_dja(integrator,aggregatoralgo,jumpset,save_positions,rng)\r\n",
    "    if integrator.saveat == nothing || isempty(integrator.saveat)\r\n",
    "        while integrator.t < integrator.end_time\r\n",
    "            dja(integrator)\r\n",
    "            push!(integrator.sol.t,integrator.t)\r\n",
    "            push!(integrator.sol.u,copy(integrator.u))\r\n",
    "        end\r\n",
    "    end    \r\n",
    "    if integrator.saveat !== nothing && !isempty(integrator.saveat)\r\n",
    "    # Split to help prediction\r\n",
    "        while integrator.t < end_time\r\n",
    "            while integrator.cur_saveat <= length(integrator.saveat) &&\r\n",
    "                integrator.saveat[integrator.cur_saveat] < integrator.t\r\n",
    "                push!(integrator.sol.t,integrator.saveat[integrator.cur_saveat])\r\n",
    "                push!(integrator.sol.u,copy(integrator.u))\r\n",
    "                integrator.cur_saveat += 1\r\n",
    "            end\r\n",
    "            dja(integrator)\r\n",
    "        end\r\n",
    "    end\r\n",
    "    if integrator.save_end && integrator.sol.t[end] != end_time\r\n",
    "        push!(integrator.sol.t,end_time)\r\n",
    "        push!(integrator.sol.u,copy(integrator.u))\r\n",
    "    end\r\n",
    "    return integrator.sol\r\n",
    "end"
   ],
   "outputs": [
    {
     "output_type": "display_data",
     "data": {
      "text/plain": [
       "SSAsolve (generic function with 1 method)"
      ]
     },
     "metadata": {}
    }
   ],
   "metadata": {}
  },
  {
   "cell_type": "code",
   "execution_count": 39,
   "source": [
    "sol=SSAsolve(u0,t0,p,tspan,jumpset,Direct();rng=Random.seed!(1234),saveat=1.)"
   ],
   "outputs": [
    {
     "output_type": "display_data",
     "data": {
      "text/plain": [
       "SSASolution{Float64, Vector{Float64}}([0.0, 1.0, 2.0, 3.0, 4.0, 5.0, 6.0, 7.0, 8.0, 9.0  …  191.0, 192.0, 193.0, 194.0, 195.0, 196.0, 197.0, 198.0, 199.0, 200.0], [[999.0, 1.0, 0.0], [998.0, 2.0, 0.0], [998.0, 2.0, 0.0], [998.0, 2.0, 0.0], [998.0, 2.0, 0.0], [998.0, 2.0, 0.0], [998.0, 2.0, 0.0], [998.0, 2.0, 0.0], [998.0, 2.0, 0.0], [998.0, 2.0, 0.0]  …  [2.0, 341.0, 657.0], [1.0, 340.0, 659.0], [1.0, 335.0, 664.0], [1.0, 331.0, 668.0], [1.0, 328.0, 671.0], [1.0, 325.0, 674.0], [1.0, 320.0, 679.0], [1.0, 316.0, 683.0], [1.0, 314.0, 685.0], [1.0, 311.0, 688.0]])"
      ]
     },
     "metadata": {}
    }
   ],
   "metadata": {}
  },
  {
   "cell_type": "code",
   "execution_count": 40,
   "source": [
    "using Plots; theme(:vibrant)"
   ],
   "outputs": [],
   "metadata": {}
  },
  {
   "cell_type": "code",
   "execution_count": 41,
   "source": [
    "function ssaplot(sol::SSASolution)\r\n",
    "    n_species = length(sol.u[1]) \r\n",
    "    plot(sol.t,[[sol.u[i][j] for i in eachindex(sol.u)] for j in 1:n_species])\r\n",
    "end"
   ],
   "outputs": [
    {
     "output_type": "display_data",
     "data": {
      "text/plain": [
       "ssaplot (generic function with 1 method)"
      ]
     },
     "metadata": {}
    }
   ],
   "metadata": {}
  },
  {
   "cell_type": "code",
   "execution_count": null,
   "source": [
    "ssaplot(sol)"
   ],
   "outputs": [],
   "metadata": {}
  },
  {
   "cell_type": "code",
   "execution_count": null,
   "source": [],
   "outputs": [],
   "metadata": {}
  }
 ],
 "metadata": {
  "orig_nbformat": 4,
  "language_info": {
   "file_extension": ".jl",
   "name": "julia",
   "mimetype": "application/julia",
   "version": "1.6.2"
  },
  "kernelspec": {
   "name": "julia-1.6",
   "display_name": "Julia 1.6.2",
   "language": "julia"
  }
 },
 "nbformat": 4,
 "nbformat_minor": 2
}