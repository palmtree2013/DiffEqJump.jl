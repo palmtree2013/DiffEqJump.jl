{
 "cells": [
  {
   "cell_type": "code",
   "execution_count": 1,
   "source": [
    "abstract type AbstractJumpAggregator end\n",
    "abstract type AbstractJump end\n",
    "abstract type AbstractSSAJumpAggregator <: AbstractJumpAggregator end\n",
    "mutable struct DirectJumpAggregation{T,S,F1,F2,RNG} <: AbstractSSAJumpAggregator\n",
    "  next_jump::Int\n",
    "  prev_jump::Int\n",
    "  next_jump_time::T\n",
    "  end_time::T\n",
    "  cur_rates::Vector{T}\n",
    "  sum_rate::T\n",
    "  ma_jumps::S\n",
    "  rates::F1\n",
    "  affects!::F2\n",
    "  save_positions::Tuple{Bool,Bool}\n",
    "  rng::RNG\n",
    "end\n",
    "DirectJumpAggregation(nj::Int, njt::T, et::T, crs::Vector{T}, sr::T, maj::S, rs::F1, affs!::F2, sps::Tuple{Bool,Bool}, rng::RNG; kwargs...) where {T,S,F1,F2,RNG} =\n",
    "  DirectJumpAggregation{T,S,F1,F2,RNG}(nj, nj, njt, et, crs, sr, maj, rs, affs!, sps, rng)"
   ],
   "outputs": [
    {
     "data": {
      "text/plain": [
       "DirectJumpAggregation"
      ]
     },
     "metadata": {},
     "output_type": "display_data"
    }
   ],
   "metadata": {}
  },
  {
   "cell_type": "code",
   "execution_count": 2,
   "source": [
    "abstract type AbstractAggregatorAlgorithm end\n",
    "struct Direct <: AbstractAggregatorAlgorithm end"
   ],
   "outputs": [],
   "metadata": {}
  },
  {
   "cell_type": "code",
   "execution_count": 3,
   "source": [
    "# creating the JumpAggregation structure (tuple-based constant jumps)\n",
    "function aggregate(aggregator::Direct, u, p, t, end_time, constant_jumps,\n",
    "    ma_jumps, save_positions, rng; kwargs...)\n",
    "\n",
    "# handle constant jumps using tuples\n",
    "rates, affects! = get_jump_info_tuples(constant_jumps)\n",
    "\n",
    "build_jump_aggregation(DirectJumpAggregation, u, p, t, end_time, ma_jumps,\n",
    "          rates, affects!, save_positions, rng; kwargs...)\n",
    "end"
   ],
   "outputs": [
    {
     "data": {
      "text/plain": [
       "aggregate (generic function with 1 method)"
      ]
     },
     "metadata": {},
     "output_type": "display_data"
    }
   ],
   "metadata": {}
  },
  {
   "cell_type": "code",
   "execution_count": 4,
   "source": [
    "function get_jump_info_tuples(constant_jumps)\n",
    "    if (constant_jumps !== nothing) && !isempty(constant_jumps)\n",
    "      rates    = ((c.rate for c in constant_jumps)...,)\n",
    "      affects! = ((c.affect! for c in constant_jumps)...,)\n",
    "    else\n",
    "      rates    = ()\n",
    "      affects! = ()\n",
    "    end\n",
    "  \n",
    "    rates, affects!\n",
    "  end"
   ],
   "outputs": [
    {
     "data": {
      "text/plain": [
       "get_jump_info_tuples (generic function with 1 method)"
      ]
     },
     "metadata": {},
     "output_type": "display_data"
    }
   ],
   "metadata": {}
  },
  {
   "cell_type": "code",
   "execution_count": 5,
   "source": [
    "function build_jump_aggregation(jump_agg_type, u, p, t, end_time, ma_jumps, rates,\n",
    "    affects!, save_positions, rng; kwargs...)\n",
    "\n",
    "# mass action jumps\n",
    "majumps = ma_jumps\n",
    "if majumps === nothing\n",
    "majumps = MassActionJump(Vector{typeof(t)}(),\n",
    " Vector{Vector{Pair{Int,eltype(u)}}}(),\n",
    " Vector{Vector{Pair{Int,eltype(u)}}}())\n",
    "end\n",
    "\n",
    "# current jump rates, allows mass action rates and constant jumps\n",
    "cur_rates = Vector{typeof(t)}(undef, get_num_majumps(majumps) + length(rates))\n",
    "\n",
    "sum_rate = zero(typeof(t))\n",
    "next_jump = 0\n",
    "next_jump_time = typemax(typeof(t))\n",
    "jump_agg_type(next_jump, next_jump_time, end_time, cur_rates, sum_rate,\n",
    "majumps, rates, affects!, save_positions, rng; kwargs...)\n",
    "end"
   ],
   "outputs": [
    {
     "data": {
      "text/plain": [
       "build_jump_aggregation (generic function with 1 method)"
      ]
     },
     "metadata": {},
     "output_type": "display_data"
    }
   ],
   "metadata": {}
  },
  {
   "cell_type": "markdown",
   "source": [
    "## where `get_num_majumps` is defined by:"
   ],
   "metadata": {}
  },
  {
   "cell_type": "markdown",
   "source": [
    "Here invoque type `MassActionJump`  so have to define it as follows"
   ],
   "metadata": {}
  },
  {
   "cell_type": "markdown",
   "source": [
    "# Define ConstantRateJump and MassActionJump"
   ],
   "metadata": {}
  },
  {
   "cell_type": "code",
   "execution_count": 6,
   "source": [
    "#TODO Simplify the code pmapper maybe\n",
    "struct MassActionJump{T,S,U,V} <: AbstractJump\n",
    "    scaled_rates::T\n",
    "    reactant_stoch::S\n",
    "    net_stoch::U\n",
    "    param_mapper::V\n",
    "  \n",
    "    function MassActionJump{T,S,U,V}(rates::T, rs_in::S, ns::U, pmapper::V, scale_rates::Bool, useiszero::Bool, nocopy::Bool) where {T <: AbstractVector, S, U, V}\n",
    "      sr  = nocopy ? rates : copy(rates)\n",
    "      rs = nocopy ? rs_in : copy(rs_in)\n",
    "      for i in eachindex(rs)\n",
    "        if useiszero && (length(rs[i]) == 1) && iszero(rs[i][1][1])\n",
    "          rs[i] = typeof(rs[i])()\n",
    "        end\n",
    "      end\n",
    "  \n",
    "      if scale_rates && !isempty(sr)\n",
    "        scalerates!(sr, rs)\n",
    "      end\n",
    "      new(sr, rs, ns, pmapper)\n",
    "    end\n",
    "    function MassActionJump{Nothing,Vector{S},Vector{U},V}(::Nothing, rs_in::Vector{S}, ns::Vector{U}, pmapper::V, scale_rates::Bool, useiszero::Bool, nocopy::Bool) where {S<:AbstractVector, U<:AbstractVector, V}\n",
    "      rs = nocopy ? rs_in : copy(rs_in)\n",
    "      for i in eachindex(rs)\n",
    "        if useiszero && (length(rs[i]) == 1) && iszero(rs[i][1][1])\n",
    "          rs[i] = typeof(rs[i])()\n",
    "        end\n",
    "      end\n",
    "      new(nothing, rs, ns, pmapper)\n",
    "    end\n",
    "    function MassActionJump{T,S,U,V}(rate::T, rs_in::S, ns::U, pmapper::V, scale_rates::Bool, useiszero::Bool, nocopy::Bool) where {T <: Number, S, U, V}\n",
    "      rs = rs_in\n",
    "      if useiszero && (length(rs) == 1) && iszero(rs[1][1])\n",
    "        rs = typeof(rs)()\n",
    "      end\n",
    "      sr = scale_rates ? scalerate(rate, rs) : rate\n",
    "      new(sr, rs, ns, pmapper)\n",
    "    end\n",
    "    function MassActionJump{Nothing,S,U,V}(::Nothing, rs_in::S, ns::U, pmapper::V, scale_rates::Bool, useiszero::Bool, nocopy::Bool) where {S, U, V}\n",
    "      rs = rs_in\n",
    "      if useiszero && (length(rs) == 1) && iszero(rs[1][1])\n",
    "        rs = typeof(rs)()\n",
    "      end\n",
    "      new(nothing, rs, ns, pmapper)\n",
    "    end\n",
    "  \n",
    "end\n",
    "MassActionJump(usr::T, rs::S, ns::U, pmapper::V; scale_rates = true, useiszero = true, nocopy=false) where {T,S,U,V} = MassActionJump{T,S,U,V}(usr, rs, ns, pmapper, scale_rates, useiszero, nocopy)\n",
    "\n",
    "MassActionJump(usr::T, rs, ns; scale_rates = true, useiszero = true, nocopy=false) where {T <: AbstractVector,S,U} = MassActionJump(usr, rs, ns, nothing; scale_rates=scale_rates, useiszero=useiszero, nocopy=nocopy)\n",
    "\n",
    "MassActionJump(usr::T, rs, ns; scale_rates = true, useiszero = true, nocopy=false) where {T <: Number,S,U} = MassActionJump(usr, rs, ns, nothing; scale_rates=scale_rates, useiszero=useiszero, nocopy=nocopy)\n",
    "\n",
    "# with parameter indices or mapping, multiple jump case\n",
    "function MassActionJump(rs, ns; param_idxs=nothing, param_mapper=nothing, scale_rates = true, useiszero = true, nocopy=false)\n",
    "  if param_mapper === nothing \n",
    "    (param_idxs === nothing) && error(\"If no parameter indices are given via param_idxs, an explicit parameter mapping must be passed in via param_mapper.\")\n",
    "    pmapper = MassActionJumpParamMapper(param_idxs)\n",
    "  else\n",
    "    (param_idxs !== nothing) && error(\"Only one of param_idxs and param_mapper should be passed.\")\n",
    "    pmapper = param_mapper\n",
    "  end\n",
    "                      \n",
    "  MassActionJump(nothing, nocopy ? rs : copy(rs), ns, pmapper; scale_rates=scale_rates, \n",
    "                 useiszero=useiszero, nocopy=true)\n",
    "end"
   ],
   "outputs": [
    {
     "data": {
      "text/plain": [
       "MassActionJump"
      ]
     },
     "metadata": {},
     "output_type": "display_data"
    }
   ],
   "metadata": {}
  },
  {
   "cell_type": "code",
   "execution_count": 7,
   "source": [
    "@inline get_num_majumps(maj::MassActionJump) = length(maj.scaled_rates)\n",
    "@inline get_num_majumps(maj::Nothing) = 0"
   ],
   "outputs": [
    {
     "data": {
      "text/plain": [
       "get_num_majumps (generic function with 2 methods)"
      ]
     },
     "metadata": {},
     "output_type": "display_data"
    }
   ],
   "metadata": {}
  },
  {
   "cell_type": "code",
   "execution_count": 8,
   "source": [
    "struct ConstantRateJump{F1,F2} <: AbstractJump\n",
    "    rate::F1\n",
    "    affect!::F2\n",
    "end  "
   ],
   "outputs": [],
   "metadata": {}
  },
  {
   "cell_type": "code",
   "execution_count": 9,
   "source": [
    "function scalerates!(unscaled_rates::AbstractVector{U}, stochmat::AbstractVector{V}) where {U,S,T,W <: Pair{S,T}, V <: AbstractVector{W}}\n",
    "    @inbounds for i in eachindex(unscaled_rates)\n",
    "        coef = one(T)\n",
    "        @inbounds for specstoch in stochmat[i]\n",
    "            coef *= factorial(specstoch[2])\n",
    "        end\n",
    "        unscaled_rates[i] /= coef\n",
    "    end\n",
    "    nothing\n",
    "end\n",
    "\n",
    "function scalerate(unscaled_rate::U, stochmat::AbstractVector{Pair{S,T}}) where {U <: Number, S, T}\n",
    "    coef = one(T)\n",
    "    @inbounds for specstoch in stochmat\n",
    "        coef *= factorial(specstoch[2])\n",
    "    end\n",
    "    unscaled_rate /= coef\n",
    "end"
   ],
   "outputs": [
    {
     "data": {
      "text/plain": [
       "scalerate (generic function with 1 method)"
      ]
     },
     "metadata": {},
     "output_type": "display_data"
    }
   ],
   "metadata": {}
  },
  {
   "cell_type": "markdown",
   "source": [
    "## An example of MassActionJump"
   ],
   "metadata": {}
  },
  {
   "cell_type": "code",
   "execution_count": 66,
   "source": [
    "rates1 = [0.1/1000.0]\n",
    "reactant_stoich1 = [[1=>1,2=>1]]\n",
    "net_stoich1 = [[1=>-1,2=>1]]\n",
    "jump1 = MassActionJump(rates1, reactant_stoich1, net_stoich1; scale_rates = false)"
   ],
   "outputs": [
    {
     "data": {
      "text/plain": [
       "MassActionJump{Vector{Float64}, Vector{Vector{Pair{Int64, Int64}}}, Vector{Vector{Pair{Int64, Int64}}}, Nothing}([0.0001], [[1 => 1, 2 => 1]], [[1 => -1, 2 => 1]], nothing)"
      ]
     },
     "metadata": {},
     "output_type": "display_data"
    }
   ],
   "metadata": {}
  },
  {
   "cell_type": "markdown",
   "source": [
    "## An example of ConstantRateJump"
   ],
   "metadata": {}
  },
  {
   "cell_type": "code",
   "execution_count": 67,
   "source": [
    "rate2 = (u,p,t) -> 0.01u[2]\n",
    "affect! = function (integrator)\n",
    "  integrator.u[2] -= 1\n",
    "  integrator.u[3] += 1\n",
    "end\n",
    "jump2 = ConstantRateJump(rate2,affect!)"
   ],
   "outputs": [
    {
     "data": {
      "text/plain": [
       "ConstantRateJump{var\"#18#19\", var\"#20#21\"}(var\"#18#19\"(), var\"#20#21\"())"
      ]
     },
     "metadata": {},
     "output_type": "display_data"
    }
   ],
   "metadata": {}
  },
  {
   "cell_type": "markdown",
   "source": [
    "# Next we want to build aggregator"
   ],
   "metadata": {}
  },
  {
   "cell_type": "code",
   "execution_count": 97,
   "source": [
    "using SciMLBase, Random\n",
    "u0 = [999.,1.,0.]\n",
    "p = SciMLBase.NullParameters()\n",
    "t0 = 0.0 # initial time\n",
    "end_time  = 200.\n",
    "constant_jumps = jump2 \n",
    "ma_jumps = jump1\n",
    "save_positions = (false,false)\n",
    "rng = Random.seed!(1234)"
   ],
   "outputs": [
    {
     "data": {
      "text/plain": [
       "MersenneTwister(1234)"
      ]
     },
     "metadata": {},
     "output_type": "display_data"
    }
   ],
   "metadata": {}
  },
  {
   "cell_type": "code",
   "execution_count": 98,
   "source": [
    "struct JumpSet{T1,T2,T3,T4} <: AbstractJump\n",
    "    variable_jumps::T1\n",
    "    constant_jumps::T2\n",
    "    regular_jump::T3\n",
    "    massaction_jump::T4\n",
    "end"
   ],
   "outputs": [],
   "metadata": {}
  },
  {
   "cell_type": "code",
   "execution_count": 99,
   "source": [
    "jumpset=JumpSet((),(constant_jumps,),nothing,ma_jumps)"
   ],
   "outputs": [
    {
     "data": {
      "text/plain": [
       "JumpSet{Tuple{}, Tuple{ConstantRateJump{var\"#18#19\", var\"#20#21\"}}, Nothing, MassActionJump{Vector{Float64}, Vector{Vector{Pair{Int64, Int64}}}, Vector{Vector{Pair{Int64, Int64}}}, Nothing}}((), (ConstantRateJump{var\"#18#19\", var\"#20#21\"}(var\"#18#19\"(), var\"#20#21\"()),), nothing, MassActionJump{Vector{Float64}, Vector{Vector{Pair{Int64, Int64}}}, Vector{Vector{Pair{Int64, Int64}}}, Nothing}([0.0001], [[1 => 1, 2 => 1]], [[1 => -1, 2 => 1]], nothing))"
      ]
     },
     "metadata": {},
     "output_type": "display_data"
    }
   ],
   "metadata": {}
  },
  {
   "cell_type": "code",
   "execution_count": 100,
   "source": [
    "jumpset.constant_jumps"
   ],
   "outputs": [
    {
     "data": {
      "text/plain": [
       "(ConstantRateJump{var\"#18#19\", var\"#20#21\"}(var\"#18#19\"(), var\"#20#21\"()),)"
      ]
     },
     "metadata": {},
     "output_type": "display_data"
    }
   ],
   "metadata": {}
  },
  {
   "cell_type": "code",
   "execution_count": 101,
   "source": [
    "dja = aggregate(Direct(),u0,p,t0,end_time,jumpset.constant_jumps, jumpset.massaction_jump, save_positions, rng)"
   ],
   "outputs": [
    {
     "data": {
      "text/plain": [
       "DirectJumpAggregation{Float64, MassActionJump{Vector{Float64}, Vector{Vector{Pair{Int64, Int64}}}, Vector{Vector{Pair{Int64, Int64}}}, Nothing}, Tuple{var\"#18#19\"}, Tuple{var\"#20#21\"}, MersenneTwister}(0, 0, Inf, 200.0, [2.2860795294e-314, 2.2857227113e-314], 0.0, MassActionJump{Vector{Float64}, Vector{Vector{Pair{Int64, Int64}}}, Vector{Vector{Pair{Int64, Int64}}}, Nothing}([0.0001], [[1 => 1, 2 => 1]], [[1 => -1, 2 => 1]], nothing), (var\"#18#19\"(),), (var\"#20#21\"(),), (false, false), MersenneTwister(1234))"
      ]
     },
     "metadata": {},
     "output_type": "display_data"
    }
   ],
   "metadata": {}
  },
  {
   "cell_type": "markdown",
   "source": [
    "## So if we look at the aggregator, the issue is that the next_jump_time = Inf, this is normall because we haven't initialize the prob, in order to do it, one needs to define the `JumpProblem`. Maybe we can skip the defining the DEProblem, because it will have a lot of dependencies. So one idea is to just update `aggregator` for the first time."
   ],
   "metadata": {}
  },
  {
   "cell_type": "code",
   "execution_count": 102,
   "source": [
    "\n",
    "\"\"\"\n",
    "fill_rates_and_sum!(p::AbstractSSAJumpAggregator, u, params, t)\n",
    "\n",
    "Reevaluate all rates and their sum.\n",
    "\"\"\"\n",
    "function fill_rates_and_sum!(p::AbstractSSAJumpAggregator, u, params, t)\n",
    "    sum_rate = zero(typeof(p.sum_rate))\n",
    "\n",
    "    # mass action jumps\n",
    "    majumps   = p.ma_jumps\n",
    "    cur_rates = p.cur_rates\n",
    "    @inbounds for i in 1:get_num_majumps(majumps)\n",
    "        cur_rates[i] = evalrxrate(u, i, majumps)\n",
    "        sum_rate    += cur_rates[i]\n",
    "    end\n",
    "\n",
    "    # constant rates\n",
    "    rates = p.rates\n",
    "    idx   = get_num_majumps(majumps) + 1\n",
    "    @inbounds for rate in rates\n",
    "        cur_rates[idx] = rate(u, params, t)\n",
    "        sum_rate += cur_rates[idx]\n",
    "        idx += 1\n",
    "    end\n",
    "\n",
    "    p.sum_rate = sum_rate\n",
    "    nothing\n",
    "end\n",
    "@inline @fastmath function evalrxrate(speciesvec::AbstractVector{T}, rxidx::S, majump::MassActionJump{U,V,W,X})::R where {T,S,R,U <: AbstractVector{R},V,W,X}\n",
    "    val = one(T)\n",
    "    @inbounds for specstoch in majump.reactant_stoch[rxidx]\n",
    "        specpop = speciesvec[specstoch[1]]\n",
    "        val    *= specpop\n",
    "        @inbounds for k = 2:specstoch[2]\n",
    "            specpop -= one(specpop)\n",
    "            val     *= specpop\n",
    "        end\n",
    "    end\n",
    "\n",
    "    @inbounds return val * majump.scaled_rates[rxidx]\n",
    "end"
   ],
   "outputs": [
    {
     "data": {
      "text/plain": [
       "evalrxrate (generic function with 1 method)"
      ]
     },
     "metadata": {},
     "output_type": "display_data"
    }
   ],
   "metadata": {}
  },
  {
   "cell_type": "markdown",
   "source": [
    "## update the rates and sum of rates"
   ],
   "metadata": {}
  },
  {
   "cell_type": "code",
   "execution_count": 103,
   "source": [
    "fill_rates_and_sum!(dja, u0, p, t0 )"
   ],
   "outputs": [],
   "metadata": {}
  },
  {
   "cell_type": "code",
   "execution_count": 104,
   "source": [
    "dja"
   ],
   "outputs": [
    {
     "data": {
      "text/plain": [
       "DirectJumpAggregation{Float64, MassActionJump{Vector{Float64}, Vector{Vector{Pair{Int64, Int64}}}, Vector{Vector{Pair{Int64, Int64}}}, Nothing}, Tuple{var\"#18#19\"}, Tuple{var\"#20#21\"}, MersenneTwister}(0, 0, Inf, 200.0, [0.0999, 0.01], 0.1099, MassActionJump{Vector{Float64}, Vector{Vector{Pair{Int64, Int64}}}, Vector{Vector{Pair{Int64, Int64}}}, Nothing}([0.0001], [[1 => 1, 2 => 1]], [[1 => -1, 2 => 1]], nothing), (var\"#18#19\"(),), (var\"#20#21\"(),), (false, false), MersenneTwister(1234))"
      ]
     },
     "metadata": {},
     "output_type": "display_data"
    }
   ],
   "metadata": {}
  },
  {
   "cell_type": "code",
   "execution_count": 105,
   "source": [
    "function initialize!(p::DirectJumpAggregation, integrator, u, params, t)\n",
    "  generate_jumps!(p, integrator, u, params, t)\n",
    "  nothing\n",
    "end\n",
    "# calculate the next jump / jump time\n",
    "function generate_jumps!(p::DirectJumpAggregation, integrator, u, params, t)\n",
    "  p.sum_rate, ttnj = time_to_next_jump(p, u, params, t)\n",
    "  @fastmath p.next_jump_time = t + ttnj\n",
    "  @inbounds p.next_jump = searchsortedfirst(p.cur_rates, rand(p.rng) * p.sum_rate) # 这里用到了 searchsortedfirst 是一个加速的function\n",
    "  nothing\n",
    "end"
   ],
   "outputs": [
    {
     "data": {
      "text/plain": [
       "generate_jumps! (generic function with 1 method)"
      ]
     },
     "metadata": {},
     "output_type": "display_data"
    }
   ],
   "metadata": {}
  },
  {
   "cell_type": "markdown",
   "source": [
    "## 下面这个是核心函数，这个决定如何更新 \n",
    "- `next_jump`\n",
    "- `next_jump_time`\n",
    "- `sum_rate`"
   ],
   "metadata": {}
  },
  {
   "cell_type": "code",
   "execution_count": 106,
   "source": [
    "@fastmath function time_to_next_jump(p::DirectJumpAggregation{T,S,F1,F2,RNG}, u, params, t) where {T,S,F1 <: Tuple, F2 <: Tuple, RNG}\n",
    "  prev_rate = zero(t)\n",
    "  new_rate  = zero(t)\n",
    "  cur_rates = p.cur_rates\n",
    "\n",
    "  # mass action rates\n",
    "  majumps   = p.ma_jumps\n",
    "  idx       = get_num_majumps(majumps)\n",
    "  @inbounds for i in 1:idx\n",
    "    new_rate     = evalrxrate(u, i, majumps)\n",
    "    cur_rates[i] = new_rate + prev_rate\n",
    "    prev_rate    = cur_rates[i]\n",
    "  end\n",
    "\n",
    "  # constant jump rates\n",
    "  rates = p.rates\n",
    "  if !isempty(rates)\n",
    "    idx  += 1\n",
    "    fill_cur_rates(u, params, t, cur_rates, idx, rates...)\n",
    "    @inbounds for i in idx:length(cur_rates)\n",
    "      cur_rates[i] = cur_rates[i] + prev_rate\n",
    "      prev_rate    = cur_rates[i]\n",
    "    end\n",
    "  end\n",
    "\n",
    "  @inbounds sum_rate = cur_rates[end]\n",
    "  sum_rate, randexp(p.rng) / sum_rate\n",
    "end\n",
    "@inline function fill_cur_rates(u, p, t, cur_rates, idx, rate, rates...)\n",
    "  @inbounds cur_rates[idx] = rate(u, p, t)\n",
    "  idx += 1\n",
    "  fill_cur_rates(u, p, t, cur_rates, idx, rates...)\n",
    "end\n",
    "\n",
    "@inline function fill_cur_rates(u, p, t, cur_rates, idx, rate)\n",
    "  @inbounds cur_rates[idx] = rate(u, p, t)\n",
    "  nothing\n",
    "end\n"
   ],
   "outputs": [
    {
     "data": {
      "text/plain": [
       "fill_cur_rates (generic function with 2 methods)"
      ]
     },
     "metadata": {},
     "output_type": "display_data"
    }
   ],
   "metadata": {}
  },
  {
   "cell_type": "markdown",
   "source": [
    "## Now the Integrator is needed \n",
    "## First, let us construct the `Integrator`, which encodes the time and state information"
   ],
   "metadata": {}
  },
  {
   "cell_type": "code",
   "execution_count": 79,
   "source": [
    "mutable struct Integrator{T}\n",
    "    u::Vector{T}\n",
    "    t::Float64\n",
    "    p::Union{Vector{T},SciMLBase.NullParameters}\n",
    "end "
   ],
   "outputs": [],
   "metadata": {}
  },
  {
   "cell_type": "code",
   "execution_count": 107,
   "source": [
    "integrator = Integrator(copy(u0),copy(t0),p)"
   ],
   "outputs": [
    {
     "data": {
      "text/plain": [
       "Integrator{Float64}([999.0, 1.0, 0.0], 0.0, SciMLBase.NullParameters())"
      ]
     },
     "metadata": {},
     "output_type": "display_data"
    }
   ],
   "metadata": {}
  },
  {
   "cell_type": "code",
   "execution_count": 108,
   "source": [
    "integrator.u"
   ],
   "outputs": [
    {
     "data": {
      "text/plain": [
       "3-element Vector{Float64}:\n",
       " 999.0\n",
       "   1.0\n",
       "   0.0"
      ]
     },
     "metadata": {},
     "output_type": "display_data"
    }
   ],
   "metadata": {}
  },
  {
   "cell_type": "code",
   "execution_count": 109,
   "source": [
    "initialize!(dja, integrator, copy(u0), p, copy(t0))"
   ],
   "outputs": [],
   "metadata": {}
  },
  {
   "cell_type": "code",
   "execution_count": 110,
   "source": [
    "dja"
   ],
   "outputs": [
    {
     "data": {
      "text/plain": [
       "DirectJumpAggregation{Float64, MassActionJump{Vector{Float64}, Vector{Vector{Pair{Int64, Int64}}}, Vector{Vector{Pair{Int64, Int64}}}, Nothing}, Tuple{var\"#18#19\"}, Tuple{var\"#20#21\"}, MersenneTwister}(1, 0, 22.597865080896174, 200.0, [0.0999, 0.1099], 0.1099, MassActionJump{Vector{Float64}, Vector{Vector{Pair{Int64, Int64}}}, Vector{Vector{Pair{Int64, Int64}}}, Nothing}([0.0001], [[1 => 1, 2 => 1]], [[1 => -1, 2 => 1]], nothing), (var\"#18#19\"(),), (var\"#20#21\"(),), (false, false), MersenneTwister(1234, (0, 1002, 0, 2)))"
      ]
     },
     "metadata": {},
     "output_type": "display_data"
    }
   ],
   "metadata": {}
  },
  {
   "cell_type": "code",
   "execution_count": 111,
   "source": [
    "integrator"
   ],
   "outputs": [
    {
     "data": {
      "text/plain": [
       "Integrator{Float64}([999.0, 1.0, 0.0], 0.0, SciMLBase.NullParameters())"
      ]
     },
     "metadata": {},
     "output_type": "display_data"
    }
   ],
   "metadata": {}
  },
  {
   "cell_type": "markdown",
   "source": [
    "## Next step update integrator, the key function is `update_state!`"
   ],
   "metadata": {}
  },
  {
   "cell_type": "code",
   "execution_count": 112,
   "source": [
    "using UnPack, StaticArrays\n",
    "function (p::AbstractSSAJumpAggregator)(integrator)\n",
    "    execute_jumps!(p, integrator, integrator.u, integrator.p, integrator.t)\n",
    "    generate_jumps!(p, integrator, integrator.u, integrator.p, integrator.t)\n",
    "    nothing\n",
    "end\n",
    "@inline function execute_jumps!(p::DirectJumpAggregation, integrator, u, params, t)\n",
    "    update_state!(p, integrator, u)\n",
    "    nothing\n",
    "end\n",
    "@inline function update_state!(p::AbstractSSAJumpAggregator, integrator, u)\n",
    "    @unpack ma_jumps, next_jump = p\n",
    "    num_ma_rates = get_num_majumps(ma_jumps)\n",
    "    if next_jump <= num_ma_rates # is next jump a mass action jump\n",
    "        if u isa SVector\n",
    "            integrator.u = executerx(u, next_jump, ma_jumps)\n",
    "        else\n",
    "            @inbounds executerx!(u, next_jump, ma_jumps)\n",
    "        end\n",
    "    else\n",
    "        idx = next_jump - num_ma_rates\n",
    "        @inbounds p.affects![idx](integrator)\n",
    "    end\n",
    "\n",
    "    # save jump that was just executed\n",
    "    p.prev_jump = next_jump\n",
    "    return integrator.u\n",
    "end\n",
    "@inline @fastmath function executerx!(speciesvec::AbstractVector{T}, rxidx::S,\n",
    "    majump::MassActionJump{U,V,W,X}) where {T,S,U,V,W,X}\n",
    "@inbounds net_stoch = majump.net_stoch[rxidx]\n",
    "@inbounds for specstoch in net_stoch\n",
    "speciesvec[specstoch[1]] += specstoch[2]\n",
    "end\n",
    "nothing\n",
    "end\n"
   ],
   "outputs": [
    {
     "data": {
      "text/plain": [
       "executerx! (generic function with 1 method)"
      ]
     },
     "metadata": {},
     "output_type": "display_data"
    }
   ],
   "metadata": {}
  },
  {
   "cell_type": "code",
   "execution_count": 113,
   "source": [
    "dja(integrator)"
   ],
   "outputs": [],
   "metadata": {}
  },
  {
   "cell_type": "code",
   "execution_count": 114,
   "source": [
    "integrator"
   ],
   "outputs": [
    {
     "data": {
      "text/plain": [
       "Integrator{Float64}([998.0, 2.0, 0.0], 0.0, SciMLBase.NullParameters())"
      ]
     },
     "metadata": {},
     "output_type": "display_data"
    }
   ],
   "metadata": {}
  },
  {
   "cell_type": "code",
   "execution_count": 115,
   "source": [
    "dja(integrator)"
   ],
   "outputs": [],
   "metadata": {}
  },
  {
   "cell_type": "code",
   "execution_count": 116,
   "source": [
    "dja"
   ],
   "outputs": [
    {
     "data": {
      "text/plain": [
       "DirectJumpAggregation{Float64, MassActionJump{Vector{Float64}, Vector{Vector{Pair{Int64, Int64}}}, Vector{Vector{Pair{Int64, Int64}}}, Nothing}, Tuple{var\"#18#19\"}, Tuple{var\"#20#21\"}, MersenneTwister}(1, 1, 3.96997761029981, 200.0, [0.29910000000000003, 0.32910000000000006], 0.32910000000000006, MassActionJump{Vector{Float64}, Vector{Vector{Pair{Int64, Int64}}}, Vector{Vector{Pair{Int64, Int64}}}, Nothing}([0.0001], [[1 => 1, 2 => 1]], [[1 => -1, 2 => 1]], nothing), (var\"#18#19\"(),), (var\"#20#21\"(),), (false, false), MersenneTwister(1234, (0, 1002, 0, 6)))"
      ]
     },
     "metadata": {},
     "output_type": "display_data"
    }
   ],
   "metadata": {}
  },
  {
   "cell_type": "code",
   "execution_count": 118,
   "source": [
    "integrator"
   ],
   "outputs": [
    {
     "data": {
      "text/plain": [
       "Integrator{Float64}([997.0, 3.0, 0.0], 0.0, SciMLBase.NullParameters())"
      ]
     },
     "metadata": {},
     "output_type": "display_data"
    }
   ],
   "metadata": {}
  },
  {
   "cell_type": "code",
   "execution_count": 120,
   "source": [
    "u0, t0"
   ],
   "outputs": [
    {
     "data": {
      "text/plain": [
       "([999.0, 1.0, 0.0], 0.0)"
      ]
     },
     "metadata": {},
     "output_type": "display_data"
    }
   ],
   "metadata": {}
  },
  {
   "cell_type": "markdown",
   "source": [
    "# So up to now we are able to update the integrator by each iteration.\n",
    "## Next question is how to store to integrator in a list"
   ],
   "metadata": {}
  },
  {
   "cell_type": "code",
   "execution_count": 33,
   "source": [
    "mutable struct SSAIntegrator{uType,tType,P,S,SA} \n",
    "    u::uType\n",
    "    t::tType\n",
    "    tprev::tType\n",
    "    p::P\n",
    "    sol::S\n",
    "    i::Int\n",
    "    saveat::SA\n",
    "    cur_saveat::Int\n",
    "    end_time::tType\n",
    "    save_end::Bool\n",
    "end"
   ],
   "outputs": [],
   "metadata": {}
  },
  {
   "cell_type": "code",
   "execution_count": 34,
   "source": [
    "mutable struct SSASolution{tType,uType}\n",
    "    t::Vector{tType}\n",
    "    u::Vector{uType}\n",
    "end"
   ],
   "outputs": [],
   "metadata": {}
  },
  {
   "cell_type": "code",
   "execution_count": 128,
   "source": [
    "ssa_sol = SSASolution([],[])"
   ],
   "outputs": [
    {
     "data": {
      "text/plain": [
       "SSASolution{Any, Any}(Any[], Any[])"
      ]
     },
     "metadata": {},
     "output_type": "display_data"
    }
   ],
   "metadata": {}
  },
  {
   "cell_type": "code",
   "execution_count": 129,
   "source": [
    "integrator"
   ],
   "outputs": [
    {
     "data": {
      "text/plain": [
       "Integrator{Float64}([997.0, 3.0, 0.0], 0.0, SciMLBase.NullParameters())"
      ]
     },
     "metadata": {},
     "output_type": "display_data"
    }
   ],
   "metadata": {}
  },
  {
   "cell_type": "code",
   "execution_count": 130,
   "source": [
    "dja"
   ],
   "outputs": [
    {
     "data": {
      "text/plain": [
       "DirectJumpAggregation{Float64, MassActionJump{Vector{Float64}, Vector{Vector{Pair{Int64, Int64}}}, Vector{Vector{Pair{Int64, Int64}}}, Nothing}, Tuple{var\"#18#19\"}, Tuple{var\"#20#21\"}, MersenneTwister}(1, 1, 3.96997761029981, 200.0, [0.29910000000000003, 0.32910000000000006], 0.32910000000000006, MassActionJump{Vector{Float64}, Vector{Vector{Pair{Int64, Int64}}}, Vector{Vector{Pair{Int64, Int64}}}, Nothing}([0.0001], [[1 => 1, 2 => 1]], [[1 => -1, 2 => 1]], nothing), (var\"#18#19\"(),), (var\"#20#21\"(),), (false, false), MersenneTwister(1234, (0, 1002, 0, 6)))"
      ]
     },
     "metadata": {},
     "output_type": "display_data"
    }
   ],
   "metadata": {}
  },
  {
   "cell_type": "code",
   "execution_count": 131,
   "source": [
    "current_time = 0.\n",
    "next_end_time = dja.next_jump_time + current_time\n",
    "ssaintegrator = SSAIntegrator(copy(u0),copy(t0),0.,p,ssa_sol,0,0:1:200,1,next_end_time,true)"
   ],
   "outputs": [
    {
     "data": {
      "text/plain": [
       "SSAIntegrator{Vector{Float64}, Float64, SciMLBase.NullParameters, SSASolution{Any, Any}, StepRange{Int64, Int64}}([999.0, 1.0, 0.0], 0.0, 0.0, SciMLBase.NullParameters(), SSASolution{Any, Any}(Any[], Any[]), 0, 0:1:200, 1, 3.96997761029981, true)"
      ]
     },
     "metadata": {},
     "output_type": "display_data"
    }
   ],
   "metadata": {}
  },
  {
   "cell_type": "code",
   "execution_count": 132,
   "source": [
    "using DiffEqBase\n",
    "function DiffEqBase.solve!(integrator)\n",
    "    end_time = integrator.end_time\n",
    "    integrator.t = end_time\n",
    "    if integrator.saveat !== nothing && !isempty(integrator.saveat)\n",
    "        # Split to help prediction\n",
    "        while integrator.cur_saveat <= length(integrator.saveat) &&\n",
    "           integrator.saveat[integrator.cur_saveat] < integrator.t\n",
    "\n",
    "            push!(integrator.sol.t,integrator.saveat[integrator.cur_saveat])\n",
    "            push!(integrator.sol.u,copy(integrator.u))\n",
    "            integrator.cur_saveat += 1\n",
    "\n",
    "        end\n",
    "    end\n",
    "\n",
    "    if integrator.save_end && integrator.sol.t[end] != end_time\n",
    "        push!(integrator.sol.t,end_time)\n",
    "        push!(integrator.sol.u,copy(integrator.u))\n",
    "    end\n",
    "end"
   ],
   "outputs": [],
   "metadata": {}
  },
  {
   "cell_type": "code",
   "execution_count": 133,
   "source": [
    "solve!(ssaintegrator)"
   ],
   "outputs": [
    {
     "data": {
      "text/plain": [
       "5-element Vector{Any}:\n",
       " [999.0, 1.0, 0.0]\n",
       " [999.0, 1.0, 0.0]\n",
       " [999.0, 1.0, 0.0]\n",
       " [999.0, 1.0, 0.0]\n",
       " [999.0, 1.0, 0.0]"
      ]
     },
     "metadata": {},
     "output_type": "display_data"
    }
   ],
   "metadata": {}
  },
  {
   "cell_type": "code",
   "execution_count": 136,
   "source": [
    "ssaintegrator.sol.t"
   ],
   "outputs": [
    {
     "data": {
      "text/plain": [
       "5-element Vector{Any}:\n",
       " 0\n",
       " 1\n",
       " 2\n",
       " 3\n",
       " 3.96997761029981"
      ]
     },
     "metadata": {},
     "output_type": "display_data"
    }
   ],
   "metadata": {}
  },
  {
   "cell_type": "code",
   "execution_count": null,
   "source": [],
   "outputs": [],
   "metadata": {}
  }
 ],
 "metadata": {
  "orig_nbformat": 4,
  "language_info": {
   "name": "python"
  }
 },
 "nbformat": 4,
 "nbformat_minor": 2
}