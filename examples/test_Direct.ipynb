{
 "cells": [
  {
   "cell_type": "code",
   "execution_count": 1,
   "source": [
    "abstract type AbstractJumpAggregator end\r\n",
    "abstract type AbstractJump end\r\n",
    "abstract type AbstractSSAJumpAggregator <: AbstractJumpAggregator end\r\n",
    "mutable struct DirectJumpAggregation{T,S,F1,F2,RNG} <: AbstractSSAJumpAggregator\r\n",
    "  next_jump::Int\r\n",
    "  prev_jump::Int\r\n",
    "  next_jump_time::T\r\n",
    "  end_time::T\r\n",
    "  cur_rates::Vector{T}\r\n",
    "  sum_rate::T\r\n",
    "  ma_jumps::S\r\n",
    "  rates::F1\r\n",
    "  affects!::F2\r\n",
    "  save_positions::Tuple{Bool,Bool}\r\n",
    "  rng::RNG\r\n",
    "end\r\n",
    "DirectJumpAggregation(nj::Int, njt::T, et::T, crs::Vector{T}, sr::T, maj::S, rs::F1, affs!::F2, sps::Tuple{Bool,Bool}, rng::RNG; kwargs...) where {T,S,F1,F2,RNG} =\r\n",
    "  DirectJumpAggregation{T,S,F1,F2,RNG}(nj, nj, njt, et, crs, sr, maj, rs, affs!, sps, rng)"
   ],
   "outputs": [
    {
     "data": {
      "text/plain": [
       "DirectJumpAggregation"
      ]
     },
     "metadata": {},
     "output_type": "display_data"
    }
   ],
   "metadata": {}
  },
  {
   "cell_type": "code",
   "execution_count": 2,
   "source": [
    "abstract type AbstractAggregatorAlgorithm end\r\n",
    "struct Direct <: AbstractAggregatorAlgorithm end"
   ],
   "outputs": [],
   "metadata": {}
  },
  {
   "cell_type": "code",
   "execution_count": 3,
   "source": [
    "# creating the JumpAggregation structure (tuple-based constant jumps)\r\n",
    "function aggregate(aggregator::Direct, u, p, t, end_time, constant_jumps,\r\n",
    "    ma_jumps, save_positions, rng; kwargs...)\r\n",
    "\r\n",
    "# handle constant jumps using tuples\r\n",
    "rates, affects! = get_jump_info_tuples(constant_jumps)\r\n",
    "\r\n",
    "build_jump_aggregation(DirectJumpAggregation, u, p, t, end_time, ma_jumps,\r\n",
    "          rates, affects!, save_positions, rng; kwargs...)\r\n",
    "end"
   ],
   "outputs": [
    {
     "data": {
      "text/plain": [
       "aggregate (generic function with 1 method)"
      ]
     },
     "metadata": {},
     "output_type": "display_data"
    }
   ],
   "metadata": {}
  },
  {
   "cell_type": "code",
   "execution_count": 4,
   "source": [
    "function get_jump_info_tuples(constant_jumps)\r\n",
    "    if (constant_jumps !== nothing) && !isempty(constant_jumps)\r\n",
    "      rates    = ((c.rate for c in constant_jumps)...,)\r\n",
    "      affects! = ((c.affect! for c in constant_jumps)...,)\r\n",
    "    else\r\n",
    "      rates    = ()\r\n",
    "      affects! = ()\r\n",
    "    end\r\n",
    "  \r\n",
    "    rates, affects!\r\n",
    "  end"
   ],
   "outputs": [
    {
     "data": {
      "text/plain": [
       "get_jump_info_tuples (generic function with 1 method)"
      ]
     },
     "metadata": {},
     "output_type": "display_data"
    }
   ],
   "metadata": {}
  },
  {
   "cell_type": "code",
   "execution_count": 5,
   "source": [
    "function build_jump_aggregation(jump_agg_type, u, p, t, end_time, ma_jumps, rates,\r\n",
    "    affects!, save_positions, rng; kwargs...)\r\n",
    "\r\n",
    "# mass action jumps\r\n",
    "majumps = ma_jumps\r\n",
    "if majumps === nothing\r\n",
    "majumps = MassActionJump(Vector{typeof(t)}(),\r\n",
    " Vector{Vector{Pair{Int,eltype(u)}}}(),\r\n",
    " Vector{Vector{Pair{Int,eltype(u)}}}())\r\n",
    "end\r\n",
    "\r\n",
    "# current jump rates, allows mass action rates and constant jumps\r\n",
    "cur_rates = Vector{typeof(t)}(undef, get_num_majumps(majumps) + length(rates))\r\n",
    "\r\n",
    "sum_rate = zero(typeof(t))\r\n",
    "next_jump = 0\r\n",
    "next_jump_time = typemax(typeof(t))\r\n",
    "jump_agg_type(next_jump, next_jump_time, end_time, cur_rates, sum_rate,\r\n",
    "majumps, rates, affects!, save_positions, rng; kwargs...)\r\n",
    "end"
   ],
   "outputs": [
    {
     "data": {
      "text/plain": [
       "build_jump_aggregation (generic function with 1 method)"
      ]
     },
     "metadata": {},
     "output_type": "display_data"
    }
   ],
   "metadata": {}
  },
  {
   "cell_type": "markdown",
   "source": [
    "## where `get_num_majumps` is defined by:"
   ],
   "metadata": {}
  },
  {
   "cell_type": "markdown",
   "source": [
    "Here invoque type `MassActionJump`  so have to define it as follows"
   ],
   "metadata": {}
  },
  {
   "cell_type": "markdown",
   "source": [
    "# Define ConstantRateJump and MassActionJump"
   ],
   "metadata": {}
  },
  {
   "cell_type": "code",
   "execution_count": 6,
   "source": [
    "#TODO Simplify the code pmapper maybe\r\n",
    "struct MassActionJump{T,S,U,V} <: AbstractJump\r\n",
    "    scaled_rates::T\r\n",
    "    reactant_stoch::S\r\n",
    "    net_stoch::U\r\n",
    "    param_mapper::V\r\n",
    "  \r\n",
    "    function MassActionJump{T,S,U,V}(rates::T, rs_in::S, ns::U, pmapper::V, scale_rates::Bool, useiszero::Bool, nocopy::Bool) where {T <: AbstractVector, S, U, V}\r\n",
    "      sr  = nocopy ? rates : copy(rates)\r\n",
    "      rs = nocopy ? rs_in : copy(rs_in)\r\n",
    "      for i in eachindex(rs)\r\n",
    "        if useiszero && (length(rs[i]) == 1) && iszero(rs[i][1][1])\r\n",
    "          rs[i] = typeof(rs[i])()\r\n",
    "        end\r\n",
    "      end\r\n",
    "  \r\n",
    "      if scale_rates && !isempty(sr)\r\n",
    "        scalerates!(sr, rs)\r\n",
    "      end\r\n",
    "      new(sr, rs, ns, pmapper)\r\n",
    "    end\r\n",
    "    function MassActionJump{Nothing,Vector{S},Vector{U},V}(::Nothing, rs_in::Vector{S}, ns::Vector{U}, pmapper::V, scale_rates::Bool, useiszero::Bool, nocopy::Bool) where {S<:AbstractVector, U<:AbstractVector, V}\r\n",
    "      rs = nocopy ? rs_in : copy(rs_in)\r\n",
    "      for i in eachindex(rs)\r\n",
    "        if useiszero && (length(rs[i]) == 1) && iszero(rs[i][1][1])\r\n",
    "          rs[i] = typeof(rs[i])()\r\n",
    "        end\r\n",
    "      end\r\n",
    "      new(nothing, rs, ns, pmapper)\r\n",
    "    end\r\n",
    "    function MassActionJump{T,S,U,V}(rate::T, rs_in::S, ns::U, pmapper::V, scale_rates::Bool, useiszero::Bool, nocopy::Bool) where {T <: Number, S, U, V}\r\n",
    "      rs = rs_in\r\n",
    "      if useiszero && (length(rs) == 1) && iszero(rs[1][1])\r\n",
    "        rs = typeof(rs)()\r\n",
    "      end\r\n",
    "      sr = scale_rates ? scalerate(rate, rs) : rate\r\n",
    "      new(sr, rs, ns, pmapper)\r\n",
    "    end\r\n",
    "    function MassActionJump{Nothing,S,U,V}(::Nothing, rs_in::S, ns::U, pmapper::V, scale_rates::Bool, useiszero::Bool, nocopy::Bool) where {S, U, V}\r\n",
    "      rs = rs_in\r\n",
    "      if useiszero && (length(rs) == 1) && iszero(rs[1][1])\r\n",
    "        rs = typeof(rs)()\r\n",
    "      end\r\n",
    "      new(nothing, rs, ns, pmapper)\r\n",
    "    end\r\n",
    "  \r\n",
    "end\r\n",
    "MassActionJump(usr::T, rs::S, ns::U, pmapper::V; scale_rates = true, useiszero = true, nocopy=false) where {T,S,U,V} = MassActionJump{T,S,U,V}(usr, rs, ns, pmapper, scale_rates, useiszero, nocopy)\r\n",
    "\r\n",
    "MassActionJump(usr::T, rs, ns; scale_rates = true, useiszero = true, nocopy=false) where {T <: AbstractVector,S,U} = MassActionJump(usr, rs, ns, nothing; scale_rates=scale_rates, useiszero=useiszero, nocopy=nocopy)\r\n",
    "\r\n",
    "MassActionJump(usr::T, rs, ns; scale_rates = true, useiszero = true, nocopy=false) where {T <: Number,S,U} = MassActionJump(usr, rs, ns, nothing; scale_rates=scale_rates, useiszero=useiszero, nocopy=nocopy)\r\n",
    "\r\n",
    "# with parameter indices or mapping, multiple jump case\r\n",
    "function MassActionJump(rs, ns; param_idxs=nothing, param_mapper=nothing, scale_rates = true, useiszero = true, nocopy=false)\r\n",
    "  if param_mapper === nothing \r\n",
    "    (param_idxs === nothing) && error(\"If no parameter indices are given via param_idxs, an explicit parameter mapping must be passed in via param_mapper.\")\r\n",
    "    pmapper = MassActionJumpParamMapper(param_idxs)\r\n",
    "  else\r\n",
    "    (param_idxs !== nothing) && error(\"Only one of param_idxs and param_mapper should be passed.\")\r\n",
    "    pmapper = param_mapper\r\n",
    "  end\r\n",
    "                      \r\n",
    "  MassActionJump(nothing, nocopy ? rs : copy(rs), ns, pmapper; scale_rates=scale_rates, \r\n",
    "                 useiszero=useiszero, nocopy=true)\r\n",
    "end"
   ],
   "outputs": [
    {
     "data": {
      "text/plain": [
       "MassActionJump"
      ]
     },
     "metadata": {},
     "output_type": "display_data"
    }
   ],
   "metadata": {}
  },
  {
   "cell_type": "code",
   "execution_count": 7,
   "source": [
    "@inline get_num_majumps(maj::MassActionJump) = length(maj.scaled_rates)\r\n",
    "@inline get_num_majumps(maj::Nothing) = 0"
   ],
   "outputs": [
    {
     "data": {
      "text/plain": [
       "get_num_majumps (generic function with 2 methods)"
      ]
     },
     "metadata": {},
     "output_type": "display_data"
    }
   ],
   "metadata": {}
  },
  {
   "cell_type": "code",
   "execution_count": 8,
   "source": [
    "struct ConstantRateJump{F1,F2} <: AbstractJump\r\n",
    "    rate::F1\r\n",
    "    affect!::F2\r\n",
    "end  "
   ],
   "outputs": [],
   "metadata": {}
  },
  {
   "cell_type": "code",
   "execution_count": 9,
   "source": [
    "function scalerates!(unscaled_rates::AbstractVector{U}, stochmat::AbstractVector{V}) where {U,S,T,W <: Pair{S,T}, V <: AbstractVector{W}}\r\n",
    "    @inbounds for i in eachindex(unscaled_rates)\r\n",
    "        coef = one(T)\r\n",
    "        @inbounds for specstoch in stochmat[i]\r\n",
    "            coef *= factorial(specstoch[2])\r\n",
    "        end\r\n",
    "        unscaled_rates[i] /= coef\r\n",
    "    end\r\n",
    "    nothing\r\n",
    "end\r\n",
    "\r\n",
    "function scalerate(unscaled_rate::U, stochmat::AbstractVector{Pair{S,T}}) where {U <: Number, S, T}\r\n",
    "    coef = one(T)\r\n",
    "    @inbounds for specstoch in stochmat\r\n",
    "        coef *= factorial(specstoch[2])\r\n",
    "    end\r\n",
    "    unscaled_rate /= coef\r\n",
    "end"
   ],
   "outputs": [
    {
     "data": {
      "text/plain": [
       "scalerate (generic function with 1 method)"
      ]
     },
     "metadata": {},
     "output_type": "display_data"
    }
   ],
   "metadata": {}
  },
  {
   "cell_type": "markdown",
   "source": [
    "## An example of MassActionJump"
   ],
   "metadata": {}
  },
  {
   "cell_type": "code",
   "execution_count": 10,
   "source": [
    "rates1 = [0.1/1000.0]\r\n",
    "reactant_stoich1 = [[1=>1,2=>1]]\r\n",
    "net_stoich1 = [[1=>-1,2=>1]]\r\n",
    "jump1 = MassActionJump(rates1, reactant_stoich1, net_stoich1; scale_rates = false)"
   ],
   "outputs": [
    {
     "data": {
      "text/plain": [
       "MassActionJump{Vector{Float64}, Vector{Vector{Pair{Int64, Int64}}}, Vector{Vector{Pair{Int64, Int64}}}, Nothing}([0.0001], [[1 => 1, 2 => 1]], [[1 => -1, 2 => 1]], nothing)"
      ]
     },
     "metadata": {},
     "output_type": "display_data"
    }
   ],
   "metadata": {}
  },
  {
   "cell_type": "markdown",
   "source": [
    "## An example of ConstantRateJump"
   ],
   "metadata": {}
  },
  {
   "cell_type": "code",
   "execution_count": 11,
   "source": [
    "rate2 = (u,p,t) -> 0.01u[2]\r\n",
    "affect! = function (integrator)\r\n",
    "  integrator.u[2] -= 1\r\n",
    "  integrator.u[3] += 1\r\n",
    "end\r\n",
    "jump2 = ConstantRateJump(rate2,affect!)"
   ],
   "outputs": [
    {
     "data": {
      "text/plain": [
       "ConstantRateJump{var\"#14#15\", var\"#16#17\"}(var\"#14#15\"(), var\"#16#17\"())"
      ]
     },
     "metadata": {},
     "output_type": "display_data"
    }
   ],
   "metadata": {}
  },
  {
   "cell_type": "markdown",
   "source": [
    "# Next we want to build aggregator"
   ],
   "metadata": {}
  },
  {
   "cell_type": "code",
   "execution_count": 12,
   "source": [
    "using SciMLBase, Random\r\n",
    "u0 = [999.,1.,0.]\r\n",
    "p = SciMLBase.NullParameters()\r\n",
    "t0 = 0.0 # initial time\r\n",
    "end_time  = 200.\r\n",
    "constant_jumps = jump2 \r\n",
    "ma_jumps = jump1\r\n",
    "save_positions = (false,false)\r\n",
    "rng = Random.seed!(1234)"
   ],
   "outputs": [
    {
     "data": {
      "text/plain": [
       "MersenneTwister(1234)"
      ]
     },
     "metadata": {},
     "output_type": "display_data"
    }
   ],
   "metadata": {}
  },
  {
   "cell_type": "code",
   "execution_count": 13,
   "source": [
    "struct JumpSet{T1,T2,T3,T4} <: AbstractJump\r\n",
    "    variable_jumps::T1\r\n",
    "    constant_jumps::T2\r\n",
    "    regular_jump::T3\r\n",
    "    massaction_jump::T4\r\n",
    "end"
   ],
   "outputs": [],
   "metadata": {}
  },
  {
   "cell_type": "code",
   "execution_count": 14,
   "source": [
    "jumpset=JumpSet((),(constant_jumps,),nothing,ma_jumps)"
   ],
   "outputs": [
    {
     "data": {
      "text/plain": [
       "JumpSet{Tuple{}, Tuple{ConstantRateJump{var\"#14#15\", var\"#16#17\"}}, Nothing, MassActionJump{Vector{Float64}, Vector{Vector{Pair{Int64, Int64}}}, Vector{Vector{Pair{Int64, Int64}}}, Nothing}}((), (ConstantRateJump{var\"#14#15\", var\"#16#17\"}(var\"#14#15\"(), var\"#16#17\"()),), nothing, MassActionJump{Vector{Float64}, Vector{Vector{Pair{Int64, Int64}}}, Vector{Vector{Pair{Int64, Int64}}}, Nothing}([0.0001], [[1 => 1, 2 => 1]], [[1 => -1, 2 => 1]], nothing))"
      ]
     },
     "metadata": {},
     "output_type": "display_data"
    }
   ],
   "metadata": {}
  },
  {
   "cell_type": "code",
   "execution_count": 15,
   "source": [
    "jumpset.constant_jumps"
   ],
   "outputs": [
    {
     "data": {
      "text/plain": [
       "(ConstantRateJump{var\"#14#15\", var\"#16#17\"}(var\"#14#15\"(), var\"#16#17\"()),)"
      ]
     },
     "metadata": {},
     "output_type": "display_data"
    }
   ],
   "metadata": {}
  },
  {
   "cell_type": "code",
   "execution_count": 16,
   "source": [
    "dja = aggregate(Direct(),u0,p,t0,end_time,jumpset.constant_jumps, jumpset.massaction_jump, save_positions, rng)"
   ],
   "outputs": [
    {
     "data": {
      "text/plain": [
       "DirectJumpAggregation{Float64, MassActionJump{Vector{Float64}, Vector{Vector{Pair{Int64, Int64}}}, Vector{Vector{Pair{Int64, Int64}}}, Nothing}, Tuple{var\"#14#15\"}, Tuple{var\"#16#17\"}, MersenneTwister}(0, 0, Inf, 200.0, [1.390671161567e-309, 2.121995791e-314], 0.0, MassActionJump{Vector{Float64}, Vector{Vector{Pair{Int64, Int64}}}, Vector{Vector{Pair{Int64, Int64}}}, Nothing}([0.0001], [[1 => 1, 2 => 1]], [[1 => -1, 2 => 1]], nothing), (var\"#14#15\"(),), (var\"#16#17\"(),), (false, false), MersenneTwister(1234))"
      ]
     },
     "metadata": {},
     "output_type": "display_data"
    }
   ],
   "metadata": {}
  },
  {
   "cell_type": "markdown",
   "source": [
    "## So if we look at the aggregator, the issue is that the next_jump_time = Inf, this is normall because we haven't initialize the prob, in order to do it, one needs to define the `JumpProblem`. Maybe we can skip the defining the DEProblem, because it will have a lot of dependencies. So one idea is to just update `aggregator` for the first time."
   ],
   "metadata": {}
  },
  {
   "cell_type": "code",
   "execution_count": 17,
   "source": [
    "\"\"\"\r\n",
    "fill_rates_and_sum!(p::AbstractSSAJumpAggregator, u, params, t)\r\n",
    "\r\n",
    "Reevaluate all rates and their sum.\r\n",
    "\"\"\"\r\n",
    "function fill_rates_and_sum!(p::AbstractSSAJumpAggregator, u, params, t)\r\n",
    "    sum_rate = zero(typeof(p.sum_rate))\r\n",
    "\r\n",
    "    # mass action jumps\r\n",
    "    majumps   = p.ma_jumps\r\n",
    "    cur_rates = p.cur_rates\r\n",
    "    @inbounds for i in 1:get_num_majumps(majumps)\r\n",
    "        cur_rates[i] = evalrxrate(u, i, majumps)\r\n",
    "        sum_rate    += cur_rates[i]\r\n",
    "    end\r\n",
    "\r\n",
    "    # constant rates\r\n",
    "    rates = p.rates\r\n",
    "    idx   = get_num_majumps(majumps) + 1\r\n",
    "    @inbounds for rate in rates\r\n",
    "        cur_rates[idx] = rate(u, params, t)\r\n",
    "        sum_rate += cur_rates[idx]\r\n",
    "        idx += 1\r\n",
    "    end\r\n",
    "\r\n",
    "    p.sum_rate = sum_rate\r\n",
    "    nothing\r\n",
    "end\r\n",
    "@inline @fastmath function evalrxrate(speciesvec::AbstractVector{T}, rxidx::S, majump::MassActionJump{U,V,W,X})::R where {T,S,R,U <: AbstractVector{R},V,W,X}\r\n",
    "    val = one(T)\r\n",
    "    @inbounds for specstoch in majump.reactant_stoch[rxidx]\r\n",
    "        specpop = speciesvec[specstoch[1]]\r\n",
    "        val    *= specpop\r\n",
    "        @inbounds for k = 2:specstoch[2]\r\n",
    "            specpop -= one(specpop)\r\n",
    "            val     *= specpop\r\n",
    "        end\r\n",
    "    end\r\n",
    "\r\n",
    "    @inbounds return val * majump.scaled_rates[rxidx]\r\n",
    "end"
   ],
   "outputs": [
    {
     "data": {
      "text/plain": [
       "evalrxrate (generic function with 1 method)"
      ]
     },
     "metadata": {},
     "output_type": "display_data"
    }
   ],
   "metadata": {}
  },
  {
   "cell_type": "markdown",
   "source": [
    "## update the rates and sum of rates"
   ],
   "metadata": {}
  },
  {
   "cell_type": "code",
   "execution_count": 18,
   "source": [
    "fill_rates_and_sum!(dja, u0, p, t0)"
   ],
   "outputs": [],
   "metadata": {}
  },
  {
   "cell_type": "code",
   "execution_count": 19,
   "source": [
    "dja"
   ],
   "outputs": [
    {
     "data": {
      "text/plain": [
       "DirectJumpAggregation{Float64, MassActionJump{Vector{Float64}, Vector{Vector{Pair{Int64, Int64}}}, Vector{Vector{Pair{Int64, Int64}}}, Nothing}, Tuple{var\"#14#15\"}, Tuple{var\"#16#17\"}, MersenneTwister}(0, 0, Inf, 200.0, [0.0999, 0.01], 0.1099, MassActionJump{Vector{Float64}, Vector{Vector{Pair{Int64, Int64}}}, Vector{Vector{Pair{Int64, Int64}}}, Nothing}([0.0001], [[1 => 1, 2 => 1]], [[1 => -1, 2 => 1]], nothing), (var\"#14#15\"(),), (var\"#16#17\"(),), (false, false), MersenneTwister(1234))"
      ]
     },
     "metadata": {},
     "output_type": "display_data"
    }
   ],
   "metadata": {}
  },
  {
   "cell_type": "code",
   "execution_count": 20,
   "source": [
    "function initialize!(p::DirectJumpAggregation, integrator, u, params, t)\r\n",
    "  generate_jumps!(p, integrator, u, params, t)\r\n",
    "  nothing\r\n",
    "end\r\n",
    "# calculate the next jump / jump time\r\n",
    "function generate_jumps!(p::DirectJumpAggregation, integrator, u, params, t)\r\n",
    "  p.sum_rate, ttnj = time_to_next_jump(p, u, params, t)\r\n",
    "  @fastmath p.next_jump_time = t + ttnj\r\n",
    "  @inbounds p.next_jump = searchsortedfirst(p.cur_rates, rand(p.rng) * p.sum_rate) # 这里用到了 searchsortedfirst 是一个加速的function\r\n",
    "  nothing\r\n",
    "end"
   ],
   "outputs": [
    {
     "data": {
      "text/plain": [
       "generate_jumps! (generic function with 1 method)"
      ]
     },
     "metadata": {},
     "output_type": "display_data"
    }
   ],
   "metadata": {}
  },
  {
   "cell_type": "markdown",
   "source": [
    "## 下面这个是核心函数，这个决定如何更新 \n",
    "- `next_jump`\n",
    "- `next_jump_time`\n",
    "- `sum_rate`"
   ],
   "metadata": {}
  },
  {
   "cell_type": "code",
   "execution_count": 21,
   "source": [
    "@fastmath function time_to_next_jump(p::DirectJumpAggregation{T,S,F1,F2,RNG}, u, params, t) where {T,S,F1 <: Tuple, F2 <: Tuple, RNG}\r\n",
    "  prev_rate = zero(t)\r\n",
    "  new_rate  = zero(t)\r\n",
    "  cur_rates = p.cur_rates\r\n",
    "\r\n",
    "  # mass action rates\r\n",
    "  majumps   = p.ma_jumps\r\n",
    "  idx       = get_num_majumps(majumps)\r\n",
    "  @inbounds for i in 1:idx\r\n",
    "    new_rate     = evalrxrate(u, i, majumps)\r\n",
    "    cur_rates[i] = new_rate + prev_rate\r\n",
    "    prev_rate    = cur_rates[i]\r\n",
    "  end\r\n",
    "\r\n",
    "  # constant jump rates\r\n",
    "  rates = p.rates\r\n",
    "  if !isempty(rates)\r\n",
    "    idx  += 1\r\n",
    "    fill_cur_rates(u, params, t, cur_rates, idx, rates...)\r\n",
    "    @inbounds for i in idx:length(cur_rates)\r\n",
    "      cur_rates[i] = cur_rates[i] + prev_rate\r\n",
    "      prev_rate    = cur_rates[i]\r\n",
    "    end\r\n",
    "  end\r\n",
    "\r\n",
    "  @inbounds sum_rate = cur_rates[end]\r\n",
    "  sum_rate, randexp(p.rng) / sum_rate\r\n",
    "end\r\n",
    "@inline function fill_cur_rates(u, p, t, cur_rates, idx, rate, rates...)\r\n",
    "  @inbounds cur_rates[idx] = rate(u, p, t)\r\n",
    "  idx += 1\r\n",
    "  fill_cur_rates(u, p, t, cur_rates, idx, rates...)\r\n",
    "end\r\n",
    "\r\n",
    "@inline function fill_cur_rates(u, p, t, cur_rates, idx, rate)\r\n",
    "  @inbounds cur_rates[idx] = rate(u, p, t)\r\n",
    "  nothing\r\n",
    "end\r\n"
   ],
   "outputs": [
    {
     "data": {
      "text/plain": [
       "fill_cur_rates (generic function with 2 methods)"
      ]
     },
     "metadata": {},
     "output_type": "display_data"
    }
   ],
   "metadata": {}
  },
  {
   "cell_type": "markdown",
   "source": [
    "## Now the Integrator is needed \n",
    "## First, let us construct the `Integrator`, which encodes the time and state information"
   ],
   "metadata": {}
  },
  {
   "cell_type": "markdown",
   "source": [
    "## Next step update integrator, the key function is `update_state!`"
   ],
   "metadata": {}
  },
  {
   "cell_type": "code",
   "execution_count": 28,
   "source": [
    "using UnPack, StaticArrays\r\n",
    "function (p::AbstractSSAJumpAggregator)(integrator)\r\n",
    "    execute_jumps!(p, integrator, integrator.u, integrator.p, integrator.t)\r\n",
    "    register_next_jump_time!(p,integrator)\r\n",
    "    generate_jumps!(p, integrator, integrator.u, integrator.p, integrator.t)\r\n",
    "    nothing\r\n",
    "end\r\n",
    "@inline function register_next_jump_time!(p::DirectJumpAggregation,integrator)\r\n",
    "    integrator.tprev = integrator.t\r\n",
    "    integrator.t = p.next_jump_time\r\n",
    "    integrator.i +=1\r\n",
    "    nothing\r\n",
    "end\r\n",
    "@inline function execute_jumps!(p::DirectJumpAggregation, integrator, u, params, t)\r\n",
    "    update_state!(p, integrator, u)\r\n",
    "    nothing\r\n",
    "end\r\n",
    "@inline function update_state!(p::AbstractSSAJumpAggregator, integrator, u)\r\n",
    "    @unpack ma_jumps, next_jump = p\r\n",
    "    num_ma_rates = get_num_majumps(ma_jumps)\r\n",
    "    if next_jump <= num_ma_rates # is next jump a mass action jump\r\n",
    "        if u isa SVector\r\n",
    "            integrator.u = executerx(u, next_jump, ma_jumps)\r\n",
    "        else\r\n",
    "            @inbounds executerx!(u, next_jump, ma_jumps)\r\n",
    "        end\r\n",
    "    else\r\n",
    "        idx = next_jump - num_ma_rates\r\n",
    "        @inbounds p.affects![idx](integrator)\r\n",
    "    end\r\n",
    "\r\n",
    "    # save jump that was just executed\r\n",
    "    p.prev_jump = next_jump\r\n",
    "    return integrator.u\r\n",
    "end\r\n",
    "@inline @fastmath function executerx!(speciesvec::AbstractVector{T}, rxidx::S,\r\n",
    "    majump::MassActionJump{U,V,W,X}) where {T,S,U,V,W,X}\r\n",
    "@inbounds net_stoch = majump.net_stoch[rxidx]\r\n",
    "@inbounds for specstoch in net_stoch\r\n",
    "speciesvec[specstoch[1]] += specstoch[2]\r\n",
    "end\r\n",
    "nothing\r\n",
    "end\r\n"
   ],
   "outputs": [
    {
     "data": {
      "text/plain": [
       "executerx! (generic function with 1 method)"
      ]
     },
     "metadata": {},
     "output_type": "display_data"
    }
   ],
   "metadata": {}
  },
  {
   "cell_type": "markdown",
   "source": [
    "# So up to now we are able to update the integrator by each iteration.\n",
    "## Next question is how to store to integrator in a list"
   ],
   "metadata": {}
  },
  {
   "cell_type": "code",
   "execution_count": 29,
   "source": [
    "mutable struct SSAIntegrator{uType,tType,P,S,SA} \r\n",
    "    u::uType\r\n",
    "    t::tType\r\n",
    "    tprev::tType\r\n",
    "    p::P\r\n",
    "    sol::S\r\n",
    "    i::Int\r\n",
    "    saveat::SA\r\n",
    "    cur_saveat::Int\r\n",
    "    end_time::tType\r\n",
    "    save_end::Bool\r\n",
    "end"
   ],
   "outputs": [],
   "metadata": {}
  },
  {
   "cell_type": "code",
   "execution_count": 30,
   "source": [
    "mutable struct SSASolution{tType,uType}\r\n",
    "    t::Vector{tType}\r\n",
    "    u::Vector{uType}\r\n",
    "end"
   ],
   "outputs": [],
   "metadata": {}
  },
  {
   "cell_type": "code",
   "execution_count": 31,
   "source": [
    "function initialize_ssaintegrator(u0::uType,t0::tType,p::P,tspan::Tuple,saveat::SA;save_end::Bool=true) where {uType,tType,P,SA}\r\n",
    "    _u0 = copy(u0)\r\n",
    "    _t0 = copy(t0)\r\n",
    "    end_time = tspan[2]\r\n",
    "    ssa_sol = SSASolution([t0],[u0])\r\n",
    "    if typeof(saveat) <: Number\r\n",
    "        _saveat = tspan[1]:saveat:tspan[2]\r\n",
    "    else\r\n",
    "        _saveat = saveat\r\n",
    "    end\r\n",
    "    if _saveat !== nothing && !isempty(_saveat) && _saveat[1] == tspan[1]\r\n",
    "        cur_saveat = 2\r\n",
    "    else\r\n",
    "        cur_saveat = 1\r\n",
    "    end\r\n",
    "    ssa_integrator = SSAIntegrator(_u0,_t0,_t0,p,ssa_sol,0,_saveat,cur_saveat,end_time,save_end)\r\n",
    "    ssa_integrator\r\n",
    "end\r\n",
    "function initialize_dja(u0::uType,t0::tType,p::P,tspan::Tuple,jumpset::JumpSet,rng) where {uType,tType,P}\r\n",
    "    _u0 = copy(u0)\r\n",
    "    _t0 = copy(t0)\r\n",
    "    end_time = tspan[2]\r\n",
    "    dja = aggregate(Direct(),_u0,p,_t0,end_time,jumpset.constant_jumps, jumpset.massaction_jump, save_positions, rng)\r\n",
    "    initialize!(dja, integrator, _u0, p, _t0)\r\n",
    "    return dja\r\n",
    "end"
   ],
   "outputs": [
    {
     "data": {
      "text/plain": [
       "initial_condition (generic function with 1 method)"
      ]
     },
     "metadata": {},
     "output_type": "display_data"
    }
   ],
   "metadata": {}
  },
  {
   "cell_type": "code",
   "execution_count": 32,
   "source": [
    "tspan = (0.,200.)\r\n",
    "ssa_integrator = initialize_ssaintegrator(u0,t0,p,tspan,1.)\r\n"
   ],
   "outputs": [
    {
     "data": {
      "text/plain": [
       "SSAIntegrator{Vector{Float64}, Float64, SciMLBase.NullParameters, SSASolution{Float64, Vector{Float64}}, StepRangeLen{Float64, Base.TwicePrecision{Float64}, Base.TwicePrecision{Float64}}}([999.0, 1.0, 0.0], 0.0, 0.0, SciMLBase.NullParameters(), SSASolution{Float64, Vector{Float64}}([0.0], [[999.0, 1.0, 0.0]]), 0, 0.0:1.0:200.0, 2, 200.0, true)"
      ]
     },
     "metadata": {},
     "output_type": "display_data"
    }
   ],
   "metadata": {}
  },
  {
   "cell_type": "code",
   "execution_count": 33,
   "source": [
    "dja = initialize_dja(u0,t0,p,tspan,jumpset,Random.seed!(1234))"
   ],
   "outputs": [
    {
     "data": {
      "text/plain": [
       "DirectJumpAggregation{Float64, MassActionJump{Vector{Float64}, Vector{Vector{Pair{Int64, Int64}}}, Vector{Vector{Pair{Int64, Int64}}}, Nothing}, Tuple{var\"#14#15\"}, Tuple{var\"#16#17\"}, MersenneTwister}(1, 0, 22.597865080896174, 200.0, [0.0999, 0.1099], 0.1099, MassActionJump{Vector{Float64}, Vector{Vector{Pair{Int64, Int64}}}, Vector{Vector{Pair{Int64, Int64}}}, Nothing}([0.0001], [[1 => 1, 2 => 1]], [[1 => -1, 2 => 1]], nothing), (var\"#14#15\"(),), (var\"#16#17\"(),), (false, false), MersenneTwister(1234, (0, 1002, 0, 2)))"
      ]
     },
     "metadata": {},
     "output_type": "display_data"
    }
   ],
   "metadata": {}
  },
  {
   "cell_type": "markdown",
   "source": [
    "##  each time dja(integrator), both `dja` and `integrator` are updated"
   ],
   "metadata": {}
  },
  {
   "cell_type": "code",
   "execution_count": 34,
   "source": [
    "dja(ssa_integrator)"
   ],
   "outputs": [],
   "metadata": {}
  },
  {
   "cell_type": "code",
   "execution_count": 43,
   "source": [
    "ssa_integrator"
   ],
   "outputs": [
    {
     "data": {
      "text/plain": [
       "SSAIntegrator{Vector{Float64}, Float64, SciMLBase.NullParameters, SSASolution{Float64, Vector{Float64}}, StepRangeLen{Float64, Base.TwicePrecision{Float64}, Base.TwicePrecision{Float64}}}([998.0, 2.0, 0.0], 22.597865080896174, 0.0, SciMLBase.NullParameters(), SSASolution{Float64, Vector{Float64}}([0.0], [[999.0, 1.0, 0.0]]), 1, 0.0:1.0:200.0, 2, 200.0, true)"
      ]
     },
     "metadata": {},
     "output_type": "display_data"
    }
   ],
   "metadata": {}
  },
  {
   "cell_type": "code",
   "execution_count": 44,
   "source": [
    "dja"
   ],
   "outputs": [
    {
     "data": {
      "text/plain": [
       "DirectJumpAggregation{Float64, MassActionJump{Vector{Float64}, Vector{Vector{Pair{Int64, Int64}}}, Vector{Vector{Pair{Int64, Int64}}}, Nothing}, Tuple{var\"#14#15\"}, Tuple{var\"#16#17\"}, MersenneTwister}(1, 1, 25.350308100488803, 200.0, [0.1996, 0.2196], 0.2196, MassActionJump{Vector{Float64}, Vector{Vector{Pair{Int64, Int64}}}, Vector{Vector{Pair{Int64, Int64}}}, Nothing}([0.0001], [[1 => 1, 2 => 1]], [[1 => -1, 2 => 1]], nothing), (var\"#14#15\"(),), (var\"#16#17\"(),), (false, false), MersenneTwister(1234, (0, 1002, 0, 4)))"
      ]
     },
     "metadata": {},
     "output_type": "display_data"
    }
   ],
   "metadata": {}
  },
  {
   "cell_type": "markdown",
   "source": [
    "# steps\r\n",
    "- initialize dja\r\n",
    "- initialize integrator\r\n",
    "- initialize "
   ],
   "metadata": {}
  },
  {
   "cell_type": "code",
   "execution_count": 115,
   "source": [
    "function SSAsolve(u0,t0,p,tspan,jumpset;saveat=nothing,rng=Random.seed!(rand(UInt64)),save_end::Bool=true)\r\n",
    "    end_time = tspan[2]\r\n",
    "    integrator = initialize_ssaintegrator(u0,t0,p,tspan,saveat,save_end=save_end)\r\n",
    "    dja = initialize_dja(u0,t0,p,tspan,jumpset,rng)    \r\n",
    "    if integrator.saveat == nothing || isempty(integrator.saveat)\r\n",
    "        while integrator.t < integrator.end_time \r\n",
    "            dja(integrator)\r\n",
    "            push!(integrator.sol.t,integrator.t)\r\n",
    "            push!(integrator.sol.u,copy(integrator.u))\r\n",
    "        end\r\n",
    "    end    \r\n",
    "    if integrator.saveat !== nothing && !isempty(integrator.saveat)\r\n",
    "    # Split to help prediction\r\n",
    "        while integrator.t < end_time\r\n",
    "            while integrator.cur_saveat <= length(integrator.saveat) &&\r\n",
    "                integrator.saveat[integrator.cur_saveat] < integrator.t\r\n",
    "                push!(integrator.sol.t,integrator.saveat[integrator.cur_saveat])\r\n",
    "                push!(integrator.sol.u,copy(integrator.u))\r\n",
    "                integrator.cur_saveat += 1\r\n",
    "            end\r\n",
    "            dja(integrator)\r\n",
    "        end\r\n",
    "    end\r\n",
    "    if integrator.save_end && integrator.sol.t[end] != end_time\r\n",
    "        push!(integrator.sol.t,end_time)\r\n",
    "        push!(integrator.sol.u,copy(integrator.u))\r\n",
    "    end\r\n",
    "    return integrator.sol\r\n",
    "end"
   ],
   "outputs": [
    {
     "data": {
      "text/plain": [
       "SSAsolve (generic function with 1 method)"
      ]
     },
     "metadata": {},
     "output_type": "display_data"
    }
   ],
   "metadata": {}
  },
  {
   "cell_type": "code",
   "execution_count": 144,
   "source": [
    "sol=SSAsolve(u0,t0,p,tspan,jumpset;rng=Random.seed!(1234))"
   ],
   "outputs": [
    {
     "data": {
      "text/plain": [
       "SSASolution{Float64, Vector{Float64}}([0.0, 22.597865080896174, 25.350308100488803, 29.320285710788614, 30.901700163349556, 31.66611301263838, 32.70019540505074, 32.822434706327385, 35.256059733184244, 35.67256302236415  …  197.31107249859065, 197.66969210283224, 197.97514229880176, 198.31843417092904, 198.40003155388192, 199.5257319354503, 199.7141733291866, 199.9591176072639, 200.20243405051932, 200.0], [[999.0, 1.0, 0.0], [998.0, 2.0, 0.0], [997.0, 3.0, 0.0], [996.0, 4.0, 0.0], [995.0, 5.0, 0.0], [994.0, 6.0, 0.0], [993.0, 7.0, 0.0], [993.0, 6.0, 1.0], [992.0, 7.0, 1.0], [991.0, 8.0, 1.0]  …  [1.0, 319.0, 680.0], [1.0, 318.0, 681.0], [1.0, 317.0, 682.0], [1.0, 316.0, 683.0], [1.0, 315.0, 684.0], [1.0, 314.0, 685.0], [1.0, 313.0, 686.0], [1.0, 312.0, 687.0], [1.0, 311.0, 688.0], [1.0, 311.0, 688.0]])"
      ]
     },
     "metadata": {},
     "output_type": "display_data"
    }
   ],
   "metadata": {}
  },
  {
   "cell_type": "code",
   "execution_count": 145,
   "source": [
    "using Plots; theme(:vibrant)"
   ],
   "outputs": [],
   "metadata": {}
  },
  {
   "cell_type": "code",
   "execution_count": 146,
   "source": [
    "function ssaplot(sol::SSASolution)\r\n",
    "    n_species = length(sol.u[1]) \r\n",
    "    plot(sol.t,[[sol.u[i][j] for i in eachindex(sol.u)] for j in 1:n_species])\r\n",
    "end"
   ],
   "outputs": [
    {
     "data": {
      "text/plain": [
       "ssaplot (generic function with 1 method)"
      ]
     },
     "metadata": {},
     "output_type": "display_data"
    }
   ],
   "metadata": {}
  },
  {
   "cell_type": "code",
   "execution_count": 147,
   "source": [
    "ssaplot(sol)"
   ],
   "outputs": [
    {
     "data": {
      "image/svg+xml": "<?xml version=\"1.0\" encoding=\"utf-8\"?>\n<svg xmlns=\"http://www.w3.org/2000/svg\" xmlns:xlink=\"http://www.w3.org/1999/xlink\" width=\"600\" height=\"400\" viewBox=\"0 0 2400 1600\">\n<defs>\n  <clipPath id=\"clip070\">\n    <rect x=\"0\" y=\"0\" width=\"2400\" height=\"1600\"/>\n  </clipPath>\n</defs>\n<path clip-path=\"url(#clip070)\" d=\"\nM0 1600 L2400 1600 L2400 0 L0 0  Z\n  \" fill=\"#ffffff\" fill-rule=\"evenodd\" fill-opacity=\"1\"/>\n<defs>\n  <clipPath id=\"clip071\">\n    <rect x=\"480\" y=\"0\" width=\"1681\" height=\"1600\"/>\n  </clipPath>\n</defs>\n<path clip-path=\"url(#clip070)\" d=\"\nM199.283 1486.45 L2352.76 1486.45 L2352.76 47.2441 L199.283 47.2441  Z\n  \" fill=\"#ffffff\" fill-rule=\"evenodd\" fill-opacity=\"1\"/>\n<defs>\n  <clipPath id=\"clip072\">\n    <rect x=\"199\" y=\"47\" width=\"2154\" height=\"1440\"/>\n  </clipPath>\n</defs>\n<polyline clip-path=\"url(#clip072)\" style=\"stroke:#222255; stroke-linecap:butt; stroke-linejoin:round; stroke-width:2; stroke-opacity:0.1; fill:none\" points=\"\n  260.231,1486.45 260.231,47.2441 \n  \"/>\n<polyline clip-path=\"url(#clip072)\" style=\"stroke:#222255; stroke-linecap:butt; stroke-linejoin:round; stroke-width:2; stroke-opacity:0.1; fill:none\" points=\"\n  767.611,1486.45 767.611,47.2441 \n  \"/>\n<polyline clip-path=\"url(#clip072)\" style=\"stroke:#222255; stroke-linecap:butt; stroke-linejoin:round; stroke-width:2; stroke-opacity:0.1; fill:none\" points=\"\n  1274.99,1486.45 1274.99,47.2441 \n  \"/>\n<polyline clip-path=\"url(#clip072)\" style=\"stroke:#222255; stroke-linecap:butt; stroke-linejoin:round; stroke-width:2; stroke-opacity:0.1; fill:none\" points=\"\n  1782.37,1486.45 1782.37,47.2441 \n  \"/>\n<polyline clip-path=\"url(#clip072)\" style=\"stroke:#222255; stroke-linecap:butt; stroke-linejoin:round; stroke-width:2; stroke-opacity:0.1; fill:none\" points=\"\n  2289.75,1486.45 2289.75,47.2441 \n  \"/>\n<polyline clip-path=\"url(#clip072)\" style=\"stroke:#222255; stroke-linecap:butt; stroke-linejoin:round; stroke-width:2; stroke-opacity:0.05; fill:none\" points=\"\n  361.707,1486.45 361.707,47.2441 \n  \"/>\n<polyline clip-path=\"url(#clip072)\" style=\"stroke:#222255; stroke-linecap:butt; stroke-linejoin:round; stroke-width:2; stroke-opacity:0.05; fill:none\" points=\"\n  463.183,1486.45 463.183,47.2441 \n  \"/>\n<polyline clip-path=\"url(#clip072)\" style=\"stroke:#222255; stroke-linecap:butt; stroke-linejoin:round; stroke-width:2; stroke-opacity:0.05; fill:none\" points=\"\n  564.659,1486.45 564.659,47.2441 \n  \"/>\n<polyline clip-path=\"url(#clip072)\" style=\"stroke:#222255; stroke-linecap:butt; stroke-linejoin:round; stroke-width:2; stroke-opacity:0.05; fill:none\" points=\"\n  666.135,1486.45 666.135,47.2441 \n  \"/>\n<polyline clip-path=\"url(#clip072)\" style=\"stroke:#222255; stroke-linecap:butt; stroke-linejoin:round; stroke-width:2; stroke-opacity:0.05; fill:none\" points=\"\n  869.088,1486.45 869.088,47.2441 \n  \"/>\n<polyline clip-path=\"url(#clip072)\" style=\"stroke:#222255; stroke-linecap:butt; stroke-linejoin:round; stroke-width:2; stroke-opacity:0.05; fill:none\" points=\"\n  970.564,1486.45 970.564,47.2441 \n  \"/>\n<polyline clip-path=\"url(#clip072)\" style=\"stroke:#222255; stroke-linecap:butt; stroke-linejoin:round; stroke-width:2; stroke-opacity:0.05; fill:none\" points=\"\n  1072.04,1486.45 1072.04,47.2441 \n  \"/>\n<polyline clip-path=\"url(#clip072)\" style=\"stroke:#222255; stroke-linecap:butt; stroke-linejoin:round; stroke-width:2; stroke-opacity:0.05; fill:none\" points=\"\n  1173.52,1486.45 1173.52,47.2441 \n  \"/>\n<polyline clip-path=\"url(#clip072)\" style=\"stroke:#222255; stroke-linecap:butt; stroke-linejoin:round; stroke-width:2; stroke-opacity:0.05; fill:none\" points=\"\n  1376.47,1486.45 1376.47,47.2441 \n  \"/>\n<polyline clip-path=\"url(#clip072)\" style=\"stroke:#222255; stroke-linecap:butt; stroke-linejoin:round; stroke-width:2; stroke-opacity:0.05; fill:none\" points=\"\n  1477.94,1486.45 1477.94,47.2441 \n  \"/>\n<polyline clip-path=\"url(#clip072)\" style=\"stroke:#222255; stroke-linecap:butt; stroke-linejoin:round; stroke-width:2; stroke-opacity:0.05; fill:none\" points=\"\n  1579.42,1486.45 1579.42,47.2441 \n  \"/>\n<polyline clip-path=\"url(#clip072)\" style=\"stroke:#222255; stroke-linecap:butt; stroke-linejoin:round; stroke-width:2; stroke-opacity:0.05; fill:none\" points=\"\n  1680.9,1486.45 1680.9,47.2441 \n  \"/>\n<polyline clip-path=\"url(#clip072)\" style=\"stroke:#222255; stroke-linecap:butt; stroke-linejoin:round; stroke-width:2; stroke-opacity:0.05; fill:none\" points=\"\n  1883.85,1486.45 1883.85,47.2441 \n  \"/>\n<polyline clip-path=\"url(#clip072)\" style=\"stroke:#222255; stroke-linecap:butt; stroke-linejoin:round; stroke-width:2; stroke-opacity:0.05; fill:none\" points=\"\n  1985.33,1486.45 1985.33,47.2441 \n  \"/>\n<polyline clip-path=\"url(#clip072)\" style=\"stroke:#222255; stroke-linecap:butt; stroke-linejoin:round; stroke-width:2; stroke-opacity:0.05; fill:none\" points=\"\n  2086.8,1486.45 2086.8,47.2441 \n  \"/>\n<polyline clip-path=\"url(#clip072)\" style=\"stroke:#222255; stroke-linecap:butt; stroke-linejoin:round; stroke-width:2; stroke-opacity:0.05; fill:none\" points=\"\n  2188.28,1486.45 2188.28,47.2441 \n  \"/>\n<polyline clip-path=\"url(#clip070)\" style=\"stroke:#222255; stroke-linecap:butt; stroke-linejoin:round; stroke-width:4; stroke-opacity:0; fill:none\" points=\"\n  260.231,1486.45 260.231,1467.55 \n  \"/>\n<polyline clip-path=\"url(#clip070)\" style=\"stroke:#222255; stroke-linecap:butt; stroke-linejoin:round; stroke-width:4; stroke-opacity:0; fill:none\" points=\"\n  767.611,1486.45 767.611,1467.55 \n  \"/>\n<polyline clip-path=\"url(#clip070)\" style=\"stroke:#222255; stroke-linecap:butt; stroke-linejoin:round; stroke-width:4; stroke-opacity:0; fill:none\" points=\"\n  1274.99,1486.45 1274.99,1467.55 \n  \"/>\n<polyline clip-path=\"url(#clip070)\" style=\"stroke:#222255; stroke-linecap:butt; stroke-linejoin:round; stroke-width:4; stroke-opacity:0; fill:none\" points=\"\n  1782.37,1486.45 1782.37,1467.55 \n  \"/>\n<polyline clip-path=\"url(#clip070)\" style=\"stroke:#222255; stroke-linecap:butt; stroke-linejoin:round; stroke-width:4; stroke-opacity:0; fill:none\" points=\"\n  2289.75,1486.45 2289.75,1467.55 \n  \"/>\n<polyline clip-path=\"url(#clip070)\" style=\"stroke:#222255; stroke-linecap:butt; stroke-linejoin:round; stroke-width:4; stroke-opacity:0; fill:none\" points=\"\n  361.707,1486.45 361.707,1477 \n  \"/>\n<polyline clip-path=\"url(#clip070)\" style=\"stroke:#222255; stroke-linecap:butt; stroke-linejoin:round; stroke-width:4; stroke-opacity:0; fill:none\" points=\"\n  463.183,1486.45 463.183,1477 \n  \"/>\n<polyline clip-path=\"url(#clip070)\" style=\"stroke:#222255; stroke-linecap:butt; stroke-linejoin:round; stroke-width:4; stroke-opacity:0; fill:none\" points=\"\n  564.659,1486.45 564.659,1477 \n  \"/>\n<polyline clip-path=\"url(#clip070)\" style=\"stroke:#222255; stroke-linecap:butt; stroke-linejoin:round; stroke-width:4; stroke-opacity:0; fill:none\" points=\"\n  666.135,1486.45 666.135,1477 \n  \"/>\n<polyline clip-path=\"url(#clip070)\" style=\"stroke:#222255; stroke-linecap:butt; stroke-linejoin:round; stroke-width:4; stroke-opacity:0; fill:none\" points=\"\n  869.088,1486.45 869.088,1477 \n  \"/>\n<polyline clip-path=\"url(#clip070)\" style=\"stroke:#222255; stroke-linecap:butt; stroke-linejoin:round; stroke-width:4; stroke-opacity:0; fill:none\" points=\"\n  970.564,1486.45 970.564,1477 \n  \"/>\n<polyline clip-path=\"url(#clip070)\" style=\"stroke:#222255; stroke-linecap:butt; stroke-linejoin:round; stroke-width:4; stroke-opacity:0; fill:none\" points=\"\n  1072.04,1486.45 1072.04,1477 \n  \"/>\n<polyline clip-path=\"url(#clip070)\" style=\"stroke:#222255; stroke-linecap:butt; stroke-linejoin:round; stroke-width:4; stroke-opacity:0; fill:none\" points=\"\n  1173.52,1486.45 1173.52,1477 \n  \"/>\n<polyline clip-path=\"url(#clip070)\" style=\"stroke:#222255; stroke-linecap:butt; stroke-linejoin:round; stroke-width:4; stroke-opacity:0; fill:none\" points=\"\n  1376.47,1486.45 1376.47,1477 \n  \"/>\n<polyline clip-path=\"url(#clip070)\" style=\"stroke:#222255; stroke-linecap:butt; stroke-linejoin:round; stroke-width:4; stroke-opacity:0; fill:none\" points=\"\n  1477.94,1486.45 1477.94,1477 \n  \"/>\n<polyline clip-path=\"url(#clip070)\" style=\"stroke:#222255; stroke-linecap:butt; stroke-linejoin:round; stroke-width:4; stroke-opacity:0; fill:none\" points=\"\n  1579.42,1486.45 1579.42,1477 \n  \"/>\n<polyline clip-path=\"url(#clip070)\" style=\"stroke:#222255; stroke-linecap:butt; stroke-linejoin:round; stroke-width:4; stroke-opacity:0; fill:none\" points=\"\n  1680.9,1486.45 1680.9,1477 \n  \"/>\n<polyline clip-path=\"url(#clip070)\" style=\"stroke:#222255; stroke-linecap:butt; stroke-linejoin:round; stroke-width:4; stroke-opacity:0; fill:none\" points=\"\n  1883.85,1486.45 1883.85,1477 \n  \"/>\n<polyline clip-path=\"url(#clip070)\" style=\"stroke:#222255; stroke-linecap:butt; stroke-linejoin:round; stroke-width:4; stroke-opacity:0; fill:none\" points=\"\n  1985.33,1486.45 1985.33,1477 \n  \"/>\n<polyline clip-path=\"url(#clip070)\" style=\"stroke:#222255; stroke-linecap:butt; stroke-linejoin:round; stroke-width:4; stroke-opacity:0; fill:none\" points=\"\n  2086.8,1486.45 2086.8,1477 \n  \"/>\n<polyline clip-path=\"url(#clip070)\" style=\"stroke:#222255; stroke-linecap:butt; stroke-linejoin:round; stroke-width:4; stroke-opacity:0; fill:none\" points=\"\n  2188.28,1486.45 2188.28,1477 \n  \"/>\n<path clip-path=\"url(#clip070)\" d=\"M260.231 1515.64 Q256.619 1515.64 254.791 1519.2 Q252.985 1522.75 252.985 1529.87 Q252.985 1536.98 254.791 1540.55 Q256.619 1544.09 260.231 1544.09 Q263.865 1544.09 265.67 1540.55 Q267.499 1536.98 267.499 1529.87 Q267.499 1522.75 265.67 1519.2 Q263.865 1515.64 260.231 1515.64 M260.231 1511.93 Q266.041 1511.93 269.096 1516.54 Q272.175 1521.12 272.175 1529.87 Q272.175 1538.6 269.096 1543.21 Q266.041 1547.79 260.231 1547.79 Q254.42 1547.79 251.342 1543.21 Q248.286 1538.6 248.286 1529.87 Q248.286 1521.12 251.342 1516.54 Q254.42 1511.93 260.231 1511.93 Z\" fill=\"#000000\" fill-rule=\"evenodd\" fill-opacity=\"1\" /><path clip-path=\"url(#clip070)\" d=\"M742.311 1512.56 L760.667 1512.56 L760.667 1516.5 L746.593 1516.5 L746.593 1524.97 Q747.612 1524.62 748.63 1524.46 Q749.649 1524.27 750.667 1524.27 Q756.454 1524.27 759.834 1527.44 Q763.213 1530.62 763.213 1536.03 Q763.213 1541.61 759.741 1544.71 Q756.269 1547.79 749.95 1547.79 Q747.774 1547.79 745.505 1547.42 Q743.26 1547.05 740.852 1546.31 L740.852 1541.61 Q742.936 1542.74 745.158 1543.3 Q747.38 1543.86 749.857 1543.86 Q753.862 1543.86 756.2 1541.75 Q758.537 1539.64 758.537 1536.03 Q758.537 1532.42 756.2 1530.31 Q753.862 1528.21 749.857 1528.21 Q747.982 1528.21 746.107 1528.62 Q744.255 1529.04 742.311 1529.92 L742.311 1512.56 Z\" fill=\"#000000\" fill-rule=\"evenodd\" fill-opacity=\"1\" /><path clip-path=\"url(#clip070)\" d=\"M782.426 1515.64 Q778.815 1515.64 776.986 1519.2 Q775.181 1522.75 775.181 1529.87 Q775.181 1536.98 776.986 1540.55 Q778.815 1544.09 782.426 1544.09 Q786.06 1544.09 787.866 1540.55 Q789.695 1536.98 789.695 1529.87 Q789.695 1522.75 787.866 1519.2 Q786.06 1515.64 782.426 1515.64 M782.426 1511.93 Q788.236 1511.93 791.292 1516.54 Q794.371 1521.12 794.371 1529.87 Q794.371 1538.6 791.292 1543.21 Q788.236 1547.79 782.426 1547.79 Q776.616 1547.79 773.537 1543.21 Q770.482 1538.6 770.482 1529.87 Q770.482 1521.12 773.537 1516.54 Q776.616 1511.93 782.426 1511.93 Z\" fill=\"#000000\" fill-rule=\"evenodd\" fill-opacity=\"1\" /><path clip-path=\"url(#clip070)\" d=\"M1234.6 1543.18 L1242.24 1543.18 L1242.24 1516.82 L1233.93 1518.49 L1233.93 1514.23 L1242.19 1512.56 L1246.87 1512.56 L1246.87 1543.18 L1254.51 1543.18 L1254.51 1547.12 L1234.6 1547.12 L1234.6 1543.18 Z\" fill=\"#000000\" fill-rule=\"evenodd\" fill-opacity=\"1\" /><path clip-path=\"url(#clip070)\" d=\"M1273.95 1515.64 Q1270.34 1515.64 1268.51 1519.2 Q1266.71 1522.75 1266.71 1529.87 Q1266.71 1536.98 1268.51 1540.55 Q1270.34 1544.09 1273.95 1544.09 Q1277.59 1544.09 1279.39 1540.55 Q1281.22 1536.98 1281.22 1529.87 Q1281.22 1522.75 1279.39 1519.2 Q1277.59 1515.64 1273.95 1515.64 M1273.95 1511.93 Q1279.76 1511.93 1282.82 1516.54 Q1285.9 1521.12 1285.9 1529.87 Q1285.9 1538.6 1282.82 1543.21 Q1279.76 1547.79 1273.95 1547.79 Q1268.14 1547.79 1265.06 1543.21 Q1262.01 1538.6 1262.01 1529.87 Q1262.01 1521.12 1265.06 1516.54 Q1268.14 1511.93 1273.95 1511.93 Z\" fill=\"#000000\" fill-rule=\"evenodd\" fill-opacity=\"1\" /><path clip-path=\"url(#clip070)\" d=\"M1304.11 1515.64 Q1300.5 1515.64 1298.67 1519.2 Q1296.87 1522.75 1296.87 1529.87 Q1296.87 1536.98 1298.67 1540.55 Q1300.5 1544.09 1304.11 1544.09 Q1307.75 1544.09 1309.55 1540.55 Q1311.38 1536.98 1311.38 1529.87 Q1311.38 1522.75 1309.55 1519.2 Q1307.75 1515.64 1304.11 1515.64 M1304.11 1511.93 Q1309.92 1511.93 1312.98 1516.54 Q1316.06 1521.12 1316.06 1529.87 Q1316.06 1538.6 1312.98 1543.21 Q1309.92 1547.79 1304.11 1547.79 Q1298.3 1547.79 1295.22 1543.21 Q1292.17 1538.6 1292.17 1529.87 Q1292.17 1521.12 1295.22 1516.54 Q1298.3 1511.93 1304.11 1511.93 Z\" fill=\"#000000\" fill-rule=\"evenodd\" fill-opacity=\"1\" /><path clip-path=\"url(#clip070)\" d=\"M1741.98 1543.18 L1749.62 1543.18 L1749.62 1516.82 L1741.31 1518.49 L1741.31 1514.23 L1749.57 1512.56 L1754.25 1512.56 L1754.25 1543.18 L1761.89 1543.18 L1761.89 1547.12 L1741.98 1547.12 L1741.98 1543.18 Z\" fill=\"#000000\" fill-rule=\"evenodd\" fill-opacity=\"1\" /><path clip-path=\"url(#clip070)\" d=\"M1771.38 1512.56 L1789.73 1512.56 L1789.73 1516.5 L1775.66 1516.5 L1775.66 1524.97 Q1776.68 1524.62 1777.7 1524.46 Q1778.72 1524.27 1779.73 1524.27 Q1785.52 1524.27 1788.9 1527.44 Q1792.28 1530.62 1792.28 1536.03 Q1792.28 1541.61 1788.81 1544.71 Q1785.34 1547.79 1779.02 1547.79 Q1776.84 1547.79 1774.57 1547.42 Q1772.33 1547.05 1769.92 1546.31 L1769.92 1541.61 Q1772 1542.74 1774.23 1543.3 Q1776.45 1543.86 1778.92 1543.86 Q1782.93 1543.86 1785.27 1541.75 Q1787.6 1539.64 1787.6 1536.03 Q1787.6 1532.42 1785.27 1530.31 Q1782.93 1528.21 1778.92 1528.21 Q1777.05 1528.21 1775.17 1528.62 Q1773.32 1529.04 1771.38 1529.92 L1771.38 1512.56 Z\" fill=\"#000000\" fill-rule=\"evenodd\" fill-opacity=\"1\" /><path clip-path=\"url(#clip070)\" d=\"M1811.49 1515.64 Q1807.88 1515.64 1806.05 1519.2 Q1804.25 1522.75 1804.25 1529.87 Q1804.25 1536.98 1806.05 1540.55 Q1807.88 1544.09 1811.49 1544.09 Q1815.13 1544.09 1816.93 1540.55 Q1818.76 1536.98 1818.76 1529.87 Q1818.76 1522.75 1816.93 1519.2 Q1815.13 1515.64 1811.49 1515.64 M1811.49 1511.93 Q1817.3 1511.93 1820.36 1516.54 Q1823.44 1521.12 1823.44 1529.87 Q1823.44 1538.6 1820.36 1543.21 Q1817.3 1547.79 1811.49 1547.79 Q1805.68 1547.79 1802.6 1543.21 Q1799.55 1538.6 1799.55 1529.87 Q1799.55 1521.12 1802.6 1516.54 Q1805.68 1511.93 1811.49 1511.93 Z\" fill=\"#000000\" fill-rule=\"evenodd\" fill-opacity=\"1\" /><path clip-path=\"url(#clip070)\" d=\"M2253.45 1543.18 L2269.77 1543.18 L2269.77 1547.12 L2247.82 1547.12 L2247.82 1543.18 Q2250.48 1540.43 2255.07 1535.8 Q2259.67 1531.15 2260.85 1529.81 Q2263.1 1527.28 2263.98 1525.55 Q2264.88 1523.79 2264.88 1522.1 Q2264.88 1519.34 2262.94 1517.61 Q2261.02 1515.87 2257.91 1515.87 Q2255.72 1515.87 2253.26 1516.63 Q2250.83 1517.4 2248.05 1518.95 L2248.05 1514.23 Q2250.88 1513.09 2253.33 1512.51 Q2255.78 1511.93 2257.82 1511.93 Q2263.19 1511.93 2266.39 1514.62 Q2269.58 1517.31 2269.58 1521.8 Q2269.58 1523.93 2268.77 1525.85 Q2267.98 1527.74 2265.88 1530.34 Q2265.3 1531.01 2262.2 1534.23 Q2259.09 1537.42 2253.45 1543.18 Z\" fill=\"#000000\" fill-rule=\"evenodd\" fill-opacity=\"1\" /><path clip-path=\"url(#clip070)\" d=\"M2289.58 1515.64 Q2285.97 1515.64 2284.14 1519.2 Q2282.34 1522.75 2282.34 1529.87 Q2282.34 1536.98 2284.14 1540.55 Q2285.97 1544.09 2289.58 1544.09 Q2293.21 1544.09 2295.02 1540.55 Q2296.85 1536.98 2296.85 1529.87 Q2296.85 1522.75 2295.02 1519.2 Q2293.21 1515.64 2289.58 1515.64 M2289.58 1511.93 Q2295.39 1511.93 2298.45 1516.54 Q2301.53 1521.12 2301.53 1529.87 Q2301.53 1538.6 2298.45 1543.21 Q2295.39 1547.79 2289.58 1547.79 Q2283.77 1547.79 2280.69 1543.21 Q2277.64 1538.6 2277.64 1529.87 Q2277.64 1521.12 2280.69 1516.54 Q2283.77 1511.93 2289.58 1511.93 Z\" fill=\"#000000\" fill-rule=\"evenodd\" fill-opacity=\"1\" /><path clip-path=\"url(#clip070)\" d=\"M2319.74 1515.64 Q2316.13 1515.64 2314.3 1519.2 Q2312.5 1522.75 2312.5 1529.87 Q2312.5 1536.98 2314.3 1540.55 Q2316.13 1544.09 2319.74 1544.09 Q2323.38 1544.09 2325.18 1540.55 Q2327.01 1536.98 2327.01 1529.87 Q2327.01 1522.75 2325.18 1519.2 Q2323.38 1515.64 2319.74 1515.64 M2319.74 1511.93 Q2325.55 1511.93 2328.61 1516.54 Q2331.69 1521.12 2331.69 1529.87 Q2331.69 1538.6 2328.61 1543.21 Q2325.55 1547.79 2319.74 1547.79 Q2313.93 1547.79 2310.85 1543.21 Q2307.8 1538.6 2307.8 1529.87 Q2307.8 1521.12 2310.85 1516.54 Q2313.93 1511.93 2319.74 1511.93 Z\" fill=\"#000000\" fill-rule=\"evenodd\" fill-opacity=\"1\" /><polyline clip-path=\"url(#clip072)\" style=\"stroke:#222255; stroke-linecap:butt; stroke-linejoin:round; stroke-width:2; stroke-opacity:0.1; fill:none\" points=\"\n  199.283,1445.72 2352.76,1445.72 \n  \"/>\n<polyline clip-path=\"url(#clip072)\" style=\"stroke:#222255; stroke-linecap:butt; stroke-linejoin:round; stroke-width:2; stroke-opacity:0.1; fill:none\" points=\"\n  199.283,1105.94 2352.76,1105.94 \n  \"/>\n<polyline clip-path=\"url(#clip072)\" style=\"stroke:#222255; stroke-linecap:butt; stroke-linejoin:round; stroke-width:2; stroke-opacity:0.1; fill:none\" points=\"\n  199.283,766.166 2352.76,766.166 \n  \"/>\n<polyline clip-path=\"url(#clip072)\" style=\"stroke:#222255; stroke-linecap:butt; stroke-linejoin:round; stroke-width:2; stroke-opacity:0.1; fill:none\" points=\"\n  199.283,426.392 2352.76,426.392 \n  \"/>\n<polyline clip-path=\"url(#clip072)\" style=\"stroke:#222255; stroke-linecap:butt; stroke-linejoin:round; stroke-width:2; stroke-opacity:0.1; fill:none\" points=\"\n  199.283,86.6172 2352.76,86.6172 \n  \"/>\n<polyline clip-path=\"url(#clip072)\" style=\"stroke:#222255; stroke-linecap:butt; stroke-linejoin:round; stroke-width:2; stroke-opacity:0.05; fill:none\" points=\"\n  199.283,1377.76 2352.76,1377.76 \n  \"/>\n<polyline clip-path=\"url(#clip072)\" style=\"stroke:#222255; stroke-linecap:butt; stroke-linejoin:round; stroke-width:2; stroke-opacity:0.05; fill:none\" points=\"\n  199.283,1309.81 2352.76,1309.81 \n  \"/>\n<polyline clip-path=\"url(#clip072)\" style=\"stroke:#222255; stroke-linecap:butt; stroke-linejoin:round; stroke-width:2; stroke-opacity:0.05; fill:none\" points=\"\n  199.283,1241.85 2352.76,1241.85 \n  \"/>\n<polyline clip-path=\"url(#clip072)\" style=\"stroke:#222255; stroke-linecap:butt; stroke-linejoin:round; stroke-width:2; stroke-opacity:0.05; fill:none\" points=\"\n  199.283,1173.9 2352.76,1173.9 \n  \"/>\n<polyline clip-path=\"url(#clip072)\" style=\"stroke:#222255; stroke-linecap:butt; stroke-linejoin:round; stroke-width:2; stroke-opacity:0.05; fill:none\" points=\"\n  199.283,1037.99 2352.76,1037.99 \n  \"/>\n<polyline clip-path=\"url(#clip072)\" style=\"stroke:#222255; stroke-linecap:butt; stroke-linejoin:round; stroke-width:2; stroke-opacity:0.05; fill:none\" points=\"\n  199.283,970.031 2352.76,970.031 \n  \"/>\n<polyline clip-path=\"url(#clip072)\" style=\"stroke:#222255; stroke-linecap:butt; stroke-linejoin:round; stroke-width:2; stroke-opacity:0.05; fill:none\" points=\"\n  199.283,902.076 2352.76,902.076 \n  \"/>\n<polyline clip-path=\"url(#clip072)\" style=\"stroke:#222255; stroke-linecap:butt; stroke-linejoin:round; stroke-width:2; stroke-opacity:0.05; fill:none\" points=\"\n  199.283,834.121 2352.76,834.121 \n  \"/>\n<polyline clip-path=\"url(#clip072)\" style=\"stroke:#222255; stroke-linecap:butt; stroke-linejoin:round; stroke-width:2; stroke-opacity:0.05; fill:none\" points=\"\n  199.283,698.212 2352.76,698.212 \n  \"/>\n<polyline clip-path=\"url(#clip072)\" style=\"stroke:#222255; stroke-linecap:butt; stroke-linejoin:round; stroke-width:2; stroke-opacity:0.05; fill:none\" points=\"\n  199.283,630.257 2352.76,630.257 \n  \"/>\n<polyline clip-path=\"url(#clip072)\" style=\"stroke:#222255; stroke-linecap:butt; stroke-linejoin:round; stroke-width:2; stroke-opacity:0.05; fill:none\" points=\"\n  199.283,562.302 2352.76,562.302 \n  \"/>\n<polyline clip-path=\"url(#clip072)\" style=\"stroke:#222255; stroke-linecap:butt; stroke-linejoin:round; stroke-width:2; stroke-opacity:0.05; fill:none\" points=\"\n  199.283,494.347 2352.76,494.347 \n  \"/>\n<polyline clip-path=\"url(#clip072)\" style=\"stroke:#222255; stroke-linecap:butt; stroke-linejoin:round; stroke-width:2; stroke-opacity:0.05; fill:none\" points=\"\n  199.283,358.437 2352.76,358.437 \n  \"/>\n<polyline clip-path=\"url(#clip072)\" style=\"stroke:#222255; stroke-linecap:butt; stroke-linejoin:round; stroke-width:2; stroke-opacity:0.05; fill:none\" points=\"\n  199.283,290.482 2352.76,290.482 \n  \"/>\n<polyline clip-path=\"url(#clip072)\" style=\"stroke:#222255; stroke-linecap:butt; stroke-linejoin:round; stroke-width:2; stroke-opacity:0.05; fill:none\" points=\"\n  199.283,222.527 2352.76,222.527 \n  \"/>\n<polyline clip-path=\"url(#clip072)\" style=\"stroke:#222255; stroke-linecap:butt; stroke-linejoin:round; stroke-width:2; stroke-opacity:0.05; fill:none\" points=\"\n  199.283,154.572 2352.76,154.572 \n  \"/>\n<polyline clip-path=\"url(#clip070)\" style=\"stroke:#222255; stroke-linecap:butt; stroke-linejoin:round; stroke-width:4; stroke-opacity:0; fill:none\" points=\"\n  199.283,1445.72 218.181,1445.72 \n  \"/>\n<polyline clip-path=\"url(#clip070)\" style=\"stroke:#222255; stroke-linecap:butt; stroke-linejoin:round; stroke-width:4; stroke-opacity:0; fill:none\" points=\"\n  199.283,1105.94 218.181,1105.94 \n  \"/>\n<polyline clip-path=\"url(#clip070)\" style=\"stroke:#222255; stroke-linecap:butt; stroke-linejoin:round; stroke-width:4; stroke-opacity:0; fill:none\" points=\"\n  199.283,766.166 218.181,766.166 \n  \"/>\n<polyline clip-path=\"url(#clip070)\" style=\"stroke:#222255; stroke-linecap:butt; stroke-linejoin:round; stroke-width:4; stroke-opacity:0; fill:none\" points=\"\n  199.283,426.392 218.181,426.392 \n  \"/>\n<polyline clip-path=\"url(#clip070)\" style=\"stroke:#222255; stroke-linecap:butt; stroke-linejoin:round; stroke-width:4; stroke-opacity:0; fill:none\" points=\"\n  199.283,86.6172 218.181,86.6172 \n  \"/>\n<polyline clip-path=\"url(#clip070)\" style=\"stroke:#222255; stroke-linecap:butt; stroke-linejoin:round; stroke-width:4; stroke-opacity:0; fill:none\" points=\"\n  199.283,1377.76 208.732,1377.76 \n  \"/>\n<polyline clip-path=\"url(#clip070)\" style=\"stroke:#222255; stroke-linecap:butt; stroke-linejoin:round; stroke-width:4; stroke-opacity:0; fill:none\" points=\"\n  199.283,1309.81 208.732,1309.81 \n  \"/>\n<polyline clip-path=\"url(#clip070)\" style=\"stroke:#222255; stroke-linecap:butt; stroke-linejoin:round; stroke-width:4; stroke-opacity:0; fill:none\" points=\"\n  199.283,1241.85 208.732,1241.85 \n  \"/>\n<polyline clip-path=\"url(#clip070)\" style=\"stroke:#222255; stroke-linecap:butt; stroke-linejoin:round; stroke-width:4; stroke-opacity:0; fill:none\" points=\"\n  199.283,1173.9 208.732,1173.9 \n  \"/>\n<polyline clip-path=\"url(#clip070)\" style=\"stroke:#222255; stroke-linecap:butt; stroke-linejoin:round; stroke-width:4; stroke-opacity:0; fill:none\" points=\"\n  199.283,1037.99 208.732,1037.99 \n  \"/>\n<polyline clip-path=\"url(#clip070)\" style=\"stroke:#222255; stroke-linecap:butt; stroke-linejoin:round; stroke-width:4; stroke-opacity:0; fill:none\" points=\"\n  199.283,970.031 208.732,970.031 \n  \"/>\n<polyline clip-path=\"url(#clip070)\" style=\"stroke:#222255; stroke-linecap:butt; stroke-linejoin:round; stroke-width:4; stroke-opacity:0; fill:none\" points=\"\n  199.283,902.076 208.732,902.076 \n  \"/>\n<polyline clip-path=\"url(#clip070)\" style=\"stroke:#222255; stroke-linecap:butt; stroke-linejoin:round; stroke-width:4; stroke-opacity:0; fill:none\" points=\"\n  199.283,834.121 208.732,834.121 \n  \"/>\n<polyline clip-path=\"url(#clip070)\" style=\"stroke:#222255; stroke-linecap:butt; stroke-linejoin:round; stroke-width:4; stroke-opacity:0; fill:none\" points=\"\n  199.283,698.212 208.732,698.212 \n  \"/>\n<polyline clip-path=\"url(#clip070)\" style=\"stroke:#222255; stroke-linecap:butt; stroke-linejoin:round; stroke-width:4; stroke-opacity:0; fill:none\" points=\"\n  199.283,630.257 208.732,630.257 \n  \"/>\n<polyline clip-path=\"url(#clip070)\" style=\"stroke:#222255; stroke-linecap:butt; stroke-linejoin:round; stroke-width:4; stroke-opacity:0; fill:none\" points=\"\n  199.283,562.302 208.732,562.302 \n  \"/>\n<polyline clip-path=\"url(#clip070)\" style=\"stroke:#222255; stroke-linecap:butt; stroke-linejoin:round; stroke-width:4; stroke-opacity:0; fill:none\" points=\"\n  199.283,494.347 208.732,494.347 \n  \"/>\n<polyline clip-path=\"url(#clip070)\" style=\"stroke:#222255; stroke-linecap:butt; stroke-linejoin:round; stroke-width:4; stroke-opacity:0; fill:none\" points=\"\n  199.283,358.437 208.732,358.437 \n  \"/>\n<polyline clip-path=\"url(#clip070)\" style=\"stroke:#222255; stroke-linecap:butt; stroke-linejoin:round; stroke-width:4; stroke-opacity:0; fill:none\" points=\"\n  199.283,290.482 208.732,290.482 \n  \"/>\n<polyline clip-path=\"url(#clip070)\" style=\"stroke:#222255; stroke-linecap:butt; stroke-linejoin:round; stroke-width:4; stroke-opacity:0; fill:none\" points=\"\n  199.283,222.527 208.732,222.527 \n  \"/>\n<polyline clip-path=\"url(#clip070)\" style=\"stroke:#222255; stroke-linecap:butt; stroke-linejoin:round; stroke-width:4; stroke-opacity:0; fill:none\" points=\"\n  199.283,154.572 208.732,154.572 \n  \"/>\n<path clip-path=\"url(#clip070)\" d=\"M151.339 1431.51 Q147.728 1431.51 145.899 1435.08 Q144.093 1438.62 144.093 1445.75 Q144.093 1452.86 145.899 1456.42 Q147.728 1459.96 151.339 1459.96 Q154.973 1459.96 156.779 1456.42 Q158.607 1452.86 158.607 1445.75 Q158.607 1438.62 156.779 1435.08 Q154.973 1431.51 151.339 1431.51 M151.339 1427.81 Q157.149 1427.81 160.205 1432.42 Q163.283 1437 163.283 1445.75 Q163.283 1454.48 160.205 1459.08 Q157.149 1463.67 151.339 1463.67 Q145.529 1463.67 142.45 1459.08 Q139.394 1454.48 139.394 1445.75 Q139.394 1437 142.45 1432.42 Q145.529 1427.81 151.339 1427.81 Z\" fill=\"#000000\" fill-rule=\"evenodd\" fill-opacity=\"1\" /><path clip-path=\"url(#clip070)\" d=\"M85.0429 1119.29 L101.362 1119.29 L101.362 1123.22 L79.4179 1123.22 L79.4179 1119.29 Q82.0799 1116.53 86.6632 1111.9 Q91.2697 1107.25 92.4502 1105.91 Q94.6956 1103.38 95.5752 1101.65 Q96.478 1099.89 96.478 1098.2 Q96.478 1095.44 94.5336 1093.71 Q92.6123 1091.97 89.5104 1091.97 Q87.3114 1091.97 84.8577 1092.74 Q82.4271 1093.5 79.6494 1095.05 L79.6494 1090.33 Q82.4734 1089.19 84.9271 1088.61 Q87.3808 1088.04 89.4178 1088.04 Q94.7882 1088.04 97.9826 1090.72 Q101.177 1093.41 101.177 1097.9 Q101.177 1100.03 100.367 1101.95 Q99.5798 1103.85 97.4734 1106.44 Q96.8947 1107.11 93.7928 1110.33 Q90.691 1113.52 85.0429 1119.29 Z\" fill=\"#000000\" fill-rule=\"evenodd\" fill-opacity=\"1\" /><path clip-path=\"url(#clip070)\" d=\"M111.223 1088.66 L129.58 1088.66 L129.58 1092.6 L115.506 1092.6 L115.506 1101.07 Q116.524 1100.72 117.543 1100.56 Q118.561 1100.37 119.58 1100.37 Q125.367 1100.37 128.746 1103.55 Q132.126 1106.72 132.126 1112.13 Q132.126 1117.71 128.654 1120.81 Q125.182 1123.89 118.862 1123.89 Q116.686 1123.89 114.418 1123.52 Q112.172 1123.15 109.765 1122.41 L109.765 1117.71 Q111.848 1118.85 114.07 1119.4 Q116.293 1119.96 118.77 1119.96 Q122.774 1119.96 125.112 1117.85 Q127.45 1115.74 127.45 1112.13 Q127.45 1108.52 125.112 1106.42 Q122.774 1104.31 118.77 1104.31 Q116.895 1104.31 115.02 1104.73 Q113.168 1105.14 111.223 1106.02 L111.223 1088.66 Z\" fill=\"#000000\" fill-rule=\"evenodd\" fill-opacity=\"1\" /><path clip-path=\"url(#clip070)\" d=\"M151.339 1091.74 Q147.728 1091.74 145.899 1095.3 Q144.093 1098.85 144.093 1105.98 Q144.093 1113.08 145.899 1116.65 Q147.728 1120.19 151.339 1120.19 Q154.973 1120.19 156.779 1116.65 Q158.607 1113.08 158.607 1105.98 Q158.607 1098.85 156.779 1095.3 Q154.973 1091.74 151.339 1091.74 M151.339 1088.04 Q157.149 1088.04 160.205 1092.64 Q163.283 1097.23 163.283 1105.98 Q163.283 1114.7 160.205 1119.31 Q157.149 1123.89 151.339 1123.89 Q145.529 1123.89 142.45 1119.31 Q139.394 1114.7 139.394 1105.98 Q139.394 1097.23 142.45 1092.64 Q145.529 1088.04 151.339 1088.04 Z\" fill=\"#000000\" fill-rule=\"evenodd\" fill-opacity=\"1\" /><path clip-path=\"url(#clip070)\" d=\"M81.0614 748.886 L99.4178 748.886 L99.4178 752.822 L85.3438 752.822 L85.3438 761.294 Q86.3623 760.947 87.3808 760.785 Q88.3993 760.599 89.4178 760.599 Q95.2049 760.599 98.5845 763.771 Q101.964 766.942 101.964 772.359 Q101.964 777.937 98.4919 781.039 Q95.0197 784.118 88.7003 784.118 Q86.5243 784.118 84.2558 783.747 Q82.0105 783.377 79.6031 782.636 L79.6031 777.937 Q81.6864 779.071 83.9086 779.627 Q86.1308 780.183 88.6077 780.183 Q92.6123 780.183 94.9502 778.076 Q97.2882 775.97 97.2882 772.359 Q97.2882 768.747 94.9502 766.641 Q92.6123 764.534 88.6077 764.534 Q86.7327 764.534 84.8577 764.951 Q83.0058 765.368 81.0614 766.247 L81.0614 748.886 Z\" fill=\"#000000\" fill-rule=\"evenodd\" fill-opacity=\"1\" /><path clip-path=\"url(#clip070)\" d=\"M121.177 751.965 Q117.566 751.965 115.737 755.53 Q113.932 759.072 113.932 766.201 Q113.932 773.308 115.737 776.872 Q117.566 780.414 121.177 780.414 Q124.811 780.414 126.617 776.872 Q128.445 773.308 128.445 766.201 Q128.445 759.072 126.617 755.53 Q124.811 751.965 121.177 751.965 M121.177 748.261 Q126.987 748.261 130.043 752.868 Q133.121 757.451 133.121 766.201 Q133.121 774.928 130.043 779.534 Q126.987 784.118 121.177 784.118 Q115.367 784.118 112.288 779.534 Q109.233 774.928 109.233 766.201 Q109.233 757.451 112.288 752.868 Q115.367 748.261 121.177 748.261 Z\" fill=\"#000000\" fill-rule=\"evenodd\" fill-opacity=\"1\" /><path clip-path=\"url(#clip070)\" d=\"M151.339 751.965 Q147.728 751.965 145.899 755.53 Q144.093 759.072 144.093 766.201 Q144.093 773.308 145.899 776.872 Q147.728 780.414 151.339 780.414 Q154.973 780.414 156.779 776.872 Q158.607 773.308 158.607 766.201 Q158.607 759.072 156.779 755.53 Q154.973 751.965 151.339 751.965 M151.339 748.261 Q157.149 748.261 160.205 752.868 Q163.283 757.451 163.283 766.201 Q163.283 774.928 160.205 779.534 Q157.149 784.118 151.339 784.118 Q145.529 784.118 142.45 779.534 Q139.394 774.928 139.394 766.201 Q139.394 757.451 142.45 752.868 Q145.529 748.261 151.339 748.261 Z\" fill=\"#000000\" fill-rule=\"evenodd\" fill-opacity=\"1\" /><path clip-path=\"url(#clip070)\" d=\"M79.8346 409.112 L102.057 409.112 L102.057 411.103 L89.5104 443.672 L84.6262 443.672 L96.4317 413.047 L79.8346 413.047 L79.8346 409.112 Z\" fill=\"#000000\" fill-rule=\"evenodd\" fill-opacity=\"1\" /><path clip-path=\"url(#clip070)\" d=\"M111.223 409.112 L129.58 409.112 L129.58 413.047 L115.506 413.047 L115.506 421.519 Q116.524 421.172 117.543 421.01 Q118.561 420.825 119.58 420.825 Q125.367 420.825 128.746 423.996 Q132.126 427.167 132.126 432.584 Q132.126 438.163 128.654 441.264 Q125.182 444.343 118.862 444.343 Q116.686 444.343 114.418 443.973 Q112.172 443.602 109.765 442.862 L109.765 438.163 Q111.848 439.297 114.07 439.852 Q116.293 440.408 118.77 440.408 Q122.774 440.408 125.112 438.301 Q127.45 436.195 127.45 432.584 Q127.45 428.973 125.112 426.866 Q122.774 424.76 118.77 424.76 Q116.895 424.76 115.02 425.177 Q113.168 425.593 111.223 426.473 L111.223 409.112 Z\" fill=\"#000000\" fill-rule=\"evenodd\" fill-opacity=\"1\" /><path clip-path=\"url(#clip070)\" d=\"M151.339 412.19 Q147.728 412.19 145.899 415.755 Q144.093 419.297 144.093 426.427 Q144.093 433.533 145.899 437.098 Q147.728 440.639 151.339 440.639 Q154.973 440.639 156.779 437.098 Q158.607 433.533 158.607 426.427 Q158.607 419.297 156.779 415.755 Q154.973 412.19 151.339 412.19 M151.339 408.487 Q157.149 408.487 160.205 413.093 Q163.283 417.677 163.283 426.427 Q163.283 435.153 160.205 439.76 Q157.149 444.343 151.339 444.343 Q145.529 444.343 142.45 439.76 Q139.394 435.153 139.394 426.427 Q139.394 417.677 142.45 413.093 Q145.529 408.487 151.339 408.487 Z\" fill=\"#000000\" fill-rule=\"evenodd\" fill-opacity=\"1\" /><path clip-path=\"url(#clip070)\" d=\"M51.6634 99.962 L59.3023 99.962 L59.3023 73.5964 L50.9921 75.2631 L50.9921 71.0038 L59.256 69.3372 L63.9319 69.3372 L63.9319 99.962 L71.5707 99.962 L71.5707 103.897 L51.6634 103.897 L51.6634 99.962 Z\" fill=\"#000000\" fill-rule=\"evenodd\" fill-opacity=\"1\" /><path clip-path=\"url(#clip070)\" d=\"M91.0151 72.4159 Q87.404 72.4159 85.5753 75.9807 Q83.7697 79.5223 83.7697 86.6519 Q83.7697 93.7583 85.5753 97.3231 Q87.404 100.865 91.0151 100.865 Q94.6493 100.865 96.4548 97.3231 Q98.2835 93.7583 98.2835 86.6519 Q98.2835 79.5223 96.4548 75.9807 Q94.6493 72.4159 91.0151 72.4159 M91.0151 68.7122 Q96.8252 68.7122 99.8808 73.3186 Q102.959 77.9019 102.959 86.6519 Q102.959 95.3787 99.8808 99.9852 Q96.8252 104.568 91.0151 104.568 Q85.2049 104.568 82.1262 99.9852 Q79.0707 95.3787 79.0707 86.6519 Q79.0707 77.9019 82.1262 73.3186 Q85.2049 68.7122 91.0151 68.7122 Z\" fill=\"#000000\" fill-rule=\"evenodd\" fill-opacity=\"1\" /><path clip-path=\"url(#clip070)\" d=\"M121.177 72.4159 Q117.566 72.4159 115.737 75.9807 Q113.932 79.5223 113.932 86.6519 Q113.932 93.7583 115.737 97.3231 Q117.566 100.865 121.177 100.865 Q124.811 100.865 126.617 97.3231 Q128.445 93.7583 128.445 86.6519 Q128.445 79.5223 126.617 75.9807 Q124.811 72.4159 121.177 72.4159 M121.177 68.7122 Q126.987 68.7122 130.043 73.3186 Q133.121 77.9019 133.121 86.6519 Q133.121 95.3787 130.043 99.9852 Q126.987 104.568 121.177 104.568 Q115.367 104.568 112.288 99.9852 Q109.233 95.3787 109.233 86.6519 Q109.233 77.9019 112.288 73.3186 Q115.367 68.7122 121.177 68.7122 Z\" fill=\"#000000\" fill-rule=\"evenodd\" fill-opacity=\"1\" /><path clip-path=\"url(#clip070)\" d=\"M151.339 72.4159 Q147.728 72.4159 145.899 75.9807 Q144.093 79.5223 144.093 86.6519 Q144.093 93.7583 145.899 97.3231 Q147.728 100.865 151.339 100.865 Q154.973 100.865 156.779 97.3231 Q158.607 93.7583 158.607 86.6519 Q158.607 79.5223 156.779 75.9807 Q154.973 72.4159 151.339 72.4159 M151.339 68.7122 Q157.149 68.7122 160.205 73.3186 Q163.283 77.9019 163.283 86.6519 Q163.283 95.3787 160.205 99.9852 Q157.149 104.568 151.339 104.568 Q145.529 104.568 142.45 99.9852 Q139.394 95.3787 139.394 86.6519 Q139.394 77.9019 142.45 73.3186 Q145.529 68.7122 151.339 68.7122 Z\" fill=\"#000000\" fill-rule=\"evenodd\" fill-opacity=\"1\" /><polyline clip-path=\"url(#clip072)\" style=\"stroke:#ee7733; stroke-linecap:butt; stroke-linejoin:round; stroke-width:4.8; stroke-opacity:1; fill:none\" points=\"\n  260.231,87.9763 489.545,89.3354 517.476,90.6945 557.762,92.0536 573.809,93.4127 581.566,94.7718 592.06,96.1309 593.3,96.1309 617.996,97.49 622.222,98.8491 \n  623.811,100.208 629.664,100.208 650.964,101.567 651.507,102.926 659.801,104.285 661.336,104.285 670.929,105.645 671.425,107.004 677.319,108.363 679.11,109.722 \n  684.736,111.081 685.926,112.44 688.61,113.799 689.302,115.158 694.967,116.517 699.07,117.876 702.801,119.236 708.327,120.595 709.583,121.954 710.597,123.313 \n  711.025,124.672 715.427,126.031 717.712,127.39 717.84,128.749 719.206,130.108 720.179,131.467 726.611,132.827 727.501,134.186 728.484,135.545 734.409,136.904 \n  737.534,138.263 738.021,139.622 738.606,140.981 739.064,142.34 742.3,143.699 752.217,145.058 753.205,146.418 758.658,147.777 758.887,149.136 760.995,150.495 \n  761.875,151.854 764.29,153.213 765.406,154.572 767.826,155.931 782.743,155.931 784.899,157.29 785.22,158.649 786.45,160.008 787.491,161.368 787.518,162.727 \n  788.88,164.086 789.656,165.445 790.214,166.804 791.035,168.163 792.903,169.522 793.131,170.881 795.05,170.881 798.621,172.24 800.573,173.599 800.91,174.959 \n  801.292,176.318 801.791,177.677 807.015,179.036 807.393,180.395 807.562,180.395 807.642,181.754 809.431,183.113 809.475,184.472 812.661,185.831 815.017,187.19 \n  822.944,188.55 825.409,189.909 825.883,191.268 827.069,192.627 828.132,193.986 829.887,193.986 831.368,195.345 831.447,196.704 832.074,198.063 832.301,199.422 \n  832.535,200.781 833.027,202.141 833.092,203.5 837.339,204.859 837.45,206.218 839.608,206.218 839.979,207.577 841.472,208.936 842.004,210.295 842.576,211.654 \n  844.105,213.013 845.597,213.013 847.25,214.372 847.618,215.732 847.714,217.091 849.838,217.091 850.524,218.45 850.933,218.45 851.167,219.809 852.339,221.168 \n  852.844,222.527 853.033,223.886 854.358,225.245 855.274,226.604 855.438,227.963 856.26,229.323 858.078,230.682 858.772,232.041 860.234,233.4 861.522,233.4 \n  862.636,234.759 863.477,236.118 863.518,237.477 863.919,238.836 864.711,240.195 865.761,241.554 865.815,242.914 866.54,244.273 866.769,245.632 867.328,246.991 \n  867.728,248.35 868.274,249.709 869.164,251.068 869.698,252.427 871.69,253.786 872.137,255.145 873.375,256.504 873.579,257.864 875.004,259.223 876.358,260.582 \n  876.582,260.582 876.756,261.941 877.759,261.941 877.939,263.3 878.584,264.659 879.93,266.018 880.373,267.377 881.035,268.736 881.195,270.095 881.392,271.455 \n  882.424,272.814 883.65,274.173 884.549,275.532 884.903,276.891 885.628,278.25 885.638,279.609 886.776,280.968 889.27,282.327 889.36,283.686 889.998,285.046 \n  891.224,286.405 891.816,287.764 893.086,289.123 893.509,290.482 893.684,291.841 894.306,293.2 894.371,294.559 895.264,294.559 895.458,295.918 898.794,297.277 \n  898.904,297.277 900.52,297.277 900.678,297.277 900.761,298.637 901.079,299.996 901.162,301.355 901.253,302.714 903.879,302.714 904.443,304.073 905.07,305.432 \n  905.242,306.791 905.321,306.791 906.477,308.15 906.799,309.509 908.624,310.868 909.201,312.228 911.726,313.587 911.783,314.946 912,316.305 912.231,317.664 \n  912.391,317.664 912.7,319.023 912.729,320.382 912.976,321.741 913.166,323.1 913.451,324.459 913.781,325.819 914.351,327.178 914.694,328.537 915.929,329.896 \n  915.978,331.255 916.452,332.614 916.644,333.973 917.349,335.332 919.059,335.332 919.495,336.691 919.819,338.05 920.736,339.41 921.212,340.769 922.242,342.128 \n  922.511,342.128 923.575,343.487 923.805,344.846 924.365,346.205 924.826,347.564 925.83,348.923 926.391,350.282 927.205,351.641 927.338,353 928.588,354.36 \n  928.826,355.719 928.961,357.078 930.013,358.437 930.527,359.796 930.532,361.155 932.336,362.514 933.993,362.514 934.939,363.873 935.831,363.873 935.845,365.232 \n  936.033,366.591 936.217,367.951 936.286,369.31 936.99,370.669 937.678,372.028 937.974,373.387 939.799,373.387 940.519,374.746 940.672,374.746 941.106,376.105 \n  941.255,377.464 942.919,378.823 944.061,380.182 944.439,381.542 944.504,382.901 945.436,384.26 946.279,385.619 946.874,386.978 947.024,388.337 947.391,389.696 \n  947.454,391.055 947.465,391.055 948.271,391.055 948.528,392.414 949.413,393.773 949.802,395.133 949.932,396.492 950.617,397.851 951.194,399.21 951.968,400.569 \n  953.316,401.928 953.405,403.287 954.643,404.646 954.755,406.005 955.809,407.364 955.948,408.724 957.329,410.083 958.381,411.442 959.231,412.801 961.124,414.16 \n  961.284,415.519 962.081,416.878 963.006,418.237 963.38,419.596 963.466,420.955 964.003,422.315 964.305,423.674 964.72,423.674 966.298,425.033 966.47,426.392 \n  967.145,427.751 967.259,429.11 967.396,429.11 967.451,430.469 967.635,430.469 968.033,431.828 968.566,433.187 968.667,434.546 970.235,435.905 971.59,437.265 \n  972.295,438.624 972.681,439.983 973.667,441.342 973.791,442.701 974.783,444.06 976.6,445.419 976.701,446.778 977.575,448.137 978.41,449.496 978.55,450.856 \n  978.904,452.215 979.075,453.574 979.135,454.933 979.454,456.292 980.024,457.651 980.199,459.01 980.469,460.369 980.703,461.728 980.822,463.087 983.29,464.447 \n  983.55,465.806 983.842,467.165 985.603,467.165 986.224,468.524 986.253,469.883 987.146,471.242 987.412,471.242 989.391,472.601 989.778,473.96 990.538,475.319 \n  991.098,476.678 991.105,478.038 991.213,479.397 991.504,480.756 991.619,480.756 993.353,482.115 994.853,483.474 994.888,484.833 995.449,484.833 995.94,486.192 \n  996.362,487.551 996.393,488.91 996.626,490.269 997.004,491.629 997.266,492.988 997.285,494.347 997.433,495.706 997.483,497.065 997.492,498.424 998.332,499.783 \n  999.18,501.142 999.355,502.501 999.39,503.86 999.647,503.86 999.806,505.22 999.825,506.579 1000.41,507.938 1001.14,509.297 1001.49,510.656 1003.23,512.015 \n  1003.32,513.374 1004.2,514.733 1004.41,516.092 1004.45,517.451 1004.79,518.811 1005.43,520.17 1006.03,521.529 1007.3,522.888 1007.74,524.247 1008.19,525.606 \n  1008.4,526.965 1008.56,528.324 1008.66,529.683 1009.66,531.042 1009.7,532.401 1010.94,533.761 1011.46,535.12 1011.59,536.479 1011.95,536.479 1012.47,537.838 \n  1013.33,539.197 1013.48,540.556 1014.24,541.915 1014.63,543.274 1015.22,544.633 1015.92,545.992 1016.36,547.352 1016.68,548.711 1016.72,550.07 1016.93,551.429 \n  1016.93,552.788 1018.08,554.147 1018.35,555.506 1018.91,556.865 1020.1,556.865 1020.87,556.865 1020.91,558.224 1021.09,559.583 1021.14,560.943 1021.26,562.302 \n  1021.56,562.302 1022.13,563.661 1022.58,565.02 1022.74,566.379 1022.82,566.379 1023.26,567.738 1024.64,569.097 1024.69,570.456 1024.76,571.815 1025.74,573.174 \n  1025.85,574.534 1026.31,575.893 1027.29,577.252 1028.71,578.611 1029.88,579.97 1030.23,581.329 1031.53,582.688 1031.58,584.047 1032.54,585.406 1032.56,586.765 \n  1032.91,588.125 1034.59,588.125 1035.1,588.125 1035.25,589.484 1036.04,590.843 1036.06,592.202 1036.33,593.561 1037.19,594.92 1037.75,596.279 1037.8,597.638 \n  1038.85,598.997 1038.9,600.356 1038.96,601.716 1039.03,601.716 1039.71,603.075 1040.01,604.434 1040.43,605.793 1041.52,607.152 1043.59,608.511 1043.97,609.87 \n  1044.32,611.229 1044.66,612.588 1044.86,613.947 1044.86,615.307 1045.06,616.666 1045.26,618.025 1045.37,619.384 1045.38,619.384 1045.46,620.743 1045.49,622.102 \n  1047.59,623.461 1048.49,623.461 1048.9,624.82 1048.9,626.179 1049.09,627.538 1050.07,628.897 1051.84,630.257 1052,631.616 1052.76,632.975 1052.88,632.975 \n  1053.89,634.334 1054.62,635.693 1055.32,637.052 1056.5,638.411 1056.77,638.411 1057.47,639.77 1057.58,641.129 1057.62,642.488 1057.74,643.848 1057.78,645.207 \n  1058.31,646.566 1058.63,647.925 1060.19,649.284 1060.54,649.284 1060.66,650.643 1061.41,650.643 1061.43,652.002 1062.16,653.361 1062.44,654.72 1062.65,656.079 \n  1063.01,656.079 1063.02,656.079 1063.38,657.439 1063.41,658.798 1063.61,660.157 1063.94,661.516 1064.88,662.875 1065.43,664.234 1065.83,665.593 1066.19,666.952 \n  1066.75,668.311 1067.57,669.67 1067.71,669.67 1069.23,671.03 1070.66,672.389 1070.75,672.389 1070.85,673.748 1070.89,673.748 1071.06,675.107 1071.21,676.466 \n  1071.35,676.466 1072.53,677.825 1073.21,679.184 1074.07,680.543 1074.28,681.902 1074.3,683.261 1074.82,684.621 1075.2,685.98 1075.66,687.339 1076.41,688.698 \n  1076.52,690.057 1076.66,691.416 1076.78,692.775 1076.92,694.134 1077.54,695.493 1077.59,696.852 1077.83,698.212 1078.09,699.571 1078.32,700.93 1078.76,702.289 \n  1079.03,703.648 1080.06,705.007 1080.51,705.007 1080.72,706.366 1081.15,706.366 1081.4,707.725 1081.87,709.084 1082.19,710.443 1082.21,711.802 1082.37,713.162 \n  1083.47,714.521 1084.13,715.88 1084.2,717.239 1084.26,718.598 1084.57,719.957 1084.97,719.957 1085.55,721.316 1085.73,722.675 1085.8,724.034 1086.03,725.393 \n  1086.41,726.753 1086.42,728.112 1086.54,729.471 1086.87,730.83 1087.13,732.189 1087.41,733.548 1087.5,733.548 1087.81,734.907 1087.84,736.266 1088.87,736.266 \n  1088.91,737.625 1089.07,738.984 1089.13,740.344 1089.25,741.703 1089.87,741.703 1090.25,741.703 1090.57,743.062 1090.99,744.421 1091.51,745.78 1092.2,747.139 \n  1094.32,748.498 1094.91,749.857 1094.95,751.216 1095.12,752.575 1095.28,753.935 1095.53,755.294 1095.61,756.653 1095.64,758.012 1095.68,759.371 1095.85,760.73 \n  1095.91,762.089 1096.46,763.448 1096.84,764.807 1096.95,766.166 1097.11,767.526 1097.56,768.885 1097.62,770.244 1098.9,770.244 1099.31,771.603 1099.42,772.962 \n  1100.42,774.321 1101.2,775.68 1101.61,777.039 1101.77,778.398 1102,779.757 1102.05,781.117 1102.38,782.476 1103.52,783.835 1104.41,783.835 1104.65,785.194 \n  1105.45,786.553 1106.1,787.912 1106.48,789.271 1107.62,790.63 1108.05,791.989 1108.17,793.348 1108.29,794.708 1108.44,796.067 1108.55,796.067 1108.6,797.426 \n  1109.2,797.426 1109.37,798.785 1109.97,800.144 1110.08,801.503 1110.11,802.862 1110.26,804.221 1110.46,805.58 1111.69,805.58 1112.93,806.939 1113.56,808.298 \n  1113.72,809.658 1114.24,809.658 1114.26,811.017 1114.7,812.376 1114.72,813.735 1115.13,815.094 1115.41,816.453 1115.55,816.453 1116.21,817.812 1116.24,817.812 \n  1116.48,819.171 1116.52,820.53 1116.7,821.889 1116.71,823.249 1116.75,824.608 1116.9,825.967 1117.01,827.326 1117.72,828.685 1117.99,828.685 1119.3,830.044 \n  1119.42,831.403 1119.53,832.762 1120.08,834.121 1120.57,835.48 1120.92,836.84 1122.4,836.84 1123,838.199 1123.13,839.558 1123.46,840.917 1123.66,842.276 \n  1124.05,843.635 1124.39,844.994 1124.83,846.353 1125.31,847.712 1126.29,849.071 1126.34,850.431 1127.24,851.79 1127.75,853.149 1127.83,854.508 1128.1,855.867 \n  1128.1,857.226 1128.44,858.585 1128.66,859.944 1128.69,861.303 1128.75,861.303 1129.04,862.662 1129.28,864.022 1129.36,865.381 1130.62,866.74 1131.02,868.099 \n  1131.38,868.099 1131.42,869.458 1131.52,870.817 1131.56,872.176 1132.15,872.176 1133.01,873.535 1133.11,874.894 1133.82,874.894 1133.93,874.894 1134.24,876.253 \n  1134.28,877.613 1134.35,878.972 1134.4,880.331 1134.5,881.69 1134.59,883.049 1135.01,883.049 1135.37,884.408 1135.95,884.408 1136.11,885.767 1136.6,887.126 \n  1136.83,888.485 1136.98,889.844 1137.14,891.203 1138.12,892.563 1138.18,893.922 1138.78,893.922 1139.07,895.281 1139.46,895.281 1139.61,896.64 1139.7,897.999 \n  1140.64,899.358 1141.02,900.717 1141.03,902.076 1143.12,903.435 1143.27,903.435 1143.59,904.794 1144.21,906.154 1145.52,907.513 1145.59,908.872 1145.78,910.231 \n  1146.05,910.231 1146.22,911.59 1146.48,911.59 1147.01,912.949 1147.12,914.308 1147.68,915.667 1150.65,915.667 1150.7,917.026 1150.88,918.385 1151.2,919.745 \n  1151.34,919.745 1151.84,921.104 1153.11,922.463 1153.31,923.822 1153.42,925.181 1154.42,925.181 1154.46,926.54 1154.59,927.899 1154.77,929.258 1155.46,929.258 \n  1155.53,930.617 1155.56,931.976 1155.57,933.336 1155.59,934.695 1155.75,936.054 1155.83,937.413 1156.01,938.772 1156.19,940.131 1156.3,940.131 1157.3,940.131 \n  1158.36,941.49 1158.52,942.849 1158.55,944.208 1159.31,945.567 1160.32,946.927 1160.39,948.286 1160.88,949.645 1160.95,951.004 1161.01,952.363 1162.1,953.722 \n  1162.2,955.081 1162.55,956.44 1162.77,957.799 1162.99,959.158 1163.02,959.158 1163.09,960.518 1163.24,961.877 1163.5,963.236 1163.57,964.595 1164.22,965.954 \n  1164.29,967.313 1164.34,968.672 1165.04,970.031 1165.82,970.031 1166.01,971.39 1166.01,972.749 1166.2,974.109 1166.38,975.468 1166.49,975.468 1166.64,976.827 \n  1167.03,978.186 1167.94,979.545 1169.07,980.904 1169.12,982.263 1169.19,982.263 1169.59,983.622 1169.7,984.981 1170.26,986.34 1170.38,987.699 1170.84,989.059 \n  1171.24,989.059 1171.31,990.418 1171.55,991.777 1171.86,991.777 1172.23,993.136 1172.28,994.495 1172.47,994.495 1173.76,995.854 1174.32,997.213 1174.58,998.572 \n  1174.98,998.572 1175.11,998.572 1175.5,999.931 1176.77,1001.29 1176.85,1002.65 1177.86,1004.01 1178.02,1005.37 1178.14,1006.73 1178.6,1008.09 1179.09,1008.09 \n  1179.73,1009.45 1180,1009.45 1181.35,1010.8 1181.8,1012.16 1182.11,1012.16 1182.27,1012.16 1182.38,1013.52 1182.4,1014.88 1183.07,1016.24 1183.25,1016.24 \n  1183.41,1016.24 1183.54,1016.24 1184.16,1017.6 1184.72,1017.6 1185.35,1018.96 1185.46,1020.32 1185.78,1021.68 1186.01,1023.04 1186.65,1024.4 1186.78,1024.4 \n  1186.85,1024.4 1189.04,1025.75 1189.28,1025.75 1190.28,1027.11 1190.5,1028.47 1190.74,1029.83 1191.03,1031.19 1191.47,1032.55 1191.82,1033.91 1191.88,1033.91 \n  1192.02,1035.27 1192.64,1036.63 1195.16,1037.99 1195.54,1039.35 1196.22,1040.7 1196.55,1040.7 1197.66,1040.7 1198.06,1040.7 1199.25,1040.7 1200,1042.06 \n  1200.33,1043.42 1200.94,1043.42 1201.2,1044.78 1202.9,1044.78 1202.91,1046.14 1203.43,1047.5 1204.2,1048.86 1204.28,1050.22 1204.66,1051.58 1205.13,1051.58 \n  1205.28,1051.58 1205.52,1052.94 1205.56,1052.94 1205.96,1054.3 1206.68,1055.65 1206.93,1057.01 1207.43,1058.37 1207.59,1059.73 1207.86,1059.73 1208.2,1061.09 \n  1208.36,1062.45 1208.67,1063.81 1209.63,1063.81 1209.86,1065.17 1210.81,1066.53 1211.98,1067.89 1212.45,1069.25 1214.46,1069.25 1214.79,1070.6 1214.9,1071.96 \n  1214.9,1073.32 1215.67,1074.68 1215.85,1076.04 1216.25,1077.4 1216.28,1078.76 1216.36,1078.76 1216.53,1080.12 1216.55,1081.48 1216.58,1082.84 1217.45,1084.2 \n  1217.52,1085.55 1217.64,1086.91 1218.67,1088.27 1219.48,1089.63 1219.73,1090.99 1219.97,1092.35 1220.88,1093.71 1221.36,1095.07 1221.37,1096.43 1221.38,1097.79 \n  1221.91,1099.15 1222.69,1099.15 1222.82,1099.15 1223.42,1100.5 1224.16,1100.5 1224.27,1101.86 1226.34,1103.22 1226.82,1103.22 1227.07,1104.58 1227.42,1105.94 \n  1227.64,1107.3 1227.84,1108.66 1227.91,1110.02 1227.98,1111.38 1228.21,1112.74 1228.97,1112.74 1230.69,1114.1 1230.98,1115.45 1231.27,1116.81 1231.48,1118.17 \n  1231.72,1119.53 1231.79,1120.89 1233.28,1122.25 1233.3,1123.61 1233.63,1124.97 1233.98,1126.33 1234.1,1127.69 1234.6,1129.05 1234.71,1129.05 1235.05,1130.4 \n  1235.51,1131.76 1235.52,1133.12 1235.61,1134.48 1235.83,1135.84 1236.1,1137.2 1236.21,1137.2 1236.52,1138.56 1236.87,1139.92 1237.01,1141.28 1237.08,1142.64 \n  1237.17,1144 1237.6,1145.35 1238.83,1145.35 1239.27,1146.71 1239.29,1148.07 1239.33,1148.07 1239.37,1149.43 1239.84,1150.79 1240.01,1152.15 1240.61,1153.51 \n  1240.81,1154.87 1241.02,1154.87 1241.32,1154.87 1241.35,1154.87 1241.41,1154.87 1241.58,1156.23 1241.86,1157.59 1243.26,1158.95 1243.49,1160.31 1244,1161.66 \n  1244.85,1163.02 1245.12,1164.38 1245.17,1165.74 1245.25,1167.1 1245.79,1167.1 1245.99,1168.46 1246.25,1169.82 1246.81,1169.82 1247.01,1169.82 1247.13,1169.82 \n  1247.2,1171.18 1247.32,1171.18 1248.34,1172.54 1248.39,1173.9 1248.77,1175.26 1249.5,1176.61 1250.13,1176.61 1250.23,1176.61 1250.61,1177.97 1251.13,1177.97 \n  1251.36,1179.33 1251.88,1180.69 1252.09,1182.05 1253.45,1183.41 1254.94,1184.77 1255.24,1186.13 1256.86,1187.49 1257.89,1188.85 1258.69,1190.21 1259.03,1190.21 \n  1259.78,1190.21 1259.95,1190.21 1260.13,1190.21 1260.33,1190.21 1260.35,1191.56 1261.01,1192.92 1261.37,1194.28 1262.75,1195.64 1263.21,1197 1263.92,1198.36 \n  1264.04,1199.72 1264.35,1201.08 1264.44,1202.44 1264.94,1203.8 1266.18,1203.8 1266.19,1203.8 1268.34,1205.16 1268.5,1206.51 1269.23,1206.51 1270.96,1206.51 \n  1270.99,1206.51 1271.42,1207.87 1271.59,1209.23 1272.22,1209.23 1272.25,1210.59 1272.53,1211.95 1273.27,1213.31 1274.35,1214.67 1274.65,1216.03 1274.84,1217.39 \n  1274.85,1217.39 1274.89,1218.75 1275.06,1220.11 1276.16,1221.46 1276.25,1221.46 1276.55,1222.82 1276.76,1224.18 1276.95,1225.54 1277.32,1225.54 1277.74,1226.9 \n  1277.8,1226.9 1278.18,1228.26 1278.6,1229.62 1279.16,1229.62 1279.49,1230.98 1279.91,1232.34 1281.36,1232.34 1281.72,1232.34 1282.44,1232.34 1282.64,1232.34 \n  1283,1233.7 1283.5,1235.06 1284.06,1236.41 1285.32,1236.41 1286.07,1236.41 1286.77,1237.77 1287.23,1239.13 1287.67,1240.49 1287.75,1240.49 1288.07,1240.49 \n  1289.32,1241.85 1290.16,1241.85 1290.24,1243.21 1290.73,1244.57 1291.33,1245.93 1291.36,1247.29 1291.59,1248.65 1291.71,1250.01 1292.09,1251.36 1292.64,1251.36 \n  1293.28,1252.72 1293.31,1254.08 1293.52,1254.08 1293.53,1255.44 1294.71,1255.44 1295.13,1256.8 1295.64,1258.16 1295.67,1258.16 1296.34,1259.52 1296.66,1260.88 \n  1296.73,1262.24 1298.01,1262.24 1298.57,1262.24 1299.66,1263.6 1299.82,1263.6 1301.15,1264.96 1301.52,1266.31 1302.34,1266.31 1302.43,1266.31 1302.62,1266.31 \n  1303.45,1267.67 1303.77,1269.03 1305.29,1269.03 1308.55,1269.03 1309.73,1270.39 1310.7,1270.39 1310.99,1270.39 1311.13,1270.39 1312.48,1270.39 1313.35,1271.75 \n  1314.05,1271.75 1314.09,1273.11 1318.87,1273.11 1319.91,1273.11 1321.02,1273.11 1321.06,1273.11 1321.17,1273.11 1321.69,1274.47 1322.14,1275.83 1322.87,1275.83 \n  1323.44,1277.19 1323.5,1277.19 1324.09,1278.55 1324.38,1279.91 1324.54,1281.26 1324.7,1281.26 1325.05,1282.62 1325.55,1282.62 1327.69,1282.62 1328.05,1283.98 \n  1328.18,1283.98 1330.21,1283.98 1330.9,1285.34 1331.66,1285.34 1331.92,1285.34 1333.71,1286.7 1334.64,1286.7 1337.11,1286.7 1339.05,1288.06 1339.23,1288.06 \n  1339.46,1289.42 1339.57,1289.42 1340.26,1290.78 1340.98,1290.78 1341.51,1290.78 1341.77,1290.78 1342.73,1290.78 1343.64,1290.78 1343.84,1290.78 1344.04,1290.78 \n  1344.07,1292.14 1344.12,1292.14 1344.4,1292.14 1345.35,1293.5 1346.11,1294.86 1347.44,1294.86 1347.62,1296.21 1347.99,1296.21 1348.57,1296.21 1349.49,1297.57 \n  1349.92,1298.93 1349.96,1298.93 1351.59,1300.29 1352.75,1301.65 1353.02,1301.65 1353.89,1303.01 1354.91,1303.01 1356.89,1303.01 1357.58,1303.01 1357.59,1304.37 \n  1357.7,1305.73 1357.81,1307.09 1358.6,1307.09 1358.67,1307.09 1359.82,1307.09 1361.89,1308.45 1361.95,1309.81 1363.66,1311.16 1364.99,1312.52 1366.07,1312.52 \n  1366.55,1312.52 1366.55,1312.52 1366.91,1312.52 1368.3,1312.52 1369.11,1312.52 1370.63,1312.52 1370.9,1313.88 1370.95,1315.24 1373.23,1316.6 1374.78,1316.6 \n  1374.82,1316.6 1375.47,1316.6 1376.16,1317.96 1376.91,1319.32 1377.92,1319.32 1378.22,1319.32 1378.53,1320.68 1379.2,1320.68 1379.68,1322.04 1380.55,1323.4 \n  1380.75,1324.76 1381.58,1324.76 1381.72,1326.12 1382.06,1326.12 1382.35,1326.12 1382.39,1327.47 1385.8,1328.83 1386.47,1328.83 1386.54,1328.83 1386.94,1328.83 \n  1387.17,1330.19 1389.03,1330.19 1390.45,1331.55 1391.01,1331.55 1392.09,1332.91 1393.74,1332.91 1395.36,1332.91 1396.6,1332.91 1397.19,1334.27 1397.32,1334.27 \n  1398.65,1335.63 1399.19,1336.99 1399.73,1336.99 1400.83,1338.35 1403.2,1339.71 1403.41,1339.71 1405.42,1339.71 1405.97,1339.71 1406.54,1339.71 1406.57,1339.71 \n  1406.92,1339.71 1407.07,1339.71 1407.38,1341.07 1407.51,1342.42 1407.77,1342.42 1408.95,1342.42 1409.04,1342.42 1409.62,1343.78 1411.44,1343.78 1411.62,1343.78 \n  1413.62,1343.78 1414.92,1343.78 1416.38,1345.14 1418.32,1345.14 1419.19,1346.5 1419.74,1347.86 1420.07,1347.86 1420.45,1349.22 1420.46,1350.58 1421.08,1350.58 \n  1423.6,1350.58 1423.98,1351.94 1424.34,1351.94 1425.17,1353.3 1428.05,1354.66 1428.1,1354.66 1428.2,1354.66 1431.2,1356.02 1433.23,1357.37 1434.03,1358.73 \n  1434.86,1358.73 1435.27,1358.73 1435.49,1360.09 1439.7,1361.45 1442.43,1361.45 1443.5,1361.45 1444.24,1361.45 1444.88,1361.45 1445.01,1361.45 1445.61,1361.45 \n  1448.29,1361.45 1448.56,1361.45 1451.21,1362.81 1452.25,1364.17 1452.44,1365.53 1452.5,1365.53 1453.64,1365.53 1454.23,1366.89 1454.41,1366.89 1455.46,1366.89 \n  1455.49,1366.89 1455.96,1368.25 1457.1,1368.25 1457.68,1368.25 1459.09,1368.25 1459.43,1369.61 1461.44,1369.61 1462.09,1369.61 1463.58,1370.97 1464.68,1370.97 \n  1465.78,1370.97 1466.44,1372.32 1467.43,1372.32 1470.11,1373.68 1470.64,1375.04 1470.92,1375.04 1472.21,1375.04 1473.88,1375.04 1474.23,1376.4 1474.29,1376.4 \n  1474.65,1376.4 1474.92,1376.4 1475.26,1377.76 1476.26,1377.76 1477.77,1377.76 1477.94,1377.76 1478.23,1379.12 1479.39,1380.48 1479.55,1381.84 1479.56,1383.2 \n  1480.3,1383.2 1481.84,1383.2 1482.37,1383.2 1483.55,1383.2 1483.99,1383.2 1485.02,1383.2 1485.36,1383.2 1486.34,1383.2 1486.4,1383.2 1487.32,1384.56 \n  1487.51,1384.56 1489.14,1384.56 1490.87,1384.56 1492.66,1384.56 1494.45,1384.56 1494.64,1384.56 1495.34,1384.56 1495.38,1385.92 1495.83,1385.92 1496.06,1387.27 \n  1496.26,1388.63 1496.32,1389.99 1496.41,1389.99 1496.5,1389.99 1497.43,1391.35 1497.98,1391.35 1499.09,1391.35 1500.4,1392.71 1500.86,1392.71 1503.31,1394.07 \n  1503.74,1395.43 1504.33,1395.43 1504.85,1396.79 1505.28,1396.79 1506.46,1396.79 1507.03,1396.79 1507.7,1398.15 1507.9,1399.51 1508.02,1400.87 1508.38,1400.87 \n  1510.6,1402.22 1511.67,1403.58 1512.44,1403.58 1513.04,1403.58 1513.65,1403.58 1513.89,1404.94 1514.57,1404.94 1514.91,1404.94 1516.79,1404.94 1518.66,1404.94 \n  1518.96,1404.94 1520.38,1404.94 1522.13,1406.3 1522.59,1406.3 1523.76,1406.3 1526.1,1406.3 1528.03,1406.3 1528.73,1407.66 1535.88,1407.66 1537.46,1407.66 \n  1538.68,1407.66 1539.68,1409.02 1542.48,1409.02 1543.01,1409.02 1544.18,1409.02 1544.71,1409.02 1545.93,1409.02 1546.59,1410.38 1549.34,1411.74 1552.26,1411.74 \n  1554.45,1413.1 1555.03,1414.46 1555.56,1414.46 1555.83,1414.46 1557.83,1414.46 1558.05,1414.46 1558.75,1414.46 1559.21,1414.46 1561.22,1414.46 1561.31,1414.46 \n  1566.58,1415.82 1566.6,1415.82 1566.64,1415.82 1568.99,1417.17 1569.38,1417.17 1571.71,1417.17 1572.1,1417.17 1574,1417.17 1576.71,1417.17 1581.7,1417.17 \n  1583.06,1417.17 1586.42,1417.17 1587.23,1417.17 1589.08,1417.17 1589.14,1417.17 1591.52,1417.17 1593.69,1417.17 1593.81,1417.17 1593.85,1417.17 1594.36,1418.53 \n  1595.87,1418.53 1597.23,1418.53 1598.2,1418.53 1601.48,1418.53 1602.74,1418.53 1603,1418.53 1606.65,1418.53 1606.94,1418.53 1609.9,1418.53 1611.4,1418.53 \n  1612.57,1418.53 1615.98,1419.89 1616.64,1419.89 1618,1419.89 1619.65,1419.89 1619.83,1419.89 1622.01,1419.89 1622.23,1421.25 1622.31,1421.25 1623.06,1421.25 \n  1626.4,1421.25 1628.69,1421.25 1628.82,1421.25 1628.86,1421.25 1629.53,1421.25 1632.63,1422.61 1632.82,1422.61 1633.27,1422.61 1634.51,1423.97 1641.4,1423.97 \n  1641.9,1423.97 1643.82,1423.97 1645.72,1423.97 1646.02,1423.97 1648.1,1423.97 1648.56,1423.97 1648.68,1425.33 1648.68,1425.33 1650.49,1425.33 1651.64,1425.33 \n  1654.79,1425.33 1655.06,1425.33 1655.62,1425.33 1658.8,1425.33 1658.97,1425.33 1659.03,1425.33 1660.66,1425.33 1661.41,1425.33 1662.79,1425.33 1663.07,1425.33 \n  1663.6,1426.69 1663.65,1426.69 1666.66,1426.69 1667.05,1426.69 1668.43,1426.69 1670.1,1428.05 1672.98,1428.05 1673.73,1428.05 1673.81,1428.05 1676.66,1428.05 \n  1679.61,1428.05 1679.88,1428.05 1680.64,1428.05 1682.9,1428.05 1683.26,1429.41 1684.17,1429.41 1684.23,1429.41 1691.35,1429.41 1691.81,1429.41 1692.11,1429.41 \n  1693.31,1429.41 1695.19,1429.41 1699.99,1429.41 1700.03,1429.41 1700.88,1429.41 1702,1429.41 1703.8,1429.41 1704.8,1429.41 1704.8,1429.41 1706.11,1429.41 \n  1711.31,1429.41 1711.31,1430.77 1714.32,1430.77 1714.39,1430.77 1716.97,1430.77 1717.27,1430.77 1720.62,1430.77 1721.08,1430.77 1721.61,1432.12 1721.95,1432.12 \n  1723.96,1433.48 1725.37,1433.48 1726.34,1433.48 1727.64,1433.48 1729.79,1433.48 1730.58,1433.48 1731.73,1433.48 1737.93,1433.48 1738.46,1433.48 1742.12,1433.48 \n  1743.33,1433.48 1744.26,1433.48 1745.51,1433.48 1749.73,1433.48 1753.94,1433.48 1754.63,1433.48 1757.78,1433.48 1757.78,1433.48 1760.74,1433.48 1760.76,1433.48 \n  1761.57,1434.84 1765.18,1436.2 1766.64,1436.2 1771.14,1436.2 1778.12,1436.2 1781.08,1436.2 1784.13,1436.2 1785.46,1436.2 1785.84,1436.2 1786.56,1436.2 \n  1787.7,1436.2 1788.39,1436.2 1789.01,1436.2 1793.53,1436.2 1794.01,1436.2 1795.49,1436.2 1804.84,1436.2 1808.09,1436.2 1809.22,1436.2 1811.93,1436.2 \n  1813.84,1436.2 1814.24,1436.2 1817.97,1436.2 1818.77,1436.2 1820.37,1436.2 1825.86,1436.2 1826.04,1436.2 1826.95,1436.2 1828.6,1436.2 1832.07,1436.2 \n  1832.74,1436.2 1836.51,1437.56 1839.53,1437.56 1839.84,1437.56 1840.15,1437.56 1844.58,1437.56 1848.63,1437.56 1852.43,1437.56 1853.88,1437.56 1854.41,1437.56 \n  1855,1437.56 1856.21,1437.56 1856.67,1437.56 1856.81,1437.56 1857.01,1437.56 1859.66,1437.56 1863.66,1437.56 1864.85,1437.56 1866.85,1437.56 1868.13,1437.56 \n  1871.64,1437.56 1875.01,1437.56 1878.73,1437.56 1878.85,1437.56 1879.43,1437.56 1880.64,1437.56 1881.9,1437.56 1882.64,1437.56 1882.97,1437.56 1884.99,1437.56 \n  1885.07,1437.56 1886.57,1437.56 1887.96,1437.56 1888.86,1437.56 1898.58,1437.56 1902.47,1437.56 1906.11,1437.56 1908.77,1437.56 1911.19,1437.56 1912.84,1437.56 \n  1927.85,1437.56 1928.35,1437.56 1932.05,1437.56 1933.45,1437.56 1933.95,1437.56 1935.28,1437.56 1938.1,1437.56 1939.12,1437.56 1940.76,1437.56 1941.66,1437.56 \n  1947.16,1437.56 1947.41,1438.92 1947.72,1440.28 1948.21,1440.28 1948.86,1440.28 1949.53,1440.28 1950.99,1440.28 1952.66,1440.28 1954.12,1440.28 1956.93,1440.28 \n  1965.49,1440.28 1967.11,1440.28 1968.56,1440.28 1974.42,1440.28 1976.25,1440.28 1978.42,1440.28 1979.13,1440.28 1979.39,1440.28 1985.71,1440.28 1987.78,1440.28 \n  1988.38,1440.28 1988.58,1440.28 1989.79,1440.28 1994.29,1440.28 1994.6,1440.28 1995.6,1440.28 1997.13,1440.28 1997.29,1440.28 2002.41,1440.28 2007.15,1440.28 \n  2007.25,1440.28 2010.99,1440.28 2012.63,1440.28 2016.29,1440.28 2018.98,1440.28 2021.98,1440.28 2022.19,1440.28 2024.03,1440.28 2025.37,1440.28 2033.49,1440.28 \n  2034.98,1440.28 2036.31,1440.28 2036.45,1441.64 2037.63,1441.64 2041.57,1441.64 2044.4,1441.64 2046.19,1441.64 2050.71,1441.64 2053.15,1441.64 2053.61,1441.64 \n  2057.08,1441.64 2057.66,1441.64 2057.99,1441.64 2058.55,1441.64 2059.45,1441.64 2060.01,1441.64 2064,1441.64 2065.12,1441.64 2069.79,1443 2070.57,1443 \n  2072.12,1443 2075.2,1443 2075.77,1443 2076.3,1443 2076.56,1443 2079.46,1443 2081.71,1443 2086.34,1443 2087.77,1443 2088.77,1443 \n  2089.02,1443 2089.07,1443 2089.9,1443 2093.95,1443 2096.87,1443 2100.36,1443 2101.25,1443 2104.12,1443 2104.21,1443 2113.75,1443 \n  2119.29,1443 2120.48,1443 2121.64,1443 2122.01,1443 2122.65,1443 2125.97,1443 2127.41,1443 2127.89,1443 2129.12,1443 2137.3,1443 \n  2139.73,1443 2139.87,1443 2140.74,1443 2159.31,1443 2160.01,1443 2161.47,1443 2162.76,1443 2166.8,1443 2166.83,1443 2181.9,1443 \n  2184.68,1443 2185.96,1443 2191.73,1443 2193.55,1443 2199.63,1443 2202.51,1444.36 2208.37,1444.36 2209.06,1444.36 2214.57,1444.36 2214.92,1444.36 \n  2216.18,1444.36 2218.13,1444.36 2219.48,1444.36 2221.78,1444.36 2221.97,1444.36 2225.51,1444.36 2231.86,1444.36 2233.95,1444.36 2235.07,1444.36 2239.35,1444.36 \n  2242,1444.36 2243.08,1444.36 2251.16,1444.36 2251.81,1444.36 2252.77,1444.36 2255.57,1444.36 2258.26,1444.36 2261.5,1444.36 2262.47,1444.36 2266.11,1444.36 \n  2269.21,1444.36 2272.69,1444.36 2273.52,1444.36 2284.94,1444.36 2286.85,1444.36 2289.34,1444.36 2291.81,1444.36 2289.75,1444.36 \n  \"/>\n<polyline clip-path=\"url(#clip072)\" style=\"stroke:#0077bb; stroke-linecap:butt; stroke-linejoin:round; stroke-width:4.8; stroke-opacity:1; fill:none\" points=\"\n  260.231,1444.36 489.545,1443 517.476,1441.64 557.762,1440.28 573.809,1438.92 581.566,1437.56 592.06,1436.2 593.3,1437.56 617.996,1436.2 622.222,1434.84 \n  623.811,1433.48 629.664,1434.84 650.964,1433.48 651.507,1432.12 659.801,1430.77 661.336,1432.12 670.929,1430.77 671.425,1429.41 677.319,1428.05 679.11,1426.69 \n  684.736,1425.33 685.926,1423.97 688.61,1422.61 689.302,1421.25 694.967,1419.89 699.07,1418.53 702.801,1417.17 708.327,1415.82 709.583,1414.46 710.597,1413.1 \n  711.025,1411.74 715.427,1410.38 717.712,1409.02 717.84,1407.66 719.206,1406.3 720.179,1404.94 726.611,1403.58 727.501,1402.22 728.484,1400.87 734.409,1399.51 \n  737.534,1398.15 738.021,1396.79 738.606,1395.43 739.064,1394.07 742.3,1392.71 752.217,1391.35 753.205,1389.99 758.658,1388.63 758.887,1387.27 760.995,1385.92 \n  761.875,1384.56 764.29,1383.2 765.406,1381.84 767.826,1380.48 782.743,1381.84 784.899,1380.48 785.22,1379.12 786.45,1377.76 787.491,1376.4 787.518,1375.04 \n  788.88,1373.68 789.656,1372.32 790.214,1370.97 791.035,1369.61 792.903,1368.25 793.131,1366.89 795.05,1368.25 798.621,1366.89 800.573,1365.53 800.91,1364.17 \n  801.292,1362.81 801.791,1361.45 807.015,1360.09 807.393,1358.73 807.562,1360.09 807.642,1358.73 809.431,1357.37 809.475,1356.02 812.661,1354.66 815.017,1353.3 \n  822.944,1351.94 825.409,1350.58 825.883,1349.22 827.069,1347.86 828.132,1346.5 829.887,1347.86 831.368,1346.5 831.447,1345.14 832.074,1343.78 832.301,1342.42 \n  832.535,1341.07 833.027,1339.71 833.092,1338.35 837.339,1336.99 837.45,1335.63 839.608,1336.99 839.979,1335.63 841.472,1334.27 842.004,1332.91 842.576,1331.55 \n  844.105,1330.19 845.597,1331.55 847.25,1330.19 847.618,1328.83 847.714,1327.47 849.838,1328.83 850.524,1327.47 850.933,1328.83 851.167,1327.47 852.339,1326.12 \n  852.844,1324.76 853.033,1323.4 854.358,1322.04 855.274,1320.68 855.438,1319.32 856.26,1317.96 858.078,1316.6 858.772,1315.24 860.234,1313.88 861.522,1315.24 \n  862.636,1313.88 863.477,1312.52 863.518,1311.16 863.919,1309.81 864.711,1308.45 865.761,1307.09 865.815,1305.73 866.54,1304.37 866.769,1303.01 867.328,1301.65 \n  867.728,1300.29 868.274,1298.93 869.164,1297.57 869.698,1296.21 871.69,1294.86 872.137,1293.5 873.375,1292.14 873.579,1290.78 875.004,1289.42 876.358,1288.06 \n  876.582,1289.42 876.756,1288.06 877.759,1289.42 877.939,1288.06 878.584,1286.7 879.93,1285.34 880.373,1283.98 881.035,1282.62 881.195,1281.26 881.392,1279.91 \n  882.424,1278.55 883.65,1277.19 884.549,1275.83 884.903,1274.47 885.628,1273.11 885.638,1271.75 886.776,1270.39 889.27,1269.03 889.36,1267.67 889.998,1266.31 \n  891.224,1264.96 891.816,1263.6 893.086,1262.24 893.509,1260.88 893.684,1259.52 894.306,1258.16 894.371,1256.8 895.264,1258.16 895.458,1256.8 898.794,1255.44 \n  898.904,1256.8 900.52,1258.16 900.678,1259.52 900.761,1258.16 901.079,1256.8 901.162,1255.44 901.253,1254.08 903.879,1255.44 904.443,1254.08 905.07,1252.72 \n  905.242,1251.36 905.321,1252.72 906.477,1251.36 906.799,1250.01 908.624,1248.65 909.201,1247.29 911.726,1245.93 911.783,1244.57 912,1243.21 912.231,1241.85 \n  912.391,1243.21 912.7,1241.85 912.729,1240.49 912.976,1239.13 913.166,1237.77 913.451,1236.41 913.781,1235.06 914.351,1233.7 914.694,1232.34 915.929,1230.98 \n  915.978,1229.62 916.452,1228.26 916.644,1226.9 917.349,1225.54 919.059,1226.9 919.495,1225.54 919.819,1224.18 920.736,1222.82 921.212,1221.46 922.242,1220.11 \n  922.511,1221.46 923.575,1220.11 923.805,1218.75 924.365,1217.39 924.826,1216.03 925.83,1214.67 926.391,1213.31 927.205,1211.95 927.338,1210.59 928.588,1209.23 \n  928.826,1207.87 928.961,1206.51 930.013,1205.16 930.527,1203.8 930.532,1202.44 932.336,1201.08 933.993,1202.44 934.939,1201.08 935.831,1202.44 935.845,1201.08 \n  936.033,1199.72 936.217,1198.36 936.286,1197 936.99,1195.64 937.678,1194.28 937.974,1192.92 939.799,1194.28 940.519,1192.92 940.672,1194.28 941.106,1192.92 \n  941.255,1191.56 942.919,1190.21 944.061,1188.85 944.439,1187.49 944.504,1186.13 945.436,1184.77 946.279,1183.41 946.874,1182.05 947.024,1180.69 947.391,1179.33 \n  947.454,1177.97 947.465,1179.33 948.271,1180.69 948.528,1179.33 949.413,1177.97 949.802,1176.61 949.932,1175.26 950.617,1173.9 951.194,1172.54 951.968,1171.18 \n  953.316,1169.82 953.405,1168.46 954.643,1167.1 954.755,1165.74 955.809,1164.38 955.948,1163.02 957.329,1161.66 958.381,1160.31 959.231,1158.95 961.124,1157.59 \n  961.284,1156.23 962.081,1154.87 963.006,1153.51 963.38,1152.15 963.466,1150.79 964.003,1149.43 964.305,1148.07 964.72,1149.43 966.298,1148.07 966.47,1146.71 \n  967.145,1145.35 967.259,1144 967.396,1145.35 967.451,1144 967.635,1145.35 968.033,1144 968.566,1142.64 968.667,1141.28 970.235,1139.92 971.59,1138.56 \n  972.295,1137.2 972.681,1135.84 973.667,1134.48 973.791,1133.12 974.783,1131.76 976.6,1130.4 976.701,1129.05 977.575,1127.69 978.41,1126.33 978.55,1124.97 \n  978.904,1123.61 979.075,1122.25 979.135,1120.89 979.454,1119.53 980.024,1118.17 980.199,1116.81 980.469,1115.45 980.703,1114.1 980.822,1112.74 983.29,1111.38 \n  983.55,1110.02 983.842,1108.66 985.603,1110.02 986.224,1108.66 986.253,1107.3 987.146,1105.94 987.412,1107.3 989.391,1105.94 989.778,1104.58 990.538,1103.22 \n  991.098,1101.86 991.105,1100.5 991.213,1099.15 991.504,1097.79 991.619,1099.15 993.353,1097.79 994.853,1096.43 994.888,1095.07 995.449,1096.43 995.94,1095.07 \n  996.362,1093.71 996.393,1092.35 996.626,1090.99 997.004,1089.63 997.266,1088.27 997.285,1086.91 997.433,1085.55 997.483,1084.2 997.492,1082.84 998.332,1081.48 \n  999.18,1080.12 999.355,1078.76 999.39,1077.4 999.647,1078.76 999.806,1077.4 999.825,1076.04 1000.41,1074.68 1001.14,1073.32 1001.49,1071.96 1003.23,1070.6 \n  1003.32,1069.25 1004.2,1067.89 1004.41,1066.53 1004.45,1065.17 1004.79,1063.81 1005.43,1062.45 1006.03,1061.09 1007.3,1059.73 1007.74,1058.37 1008.19,1057.01 \n  1008.4,1055.65 1008.56,1054.3 1008.66,1052.94 1009.66,1051.58 1009.7,1050.22 1010.94,1048.86 1011.46,1047.5 1011.59,1046.14 1011.95,1047.5 1012.47,1046.14 \n  1013.33,1044.78 1013.48,1043.42 1014.24,1042.06 1014.63,1040.7 1015.22,1039.35 1015.92,1037.99 1016.36,1036.63 1016.68,1035.27 1016.72,1033.91 1016.93,1032.55 \n  1016.93,1031.19 1018.08,1029.83 1018.35,1028.47 1018.91,1027.11 1020.1,1028.47 1020.87,1029.83 1020.91,1028.47 1021.09,1027.11 1021.14,1025.75 1021.26,1024.4 \n  1021.56,1025.75 1022.13,1024.4 1022.58,1023.04 1022.74,1021.68 1022.82,1023.04 1023.26,1021.68 1024.64,1020.32 1024.69,1018.96 1024.76,1017.6 1025.74,1016.24 \n  1025.85,1014.88 1026.31,1013.52 1027.29,1012.16 1028.71,1010.8 1029.88,1009.45 1030.23,1008.09 1031.53,1006.73 1031.58,1005.37 1032.54,1004.01 1032.56,1002.65 \n  1032.91,1001.29 1034.59,1002.65 1035.1,1004.01 1035.25,1002.65 1036.04,1001.29 1036.06,999.931 1036.33,998.572 1037.19,997.213 1037.75,995.854 1037.8,994.495 \n  1038.85,993.136 1038.9,991.777 1038.96,990.418 1039.03,991.777 1039.71,990.418 1040.01,989.059 1040.43,987.699 1041.52,986.34 1043.59,984.981 1043.97,983.622 \n  1044.32,982.263 1044.66,980.904 1044.86,979.545 1044.86,978.186 1045.06,976.827 1045.26,975.468 1045.37,974.109 1045.38,975.468 1045.46,974.109 1045.49,972.749 \n  1047.59,971.39 1048.49,972.749 1048.9,971.39 1048.9,970.031 1049.09,968.672 1050.07,967.313 1051.84,965.954 1052,964.595 1052.76,963.236 1052.88,964.595 \n  1053.89,963.236 1054.62,961.877 1055.32,960.518 1056.5,959.158 1056.77,960.518 1057.47,959.158 1057.58,957.799 1057.62,956.44 1057.74,955.081 1057.78,953.722 \n  1058.31,952.363 1058.63,951.004 1060.19,949.645 1060.54,951.004 1060.66,949.645 1061.41,951.004 1061.43,949.645 1062.16,948.286 1062.44,946.927 1062.65,945.567 \n  1063.01,946.927 1063.02,948.286 1063.38,946.927 1063.41,945.567 1063.61,944.208 1063.94,942.849 1064.88,941.49 1065.43,940.131 1065.83,938.772 1066.19,937.413 \n  1066.75,936.054 1067.57,934.695 1067.71,936.054 1069.23,934.695 1070.66,933.336 1070.75,934.695 1070.85,933.336 1070.89,934.695 1071.06,933.336 1071.21,931.976 \n  1071.35,933.336 1072.53,931.976 1073.21,930.617 1074.07,929.258 1074.28,927.899 1074.3,926.54 1074.82,925.181 1075.2,923.822 1075.66,922.463 1076.41,921.104 \n  1076.52,919.745 1076.66,918.385 1076.78,917.026 1076.92,915.667 1077.54,914.308 1077.59,912.949 1077.83,911.59 1078.09,910.231 1078.32,908.872 1078.76,907.513 \n  1079.03,906.154 1080.06,904.794 1080.51,906.154 1080.72,904.794 1081.15,906.154 1081.4,904.794 1081.87,903.435 1082.19,902.076 1082.21,900.717 1082.37,899.358 \n  1083.47,897.999 1084.13,896.64 1084.2,895.281 1084.26,893.922 1084.57,892.563 1084.97,893.922 1085.55,892.563 1085.73,891.203 1085.8,889.844 1086.03,888.485 \n  1086.41,887.126 1086.42,885.767 1086.54,884.408 1086.87,883.049 1087.13,881.69 1087.41,880.331 1087.5,881.69 1087.81,880.331 1087.84,878.972 1088.87,880.331 \n  1088.91,878.972 1089.07,877.613 1089.13,876.253 1089.25,874.894 1089.87,876.253 1090.25,877.613 1090.57,876.253 1090.99,874.894 1091.51,873.535 1092.2,872.176 \n  1094.32,870.817 1094.91,869.458 1094.95,868.099 1095.12,866.74 1095.28,865.381 1095.53,864.022 1095.61,862.662 1095.64,861.303 1095.68,859.944 1095.85,858.585 \n  1095.91,857.226 1096.46,855.867 1096.84,854.508 1096.95,853.149 1097.11,851.79 1097.56,850.431 1097.62,849.071 1098.9,850.431 1099.31,849.071 1099.42,847.712 \n  1100.42,846.353 1101.2,844.994 1101.61,843.635 1101.77,842.276 1102,840.917 1102.05,839.558 1102.38,838.199 1103.52,836.84 1104.41,838.199 1104.65,836.84 \n  1105.45,835.48 1106.1,834.121 1106.48,832.762 1107.62,831.403 1108.05,830.044 1108.17,828.685 1108.29,827.326 1108.44,825.967 1108.55,827.326 1108.6,825.967 \n  1109.2,827.326 1109.37,825.967 1109.97,824.608 1110.08,823.249 1110.11,821.889 1110.26,820.53 1110.46,819.171 1111.69,820.53 1112.93,819.171 1113.56,817.812 \n  1113.72,816.453 1114.24,817.812 1114.26,816.453 1114.7,815.094 1114.72,813.735 1115.13,812.376 1115.41,811.017 1115.55,812.376 1116.21,811.017 1116.24,812.376 \n  1116.48,811.017 1116.52,809.658 1116.7,808.298 1116.71,806.939 1116.75,805.58 1116.9,804.221 1117.01,802.862 1117.72,801.503 1117.99,802.862 1119.3,801.503 \n  1119.42,800.144 1119.53,798.785 1120.08,797.426 1120.57,796.067 1120.92,794.708 1122.4,796.067 1123,794.708 1123.13,793.348 1123.46,791.989 1123.66,790.63 \n  1124.05,789.271 1124.39,787.912 1124.83,786.553 1125.31,785.194 1126.29,783.835 1126.34,782.476 1127.24,781.117 1127.75,779.757 1127.83,778.398 1128.1,777.039 \n  1128.1,775.68 1128.44,774.321 1128.66,772.962 1128.69,771.603 1128.75,772.962 1129.04,771.603 1129.28,770.244 1129.36,768.885 1130.62,767.526 1131.02,766.166 \n  1131.38,767.526 1131.42,766.166 1131.52,764.807 1131.56,763.448 1132.15,764.807 1133.01,763.448 1133.11,762.089 1133.82,763.448 1133.93,764.807 1134.24,763.448 \n  1134.28,762.089 1134.35,760.73 1134.4,759.371 1134.5,758.012 1134.59,756.653 1135.01,758.012 1135.37,756.653 1135.95,758.012 1136.11,756.653 1136.6,755.294 \n  1136.83,753.935 1136.98,752.575 1137.14,751.216 1138.12,749.857 1138.18,748.498 1138.78,749.857 1139.07,748.498 1139.46,749.857 1139.61,748.498 1139.7,747.139 \n  1140.64,745.78 1141.02,744.421 1141.03,743.062 1143.12,741.703 1143.27,743.062 1143.59,741.703 1144.21,740.344 1145.52,738.984 1145.59,737.625 1145.78,736.266 \n  1146.05,737.625 1146.22,736.266 1146.48,737.625 1147.01,736.266 1147.12,734.907 1147.68,733.548 1150.65,734.907 1150.7,733.548 1150.88,732.189 1151.2,730.83 \n  1151.34,732.189 1151.84,730.83 1153.11,729.471 1153.31,728.112 1153.42,726.753 1154.42,728.112 1154.46,726.753 1154.59,725.393 1154.77,724.034 1155.46,725.393 \n  1155.53,724.034 1155.56,722.675 1155.57,721.316 1155.59,719.957 1155.75,718.598 1155.83,717.239 1156.01,715.88 1156.19,714.521 1156.3,715.88 1157.3,717.239 \n  1158.36,715.88 1158.52,714.521 1158.55,713.162 1159.31,711.802 1160.32,710.443 1160.39,709.084 1160.88,707.725 1160.95,706.366 1161.01,705.007 1162.1,703.648 \n  1162.2,702.289 1162.55,700.93 1162.77,699.571 1162.99,698.212 1163.02,699.571 1163.09,698.212 1163.24,696.852 1163.5,695.493 1163.57,694.134 1164.22,692.775 \n  1164.29,691.416 1164.34,690.057 1165.04,688.698 1165.82,690.057 1166.01,688.698 1166.01,687.339 1166.2,685.98 1166.38,684.621 1166.49,685.98 1166.64,684.621 \n  1167.03,683.261 1167.94,681.902 1169.07,680.543 1169.12,679.184 1169.19,680.543 1169.59,679.184 1169.7,677.825 1170.26,676.466 1170.38,675.107 1170.84,673.748 \n  1171.24,675.107 1171.31,673.748 1171.55,672.389 1171.86,673.748 1172.23,672.389 1172.28,671.03 1172.47,672.389 1173.76,671.03 1174.32,669.67 1174.58,668.311 \n  1174.98,669.67 1175.11,671.03 1175.5,669.67 1176.77,668.311 1176.85,666.952 1177.86,665.593 1178.02,664.234 1178.14,662.875 1178.6,661.516 1179.09,662.875 \n  1179.73,661.516 1180,662.875 1181.35,661.516 1181.8,660.157 1182.11,661.516 1182.27,662.875 1182.38,661.516 1182.4,660.157 1183.07,658.798 1183.25,660.157 \n  1183.41,661.516 1183.54,662.875 1184.16,661.516 1184.72,662.875 1185.35,661.516 1185.46,660.157 1185.78,658.798 1186.01,657.439 1186.65,656.079 1186.78,657.439 \n  1186.85,658.798 1189.04,657.439 1189.28,658.798 1190.28,657.439 1190.5,656.079 1190.74,654.72 1191.03,653.361 1191.47,652.002 1191.82,650.643 1191.88,652.002 \n  1192.02,650.643 1192.64,649.284 1195.16,647.925 1195.54,646.566 1196.22,645.207 1196.55,646.566 1197.66,647.925 1198.06,649.284 1199.25,650.643 1200,649.284 \n  1200.33,647.925 1200.94,649.284 1201.2,647.925 1202.9,649.284 1202.91,647.925 1203.43,646.566 1204.2,645.207 1204.28,643.848 1204.66,642.488 1205.13,643.848 \n  1205.28,645.207 1205.52,643.848 1205.56,645.207 1205.96,643.848 1206.68,642.488 1206.93,641.129 1207.43,639.77 1207.59,638.411 1207.86,639.77 1208.2,638.411 \n  1208.36,637.052 1208.67,635.693 1209.63,637.052 1209.86,635.693 1210.81,634.334 1211.98,632.975 1212.45,631.616 1214.46,632.975 1214.79,631.616 1214.9,630.257 \n  1214.9,628.897 1215.67,627.538 1215.85,626.179 1216.25,624.82 1216.28,623.461 1216.36,624.82 1216.53,623.461 1216.55,622.102 1216.58,620.743 1217.45,619.384 \n  1217.52,618.025 1217.64,616.666 1218.67,615.307 1219.48,613.947 1219.73,612.588 1219.97,611.229 1220.88,609.87 1221.36,608.511 1221.37,607.152 1221.38,605.793 \n  1221.91,604.434 1222.69,605.793 1222.82,607.152 1223.42,605.793 1224.16,607.152 1224.27,605.793 1226.34,604.434 1226.82,605.793 1227.07,604.434 1227.42,603.075 \n  1227.64,601.716 1227.84,600.356 1227.91,598.997 1227.98,597.638 1228.21,596.279 1228.97,597.638 1230.69,596.279 1230.98,594.92 1231.27,593.561 1231.48,592.202 \n  1231.72,590.843 1231.79,589.484 1233.28,588.125 1233.3,586.765 1233.63,585.406 1233.98,584.047 1234.1,582.688 1234.6,581.329 1234.71,582.688 1235.05,581.329 \n  1235.51,579.97 1235.52,578.611 1235.61,577.252 1235.83,575.893 1236.1,574.534 1236.21,575.893 1236.52,574.534 1236.87,573.174 1237.01,571.815 1237.08,570.456 \n  1237.17,569.097 1237.6,567.738 1238.83,569.097 1239.27,567.738 1239.29,566.379 1239.33,567.738 1239.37,566.379 1239.84,565.02 1240.01,563.661 1240.61,562.302 \n  1240.81,560.943 1241.02,562.302 1241.32,563.661 1241.35,565.02 1241.41,566.379 1241.58,565.02 1241.86,563.661 1243.26,562.302 1243.49,560.943 1244,559.583 \n  1244.85,558.224 1245.12,556.865 1245.17,555.506 1245.25,554.147 1245.79,555.506 1245.99,554.147 1246.25,552.788 1246.81,554.147 1247.01,555.506 1247.13,556.865 \n  1247.2,555.506 1247.32,556.865 1248.34,555.506 1248.39,554.147 1248.77,552.788 1249.5,551.429 1250.13,552.788 1250.23,554.147 1250.61,552.788 1251.13,554.147 \n  1251.36,552.788 1251.88,551.429 1252.09,550.07 1253.45,548.711 1254.94,547.352 1255.24,545.992 1256.86,544.633 1257.89,543.274 1258.69,541.915 1259.03,543.274 \n  1259.78,544.633 1259.95,545.992 1260.13,547.352 1260.33,548.711 1260.35,547.352 1261.01,545.992 1261.37,544.633 1262.75,543.274 1263.21,541.915 1263.92,540.556 \n  1264.04,539.197 1264.35,537.838 1264.44,536.479 1264.94,535.12 1266.18,536.479 1266.19,537.838 1268.34,536.479 1268.5,535.12 1269.23,536.479 1270.96,537.838 \n  1270.99,539.197 1271.42,537.838 1271.59,536.479 1272.22,537.838 1272.25,536.479 1272.53,535.12 1273.27,533.761 1274.35,532.401 1274.65,531.042 1274.84,529.683 \n  1274.85,531.042 1274.89,529.683 1275.06,528.324 1276.16,526.965 1276.25,528.324 1276.55,526.965 1276.76,525.606 1276.95,524.247 1277.32,525.606 1277.74,524.247 \n  1277.8,525.606 1278.18,524.247 1278.6,522.888 1279.16,524.247 1279.49,522.888 1279.91,521.529 1281.36,522.888 1281.72,524.247 1282.44,525.606 1282.64,526.965 \n  1283,525.606 1283.5,524.247 1284.06,522.888 1285.32,524.247 1286.07,525.606 1286.77,524.247 1287.23,522.888 1287.67,521.529 1287.75,522.888 1288.07,524.247 \n  1289.32,522.888 1290.16,524.247 1290.24,522.888 1290.73,521.529 1291.33,520.17 1291.36,518.811 1291.59,517.451 1291.71,516.092 1292.09,514.733 1292.64,516.092 \n  1293.28,514.733 1293.31,513.374 1293.52,514.733 1293.53,513.374 1294.71,514.733 1295.13,513.374 1295.64,512.015 1295.67,513.374 1296.34,512.015 1296.66,510.656 \n  1296.73,509.297 1298.01,510.656 1298.57,512.015 1299.66,510.656 1299.82,512.015 1301.15,510.656 1301.52,509.297 1302.34,510.656 1302.43,512.015 1302.62,513.374 \n  1303.45,512.015 1303.77,510.656 1305.29,512.015 1308.55,513.374 1309.73,512.015 1310.7,513.374 1310.99,514.733 1311.13,516.092 1312.48,517.451 1313.35,516.092 \n  1314.05,517.451 1314.09,516.092 1318.87,517.451 1319.91,518.811 1321.02,520.17 1321.06,521.529 1321.17,522.888 1321.69,521.529 1322.14,520.17 1322.87,521.529 \n  1323.44,520.17 1323.5,521.529 1324.09,520.17 1324.38,518.811 1324.54,517.451 1324.7,518.811 1325.05,517.451 1325.55,518.811 1327.69,520.17 1328.05,518.811 \n  1328.18,520.17 1330.21,521.529 1330.9,520.17 1331.66,521.529 1331.92,522.888 1333.71,521.529 1334.64,522.888 1337.11,524.247 1339.05,522.888 1339.23,524.247 \n  1339.46,522.888 1339.57,524.247 1340.26,522.888 1340.98,524.247 1341.51,525.606 1341.77,526.965 1342.73,528.324 1343.64,529.683 1343.84,531.042 1344.04,532.401 \n  1344.07,531.042 1344.12,532.401 1344.4,533.761 1345.35,532.401 1346.11,531.042 1347.44,532.401 1347.62,531.042 1347.99,532.401 1348.57,533.761 1349.49,532.401 \n  1349.92,531.042 1349.96,532.401 1351.59,531.042 1352.75,529.683 1353.02,531.042 1353.89,529.683 1354.91,531.042 1356.89,532.401 1357.58,533.761 1357.59,532.401 \n  1357.7,531.042 1357.81,529.683 1358.6,531.042 1358.67,532.401 1359.82,533.761 1361.89,532.401 1361.95,531.042 1363.66,529.683 1364.99,528.324 1366.07,529.683 \n  1366.55,531.042 1366.55,532.401 1366.91,533.761 1368.3,535.12 1369.11,536.479 1370.63,537.838 1370.9,536.479 1370.95,535.12 1373.23,533.761 1374.78,535.12 \n  1374.82,536.479 1375.47,537.838 1376.16,536.479 1376.91,535.12 1377.92,536.479 1378.22,537.838 1378.53,536.479 1379.2,537.838 1379.68,536.479 1380.55,535.12 \n  1380.75,533.761 1381.58,535.12 1381.72,533.761 1382.06,535.12 1382.35,536.479 1382.39,535.12 1385.8,533.761 1386.47,535.12 1386.54,536.479 1386.94,537.838 \n  1387.17,536.479 1389.03,537.838 1390.45,536.479 1391.01,537.838 1392.09,536.479 1393.74,537.838 1395.36,539.197 1396.6,540.556 1397.19,539.197 1397.32,540.556 \n  1398.65,539.197 1399.19,537.838 1399.73,539.197 1400.83,537.838 1403.2,536.479 1403.41,537.838 1405.42,539.197 1405.97,540.556 1406.54,541.915 1406.57,543.274 \n  1406.92,544.633 1407.07,545.992 1407.38,544.633 1407.51,543.274 1407.77,544.633 1408.95,545.992 1409.04,547.352 1409.62,545.992 1411.44,547.352 1411.62,548.711 \n  1413.62,550.07 1414.92,551.429 1416.38,550.07 1418.32,551.429 1419.19,550.07 1419.74,548.711 1420.07,550.07 1420.45,548.711 1420.46,547.352 1421.08,548.711 \n  1423.6,550.07 1423.98,548.711 1424.34,550.07 1425.17,548.711 1428.05,547.352 1428.1,548.711 1428.2,550.07 1431.2,548.711 1433.23,547.352 1434.03,545.992 \n  1434.86,547.352 1435.27,548.711 1435.49,547.352 1439.7,545.992 1442.43,547.352 1443.5,548.711 1444.24,550.07 1444.88,551.429 1445.01,552.788 1445.61,554.147 \n  1448.29,555.506 1448.56,556.865 1451.21,555.506 1452.25,554.147 1452.44,552.788 1452.5,554.147 1453.64,555.506 1454.23,554.147 1454.41,555.506 1455.46,556.865 \n  1455.49,558.224 1455.96,556.865 1457.1,558.224 1457.68,559.583 1459.09,560.943 1459.43,559.583 1461.44,560.943 1462.09,562.302 1463.58,560.943 1464.68,562.302 \n  1465.78,563.661 1466.44,562.302 1467.43,563.661 1470.11,562.302 1470.64,560.943 1470.92,562.302 1472.21,563.661 1473.88,565.02 1474.23,563.661 1474.29,565.02 \n  1474.65,566.379 1474.92,567.738 1475.26,566.379 1476.26,567.738 1477.77,569.097 1477.94,570.456 1478.23,569.097 1479.39,567.738 1479.55,566.379 1479.56,565.02 \n  1480.3,566.379 1481.84,567.738 1482.37,569.097 1483.55,570.456 1483.99,571.815 1485.02,573.174 1485.36,574.534 1486.34,575.893 1486.4,577.252 1487.32,575.893 \n  1487.51,577.252 1489.14,578.611 1490.87,579.97 1492.66,581.329 1494.45,582.688 1494.64,584.047 1495.34,585.406 1495.38,584.047 1495.83,585.406 1496.06,584.047 \n  1496.26,582.688 1496.32,581.329 1496.41,582.688 1496.5,584.047 1497.43,582.688 1497.98,584.047 1499.09,585.406 1500.4,584.047 1500.86,585.406 1503.31,584.047 \n  1503.74,582.688 1504.33,584.047 1504.85,582.688 1505.28,584.047 1506.46,585.406 1507.03,586.765 1507.7,585.406 1507.9,584.047 1508.02,582.688 1508.38,584.047 \n  1510.6,582.688 1511.67,581.329 1512.44,582.688 1513.04,584.047 1513.65,585.406 1513.89,584.047 1514.57,585.406 1514.91,586.765 1516.79,588.125 1518.66,589.484 \n  1518.96,590.843 1520.38,592.202 1522.13,590.843 1522.59,592.202 1523.76,593.561 1526.1,594.92 1528.03,596.279 1528.73,594.92 1535.88,596.279 1537.46,597.638 \n  1538.68,598.997 1539.68,597.638 1542.48,598.997 1543.01,600.356 1544.18,601.716 1544.71,603.075 1545.93,604.434 1546.59,603.075 1549.34,601.716 1552.26,603.075 \n  1554.45,601.716 1555.03,600.356 1555.56,601.716 1555.83,603.075 1557.83,604.434 1558.05,605.793 1558.75,607.152 1559.21,608.511 1561.22,609.87 1561.31,611.229 \n  1566.58,609.87 1566.6,611.229 1566.64,612.588 1568.99,611.229 1569.38,612.588 1571.71,613.947 1572.1,615.307 1574,616.666 1576.71,618.025 1581.7,619.384 \n  1583.06,620.743 1586.42,622.102 1587.23,623.461 1589.08,624.82 1589.14,626.179 1591.52,627.538 1593.69,628.897 1593.81,630.257 1593.85,631.616 1594.36,630.257 \n  1595.87,631.616 1597.23,632.975 1598.2,634.334 1601.48,635.693 1602.74,637.052 1603,638.411 1606.65,639.77 1606.94,641.129 1609.9,642.488 1611.4,643.848 \n  1612.57,645.207 1615.98,643.848 1616.64,645.207 1618,646.566 1619.65,647.925 1619.83,649.284 1622.01,650.643 1622.23,649.284 1622.31,650.643 1623.06,652.002 \n  1626.4,653.361 1628.69,654.72 1628.82,656.079 1628.86,657.439 1629.53,658.798 1632.63,657.439 1632.82,658.798 1633.27,660.157 1634.51,658.798 1641.4,660.157 \n  1641.9,661.516 1643.82,662.875 1645.72,664.234 1646.02,665.593 1648.1,666.952 1648.56,668.311 1648.68,666.952 1648.68,668.311 1650.49,669.67 1651.64,671.03 \n  1654.79,672.389 1655.06,673.748 1655.62,675.107 1658.8,676.466 1658.97,677.825 1659.03,679.184 1660.66,680.543 1661.41,681.902 1662.79,683.261 1663.07,684.621 \n  1663.6,683.261 1663.65,684.621 1666.66,685.98 1667.05,687.339 1668.43,688.698 1670.1,687.339 1672.98,688.698 1673.73,690.057 1673.81,691.416 1676.66,692.775 \n  1679.61,694.134 1679.88,695.493 1680.64,696.852 1682.9,698.212 1683.26,696.852 1684.17,698.212 1684.23,699.571 1691.35,700.93 1691.81,702.289 1692.11,703.648 \n  1693.31,705.007 1695.19,706.366 1699.99,707.725 1700.03,709.084 1700.88,710.443 1702,711.802 1703.8,713.162 1704.8,714.521 1704.8,715.88 1706.11,717.239 \n  1711.31,718.598 1711.31,717.239 1714.32,718.598 1714.39,719.957 1716.97,721.316 1717.27,722.675 1720.62,724.034 1721.08,725.393 1721.61,724.034 1721.95,725.393 \n  1723.96,724.034 1725.37,725.393 1726.34,726.753 1727.64,728.112 1729.79,729.471 1730.58,730.83 1731.73,732.189 1737.93,733.548 1738.46,734.907 1742.12,736.266 \n  1743.33,737.625 1744.26,738.984 1745.51,740.344 1749.73,741.703 1753.94,743.062 1754.63,744.421 1757.78,745.78 1757.78,747.139 1760.74,748.498 1760.76,749.857 \n  1761.57,748.498 1765.18,747.139 1766.64,748.498 1771.14,749.857 1778.12,751.216 1781.08,752.575 1784.13,753.935 1785.46,755.294 1785.84,756.653 1786.56,758.012 \n  1787.7,759.371 1788.39,760.73 1789.01,762.089 1793.53,763.448 1794.01,764.807 1795.49,766.166 1804.84,767.526 1808.09,768.885 1809.22,770.244 1811.93,771.603 \n  1813.84,772.962 1814.24,774.321 1817.97,775.68 1818.77,777.039 1820.37,778.398 1825.86,779.757 1826.04,781.117 1826.95,782.476 1828.6,783.835 1832.07,785.194 \n  1832.74,786.553 1836.51,785.194 1839.53,786.553 1839.84,787.912 1840.15,789.271 1844.58,790.63 1848.63,791.989 1852.43,793.348 1853.88,794.708 1854.41,796.067 \n  1855,797.426 1856.21,798.785 1856.67,800.144 1856.81,801.503 1857.01,802.862 1859.66,804.221 1863.66,805.58 1864.85,806.939 1866.85,808.298 1868.13,809.658 \n  1871.64,811.017 1875.01,812.376 1878.73,813.735 1878.85,815.094 1879.43,816.453 1880.64,817.812 1881.9,819.171 1882.64,820.53 1882.97,821.889 1884.99,823.249 \n  1885.07,824.608 1886.57,825.967 1887.96,827.326 1888.86,828.685 1898.58,830.044 1902.47,831.403 1906.11,832.762 1908.77,834.121 1911.19,835.48 1912.84,836.84 \n  1927.85,838.199 1928.35,839.558 1932.05,840.917 1933.45,842.276 1933.95,843.635 1935.28,844.994 1938.1,846.353 1939.12,847.712 1940.76,849.071 1941.66,850.431 \n  1947.16,851.79 1947.41,850.431 1947.72,849.071 1948.21,850.431 1948.86,851.79 1949.53,853.149 1950.99,854.508 1952.66,855.867 1954.12,857.226 1956.93,858.585 \n  1965.49,859.944 1967.11,861.303 1968.56,862.662 1974.42,864.022 1976.25,865.381 1978.42,866.74 1979.13,868.099 1979.39,869.458 1985.71,870.817 1987.78,872.176 \n  1988.38,873.535 1988.58,874.894 1989.79,876.253 1994.29,877.613 1994.6,878.972 1995.6,880.331 1997.13,881.69 1997.29,883.049 2002.41,884.408 2007.15,885.767 \n  2007.25,887.126 2010.99,888.485 2012.63,889.844 2016.29,891.203 2018.98,892.563 2021.98,893.922 2022.19,895.281 2024.03,896.64 2025.37,897.999 2033.49,899.358 \n  2034.98,900.717 2036.31,902.076 2036.45,900.717 2037.63,902.076 2041.57,903.435 2044.4,904.794 2046.19,906.154 2050.71,907.513 2053.15,908.872 2053.61,910.231 \n  2057.08,911.59 2057.66,912.949 2057.99,914.308 2058.55,915.667 2059.45,917.026 2060.01,918.385 2064,919.745 2065.12,921.104 2069.79,919.745 2070.57,921.104 \n  2072.12,922.463 2075.2,923.822 2075.77,925.181 2076.3,926.54 2076.56,927.899 2079.46,929.258 2081.71,930.617 2086.34,931.976 2087.77,933.336 2088.77,934.695 \n  2089.02,936.054 2089.07,937.413 2089.9,938.772 2093.95,940.131 2096.87,941.49 2100.36,942.849 2101.25,944.208 2104.12,945.567 2104.21,946.927 2113.75,948.286 \n  2119.29,949.645 2120.48,951.004 2121.64,952.363 2122.01,953.722 2122.65,955.081 2125.97,956.44 2127.41,957.799 2127.89,959.158 2129.12,960.518 2137.3,961.877 \n  2139.73,963.236 2139.87,964.595 2140.74,965.954 2159.31,967.313 2160.01,968.672 2161.47,970.031 2162.76,971.39 2166.8,972.749 2166.83,974.109 2181.9,975.468 \n  2184.68,976.827 2185.96,978.186 2191.73,979.545 2193.55,980.904 2199.63,982.263 2202.51,980.904 2208.37,982.263 2209.06,983.622 2214.57,984.981 2214.92,986.34 \n  2216.18,987.699 2218.13,989.059 2219.48,990.418 2221.78,991.777 2221.97,993.136 2225.51,994.495 2231.86,995.854 2233.95,997.213 2235.07,998.572 2239.35,999.931 \n  2242,1001.29 2243.08,1002.65 2251.16,1004.01 2251.81,1005.37 2252.77,1006.73 2255.57,1008.09 2258.26,1009.45 2261.5,1010.8 2262.47,1012.16 2266.11,1013.52 \n  2269.21,1014.88 2272.69,1016.24 2273.52,1017.6 2284.94,1018.96 2286.85,1020.32 2289.34,1021.68 2291.81,1023.04 2289.75,1023.04 \n  \"/>\n<polyline clip-path=\"url(#clip072)\" style=\"stroke:#33bbee; stroke-linecap:butt; stroke-linejoin:round; stroke-width:4.8; stroke-opacity:1; fill:none\" points=\"\n  260.231,1445.72 489.545,1445.72 517.476,1445.72 557.762,1445.72 573.809,1445.72 581.566,1445.72 592.06,1445.72 593.3,1444.36 617.996,1444.36 622.222,1444.36 \n  623.811,1444.36 629.664,1443 650.964,1443 651.507,1443 659.801,1443 661.336,1441.64 670.929,1441.64 671.425,1441.64 677.319,1441.64 679.11,1441.64 \n  684.736,1441.64 685.926,1441.64 688.61,1441.64 689.302,1441.64 694.967,1441.64 699.07,1441.64 702.801,1441.64 708.327,1441.64 709.583,1441.64 710.597,1441.64 \n  711.025,1441.64 715.427,1441.64 717.712,1441.64 717.84,1441.64 719.206,1441.64 720.179,1441.64 726.611,1441.64 727.501,1441.64 728.484,1441.64 734.409,1441.64 \n  737.534,1441.64 738.021,1441.64 738.606,1441.64 739.064,1441.64 742.3,1441.64 752.217,1441.64 753.205,1441.64 758.658,1441.64 758.887,1441.64 760.995,1441.64 \n  761.875,1441.64 764.29,1441.64 765.406,1441.64 767.826,1441.64 782.743,1440.28 784.899,1440.28 785.22,1440.28 786.45,1440.28 787.491,1440.28 787.518,1440.28 \n  788.88,1440.28 789.656,1440.28 790.214,1440.28 791.035,1440.28 792.903,1440.28 793.131,1440.28 795.05,1438.92 798.621,1438.92 800.573,1438.92 800.91,1438.92 \n  801.292,1438.92 801.791,1438.92 807.015,1438.92 807.393,1438.92 807.562,1437.56 807.642,1437.56 809.431,1437.56 809.475,1437.56 812.661,1437.56 815.017,1437.56 \n  822.944,1437.56 825.409,1437.56 825.883,1437.56 827.069,1437.56 828.132,1437.56 829.887,1436.2 831.368,1436.2 831.447,1436.2 832.074,1436.2 832.301,1436.2 \n  832.535,1436.2 833.027,1436.2 833.092,1436.2 837.339,1436.2 837.45,1436.2 839.608,1434.84 839.979,1434.84 841.472,1434.84 842.004,1434.84 842.576,1434.84 \n  844.105,1434.84 845.597,1433.48 847.25,1433.48 847.618,1433.48 847.714,1433.48 849.838,1432.12 850.524,1432.12 850.933,1430.77 851.167,1430.77 852.339,1430.77 \n  852.844,1430.77 853.033,1430.77 854.358,1430.77 855.274,1430.77 855.438,1430.77 856.26,1430.77 858.078,1430.77 858.772,1430.77 860.234,1430.77 861.522,1429.41 \n  862.636,1429.41 863.477,1429.41 863.518,1429.41 863.919,1429.41 864.711,1429.41 865.761,1429.41 865.815,1429.41 866.54,1429.41 866.769,1429.41 867.328,1429.41 \n  867.728,1429.41 868.274,1429.41 869.164,1429.41 869.698,1429.41 871.69,1429.41 872.137,1429.41 873.375,1429.41 873.579,1429.41 875.004,1429.41 876.358,1429.41 \n  876.582,1428.05 876.756,1428.05 877.759,1426.69 877.939,1426.69 878.584,1426.69 879.93,1426.69 880.373,1426.69 881.035,1426.69 881.195,1426.69 881.392,1426.69 \n  882.424,1426.69 883.65,1426.69 884.549,1426.69 884.903,1426.69 885.628,1426.69 885.638,1426.69 886.776,1426.69 889.27,1426.69 889.36,1426.69 889.998,1426.69 \n  891.224,1426.69 891.816,1426.69 893.086,1426.69 893.509,1426.69 893.684,1426.69 894.306,1426.69 894.371,1426.69 895.264,1425.33 895.458,1425.33 898.794,1425.33 \n  898.904,1423.97 900.52,1422.61 900.678,1421.25 900.761,1421.25 901.079,1421.25 901.162,1421.25 901.253,1421.25 903.879,1419.89 904.443,1419.89 905.07,1419.89 \n  905.242,1419.89 905.321,1418.53 906.477,1418.53 906.799,1418.53 908.624,1418.53 909.201,1418.53 911.726,1418.53 911.783,1418.53 912,1418.53 912.231,1418.53 \n  912.391,1417.17 912.7,1417.17 912.729,1417.17 912.976,1417.17 913.166,1417.17 913.451,1417.17 913.781,1417.17 914.351,1417.17 914.694,1417.17 915.929,1417.17 \n  915.978,1417.17 916.452,1417.17 916.644,1417.17 917.349,1417.17 919.059,1415.82 919.495,1415.82 919.819,1415.82 920.736,1415.82 921.212,1415.82 922.242,1415.82 \n  922.511,1414.46 923.575,1414.46 923.805,1414.46 924.365,1414.46 924.826,1414.46 925.83,1414.46 926.391,1414.46 927.205,1414.46 927.338,1414.46 928.588,1414.46 \n  928.826,1414.46 928.961,1414.46 930.013,1414.46 930.527,1414.46 930.532,1414.46 932.336,1414.46 933.993,1413.1 934.939,1413.1 935.831,1411.74 935.845,1411.74 \n  936.033,1411.74 936.217,1411.74 936.286,1411.74 936.99,1411.74 937.678,1411.74 937.974,1411.74 939.799,1410.38 940.519,1410.38 940.672,1409.02 941.106,1409.02 \n  941.255,1409.02 942.919,1409.02 944.061,1409.02 944.439,1409.02 944.504,1409.02 945.436,1409.02 946.279,1409.02 946.874,1409.02 947.024,1409.02 947.391,1409.02 \n  947.454,1409.02 947.465,1407.66 948.271,1406.3 948.528,1406.3 949.413,1406.3 949.802,1406.3 949.932,1406.3 950.617,1406.3 951.194,1406.3 951.968,1406.3 \n  953.316,1406.3 953.405,1406.3 954.643,1406.3 954.755,1406.3 955.809,1406.3 955.948,1406.3 957.329,1406.3 958.381,1406.3 959.231,1406.3 961.124,1406.3 \n  961.284,1406.3 962.081,1406.3 963.006,1406.3 963.38,1406.3 963.466,1406.3 964.003,1406.3 964.305,1406.3 964.72,1404.94 966.298,1404.94 966.47,1404.94 \n  967.145,1404.94 967.259,1404.94 967.396,1403.58 967.451,1403.58 967.635,1402.22 968.033,1402.22 968.566,1402.22 968.667,1402.22 970.235,1402.22 971.59,1402.22 \n  972.295,1402.22 972.681,1402.22 973.667,1402.22 973.791,1402.22 974.783,1402.22 976.6,1402.22 976.701,1402.22 977.575,1402.22 978.41,1402.22 978.55,1402.22 \n  978.904,1402.22 979.075,1402.22 979.135,1402.22 979.454,1402.22 980.024,1402.22 980.199,1402.22 980.469,1402.22 980.703,1402.22 980.822,1402.22 983.29,1402.22 \n  983.55,1402.22 983.842,1402.22 985.603,1400.87 986.224,1400.87 986.253,1400.87 987.146,1400.87 987.412,1399.51 989.391,1399.51 989.778,1399.51 990.538,1399.51 \n  991.098,1399.51 991.105,1399.51 991.213,1399.51 991.504,1399.51 991.619,1398.15 993.353,1398.15 994.853,1398.15 994.888,1398.15 995.449,1396.79 995.94,1396.79 \n  996.362,1396.79 996.393,1396.79 996.626,1396.79 997.004,1396.79 997.266,1396.79 997.285,1396.79 997.433,1396.79 997.483,1396.79 997.492,1396.79 998.332,1396.79 \n  999.18,1396.79 999.355,1396.79 999.39,1396.79 999.647,1395.43 999.806,1395.43 999.825,1395.43 1000.41,1395.43 1001.14,1395.43 1001.49,1395.43 1003.23,1395.43 \n  1003.32,1395.43 1004.2,1395.43 1004.41,1395.43 1004.45,1395.43 1004.79,1395.43 1005.43,1395.43 1006.03,1395.43 1007.3,1395.43 1007.74,1395.43 1008.19,1395.43 \n  1008.4,1395.43 1008.56,1395.43 1008.66,1395.43 1009.66,1395.43 1009.7,1395.43 1010.94,1395.43 1011.46,1395.43 1011.59,1395.43 1011.95,1394.07 1012.47,1394.07 \n  1013.33,1394.07 1013.48,1394.07 1014.24,1394.07 1014.63,1394.07 1015.22,1394.07 1015.92,1394.07 1016.36,1394.07 1016.68,1394.07 1016.72,1394.07 1016.93,1394.07 \n  1016.93,1394.07 1018.08,1394.07 1018.35,1394.07 1018.91,1394.07 1020.1,1392.71 1020.87,1391.35 1020.91,1391.35 1021.09,1391.35 1021.14,1391.35 1021.26,1391.35 \n  1021.56,1389.99 1022.13,1389.99 1022.58,1389.99 1022.74,1389.99 1022.82,1388.63 1023.26,1388.63 1024.64,1388.63 1024.69,1388.63 1024.76,1388.63 1025.74,1388.63 \n  1025.85,1388.63 1026.31,1388.63 1027.29,1388.63 1028.71,1388.63 1029.88,1388.63 1030.23,1388.63 1031.53,1388.63 1031.58,1388.63 1032.54,1388.63 1032.56,1388.63 \n  1032.91,1388.63 1034.59,1387.27 1035.1,1385.92 1035.25,1385.92 1036.04,1385.92 1036.06,1385.92 1036.33,1385.92 1037.19,1385.92 1037.75,1385.92 1037.8,1385.92 \n  1038.85,1385.92 1038.9,1385.92 1038.96,1385.92 1039.03,1384.56 1039.71,1384.56 1040.01,1384.56 1040.43,1384.56 1041.52,1384.56 1043.59,1384.56 1043.97,1384.56 \n  1044.32,1384.56 1044.66,1384.56 1044.86,1384.56 1044.86,1384.56 1045.06,1384.56 1045.26,1384.56 1045.37,1384.56 1045.38,1383.2 1045.46,1383.2 1045.49,1383.2 \n  1047.59,1383.2 1048.49,1381.84 1048.9,1381.84 1048.9,1381.84 1049.09,1381.84 1050.07,1381.84 1051.84,1381.84 1052,1381.84 1052.76,1381.84 1052.88,1380.48 \n  1053.89,1380.48 1054.62,1380.48 1055.32,1380.48 1056.5,1380.48 1056.77,1379.12 1057.47,1379.12 1057.58,1379.12 1057.62,1379.12 1057.74,1379.12 1057.78,1379.12 \n  1058.31,1379.12 1058.63,1379.12 1060.19,1379.12 1060.54,1377.76 1060.66,1377.76 1061.41,1376.4 1061.43,1376.4 1062.16,1376.4 1062.44,1376.4 1062.65,1376.4 \n  1063.01,1375.04 1063.02,1373.68 1063.38,1373.68 1063.41,1373.68 1063.61,1373.68 1063.94,1373.68 1064.88,1373.68 1065.43,1373.68 1065.83,1373.68 1066.19,1373.68 \n  1066.75,1373.68 1067.57,1373.68 1067.71,1372.32 1069.23,1372.32 1070.66,1372.32 1070.75,1370.97 1070.85,1370.97 1070.89,1369.61 1071.06,1369.61 1071.21,1369.61 \n  1071.35,1368.25 1072.53,1368.25 1073.21,1368.25 1074.07,1368.25 1074.28,1368.25 1074.3,1368.25 1074.82,1368.25 1075.2,1368.25 1075.66,1368.25 1076.41,1368.25 \n  1076.52,1368.25 1076.66,1368.25 1076.78,1368.25 1076.92,1368.25 1077.54,1368.25 1077.59,1368.25 1077.83,1368.25 1078.09,1368.25 1078.32,1368.25 1078.76,1368.25 \n  1079.03,1368.25 1080.06,1368.25 1080.51,1366.89 1080.72,1366.89 1081.15,1365.53 1081.4,1365.53 1081.87,1365.53 1082.19,1365.53 1082.21,1365.53 1082.37,1365.53 \n  1083.47,1365.53 1084.13,1365.53 1084.2,1365.53 1084.26,1365.53 1084.57,1365.53 1084.97,1364.17 1085.55,1364.17 1085.73,1364.17 1085.8,1364.17 1086.03,1364.17 \n  1086.41,1364.17 1086.42,1364.17 1086.54,1364.17 1086.87,1364.17 1087.13,1364.17 1087.41,1364.17 1087.5,1362.81 1087.81,1362.81 1087.84,1362.81 1088.87,1361.45 \n  1088.91,1361.45 1089.07,1361.45 1089.13,1361.45 1089.25,1361.45 1089.87,1360.09 1090.25,1358.73 1090.57,1358.73 1090.99,1358.73 1091.51,1358.73 1092.2,1358.73 \n  1094.32,1358.73 1094.91,1358.73 1094.95,1358.73 1095.12,1358.73 1095.28,1358.73 1095.53,1358.73 1095.61,1358.73 1095.64,1358.73 1095.68,1358.73 1095.85,1358.73 \n  1095.91,1358.73 1096.46,1358.73 1096.84,1358.73 1096.95,1358.73 1097.11,1358.73 1097.56,1358.73 1097.62,1358.73 1098.9,1357.37 1099.31,1357.37 1099.42,1357.37 \n  1100.42,1357.37 1101.2,1357.37 1101.61,1357.37 1101.77,1357.37 1102,1357.37 1102.05,1357.37 1102.38,1357.37 1103.52,1357.37 1104.41,1356.02 1104.65,1356.02 \n  1105.45,1356.02 1106.1,1356.02 1106.48,1356.02 1107.62,1356.02 1108.05,1356.02 1108.17,1356.02 1108.29,1356.02 1108.44,1356.02 1108.55,1354.66 1108.6,1354.66 \n  1109.2,1353.3 1109.37,1353.3 1109.97,1353.3 1110.08,1353.3 1110.11,1353.3 1110.26,1353.3 1110.46,1353.3 1111.69,1351.94 1112.93,1351.94 1113.56,1351.94 \n  1113.72,1351.94 1114.24,1350.58 1114.26,1350.58 1114.7,1350.58 1114.72,1350.58 1115.13,1350.58 1115.41,1350.58 1115.55,1349.22 1116.21,1349.22 1116.24,1347.86 \n  1116.48,1347.86 1116.52,1347.86 1116.7,1347.86 1116.71,1347.86 1116.75,1347.86 1116.9,1347.86 1117.01,1347.86 1117.72,1347.86 1117.99,1346.5 1119.3,1346.5 \n  1119.42,1346.5 1119.53,1346.5 1120.08,1346.5 1120.57,1346.5 1120.92,1346.5 1122.4,1345.14 1123,1345.14 1123.13,1345.14 1123.46,1345.14 1123.66,1345.14 \n  1124.05,1345.14 1124.39,1345.14 1124.83,1345.14 1125.31,1345.14 1126.29,1345.14 1126.34,1345.14 1127.24,1345.14 1127.75,1345.14 1127.83,1345.14 1128.1,1345.14 \n  1128.1,1345.14 1128.44,1345.14 1128.66,1345.14 1128.69,1345.14 1128.75,1343.78 1129.04,1343.78 1129.28,1343.78 1129.36,1343.78 1130.62,1343.78 1131.02,1343.78 \n  1131.38,1342.42 1131.42,1342.42 1131.52,1342.42 1131.56,1342.42 1132.15,1341.07 1133.01,1341.07 1133.11,1341.07 1133.82,1339.71 1133.93,1338.35 1134.24,1338.35 \n  1134.28,1338.35 1134.35,1338.35 1134.4,1338.35 1134.5,1338.35 1134.59,1338.35 1135.01,1336.99 1135.37,1336.99 1135.95,1335.63 1136.11,1335.63 1136.6,1335.63 \n  1136.83,1335.63 1136.98,1335.63 1137.14,1335.63 1138.12,1335.63 1138.18,1335.63 1138.78,1334.27 1139.07,1334.27 1139.46,1332.91 1139.61,1332.91 1139.7,1332.91 \n  1140.64,1332.91 1141.02,1332.91 1141.03,1332.91 1143.12,1332.91 1143.27,1331.55 1143.59,1331.55 1144.21,1331.55 1145.52,1331.55 1145.59,1331.55 1145.78,1331.55 \n  1146.05,1330.19 1146.22,1330.19 1146.48,1328.83 1147.01,1328.83 1147.12,1328.83 1147.68,1328.83 1150.65,1327.47 1150.7,1327.47 1150.88,1327.47 1151.2,1327.47 \n  1151.34,1326.12 1151.84,1326.12 1153.11,1326.12 1153.31,1326.12 1153.42,1326.12 1154.42,1324.76 1154.46,1324.76 1154.59,1324.76 1154.77,1324.76 1155.46,1323.4 \n  1155.53,1323.4 1155.56,1323.4 1155.57,1323.4 1155.59,1323.4 1155.75,1323.4 1155.83,1323.4 1156.01,1323.4 1156.19,1323.4 1156.3,1322.04 1157.3,1320.68 \n  1158.36,1320.68 1158.52,1320.68 1158.55,1320.68 1159.31,1320.68 1160.32,1320.68 1160.39,1320.68 1160.88,1320.68 1160.95,1320.68 1161.01,1320.68 1162.1,1320.68 \n  1162.2,1320.68 1162.55,1320.68 1162.77,1320.68 1162.99,1320.68 1163.02,1319.32 1163.09,1319.32 1163.24,1319.32 1163.5,1319.32 1163.57,1319.32 1164.22,1319.32 \n  1164.29,1319.32 1164.34,1319.32 1165.04,1319.32 1165.82,1317.96 1166.01,1317.96 1166.01,1317.96 1166.2,1317.96 1166.38,1317.96 1166.49,1316.6 1166.64,1316.6 \n  1167.03,1316.6 1167.94,1316.6 1169.07,1316.6 1169.12,1316.6 1169.19,1315.24 1169.59,1315.24 1169.7,1315.24 1170.26,1315.24 1170.38,1315.24 1170.84,1315.24 \n  1171.24,1313.88 1171.31,1313.88 1171.55,1313.88 1171.86,1312.52 1172.23,1312.52 1172.28,1312.52 1172.47,1311.16 1173.76,1311.16 1174.32,1311.16 1174.58,1311.16 \n  1174.98,1309.81 1175.11,1308.45 1175.5,1308.45 1176.77,1308.45 1176.85,1308.45 1177.86,1308.45 1178.02,1308.45 1178.14,1308.45 1178.6,1308.45 1179.09,1307.09 \n  1179.73,1307.09 1180,1305.73 1181.35,1305.73 1181.8,1305.73 1182.11,1304.37 1182.27,1303.01 1182.38,1303.01 1182.4,1303.01 1183.07,1303.01 1183.25,1301.65 \n  1183.41,1300.29 1183.54,1298.93 1184.16,1298.93 1184.72,1297.57 1185.35,1297.57 1185.46,1297.57 1185.78,1297.57 1186.01,1297.57 1186.65,1297.57 1186.78,1296.21 \n  1186.85,1294.86 1189.04,1294.86 1189.28,1293.5 1190.28,1293.5 1190.5,1293.5 1190.74,1293.5 1191.03,1293.5 1191.47,1293.5 1191.82,1293.5 1191.88,1292.14 \n  1192.02,1292.14 1192.64,1292.14 1195.16,1292.14 1195.54,1292.14 1196.22,1292.14 1196.55,1290.78 1197.66,1289.42 1198.06,1288.06 1199.25,1286.7 1200,1286.7 \n  1200.33,1286.7 1200.94,1285.34 1201.2,1285.34 1202.9,1283.98 1202.91,1283.98 1203.43,1283.98 1204.2,1283.98 1204.28,1283.98 1204.66,1283.98 1205.13,1282.62 \n  1205.28,1281.26 1205.52,1281.26 1205.56,1279.91 1205.96,1279.91 1206.68,1279.91 1206.93,1279.91 1207.43,1279.91 1207.59,1279.91 1207.86,1278.55 1208.2,1278.55 \n  1208.36,1278.55 1208.67,1278.55 1209.63,1277.19 1209.86,1277.19 1210.81,1277.19 1211.98,1277.19 1212.45,1277.19 1214.46,1275.83 1214.79,1275.83 1214.9,1275.83 \n  1214.9,1275.83 1215.67,1275.83 1215.85,1275.83 1216.25,1275.83 1216.28,1275.83 1216.36,1274.47 1216.53,1274.47 1216.55,1274.47 1216.58,1274.47 1217.45,1274.47 \n  1217.52,1274.47 1217.64,1274.47 1218.67,1274.47 1219.48,1274.47 1219.73,1274.47 1219.97,1274.47 1220.88,1274.47 1221.36,1274.47 1221.37,1274.47 1221.38,1274.47 \n  1221.91,1274.47 1222.69,1273.11 1222.82,1271.75 1223.42,1271.75 1224.16,1270.39 1224.27,1270.39 1226.34,1270.39 1226.82,1269.03 1227.07,1269.03 1227.42,1269.03 \n  1227.64,1269.03 1227.84,1269.03 1227.91,1269.03 1227.98,1269.03 1228.21,1269.03 1228.97,1267.67 1230.69,1267.67 1230.98,1267.67 1231.27,1267.67 1231.48,1267.67 \n  1231.72,1267.67 1231.79,1267.67 1233.28,1267.67 1233.3,1267.67 1233.63,1267.67 1233.98,1267.67 1234.1,1267.67 1234.6,1267.67 1234.71,1266.31 1235.05,1266.31 \n  1235.51,1266.31 1235.52,1266.31 1235.61,1266.31 1235.83,1266.31 1236.1,1266.31 1236.21,1264.96 1236.52,1264.96 1236.87,1264.96 1237.01,1264.96 1237.08,1264.96 \n  1237.17,1264.96 1237.6,1264.96 1238.83,1263.6 1239.27,1263.6 1239.29,1263.6 1239.33,1262.24 1239.37,1262.24 1239.84,1262.24 1240.01,1262.24 1240.61,1262.24 \n  1240.81,1262.24 1241.02,1260.88 1241.32,1259.52 1241.35,1258.16 1241.41,1256.8 1241.58,1256.8 1241.86,1256.8 1243.26,1256.8 1243.49,1256.8 1244,1256.8 \n  1244.85,1256.8 1245.12,1256.8 1245.17,1256.8 1245.25,1256.8 1245.79,1255.44 1245.99,1255.44 1246.25,1255.44 1246.81,1254.08 1247.01,1252.72 1247.13,1251.36 \n  1247.2,1251.36 1247.32,1250.01 1248.34,1250.01 1248.39,1250.01 1248.77,1250.01 1249.5,1250.01 1250.13,1248.65 1250.23,1247.29 1250.61,1247.29 1251.13,1245.93 \n  1251.36,1245.93 1251.88,1245.93 1252.09,1245.93 1253.45,1245.93 1254.94,1245.93 1255.24,1245.93 1256.86,1245.93 1257.89,1245.93 1258.69,1245.93 1259.03,1244.57 \n  1259.78,1243.21 1259.95,1241.85 1260.13,1240.49 1260.33,1239.13 1260.35,1239.13 1261.01,1239.13 1261.37,1239.13 1262.75,1239.13 1263.21,1239.13 1263.92,1239.13 \n  1264.04,1239.13 1264.35,1239.13 1264.44,1239.13 1264.94,1239.13 1266.18,1237.77 1266.19,1236.41 1268.34,1236.41 1268.5,1236.41 1269.23,1235.06 1270.96,1233.7 \n  1270.99,1232.34 1271.42,1232.34 1271.59,1232.34 1272.22,1230.98 1272.25,1230.98 1272.53,1230.98 1273.27,1230.98 1274.35,1230.98 1274.65,1230.98 1274.84,1230.98 \n  1274.85,1229.62 1274.89,1229.62 1275.06,1229.62 1276.16,1229.62 1276.25,1228.26 1276.55,1228.26 1276.76,1228.26 1276.95,1228.26 1277.32,1226.9 1277.74,1226.9 \n  1277.8,1225.54 1278.18,1225.54 1278.6,1225.54 1279.16,1224.18 1279.49,1224.18 1279.91,1224.18 1281.36,1222.82 1281.72,1221.46 1282.44,1220.11 1282.64,1218.75 \n  1283,1218.75 1283.5,1218.75 1284.06,1218.75 1285.32,1217.39 1286.07,1216.03 1286.77,1216.03 1287.23,1216.03 1287.67,1216.03 1287.75,1214.67 1288.07,1213.31 \n  1289.32,1213.31 1290.16,1211.95 1290.24,1211.95 1290.73,1211.95 1291.33,1211.95 1291.36,1211.95 1291.59,1211.95 1291.71,1211.95 1292.09,1211.95 1292.64,1210.59 \n  1293.28,1210.59 1293.31,1210.59 1293.52,1209.23 1293.53,1209.23 1294.71,1207.87 1295.13,1207.87 1295.64,1207.87 1295.67,1206.51 1296.34,1206.51 1296.66,1206.51 \n  1296.73,1206.51 1298.01,1205.16 1298.57,1203.8 1299.66,1203.8 1299.82,1202.44 1301.15,1202.44 1301.52,1202.44 1302.34,1201.08 1302.43,1199.72 1302.62,1198.36 \n  1303.45,1198.36 1303.77,1198.36 1305.29,1197 1308.55,1195.64 1309.73,1195.64 1310.7,1194.28 1310.99,1192.92 1311.13,1191.56 1312.48,1190.21 1313.35,1190.21 \n  1314.05,1188.85 1314.09,1188.85 1318.87,1187.49 1319.91,1186.13 1321.02,1184.77 1321.06,1183.41 1321.17,1182.05 1321.69,1182.05 1322.14,1182.05 1322.87,1180.69 \n  1323.44,1180.69 1323.5,1179.33 1324.09,1179.33 1324.38,1179.33 1324.54,1179.33 1324.7,1177.97 1325.05,1177.97 1325.55,1176.61 1327.69,1175.26 1328.05,1175.26 \n  1328.18,1173.9 1330.21,1172.54 1330.9,1172.54 1331.66,1171.18 1331.92,1169.82 1333.71,1169.82 1334.64,1168.46 1337.11,1167.1 1339.05,1167.1 1339.23,1165.74 \n  1339.46,1165.74 1339.57,1164.38 1340.26,1164.38 1340.98,1163.02 1341.51,1161.66 1341.77,1160.31 1342.73,1158.95 1343.64,1157.59 1343.84,1156.23 1344.04,1154.87 \n  1344.07,1154.87 1344.12,1153.51 1344.4,1152.15 1345.35,1152.15 1346.11,1152.15 1347.44,1150.79 1347.62,1150.79 1347.99,1149.43 1348.57,1148.07 1349.49,1148.07 \n  1349.92,1148.07 1349.96,1146.71 1351.59,1146.71 1352.75,1146.71 1353.02,1145.35 1353.89,1145.35 1354.91,1144 1356.89,1142.64 1357.58,1141.28 1357.59,1141.28 \n  1357.7,1141.28 1357.81,1141.28 1358.6,1139.92 1358.67,1138.56 1359.82,1137.2 1361.89,1137.2 1361.95,1137.2 1363.66,1137.2 1364.99,1137.2 1366.07,1135.84 \n  1366.55,1134.48 1366.55,1133.12 1366.91,1131.76 1368.3,1130.4 1369.11,1129.05 1370.63,1127.69 1370.9,1127.69 1370.95,1127.69 1373.23,1127.69 1374.78,1126.33 \n  1374.82,1124.97 1375.47,1123.61 1376.16,1123.61 1376.91,1123.61 1377.92,1122.25 1378.22,1120.89 1378.53,1120.89 1379.2,1119.53 1379.68,1119.53 1380.55,1119.53 \n  1380.75,1119.53 1381.58,1118.17 1381.72,1118.17 1382.06,1116.81 1382.35,1115.45 1382.39,1115.45 1385.8,1115.45 1386.47,1114.1 1386.54,1112.74 1386.94,1111.38 \n  1387.17,1111.38 1389.03,1110.02 1390.45,1110.02 1391.01,1108.66 1392.09,1108.66 1393.74,1107.3 1395.36,1105.94 1396.6,1104.58 1397.19,1104.58 1397.32,1103.22 \n  1398.65,1103.22 1399.19,1103.22 1399.73,1101.86 1400.83,1101.86 1403.2,1101.86 1403.41,1100.5 1405.42,1099.15 1405.97,1097.79 1406.54,1096.43 1406.57,1095.07 \n  1406.92,1093.71 1407.07,1092.35 1407.38,1092.35 1407.51,1092.35 1407.77,1090.99 1408.95,1089.63 1409.04,1088.27 1409.62,1088.27 1411.44,1086.91 1411.62,1085.55 \n  1413.62,1084.2 1414.92,1082.84 1416.38,1082.84 1418.32,1081.48 1419.19,1081.48 1419.74,1081.48 1420.07,1080.12 1420.45,1080.12 1420.46,1080.12 1421.08,1078.76 \n  1423.6,1077.4 1423.98,1077.4 1424.34,1076.04 1425.17,1076.04 1428.05,1076.04 1428.1,1074.68 1428.2,1073.32 1431.2,1073.32 1433.23,1073.32 1434.03,1073.32 \n  1434.86,1071.96 1435.27,1070.6 1435.49,1070.6 1439.7,1070.6 1442.43,1069.25 1443.5,1067.89 1444.24,1066.53 1444.88,1065.17 1445.01,1063.81 1445.61,1062.45 \n  1448.29,1061.09 1448.56,1059.73 1451.21,1059.73 1452.25,1059.73 1452.44,1059.73 1452.5,1058.37 1453.64,1057.01 1454.23,1057.01 1454.41,1055.65 1455.46,1054.3 \n  1455.49,1052.94 1455.96,1052.94 1457.1,1051.58 1457.68,1050.22 1459.09,1048.86 1459.43,1048.86 1461.44,1047.5 1462.09,1046.14 1463.58,1046.14 1464.68,1044.78 \n  1465.78,1043.42 1466.44,1043.42 1467.43,1042.06 1470.11,1042.06 1470.64,1042.06 1470.92,1040.7 1472.21,1039.35 1473.88,1037.99 1474.23,1037.99 1474.29,1036.63 \n  1474.65,1035.27 1474.92,1033.91 1475.26,1033.91 1476.26,1032.55 1477.77,1031.19 1477.94,1029.83 1478.23,1029.83 1479.39,1029.83 1479.55,1029.83 1479.56,1029.83 \n  1480.3,1028.47 1481.84,1027.11 1482.37,1025.75 1483.55,1024.4 1483.99,1023.04 1485.02,1021.68 1485.36,1020.32 1486.34,1018.96 1486.4,1017.6 1487.32,1017.6 \n  1487.51,1016.24 1489.14,1014.88 1490.87,1013.52 1492.66,1012.16 1494.45,1010.8 1494.64,1009.45 1495.34,1008.09 1495.38,1008.09 1495.83,1006.73 1496.06,1006.73 \n  1496.26,1006.73 1496.32,1006.73 1496.41,1005.37 1496.5,1004.01 1497.43,1004.01 1497.98,1002.65 1499.09,1001.29 1500.4,1001.29 1500.86,999.931 1503.31,999.931 \n  1503.74,999.931 1504.33,998.572 1504.85,998.572 1505.28,997.213 1506.46,995.854 1507.03,994.495 1507.7,994.495 1507.9,994.495 1508.02,994.495 1508.38,993.136 \n  1510.6,993.136 1511.67,993.136 1512.44,991.777 1513.04,990.418 1513.65,989.059 1513.89,989.059 1514.57,987.699 1514.91,986.34 1516.79,984.981 1518.66,983.622 \n  1518.96,982.263 1520.38,980.904 1522.13,980.904 1522.59,979.545 1523.76,978.186 1526.1,976.827 1528.03,975.468 1528.73,975.468 1535.88,974.109 1537.46,972.749 \n  1538.68,971.39 1539.68,971.39 1542.48,970.031 1543.01,968.672 1544.18,967.313 1544.71,965.954 1545.93,964.595 1546.59,964.595 1549.34,964.595 1552.26,963.236 \n  1554.45,963.236 1555.03,963.236 1555.56,961.877 1555.83,960.518 1557.83,959.158 1558.05,957.799 1558.75,956.44 1559.21,955.081 1561.22,953.722 1561.31,952.363 \n  1566.58,952.363 1566.6,951.004 1566.64,949.645 1568.99,949.645 1569.38,948.286 1571.71,946.927 1572.1,945.567 1574,944.208 1576.71,942.849 1581.7,941.49 \n  1583.06,940.131 1586.42,938.772 1587.23,937.413 1589.08,936.054 1589.14,934.695 1591.52,933.336 1593.69,931.976 1593.81,930.617 1593.85,929.258 1594.36,929.258 \n  1595.87,927.899 1597.23,926.54 1598.2,925.181 1601.48,923.822 1602.74,922.463 1603,921.104 1606.65,919.745 1606.94,918.385 1609.9,917.026 1611.4,915.667 \n  1612.57,914.308 1615.98,914.308 1616.64,912.949 1618,911.59 1619.65,910.231 1619.83,908.872 1622.01,907.513 1622.23,907.513 1622.31,906.154 1623.06,904.794 \n  1626.4,903.435 1628.69,902.076 1628.82,900.717 1628.86,899.358 1629.53,897.999 1632.63,897.999 1632.82,896.64 1633.27,895.281 1634.51,895.281 1641.4,893.922 \n  1641.9,892.563 1643.82,891.203 1645.72,889.844 1646.02,888.485 1648.1,887.126 1648.56,885.767 1648.68,885.767 1648.68,884.408 1650.49,883.049 1651.64,881.69 \n  1654.79,880.331 1655.06,878.972 1655.62,877.613 1658.8,876.253 1658.97,874.894 1659.03,873.535 1660.66,872.176 1661.41,870.817 1662.79,869.458 1663.07,868.099 \n  1663.6,868.099 1663.65,866.74 1666.66,865.381 1667.05,864.022 1668.43,862.662 1670.1,862.662 1672.98,861.303 1673.73,859.944 1673.81,858.585 1676.66,857.226 \n  1679.61,855.867 1679.88,854.508 1680.64,853.149 1682.9,851.79 1683.26,851.79 1684.17,850.431 1684.23,849.071 1691.35,847.712 1691.81,846.353 1692.11,844.994 \n  1693.31,843.635 1695.19,842.276 1699.99,840.917 1700.03,839.558 1700.88,838.199 1702,836.84 1703.8,835.48 1704.8,834.121 1704.8,832.762 1706.11,831.403 \n  1711.31,830.044 1711.31,830.044 1714.32,828.685 1714.39,827.326 1716.97,825.967 1717.27,824.608 1720.62,823.249 1721.08,821.889 1721.61,821.889 1721.95,820.53 \n  1723.96,820.53 1725.37,819.171 1726.34,817.812 1727.64,816.453 1729.79,815.094 1730.58,813.735 1731.73,812.376 1737.93,811.017 1738.46,809.658 1742.12,808.298 \n  1743.33,806.939 1744.26,805.58 1745.51,804.221 1749.73,802.862 1753.94,801.503 1754.63,800.144 1757.78,798.785 1757.78,797.426 1760.74,796.067 1760.76,794.708 \n  1761.57,794.708 1765.18,794.708 1766.64,793.348 1771.14,791.989 1778.12,790.63 1781.08,789.271 1784.13,787.912 1785.46,786.553 1785.84,785.194 1786.56,783.835 \n  1787.7,782.476 1788.39,781.117 1789.01,779.757 1793.53,778.398 1794.01,777.039 1795.49,775.68 1804.84,774.321 1808.09,772.962 1809.22,771.603 1811.93,770.244 \n  1813.84,768.885 1814.24,767.526 1817.97,766.166 1818.77,764.807 1820.37,763.448 1825.86,762.089 1826.04,760.73 1826.95,759.371 1828.6,758.012 1832.07,756.653 \n  1832.74,755.294 1836.51,755.294 1839.53,753.935 1839.84,752.575 1840.15,751.216 1844.58,749.857 1848.63,748.498 1852.43,747.139 1853.88,745.78 1854.41,744.421 \n  1855,743.062 1856.21,741.703 1856.67,740.344 1856.81,738.984 1857.01,737.625 1859.66,736.266 1863.66,734.907 1864.85,733.548 1866.85,732.189 1868.13,730.83 \n  1871.64,729.471 1875.01,728.112 1878.73,726.753 1878.85,725.393 1879.43,724.034 1880.64,722.675 1881.9,721.316 1882.64,719.957 1882.97,718.598 1884.99,717.239 \n  1885.07,715.88 1886.57,714.521 1887.96,713.162 1888.86,711.802 1898.58,710.443 1902.47,709.084 1906.11,707.725 1908.77,706.366 1911.19,705.007 1912.84,703.648 \n  1927.85,702.289 1928.35,700.93 1932.05,699.571 1933.45,698.212 1933.95,696.852 1935.28,695.493 1938.1,694.134 1939.12,692.775 1940.76,691.416 1941.66,690.057 \n  1947.16,688.698 1947.41,688.698 1947.72,688.698 1948.21,687.339 1948.86,685.98 1949.53,684.621 1950.99,683.261 1952.66,681.902 1954.12,680.543 1956.93,679.184 \n  1965.49,677.825 1967.11,676.466 1968.56,675.107 1974.42,673.748 1976.25,672.389 1978.42,671.03 1979.13,669.67 1979.39,668.311 1985.71,666.952 1987.78,665.593 \n  1988.38,664.234 1988.58,662.875 1989.79,661.516 1994.29,660.157 1994.6,658.798 1995.6,657.439 1997.13,656.079 1997.29,654.72 2002.41,653.361 2007.15,652.002 \n  2007.25,650.643 2010.99,649.284 2012.63,647.925 2016.29,646.566 2018.98,645.207 2021.98,643.848 2022.19,642.488 2024.03,641.129 2025.37,639.77 2033.49,638.411 \n  2034.98,637.052 2036.31,635.693 2036.45,635.693 2037.63,634.334 2041.57,632.975 2044.4,631.616 2046.19,630.257 2050.71,628.897 2053.15,627.538 2053.61,626.179 \n  2057.08,624.82 2057.66,623.461 2057.99,622.102 2058.55,620.743 2059.45,619.384 2060.01,618.025 2064,616.666 2065.12,615.307 2069.79,615.307 2070.57,613.947 \n  2072.12,612.588 2075.2,611.229 2075.77,609.87 2076.3,608.511 2076.56,607.152 2079.46,605.793 2081.71,604.434 2086.34,603.075 2087.77,601.716 2088.77,600.356 \n  2089.02,598.997 2089.07,597.638 2089.9,596.279 2093.95,594.92 2096.87,593.561 2100.36,592.202 2101.25,590.843 2104.12,589.484 2104.21,588.125 2113.75,586.765 \n  2119.29,585.406 2120.48,584.047 2121.64,582.688 2122.01,581.329 2122.65,579.97 2125.97,578.611 2127.41,577.252 2127.89,575.893 2129.12,574.534 2137.3,573.174 \n  2139.73,571.815 2139.87,570.456 2140.74,569.097 2159.31,567.738 2160.01,566.379 2161.47,565.02 2162.76,563.661 2166.8,562.302 2166.83,560.943 2181.9,559.583 \n  2184.68,558.224 2185.96,556.865 2191.73,555.506 2193.55,554.147 2199.63,552.788 2202.51,552.788 2208.37,551.429 2209.06,550.07 2214.57,548.711 2214.92,547.352 \n  2216.18,545.992 2218.13,544.633 2219.48,543.274 2221.78,541.915 2221.97,540.556 2225.51,539.197 2231.86,537.838 2233.95,536.479 2235.07,535.12 2239.35,533.761 \n  2242,532.401 2243.08,531.042 2251.16,529.683 2251.81,528.324 2252.77,526.965 2255.57,525.606 2258.26,524.247 2261.5,522.888 2262.47,521.529 2266.11,520.17 \n  2269.21,518.811 2272.69,517.451 2273.52,516.092 2284.94,514.733 2286.85,513.374 2289.34,512.015 2291.81,510.656 2289.75,510.656 \n  \"/>\n<path clip-path=\"url(#clip070)\" d=\"\nM1988.69 302.578 L2280.97 302.578 L2280.97 95.2176 L1988.69 95.2176  Z\n  \" fill=\"#ffffff\" fill-rule=\"evenodd\" fill-opacity=\"0.9\"/>\n<polyline clip-path=\"url(#clip070)\" style=\"stroke:#222255; stroke-linecap:butt; stroke-linejoin:round; stroke-width:4; stroke-opacity:0.1; fill:none\" points=\"\n  1988.69,302.578 2280.97,302.578 2280.97,95.2176 1988.69,95.2176 1988.69,302.578 \n  \"/>\n<polyline clip-path=\"url(#clip070)\" style=\"stroke:#ee7733; stroke-linecap:butt; stroke-linejoin:round; stroke-width:4; stroke-opacity:1; fill:none\" points=\"\n  2012.62,147.058 2156.18,147.058 \n  \"/>\n<path clip-path=\"url(#clip070)\" d=\"M2193.95 166.745 Q2192.15 171.375 2190.43 172.787 Q2188.72 174.199 2185.85 174.199 L2182.45 174.199 L2182.45 170.634 L2184.95 170.634 Q2186.71 170.634 2187.68 169.8 Q2188.65 168.967 2189.83 165.865 L2190.6 163.921 L2180.11 138.412 L2184.62 138.412 L2192.73 158.689 L2200.83 138.412 L2205.34 138.412 L2193.95 166.745 Z\" fill=\"#000000\" fill-rule=\"evenodd\" fill-opacity=\"1\" /><path clip-path=\"url(#clip070)\" d=\"M2212.63 160.402 L2220.27 160.402 L2220.27 134.037 L2211.96 135.703 L2211.96 131.444 L2220.23 129.778 L2224.9 129.778 L2224.9 160.402 L2232.54 160.402 L2232.54 164.338 L2212.63 164.338 L2212.63 160.402 Z\" fill=\"#000000\" fill-rule=\"evenodd\" fill-opacity=\"1\" /><polyline clip-path=\"url(#clip070)\" style=\"stroke:#0077bb; stroke-linecap:butt; stroke-linejoin:round; stroke-width:4; stroke-opacity:1; fill:none\" points=\"\n  2012.62,198.898 2156.18,198.898 \n  \"/>\n<path clip-path=\"url(#clip070)\" d=\"M2193.95 218.585 Q2192.15 223.215 2190.43 224.627 Q2188.72 226.039 2185.85 226.039 L2182.45 226.039 L2182.45 222.474 L2184.95 222.474 Q2186.71 222.474 2187.68 221.64 Q2188.65 220.807 2189.83 217.705 L2190.6 215.761 L2180.11 190.252 L2184.62 190.252 L2192.73 210.529 L2200.83 190.252 L2205.34 190.252 L2193.95 218.585 Z\" fill=\"#000000\" fill-rule=\"evenodd\" fill-opacity=\"1\" /><path clip-path=\"url(#clip070)\" d=\"M2215.85 212.242 L2232.17 212.242 L2232.17 216.178 L2210.23 216.178 L2210.23 212.242 Q2212.89 209.488 2217.47 204.858 Q2222.08 200.205 2223.26 198.863 Q2225.5 196.34 2226.38 194.604 Q2227.29 192.844 2227.29 191.155 Q2227.29 188.4 2225.34 186.664 Q2223.42 184.928 2220.32 184.928 Q2218.12 184.928 2215.66 185.692 Q2213.23 186.455 2210.46 188.006 L2210.46 183.284 Q2213.28 182.15 2215.73 181.571 Q2218.19 180.993 2220.23 180.993 Q2225.6 180.993 2228.79 183.678 Q2231.98 186.363 2231.98 190.854 Q2231.98 192.983 2231.17 194.905 Q2230.39 196.803 2228.28 199.395 Q2227.7 200.067 2224.6 203.284 Q2221.5 206.479 2215.85 212.242 Z\" fill=\"#000000\" fill-rule=\"evenodd\" fill-opacity=\"1\" /><polyline clip-path=\"url(#clip070)\" style=\"stroke:#33bbee; stroke-linecap:butt; stroke-linejoin:round; stroke-width:4; stroke-opacity:1; fill:none\" points=\"\n  2012.62,250.738 2156.18,250.738 \n  \"/>\n<path clip-path=\"url(#clip070)\" d=\"M2193.95 270.425 Q2192.15 275.055 2190.43 276.467 Q2188.72 277.879 2185.85 277.879 L2182.45 277.879 L2182.45 274.314 L2184.95 274.314 Q2186.71 274.314 2187.68 273.48 Q2188.65 272.647 2189.83 269.545 L2190.6 267.601 L2180.11 242.092 L2184.62 242.092 L2192.73 262.369 L2200.83 242.092 L2205.34 242.092 L2193.95 270.425 Z\" fill=\"#000000\" fill-rule=\"evenodd\" fill-opacity=\"1\" /><path clip-path=\"url(#clip070)\" d=\"M2225.99 249.383 Q2229.35 250.101 2231.22 252.369 Q2233.12 254.638 2233.12 257.971 Q2233.12 263.087 2229.6 265.888 Q2226.08 268.689 2219.6 268.689 Q2217.42 268.689 2215.11 268.249 Q2212.82 267.832 2210.36 266.976 L2210.36 262.462 Q2212.31 263.596 2214.62 264.175 Q2216.94 264.754 2219.46 264.754 Q2223.86 264.754 2226.15 263.018 Q2228.47 261.281 2228.47 257.971 Q2228.47 254.916 2226.31 253.203 Q2224.18 251.467 2220.36 251.467 L2216.34 251.467 L2216.34 247.624 L2220.55 247.624 Q2224 247.624 2225.83 246.258 Q2227.66 244.87 2227.66 242.277 Q2227.66 239.615 2225.76 238.203 Q2223.88 236.768 2220.36 236.768 Q2218.44 236.768 2216.24 237.184 Q2214.04 237.601 2211.41 238.481 L2211.41 234.314 Q2214.07 233.573 2216.38 233.203 Q2218.72 232.833 2220.78 232.833 Q2226.1 232.833 2229.21 235.263 Q2232.31 237.67 2232.31 241.791 Q2232.31 244.661 2230.66 246.652 Q2229.02 248.62 2225.99 249.383 Z\" fill=\"#000000\" fill-rule=\"evenodd\" fill-opacity=\"1\" /></svg>\n",
      "text/html": [
       "<?xml version=\"1.0\" encoding=\"utf-8\"?>\n",
       "<svg xmlns=\"http://www.w3.org/2000/svg\" xmlns:xlink=\"http://www.w3.org/1999/xlink\" width=\"600\" height=\"400\" viewBox=\"0 0 2400 1600\">\n",
       "<defs>\n",
       "  <clipPath id=\"clip120\">\n",
       "    <rect x=\"0\" y=\"0\" width=\"2400\" height=\"1600\"/>\n",
       "  </clipPath>\n",
       "</defs>\n",
       "<path clip-path=\"url(#clip120)\" d=\"\n",
       "M0 1600 L2400 1600 L2400 0 L0 0  Z\n",
       "  \" fill=\"#ffffff\" fill-rule=\"evenodd\" fill-opacity=\"1\"/>\n",
       "<defs>\n",
       "  <clipPath id=\"clip121\">\n",
       "    <rect x=\"480\" y=\"0\" width=\"1681\" height=\"1600\"/>\n",
       "  </clipPath>\n",
       "</defs>\n",
       "<path clip-path=\"url(#clip120)\" d=\"\n",
       "M199.283 1486.45 L2352.76 1486.45 L2352.76 47.2441 L199.283 47.2441  Z\n",
       "  \" fill=\"#ffffff\" fill-rule=\"evenodd\" fill-opacity=\"1\"/>\n",
       "<defs>\n",
       "  <clipPath id=\"clip122\">\n",
       "    <rect x=\"199\" y=\"47\" width=\"2154\" height=\"1440\"/>\n",
       "  </clipPath>\n",
       "</defs>\n",
       "<polyline clip-path=\"url(#clip122)\" style=\"stroke:#222255; stroke-linecap:butt; stroke-linejoin:round; stroke-width:2; stroke-opacity:0.1; fill:none\" points=\"\n",
       "  260.231,1486.45 260.231,47.2441 \n",
       "  \"/>\n",
       "<polyline clip-path=\"url(#clip122)\" style=\"stroke:#222255; stroke-linecap:butt; stroke-linejoin:round; stroke-width:2; stroke-opacity:0.1; fill:none\" points=\"\n",
       "  767.611,1486.45 767.611,47.2441 \n",
       "  \"/>\n",
       "<polyline clip-path=\"url(#clip122)\" style=\"stroke:#222255; stroke-linecap:butt; stroke-linejoin:round; stroke-width:2; stroke-opacity:0.1; fill:none\" points=\"\n",
       "  1274.99,1486.45 1274.99,47.2441 \n",
       "  \"/>\n",
       "<polyline clip-path=\"url(#clip122)\" style=\"stroke:#222255; stroke-linecap:butt; stroke-linejoin:round; stroke-width:2; stroke-opacity:0.1; fill:none\" points=\"\n",
       "  1782.37,1486.45 1782.37,47.2441 \n",
       "  \"/>\n",
       "<polyline clip-path=\"url(#clip122)\" style=\"stroke:#222255; stroke-linecap:butt; stroke-linejoin:round; stroke-width:2; stroke-opacity:0.1; fill:none\" points=\"\n",
       "  2289.75,1486.45 2289.75,47.2441 \n",
       "  \"/>\n",
       "<polyline clip-path=\"url(#clip122)\" style=\"stroke:#222255; stroke-linecap:butt; stroke-linejoin:round; stroke-width:2; stroke-opacity:0.05; fill:none\" points=\"\n",
       "  361.707,1486.45 361.707,47.2441 \n",
       "  \"/>\n",
       "<polyline clip-path=\"url(#clip122)\" style=\"stroke:#222255; stroke-linecap:butt; stroke-linejoin:round; stroke-width:2; stroke-opacity:0.05; fill:none\" points=\"\n",
       "  463.183,1486.45 463.183,47.2441 \n",
       "  \"/>\n",
       "<polyline clip-path=\"url(#clip122)\" style=\"stroke:#222255; stroke-linecap:butt; stroke-linejoin:round; stroke-width:2; stroke-opacity:0.05; fill:none\" points=\"\n",
       "  564.659,1486.45 564.659,47.2441 \n",
       "  \"/>\n",
       "<polyline clip-path=\"url(#clip122)\" style=\"stroke:#222255; stroke-linecap:butt; stroke-linejoin:round; stroke-width:2; stroke-opacity:0.05; fill:none\" points=\"\n",
       "  666.135,1486.45 666.135,47.2441 \n",
       "  \"/>\n",
       "<polyline clip-path=\"url(#clip122)\" style=\"stroke:#222255; stroke-linecap:butt; stroke-linejoin:round; stroke-width:2; stroke-opacity:0.05; fill:none\" points=\"\n",
       "  869.088,1486.45 869.088,47.2441 \n",
       "  \"/>\n",
       "<polyline clip-path=\"url(#clip122)\" style=\"stroke:#222255; stroke-linecap:butt; stroke-linejoin:round; stroke-width:2; stroke-opacity:0.05; fill:none\" points=\"\n",
       "  970.564,1486.45 970.564,47.2441 \n",
       "  \"/>\n",
       "<polyline clip-path=\"url(#clip122)\" style=\"stroke:#222255; stroke-linecap:butt; stroke-linejoin:round; stroke-width:2; stroke-opacity:0.05; fill:none\" points=\"\n",
       "  1072.04,1486.45 1072.04,47.2441 \n",
       "  \"/>\n",
       "<polyline clip-path=\"url(#clip122)\" style=\"stroke:#222255; stroke-linecap:butt; stroke-linejoin:round; stroke-width:2; stroke-opacity:0.05; fill:none\" points=\"\n",
       "  1173.52,1486.45 1173.52,47.2441 \n",
       "  \"/>\n",
       "<polyline clip-path=\"url(#clip122)\" style=\"stroke:#222255; stroke-linecap:butt; stroke-linejoin:round; stroke-width:2; stroke-opacity:0.05; fill:none\" points=\"\n",
       "  1376.47,1486.45 1376.47,47.2441 \n",
       "  \"/>\n",
       "<polyline clip-path=\"url(#clip122)\" style=\"stroke:#222255; stroke-linecap:butt; stroke-linejoin:round; stroke-width:2; stroke-opacity:0.05; fill:none\" points=\"\n",
       "  1477.94,1486.45 1477.94,47.2441 \n",
       "  \"/>\n",
       "<polyline clip-path=\"url(#clip122)\" style=\"stroke:#222255; stroke-linecap:butt; stroke-linejoin:round; stroke-width:2; stroke-opacity:0.05; fill:none\" points=\"\n",
       "  1579.42,1486.45 1579.42,47.2441 \n",
       "  \"/>\n",
       "<polyline clip-path=\"url(#clip122)\" style=\"stroke:#222255; stroke-linecap:butt; stroke-linejoin:round; stroke-width:2; stroke-opacity:0.05; fill:none\" points=\"\n",
       "  1680.9,1486.45 1680.9,47.2441 \n",
       "  \"/>\n",
       "<polyline clip-path=\"url(#clip122)\" style=\"stroke:#222255; stroke-linecap:butt; stroke-linejoin:round; stroke-width:2; stroke-opacity:0.05; fill:none\" points=\"\n",
       "  1883.85,1486.45 1883.85,47.2441 \n",
       "  \"/>\n",
       "<polyline clip-path=\"url(#clip122)\" style=\"stroke:#222255; stroke-linecap:butt; stroke-linejoin:round; stroke-width:2; stroke-opacity:0.05; fill:none\" points=\"\n",
       "  1985.33,1486.45 1985.33,47.2441 \n",
       "  \"/>\n",
       "<polyline clip-path=\"url(#clip122)\" style=\"stroke:#222255; stroke-linecap:butt; stroke-linejoin:round; stroke-width:2; stroke-opacity:0.05; fill:none\" points=\"\n",
       "  2086.8,1486.45 2086.8,47.2441 \n",
       "  \"/>\n",
       "<polyline clip-path=\"url(#clip122)\" style=\"stroke:#222255; stroke-linecap:butt; stroke-linejoin:round; stroke-width:2; stroke-opacity:0.05; fill:none\" points=\"\n",
       "  2188.28,1486.45 2188.28,47.2441 \n",
       "  \"/>\n",
       "<polyline clip-path=\"url(#clip120)\" style=\"stroke:#222255; stroke-linecap:butt; stroke-linejoin:round; stroke-width:4; stroke-opacity:0; fill:none\" points=\"\n",
       "  260.231,1486.45 260.231,1467.55 \n",
       "  \"/>\n",
       "<polyline clip-path=\"url(#clip120)\" style=\"stroke:#222255; stroke-linecap:butt; stroke-linejoin:round; stroke-width:4; stroke-opacity:0; fill:none\" points=\"\n",
       "  767.611,1486.45 767.611,1467.55 \n",
       "  \"/>\n",
       "<polyline clip-path=\"url(#clip120)\" style=\"stroke:#222255; stroke-linecap:butt; stroke-linejoin:round; stroke-width:4; stroke-opacity:0; fill:none\" points=\"\n",
       "  1274.99,1486.45 1274.99,1467.55 \n",
       "  \"/>\n",
       "<polyline clip-path=\"url(#clip120)\" style=\"stroke:#222255; stroke-linecap:butt; stroke-linejoin:round; stroke-width:4; stroke-opacity:0; fill:none\" points=\"\n",
       "  1782.37,1486.45 1782.37,1467.55 \n",
       "  \"/>\n",
       "<polyline clip-path=\"url(#clip120)\" style=\"stroke:#222255; stroke-linecap:butt; stroke-linejoin:round; stroke-width:4; stroke-opacity:0; fill:none\" points=\"\n",
       "  2289.75,1486.45 2289.75,1467.55 \n",
       "  \"/>\n",
       "<polyline clip-path=\"url(#clip120)\" style=\"stroke:#222255; stroke-linecap:butt; stroke-linejoin:round; stroke-width:4; stroke-opacity:0; fill:none\" points=\"\n",
       "  361.707,1486.45 361.707,1477 \n",
       "  \"/>\n",
       "<polyline clip-path=\"url(#clip120)\" style=\"stroke:#222255; stroke-linecap:butt; stroke-linejoin:round; stroke-width:4; stroke-opacity:0; fill:none\" points=\"\n",
       "  463.183,1486.45 463.183,1477 \n",
       "  \"/>\n",
       "<polyline clip-path=\"url(#clip120)\" style=\"stroke:#222255; stroke-linecap:butt; stroke-linejoin:round; stroke-width:4; stroke-opacity:0; fill:none\" points=\"\n",
       "  564.659,1486.45 564.659,1477 \n",
       "  \"/>\n",
       "<polyline clip-path=\"url(#clip120)\" style=\"stroke:#222255; stroke-linecap:butt; stroke-linejoin:round; stroke-width:4; stroke-opacity:0; fill:none\" points=\"\n",
       "  666.135,1486.45 666.135,1477 \n",
       "  \"/>\n",
       "<polyline clip-path=\"url(#clip120)\" style=\"stroke:#222255; stroke-linecap:butt; stroke-linejoin:round; stroke-width:4; stroke-opacity:0; fill:none\" points=\"\n",
       "  869.088,1486.45 869.088,1477 \n",
       "  \"/>\n",
       "<polyline clip-path=\"url(#clip120)\" style=\"stroke:#222255; stroke-linecap:butt; stroke-linejoin:round; stroke-width:4; stroke-opacity:0; fill:none\" points=\"\n",
       "  970.564,1486.45 970.564,1477 \n",
       "  \"/>\n",
       "<polyline clip-path=\"url(#clip120)\" style=\"stroke:#222255; stroke-linecap:butt; stroke-linejoin:round; stroke-width:4; stroke-opacity:0; fill:none\" points=\"\n",
       "  1072.04,1486.45 1072.04,1477 \n",
       "  \"/>\n",
       "<polyline clip-path=\"url(#clip120)\" style=\"stroke:#222255; stroke-linecap:butt; stroke-linejoin:round; stroke-width:4; stroke-opacity:0; fill:none\" points=\"\n",
       "  1173.52,1486.45 1173.52,1477 \n",
       "  \"/>\n",
       "<polyline clip-path=\"url(#clip120)\" style=\"stroke:#222255; stroke-linecap:butt; stroke-linejoin:round; stroke-width:4; stroke-opacity:0; fill:none\" points=\"\n",
       "  1376.47,1486.45 1376.47,1477 \n",
       "  \"/>\n",
       "<polyline clip-path=\"url(#clip120)\" style=\"stroke:#222255; stroke-linecap:butt; stroke-linejoin:round; stroke-width:4; stroke-opacity:0; fill:none\" points=\"\n",
       "  1477.94,1486.45 1477.94,1477 \n",
       "  \"/>\n",
       "<polyline clip-path=\"url(#clip120)\" style=\"stroke:#222255; stroke-linecap:butt; stroke-linejoin:round; stroke-width:4; stroke-opacity:0; fill:none\" points=\"\n",
       "  1579.42,1486.45 1579.42,1477 \n",
       "  \"/>\n",
       "<polyline clip-path=\"url(#clip120)\" style=\"stroke:#222255; stroke-linecap:butt; stroke-linejoin:round; stroke-width:4; stroke-opacity:0; fill:none\" points=\"\n",
       "  1680.9,1486.45 1680.9,1477 \n",
       "  \"/>\n",
       "<polyline clip-path=\"url(#clip120)\" style=\"stroke:#222255; stroke-linecap:butt; stroke-linejoin:round; stroke-width:4; stroke-opacity:0; fill:none\" points=\"\n",
       "  1883.85,1486.45 1883.85,1477 \n",
       "  \"/>\n",
       "<polyline clip-path=\"url(#clip120)\" style=\"stroke:#222255; stroke-linecap:butt; stroke-linejoin:round; stroke-width:4; stroke-opacity:0; fill:none\" points=\"\n",
       "  1985.33,1486.45 1985.33,1477 \n",
       "  \"/>\n",
       "<polyline clip-path=\"url(#clip120)\" style=\"stroke:#222255; stroke-linecap:butt; stroke-linejoin:round; stroke-width:4; stroke-opacity:0; fill:none\" points=\"\n",
       "  2086.8,1486.45 2086.8,1477 \n",
       "  \"/>\n",
       "<polyline clip-path=\"url(#clip120)\" style=\"stroke:#222255; stroke-linecap:butt; stroke-linejoin:round; stroke-width:4; stroke-opacity:0; fill:none\" points=\"\n",
       "  2188.28,1486.45 2188.28,1477 \n",
       "  \"/>\n",
       "<path clip-path=\"url(#clip120)\" d=\"M260.231 1515.64 Q256.619 1515.64 254.791 1519.2 Q252.985 1522.75 252.985 1529.87 Q252.985 1536.98 254.791 1540.55 Q256.619 1544.09 260.231 1544.09 Q263.865 1544.09 265.67 1540.55 Q267.499 1536.98 267.499 1529.87 Q267.499 1522.75 265.67 1519.2 Q263.865 1515.64 260.231 1515.64 M260.231 1511.93 Q266.041 1511.93 269.096 1516.54 Q272.175 1521.12 272.175 1529.87 Q272.175 1538.6 269.096 1543.21 Q266.041 1547.79 260.231 1547.79 Q254.42 1547.79 251.342 1543.21 Q248.286 1538.6 248.286 1529.87 Q248.286 1521.12 251.342 1516.54 Q254.42 1511.93 260.231 1511.93 Z\" fill=\"#000000\" fill-rule=\"evenodd\" fill-opacity=\"1\" /><path clip-path=\"url(#clip120)\" d=\"M742.311 1512.56 L760.667 1512.56 L760.667 1516.5 L746.593 1516.5 L746.593 1524.97 Q747.612 1524.62 748.63 1524.46 Q749.649 1524.27 750.667 1524.27 Q756.454 1524.27 759.834 1527.44 Q763.213 1530.62 763.213 1536.03 Q763.213 1541.61 759.741 1544.71 Q756.269 1547.79 749.95 1547.79 Q747.774 1547.79 745.505 1547.42 Q743.26 1547.05 740.852 1546.31 L740.852 1541.61 Q742.936 1542.74 745.158 1543.3 Q747.38 1543.86 749.857 1543.86 Q753.862 1543.86 756.2 1541.75 Q758.537 1539.64 758.537 1536.03 Q758.537 1532.42 756.2 1530.31 Q753.862 1528.21 749.857 1528.21 Q747.982 1528.21 746.107 1528.62 Q744.255 1529.04 742.311 1529.92 L742.311 1512.56 Z\" fill=\"#000000\" fill-rule=\"evenodd\" fill-opacity=\"1\" /><path clip-path=\"url(#clip120)\" d=\"M782.426 1515.64 Q778.815 1515.64 776.986 1519.2 Q775.181 1522.75 775.181 1529.87 Q775.181 1536.98 776.986 1540.55 Q778.815 1544.09 782.426 1544.09 Q786.06 1544.09 787.866 1540.55 Q789.695 1536.98 789.695 1529.87 Q789.695 1522.75 787.866 1519.2 Q786.06 1515.64 782.426 1515.64 M782.426 1511.93 Q788.236 1511.93 791.292 1516.54 Q794.371 1521.12 794.371 1529.87 Q794.371 1538.6 791.292 1543.21 Q788.236 1547.79 782.426 1547.79 Q776.616 1547.79 773.537 1543.21 Q770.482 1538.6 770.482 1529.87 Q770.482 1521.12 773.537 1516.54 Q776.616 1511.93 782.426 1511.93 Z\" fill=\"#000000\" fill-rule=\"evenodd\" fill-opacity=\"1\" /><path clip-path=\"url(#clip120)\" d=\"M1234.6 1543.18 L1242.24 1543.18 L1242.24 1516.82 L1233.93 1518.49 L1233.93 1514.23 L1242.19 1512.56 L1246.87 1512.56 L1246.87 1543.18 L1254.51 1543.18 L1254.51 1547.12 L1234.6 1547.12 L1234.6 1543.18 Z\" fill=\"#000000\" fill-rule=\"evenodd\" fill-opacity=\"1\" /><path clip-path=\"url(#clip120)\" d=\"M1273.95 1515.64 Q1270.34 1515.64 1268.51 1519.2 Q1266.71 1522.75 1266.71 1529.87 Q1266.71 1536.98 1268.51 1540.55 Q1270.34 1544.09 1273.95 1544.09 Q1277.59 1544.09 1279.39 1540.55 Q1281.22 1536.98 1281.22 1529.87 Q1281.22 1522.75 1279.39 1519.2 Q1277.59 1515.64 1273.95 1515.64 M1273.95 1511.93 Q1279.76 1511.93 1282.82 1516.54 Q1285.9 1521.12 1285.9 1529.87 Q1285.9 1538.6 1282.82 1543.21 Q1279.76 1547.79 1273.95 1547.79 Q1268.14 1547.79 1265.06 1543.21 Q1262.01 1538.6 1262.01 1529.87 Q1262.01 1521.12 1265.06 1516.54 Q1268.14 1511.93 1273.95 1511.93 Z\" fill=\"#000000\" fill-rule=\"evenodd\" fill-opacity=\"1\" /><path clip-path=\"url(#clip120)\" d=\"M1304.11 1515.64 Q1300.5 1515.64 1298.67 1519.2 Q1296.87 1522.75 1296.87 1529.87 Q1296.87 1536.98 1298.67 1540.55 Q1300.5 1544.09 1304.11 1544.09 Q1307.75 1544.09 1309.55 1540.55 Q1311.38 1536.98 1311.38 1529.87 Q1311.38 1522.75 1309.55 1519.2 Q1307.75 1515.64 1304.11 1515.64 M1304.11 1511.93 Q1309.92 1511.93 1312.98 1516.54 Q1316.06 1521.12 1316.06 1529.87 Q1316.06 1538.6 1312.98 1543.21 Q1309.92 1547.79 1304.11 1547.79 Q1298.3 1547.79 1295.22 1543.21 Q1292.17 1538.6 1292.17 1529.87 Q1292.17 1521.12 1295.22 1516.54 Q1298.3 1511.93 1304.11 1511.93 Z\" fill=\"#000000\" fill-rule=\"evenodd\" fill-opacity=\"1\" /><path clip-path=\"url(#clip120)\" d=\"M1741.98 1543.18 L1749.62 1543.18 L1749.62 1516.82 L1741.31 1518.49 L1741.31 1514.23 L1749.57 1512.56 L1754.25 1512.56 L1754.25 1543.18 L1761.89 1543.18 L1761.89 1547.12 L1741.98 1547.12 L1741.98 1543.18 Z\" fill=\"#000000\" fill-rule=\"evenodd\" fill-opacity=\"1\" /><path clip-path=\"url(#clip120)\" d=\"M1771.38 1512.56 L1789.73 1512.56 L1789.73 1516.5 L1775.66 1516.5 L1775.66 1524.97 Q1776.68 1524.62 1777.7 1524.46 Q1778.72 1524.27 1779.73 1524.27 Q1785.52 1524.27 1788.9 1527.44 Q1792.28 1530.62 1792.28 1536.03 Q1792.28 1541.61 1788.81 1544.71 Q1785.34 1547.79 1779.02 1547.79 Q1776.84 1547.79 1774.57 1547.42 Q1772.33 1547.05 1769.92 1546.31 L1769.92 1541.61 Q1772 1542.74 1774.23 1543.3 Q1776.45 1543.86 1778.92 1543.86 Q1782.93 1543.86 1785.27 1541.75 Q1787.6 1539.64 1787.6 1536.03 Q1787.6 1532.42 1785.27 1530.31 Q1782.93 1528.21 1778.92 1528.21 Q1777.05 1528.21 1775.17 1528.62 Q1773.32 1529.04 1771.38 1529.92 L1771.38 1512.56 Z\" fill=\"#000000\" fill-rule=\"evenodd\" fill-opacity=\"1\" /><path clip-path=\"url(#clip120)\" d=\"M1811.49 1515.64 Q1807.88 1515.64 1806.05 1519.2 Q1804.25 1522.75 1804.25 1529.87 Q1804.25 1536.98 1806.05 1540.55 Q1807.88 1544.09 1811.49 1544.09 Q1815.13 1544.09 1816.93 1540.55 Q1818.76 1536.98 1818.76 1529.87 Q1818.76 1522.75 1816.93 1519.2 Q1815.13 1515.64 1811.49 1515.64 M1811.49 1511.93 Q1817.3 1511.93 1820.36 1516.54 Q1823.44 1521.12 1823.44 1529.87 Q1823.44 1538.6 1820.36 1543.21 Q1817.3 1547.79 1811.49 1547.79 Q1805.68 1547.79 1802.6 1543.21 Q1799.55 1538.6 1799.55 1529.87 Q1799.55 1521.12 1802.6 1516.54 Q1805.68 1511.93 1811.49 1511.93 Z\" fill=\"#000000\" fill-rule=\"evenodd\" fill-opacity=\"1\" /><path clip-path=\"url(#clip120)\" d=\"M2253.45 1543.18 L2269.77 1543.18 L2269.77 1547.12 L2247.82 1547.12 L2247.82 1543.18 Q2250.48 1540.43 2255.07 1535.8 Q2259.67 1531.15 2260.85 1529.81 Q2263.1 1527.28 2263.98 1525.55 Q2264.88 1523.79 2264.88 1522.1 Q2264.88 1519.34 2262.94 1517.61 Q2261.02 1515.87 2257.91 1515.87 Q2255.72 1515.87 2253.26 1516.63 Q2250.83 1517.4 2248.05 1518.95 L2248.05 1514.23 Q2250.88 1513.09 2253.33 1512.51 Q2255.78 1511.93 2257.82 1511.93 Q2263.19 1511.93 2266.39 1514.62 Q2269.58 1517.31 2269.58 1521.8 Q2269.58 1523.93 2268.77 1525.85 Q2267.98 1527.74 2265.88 1530.34 Q2265.3 1531.01 2262.2 1534.23 Q2259.09 1537.42 2253.45 1543.18 Z\" fill=\"#000000\" fill-rule=\"evenodd\" fill-opacity=\"1\" /><path clip-path=\"url(#clip120)\" d=\"M2289.58 1515.64 Q2285.97 1515.64 2284.14 1519.2 Q2282.34 1522.75 2282.34 1529.87 Q2282.34 1536.98 2284.14 1540.55 Q2285.97 1544.09 2289.58 1544.09 Q2293.21 1544.09 2295.02 1540.55 Q2296.85 1536.98 2296.85 1529.87 Q2296.85 1522.75 2295.02 1519.2 Q2293.21 1515.64 2289.58 1515.64 M2289.58 1511.93 Q2295.39 1511.93 2298.45 1516.54 Q2301.53 1521.12 2301.53 1529.87 Q2301.53 1538.6 2298.45 1543.21 Q2295.39 1547.79 2289.58 1547.79 Q2283.77 1547.79 2280.69 1543.21 Q2277.64 1538.6 2277.64 1529.87 Q2277.64 1521.12 2280.69 1516.54 Q2283.77 1511.93 2289.58 1511.93 Z\" fill=\"#000000\" fill-rule=\"evenodd\" fill-opacity=\"1\" /><path clip-path=\"url(#clip120)\" d=\"M2319.74 1515.64 Q2316.13 1515.64 2314.3 1519.2 Q2312.5 1522.75 2312.5 1529.87 Q2312.5 1536.98 2314.3 1540.55 Q2316.13 1544.09 2319.74 1544.09 Q2323.38 1544.09 2325.18 1540.55 Q2327.01 1536.98 2327.01 1529.87 Q2327.01 1522.75 2325.18 1519.2 Q2323.38 1515.64 2319.74 1515.64 M2319.74 1511.93 Q2325.55 1511.93 2328.61 1516.54 Q2331.69 1521.12 2331.69 1529.87 Q2331.69 1538.6 2328.61 1543.21 Q2325.55 1547.79 2319.74 1547.79 Q2313.93 1547.79 2310.85 1543.21 Q2307.8 1538.6 2307.8 1529.87 Q2307.8 1521.12 2310.85 1516.54 Q2313.93 1511.93 2319.74 1511.93 Z\" fill=\"#000000\" fill-rule=\"evenodd\" fill-opacity=\"1\" /><polyline clip-path=\"url(#clip122)\" style=\"stroke:#222255; stroke-linecap:butt; stroke-linejoin:round; stroke-width:2; stroke-opacity:0.1; fill:none\" points=\"\n",
       "  199.283,1445.72 2352.76,1445.72 \n",
       "  \"/>\n",
       "<polyline clip-path=\"url(#clip122)\" style=\"stroke:#222255; stroke-linecap:butt; stroke-linejoin:round; stroke-width:2; stroke-opacity:0.1; fill:none\" points=\"\n",
       "  199.283,1105.94 2352.76,1105.94 \n",
       "  \"/>\n",
       "<polyline clip-path=\"url(#clip122)\" style=\"stroke:#222255; stroke-linecap:butt; stroke-linejoin:round; stroke-width:2; stroke-opacity:0.1; fill:none\" points=\"\n",
       "  199.283,766.166 2352.76,766.166 \n",
       "  \"/>\n",
       "<polyline clip-path=\"url(#clip122)\" style=\"stroke:#222255; stroke-linecap:butt; stroke-linejoin:round; stroke-width:2; stroke-opacity:0.1; fill:none\" points=\"\n",
       "  199.283,426.392 2352.76,426.392 \n",
       "  \"/>\n",
       "<polyline clip-path=\"url(#clip122)\" style=\"stroke:#222255; stroke-linecap:butt; stroke-linejoin:round; stroke-width:2; stroke-opacity:0.1; fill:none\" points=\"\n",
       "  199.283,86.6172 2352.76,86.6172 \n",
       "  \"/>\n",
       "<polyline clip-path=\"url(#clip122)\" style=\"stroke:#222255; stroke-linecap:butt; stroke-linejoin:round; stroke-width:2; stroke-opacity:0.05; fill:none\" points=\"\n",
       "  199.283,1377.76 2352.76,1377.76 \n",
       "  \"/>\n",
       "<polyline clip-path=\"url(#clip122)\" style=\"stroke:#222255; stroke-linecap:butt; stroke-linejoin:round; stroke-width:2; stroke-opacity:0.05; fill:none\" points=\"\n",
       "  199.283,1309.81 2352.76,1309.81 \n",
       "  \"/>\n",
       "<polyline clip-path=\"url(#clip122)\" style=\"stroke:#222255; stroke-linecap:butt; stroke-linejoin:round; stroke-width:2; stroke-opacity:0.05; fill:none\" points=\"\n",
       "  199.283,1241.85 2352.76,1241.85 \n",
       "  \"/>\n",
       "<polyline clip-path=\"url(#clip122)\" style=\"stroke:#222255; stroke-linecap:butt; stroke-linejoin:round; stroke-width:2; stroke-opacity:0.05; fill:none\" points=\"\n",
       "  199.283,1173.9 2352.76,1173.9 \n",
       "  \"/>\n",
       "<polyline clip-path=\"url(#clip122)\" style=\"stroke:#222255; stroke-linecap:butt; stroke-linejoin:round; stroke-width:2; stroke-opacity:0.05; fill:none\" points=\"\n",
       "  199.283,1037.99 2352.76,1037.99 \n",
       "  \"/>\n",
       "<polyline clip-path=\"url(#clip122)\" style=\"stroke:#222255; stroke-linecap:butt; stroke-linejoin:round; stroke-width:2; stroke-opacity:0.05; fill:none\" points=\"\n",
       "  199.283,970.031 2352.76,970.031 \n",
       "  \"/>\n",
       "<polyline clip-path=\"url(#clip122)\" style=\"stroke:#222255; stroke-linecap:butt; stroke-linejoin:round; stroke-width:2; stroke-opacity:0.05; fill:none\" points=\"\n",
       "  199.283,902.076 2352.76,902.076 \n",
       "  \"/>\n",
       "<polyline clip-path=\"url(#clip122)\" style=\"stroke:#222255; stroke-linecap:butt; stroke-linejoin:round; stroke-width:2; stroke-opacity:0.05; fill:none\" points=\"\n",
       "  199.283,834.121 2352.76,834.121 \n",
       "  \"/>\n",
       "<polyline clip-path=\"url(#clip122)\" style=\"stroke:#222255; stroke-linecap:butt; stroke-linejoin:round; stroke-width:2; stroke-opacity:0.05; fill:none\" points=\"\n",
       "  199.283,698.212 2352.76,698.212 \n",
       "  \"/>\n",
       "<polyline clip-path=\"url(#clip122)\" style=\"stroke:#222255; stroke-linecap:butt; stroke-linejoin:round; stroke-width:2; stroke-opacity:0.05; fill:none\" points=\"\n",
       "  199.283,630.257 2352.76,630.257 \n",
       "  \"/>\n",
       "<polyline clip-path=\"url(#clip122)\" style=\"stroke:#222255; stroke-linecap:butt; stroke-linejoin:round; stroke-width:2; stroke-opacity:0.05; fill:none\" points=\"\n",
       "  199.283,562.302 2352.76,562.302 \n",
       "  \"/>\n",
       "<polyline clip-path=\"url(#clip122)\" style=\"stroke:#222255; stroke-linecap:butt; stroke-linejoin:round; stroke-width:2; stroke-opacity:0.05; fill:none\" points=\"\n",
       "  199.283,494.347 2352.76,494.347 \n",
       "  \"/>\n",
       "<polyline clip-path=\"url(#clip122)\" style=\"stroke:#222255; stroke-linecap:butt; stroke-linejoin:round; stroke-width:2; stroke-opacity:0.05; fill:none\" points=\"\n",
       "  199.283,358.437 2352.76,358.437 \n",
       "  \"/>\n",
       "<polyline clip-path=\"url(#clip122)\" style=\"stroke:#222255; stroke-linecap:butt; stroke-linejoin:round; stroke-width:2; stroke-opacity:0.05; fill:none\" points=\"\n",
       "  199.283,290.482 2352.76,290.482 \n",
       "  \"/>\n",
       "<polyline clip-path=\"url(#clip122)\" style=\"stroke:#222255; stroke-linecap:butt; stroke-linejoin:round; stroke-width:2; stroke-opacity:0.05; fill:none\" points=\"\n",
       "  199.283,222.527 2352.76,222.527 \n",
       "  \"/>\n",
       "<polyline clip-path=\"url(#clip122)\" style=\"stroke:#222255; stroke-linecap:butt; stroke-linejoin:round; stroke-width:2; stroke-opacity:0.05; fill:none\" points=\"\n",
       "  199.283,154.572 2352.76,154.572 \n",
       "  \"/>\n",
       "<polyline clip-path=\"url(#clip120)\" style=\"stroke:#222255; stroke-linecap:butt; stroke-linejoin:round; stroke-width:4; stroke-opacity:0; fill:none\" points=\"\n",
       "  199.283,1445.72 218.181,1445.72 \n",
       "  \"/>\n",
       "<polyline clip-path=\"url(#clip120)\" style=\"stroke:#222255; stroke-linecap:butt; stroke-linejoin:round; stroke-width:4; stroke-opacity:0; fill:none\" points=\"\n",
       "  199.283,1105.94 218.181,1105.94 \n",
       "  \"/>\n",
       "<polyline clip-path=\"url(#clip120)\" style=\"stroke:#222255; stroke-linecap:butt; stroke-linejoin:round; stroke-width:4; stroke-opacity:0; fill:none\" points=\"\n",
       "  199.283,766.166 218.181,766.166 \n",
       "  \"/>\n",
       "<polyline clip-path=\"url(#clip120)\" style=\"stroke:#222255; stroke-linecap:butt; stroke-linejoin:round; stroke-width:4; stroke-opacity:0; fill:none\" points=\"\n",
       "  199.283,426.392 218.181,426.392 \n",
       "  \"/>\n",
       "<polyline clip-path=\"url(#clip120)\" style=\"stroke:#222255; stroke-linecap:butt; stroke-linejoin:round; stroke-width:4; stroke-opacity:0; fill:none\" points=\"\n",
       "  199.283,86.6172 218.181,86.6172 \n",
       "  \"/>\n",
       "<polyline clip-path=\"url(#clip120)\" style=\"stroke:#222255; stroke-linecap:butt; stroke-linejoin:round; stroke-width:4; stroke-opacity:0; fill:none\" points=\"\n",
       "  199.283,1377.76 208.732,1377.76 \n",
       "  \"/>\n",
       "<polyline clip-path=\"url(#clip120)\" style=\"stroke:#222255; stroke-linecap:butt; stroke-linejoin:round; stroke-width:4; stroke-opacity:0; fill:none\" points=\"\n",
       "  199.283,1309.81 208.732,1309.81 \n",
       "  \"/>\n",
       "<polyline clip-path=\"url(#clip120)\" style=\"stroke:#222255; stroke-linecap:butt; stroke-linejoin:round; stroke-width:4; stroke-opacity:0; fill:none\" points=\"\n",
       "  199.283,1241.85 208.732,1241.85 \n",
       "  \"/>\n",
       "<polyline clip-path=\"url(#clip120)\" style=\"stroke:#222255; stroke-linecap:butt; stroke-linejoin:round; stroke-width:4; stroke-opacity:0; fill:none\" points=\"\n",
       "  199.283,1173.9 208.732,1173.9 \n",
       "  \"/>\n",
       "<polyline clip-path=\"url(#clip120)\" style=\"stroke:#222255; stroke-linecap:butt; stroke-linejoin:round; stroke-width:4; stroke-opacity:0; fill:none\" points=\"\n",
       "  199.283,1037.99 208.732,1037.99 \n",
       "  \"/>\n",
       "<polyline clip-path=\"url(#clip120)\" style=\"stroke:#222255; stroke-linecap:butt; stroke-linejoin:round; stroke-width:4; stroke-opacity:0; fill:none\" points=\"\n",
       "  199.283,970.031 208.732,970.031 \n",
       "  \"/>\n",
       "<polyline clip-path=\"url(#clip120)\" style=\"stroke:#222255; stroke-linecap:butt; stroke-linejoin:round; stroke-width:4; stroke-opacity:0; fill:none\" points=\"\n",
       "  199.283,902.076 208.732,902.076 \n",
       "  \"/>\n",
       "<polyline clip-path=\"url(#clip120)\" style=\"stroke:#222255; stroke-linecap:butt; stroke-linejoin:round; stroke-width:4; stroke-opacity:0; fill:none\" points=\"\n",
       "  199.283,834.121 208.732,834.121 \n",
       "  \"/>\n",
       "<polyline clip-path=\"url(#clip120)\" style=\"stroke:#222255; stroke-linecap:butt; stroke-linejoin:round; stroke-width:4; stroke-opacity:0; fill:none\" points=\"\n",
       "  199.283,698.212 208.732,698.212 \n",
       "  \"/>\n",
       "<polyline clip-path=\"url(#clip120)\" style=\"stroke:#222255; stroke-linecap:butt; stroke-linejoin:round; stroke-width:4; stroke-opacity:0; fill:none\" points=\"\n",
       "  199.283,630.257 208.732,630.257 \n",
       "  \"/>\n",
       "<polyline clip-path=\"url(#clip120)\" style=\"stroke:#222255; stroke-linecap:butt; stroke-linejoin:round; stroke-width:4; stroke-opacity:0; fill:none\" points=\"\n",
       "  199.283,562.302 208.732,562.302 \n",
       "  \"/>\n",
       "<polyline clip-path=\"url(#clip120)\" style=\"stroke:#222255; stroke-linecap:butt; stroke-linejoin:round; stroke-width:4; stroke-opacity:0; fill:none\" points=\"\n",
       "  199.283,494.347 208.732,494.347 \n",
       "  \"/>\n",
       "<polyline clip-path=\"url(#clip120)\" style=\"stroke:#222255; stroke-linecap:butt; stroke-linejoin:round; stroke-width:4; stroke-opacity:0; fill:none\" points=\"\n",
       "  199.283,358.437 208.732,358.437 \n",
       "  \"/>\n",
       "<polyline clip-path=\"url(#clip120)\" style=\"stroke:#222255; stroke-linecap:butt; stroke-linejoin:round; stroke-width:4; stroke-opacity:0; fill:none\" points=\"\n",
       "  199.283,290.482 208.732,290.482 \n",
       "  \"/>\n",
       "<polyline clip-path=\"url(#clip120)\" style=\"stroke:#222255; stroke-linecap:butt; stroke-linejoin:round; stroke-width:4; stroke-opacity:0; fill:none\" points=\"\n",
       "  199.283,222.527 208.732,222.527 \n",
       "  \"/>\n",
       "<polyline clip-path=\"url(#clip120)\" style=\"stroke:#222255; stroke-linecap:butt; stroke-linejoin:round; stroke-width:4; stroke-opacity:0; fill:none\" points=\"\n",
       "  199.283,154.572 208.732,154.572 \n",
       "  \"/>\n",
       "<path clip-path=\"url(#clip120)\" d=\"M151.339 1431.51 Q147.728 1431.51 145.899 1435.08 Q144.093 1438.62 144.093 1445.75 Q144.093 1452.86 145.899 1456.42 Q147.728 1459.96 151.339 1459.96 Q154.973 1459.96 156.779 1456.42 Q158.607 1452.86 158.607 1445.75 Q158.607 1438.62 156.779 1435.08 Q154.973 1431.51 151.339 1431.51 M151.339 1427.81 Q157.149 1427.81 160.205 1432.42 Q163.283 1437 163.283 1445.75 Q163.283 1454.48 160.205 1459.08 Q157.149 1463.67 151.339 1463.67 Q145.529 1463.67 142.45 1459.08 Q139.394 1454.48 139.394 1445.75 Q139.394 1437 142.45 1432.42 Q145.529 1427.81 151.339 1427.81 Z\" fill=\"#000000\" fill-rule=\"evenodd\" fill-opacity=\"1\" /><path clip-path=\"url(#clip120)\" d=\"M85.0429 1119.29 L101.362 1119.29 L101.362 1123.22 L79.4179 1123.22 L79.4179 1119.29 Q82.0799 1116.53 86.6632 1111.9 Q91.2697 1107.25 92.4502 1105.91 Q94.6956 1103.38 95.5752 1101.65 Q96.478 1099.89 96.478 1098.2 Q96.478 1095.44 94.5336 1093.71 Q92.6123 1091.97 89.5104 1091.97 Q87.3114 1091.97 84.8577 1092.74 Q82.4271 1093.5 79.6494 1095.05 L79.6494 1090.33 Q82.4734 1089.19 84.9271 1088.61 Q87.3808 1088.04 89.4178 1088.04 Q94.7882 1088.04 97.9826 1090.72 Q101.177 1093.41 101.177 1097.9 Q101.177 1100.03 100.367 1101.95 Q99.5798 1103.85 97.4734 1106.44 Q96.8947 1107.11 93.7928 1110.33 Q90.691 1113.52 85.0429 1119.29 Z\" fill=\"#000000\" fill-rule=\"evenodd\" fill-opacity=\"1\" /><path clip-path=\"url(#clip120)\" d=\"M111.223 1088.66 L129.58 1088.66 L129.58 1092.6 L115.506 1092.6 L115.506 1101.07 Q116.524 1100.72 117.543 1100.56 Q118.561 1100.37 119.58 1100.37 Q125.367 1100.37 128.746 1103.55 Q132.126 1106.72 132.126 1112.13 Q132.126 1117.71 128.654 1120.81 Q125.182 1123.89 118.862 1123.89 Q116.686 1123.89 114.418 1123.52 Q112.172 1123.15 109.765 1122.41 L109.765 1117.71 Q111.848 1118.85 114.07 1119.4 Q116.293 1119.96 118.77 1119.96 Q122.774 1119.96 125.112 1117.85 Q127.45 1115.74 127.45 1112.13 Q127.45 1108.52 125.112 1106.42 Q122.774 1104.31 118.77 1104.31 Q116.895 1104.31 115.02 1104.73 Q113.168 1105.14 111.223 1106.02 L111.223 1088.66 Z\" fill=\"#000000\" fill-rule=\"evenodd\" fill-opacity=\"1\" /><path clip-path=\"url(#clip120)\" d=\"M151.339 1091.74 Q147.728 1091.74 145.899 1095.3 Q144.093 1098.85 144.093 1105.98 Q144.093 1113.08 145.899 1116.65 Q147.728 1120.19 151.339 1120.19 Q154.973 1120.19 156.779 1116.65 Q158.607 1113.08 158.607 1105.98 Q158.607 1098.85 156.779 1095.3 Q154.973 1091.74 151.339 1091.74 M151.339 1088.04 Q157.149 1088.04 160.205 1092.64 Q163.283 1097.23 163.283 1105.98 Q163.283 1114.7 160.205 1119.31 Q157.149 1123.89 151.339 1123.89 Q145.529 1123.89 142.45 1119.31 Q139.394 1114.7 139.394 1105.98 Q139.394 1097.23 142.45 1092.64 Q145.529 1088.04 151.339 1088.04 Z\" fill=\"#000000\" fill-rule=\"evenodd\" fill-opacity=\"1\" /><path clip-path=\"url(#clip120)\" d=\"M81.0614 748.886 L99.4178 748.886 L99.4178 752.822 L85.3438 752.822 L85.3438 761.294 Q86.3623 760.947 87.3808 760.785 Q88.3993 760.599 89.4178 760.599 Q95.2049 760.599 98.5845 763.771 Q101.964 766.942 101.964 772.359 Q101.964 777.937 98.4919 781.039 Q95.0197 784.118 88.7003 784.118 Q86.5243 784.118 84.2558 783.747 Q82.0105 783.377 79.6031 782.636 L79.6031 777.937 Q81.6864 779.071 83.9086 779.627 Q86.1308 780.183 88.6077 780.183 Q92.6123 780.183 94.9502 778.076 Q97.2882 775.97 97.2882 772.359 Q97.2882 768.747 94.9502 766.641 Q92.6123 764.534 88.6077 764.534 Q86.7327 764.534 84.8577 764.951 Q83.0058 765.368 81.0614 766.247 L81.0614 748.886 Z\" fill=\"#000000\" fill-rule=\"evenodd\" fill-opacity=\"1\" /><path clip-path=\"url(#clip120)\" d=\"M121.177 751.965 Q117.566 751.965 115.737 755.53 Q113.932 759.072 113.932 766.201 Q113.932 773.308 115.737 776.872 Q117.566 780.414 121.177 780.414 Q124.811 780.414 126.617 776.872 Q128.445 773.308 128.445 766.201 Q128.445 759.072 126.617 755.53 Q124.811 751.965 121.177 751.965 M121.177 748.261 Q126.987 748.261 130.043 752.868 Q133.121 757.451 133.121 766.201 Q133.121 774.928 130.043 779.534 Q126.987 784.118 121.177 784.118 Q115.367 784.118 112.288 779.534 Q109.233 774.928 109.233 766.201 Q109.233 757.451 112.288 752.868 Q115.367 748.261 121.177 748.261 Z\" fill=\"#000000\" fill-rule=\"evenodd\" fill-opacity=\"1\" /><path clip-path=\"url(#clip120)\" d=\"M151.339 751.965 Q147.728 751.965 145.899 755.53 Q144.093 759.072 144.093 766.201 Q144.093 773.308 145.899 776.872 Q147.728 780.414 151.339 780.414 Q154.973 780.414 156.779 776.872 Q158.607 773.308 158.607 766.201 Q158.607 759.072 156.779 755.53 Q154.973 751.965 151.339 751.965 M151.339 748.261 Q157.149 748.261 160.205 752.868 Q163.283 757.451 163.283 766.201 Q163.283 774.928 160.205 779.534 Q157.149 784.118 151.339 784.118 Q145.529 784.118 142.45 779.534 Q139.394 774.928 139.394 766.201 Q139.394 757.451 142.45 752.868 Q145.529 748.261 151.339 748.261 Z\" fill=\"#000000\" fill-rule=\"evenodd\" fill-opacity=\"1\" /><path clip-path=\"url(#clip120)\" d=\"M79.8346 409.112 L102.057 409.112 L102.057 411.103 L89.5104 443.672 L84.6262 443.672 L96.4317 413.047 L79.8346 413.047 L79.8346 409.112 Z\" fill=\"#000000\" fill-rule=\"evenodd\" fill-opacity=\"1\" /><path clip-path=\"url(#clip120)\" d=\"M111.223 409.112 L129.58 409.112 L129.58 413.047 L115.506 413.047 L115.506 421.519 Q116.524 421.172 117.543 421.01 Q118.561 420.825 119.58 420.825 Q125.367 420.825 128.746 423.996 Q132.126 427.167 132.126 432.584 Q132.126 438.163 128.654 441.264 Q125.182 444.343 118.862 444.343 Q116.686 444.343 114.418 443.973 Q112.172 443.602 109.765 442.862 L109.765 438.163 Q111.848 439.297 114.07 439.852 Q116.293 440.408 118.77 440.408 Q122.774 440.408 125.112 438.301 Q127.45 436.195 127.45 432.584 Q127.45 428.973 125.112 426.866 Q122.774 424.76 118.77 424.76 Q116.895 424.76 115.02 425.177 Q113.168 425.593 111.223 426.473 L111.223 409.112 Z\" fill=\"#000000\" fill-rule=\"evenodd\" fill-opacity=\"1\" /><path clip-path=\"url(#clip120)\" d=\"M151.339 412.19 Q147.728 412.19 145.899 415.755 Q144.093 419.297 144.093 426.427 Q144.093 433.533 145.899 437.098 Q147.728 440.639 151.339 440.639 Q154.973 440.639 156.779 437.098 Q158.607 433.533 158.607 426.427 Q158.607 419.297 156.779 415.755 Q154.973 412.19 151.339 412.19 M151.339 408.487 Q157.149 408.487 160.205 413.093 Q163.283 417.677 163.283 426.427 Q163.283 435.153 160.205 439.76 Q157.149 444.343 151.339 444.343 Q145.529 444.343 142.45 439.76 Q139.394 435.153 139.394 426.427 Q139.394 417.677 142.45 413.093 Q145.529 408.487 151.339 408.487 Z\" fill=\"#000000\" fill-rule=\"evenodd\" fill-opacity=\"1\" /><path clip-path=\"url(#clip120)\" d=\"M51.6634 99.962 L59.3023 99.962 L59.3023 73.5964 L50.9921 75.2631 L50.9921 71.0038 L59.256 69.3372 L63.9319 69.3372 L63.9319 99.962 L71.5707 99.962 L71.5707 103.897 L51.6634 103.897 L51.6634 99.962 Z\" fill=\"#000000\" fill-rule=\"evenodd\" fill-opacity=\"1\" /><path clip-path=\"url(#clip120)\" d=\"M91.0151 72.4159 Q87.404 72.4159 85.5753 75.9807 Q83.7697 79.5223 83.7697 86.6519 Q83.7697 93.7583 85.5753 97.3231 Q87.404 100.865 91.0151 100.865 Q94.6493 100.865 96.4548 97.3231 Q98.2835 93.7583 98.2835 86.6519 Q98.2835 79.5223 96.4548 75.9807 Q94.6493 72.4159 91.0151 72.4159 M91.0151 68.7122 Q96.8252 68.7122 99.8808 73.3186 Q102.959 77.9019 102.959 86.6519 Q102.959 95.3787 99.8808 99.9852 Q96.8252 104.568 91.0151 104.568 Q85.2049 104.568 82.1262 99.9852 Q79.0707 95.3787 79.0707 86.6519 Q79.0707 77.9019 82.1262 73.3186 Q85.2049 68.7122 91.0151 68.7122 Z\" fill=\"#000000\" fill-rule=\"evenodd\" fill-opacity=\"1\" /><path clip-path=\"url(#clip120)\" d=\"M121.177 72.4159 Q117.566 72.4159 115.737 75.9807 Q113.932 79.5223 113.932 86.6519 Q113.932 93.7583 115.737 97.3231 Q117.566 100.865 121.177 100.865 Q124.811 100.865 126.617 97.3231 Q128.445 93.7583 128.445 86.6519 Q128.445 79.5223 126.617 75.9807 Q124.811 72.4159 121.177 72.4159 M121.177 68.7122 Q126.987 68.7122 130.043 73.3186 Q133.121 77.9019 133.121 86.6519 Q133.121 95.3787 130.043 99.9852 Q126.987 104.568 121.177 104.568 Q115.367 104.568 112.288 99.9852 Q109.233 95.3787 109.233 86.6519 Q109.233 77.9019 112.288 73.3186 Q115.367 68.7122 121.177 68.7122 Z\" fill=\"#000000\" fill-rule=\"evenodd\" fill-opacity=\"1\" /><path clip-path=\"url(#clip120)\" d=\"M151.339 72.4159 Q147.728 72.4159 145.899 75.9807 Q144.093 79.5223 144.093 86.6519 Q144.093 93.7583 145.899 97.3231 Q147.728 100.865 151.339 100.865 Q154.973 100.865 156.779 97.3231 Q158.607 93.7583 158.607 86.6519 Q158.607 79.5223 156.779 75.9807 Q154.973 72.4159 151.339 72.4159 M151.339 68.7122 Q157.149 68.7122 160.205 73.3186 Q163.283 77.9019 163.283 86.6519 Q163.283 95.3787 160.205 99.9852 Q157.149 104.568 151.339 104.568 Q145.529 104.568 142.45 99.9852 Q139.394 95.3787 139.394 86.6519 Q139.394 77.9019 142.45 73.3186 Q145.529 68.7122 151.339 68.7122 Z\" fill=\"#000000\" fill-rule=\"evenodd\" fill-opacity=\"1\" /><polyline clip-path=\"url(#clip122)\" style=\"stroke:#ee7733; stroke-linecap:butt; stroke-linejoin:round; stroke-width:4.8; stroke-opacity:1; fill:none\" points=\"\n",
       "  260.231,87.9763 489.545,89.3354 517.476,90.6945 557.762,92.0536 573.809,93.4127 581.566,94.7718 592.06,96.1309 593.3,96.1309 617.996,97.49 622.222,98.8491 \n",
       "  623.811,100.208 629.664,100.208 650.964,101.567 651.507,102.926 659.801,104.285 661.336,104.285 670.929,105.645 671.425,107.004 677.319,108.363 679.11,109.722 \n",
       "  684.736,111.081 685.926,112.44 688.61,113.799 689.302,115.158 694.967,116.517 699.07,117.876 702.801,119.236 708.327,120.595 709.583,121.954 710.597,123.313 \n",
       "  711.025,124.672 715.427,126.031 717.712,127.39 717.84,128.749 719.206,130.108 720.179,131.467 726.611,132.827 727.501,134.186 728.484,135.545 734.409,136.904 \n",
       "  737.534,138.263 738.021,139.622 738.606,140.981 739.064,142.34 742.3,143.699 752.217,145.058 753.205,146.418 758.658,147.777 758.887,149.136 760.995,150.495 \n",
       "  761.875,151.854 764.29,153.213 765.406,154.572 767.826,155.931 782.743,155.931 784.899,157.29 785.22,158.649 786.45,160.008 787.491,161.368 787.518,162.727 \n",
       "  788.88,164.086 789.656,165.445 790.214,166.804 791.035,168.163 792.903,169.522 793.131,170.881 795.05,170.881 798.621,172.24 800.573,173.599 800.91,174.959 \n",
       "  801.292,176.318 801.791,177.677 807.015,179.036 807.393,180.395 807.562,180.395 807.642,181.754 809.431,183.113 809.475,184.472 812.661,185.831 815.017,187.19 \n",
       "  822.944,188.55 825.409,189.909 825.883,191.268 827.069,192.627 828.132,193.986 829.887,193.986 831.368,195.345 831.447,196.704 832.074,198.063 832.301,199.422 \n",
       "  832.535,200.781 833.027,202.141 833.092,203.5 837.339,204.859 837.45,206.218 839.608,206.218 839.979,207.577 841.472,208.936 842.004,210.295 842.576,211.654 \n",
       "  844.105,213.013 845.597,213.013 847.25,214.372 847.618,215.732 847.714,217.091 849.838,217.091 850.524,218.45 850.933,218.45 851.167,219.809 852.339,221.168 \n",
       "  852.844,222.527 853.033,223.886 854.358,225.245 855.274,226.604 855.438,227.963 856.26,229.323 858.078,230.682 858.772,232.041 860.234,233.4 861.522,233.4 \n",
       "  862.636,234.759 863.477,236.118 863.518,237.477 863.919,238.836 864.711,240.195 865.761,241.554 865.815,242.914 866.54,244.273 866.769,245.632 867.328,246.991 \n",
       "  867.728,248.35 868.274,249.709 869.164,251.068 869.698,252.427 871.69,253.786 872.137,255.145 873.375,256.504 873.579,257.864 875.004,259.223 876.358,260.582 \n",
       "  876.582,260.582 876.756,261.941 877.759,261.941 877.939,263.3 878.584,264.659 879.93,266.018 880.373,267.377 881.035,268.736 881.195,270.095 881.392,271.455 \n",
       "  882.424,272.814 883.65,274.173 884.549,275.532 884.903,276.891 885.628,278.25 885.638,279.609 886.776,280.968 889.27,282.327 889.36,283.686 889.998,285.046 \n",
       "  891.224,286.405 891.816,287.764 893.086,289.123 893.509,290.482 893.684,291.841 894.306,293.2 894.371,294.559 895.264,294.559 895.458,295.918 898.794,297.277 \n",
       "  898.904,297.277 900.52,297.277 900.678,297.277 900.761,298.637 901.079,299.996 901.162,301.355 901.253,302.714 903.879,302.714 904.443,304.073 905.07,305.432 \n",
       "  905.242,306.791 905.321,306.791 906.477,308.15 906.799,309.509 908.624,310.868 909.201,312.228 911.726,313.587 911.783,314.946 912,316.305 912.231,317.664 \n",
       "  912.391,317.664 912.7,319.023 912.729,320.382 912.976,321.741 913.166,323.1 913.451,324.459 913.781,325.819 914.351,327.178 914.694,328.537 915.929,329.896 \n",
       "  915.978,331.255 916.452,332.614 916.644,333.973 917.349,335.332 919.059,335.332 919.495,336.691 919.819,338.05 920.736,339.41 921.212,340.769 922.242,342.128 \n",
       "  922.511,342.128 923.575,343.487 923.805,344.846 924.365,346.205 924.826,347.564 925.83,348.923 926.391,350.282 927.205,351.641 927.338,353 928.588,354.36 \n",
       "  928.826,355.719 928.961,357.078 930.013,358.437 930.527,359.796 930.532,361.155 932.336,362.514 933.993,362.514 934.939,363.873 935.831,363.873 935.845,365.232 \n",
       "  936.033,366.591 936.217,367.951 936.286,369.31 936.99,370.669 937.678,372.028 937.974,373.387 939.799,373.387 940.519,374.746 940.672,374.746 941.106,376.105 \n",
       "  941.255,377.464 942.919,378.823 944.061,380.182 944.439,381.542 944.504,382.901 945.436,384.26 946.279,385.619 946.874,386.978 947.024,388.337 947.391,389.696 \n",
       "  947.454,391.055 947.465,391.055 948.271,391.055 948.528,392.414 949.413,393.773 949.802,395.133 949.932,396.492 950.617,397.851 951.194,399.21 951.968,400.569 \n",
       "  953.316,401.928 953.405,403.287 954.643,404.646 954.755,406.005 955.809,407.364 955.948,408.724 957.329,410.083 958.381,411.442 959.231,412.801 961.124,414.16 \n",
       "  961.284,415.519 962.081,416.878 963.006,418.237 963.38,419.596 963.466,420.955 964.003,422.315 964.305,423.674 964.72,423.674 966.298,425.033 966.47,426.392 \n",
       "  967.145,427.751 967.259,429.11 967.396,429.11 967.451,430.469 967.635,430.469 968.033,431.828 968.566,433.187 968.667,434.546 970.235,435.905 971.59,437.265 \n",
       "  972.295,438.624 972.681,439.983 973.667,441.342 973.791,442.701 974.783,444.06 976.6,445.419 976.701,446.778 977.575,448.137 978.41,449.496 978.55,450.856 \n",
       "  978.904,452.215 979.075,453.574 979.135,454.933 979.454,456.292 980.024,457.651 980.199,459.01 980.469,460.369 980.703,461.728 980.822,463.087 983.29,464.447 \n",
       "  983.55,465.806 983.842,467.165 985.603,467.165 986.224,468.524 986.253,469.883 987.146,471.242 987.412,471.242 989.391,472.601 989.778,473.96 990.538,475.319 \n",
       "  991.098,476.678 991.105,478.038 991.213,479.397 991.504,480.756 991.619,480.756 993.353,482.115 994.853,483.474 994.888,484.833 995.449,484.833 995.94,486.192 \n",
       "  996.362,487.551 996.393,488.91 996.626,490.269 997.004,491.629 997.266,492.988 997.285,494.347 997.433,495.706 997.483,497.065 997.492,498.424 998.332,499.783 \n",
       "  999.18,501.142 999.355,502.501 999.39,503.86 999.647,503.86 999.806,505.22 999.825,506.579 1000.41,507.938 1001.14,509.297 1001.49,510.656 1003.23,512.015 \n",
       "  1003.32,513.374 1004.2,514.733 1004.41,516.092 1004.45,517.451 1004.79,518.811 1005.43,520.17 1006.03,521.529 1007.3,522.888 1007.74,524.247 1008.19,525.606 \n",
       "  1008.4,526.965 1008.56,528.324 1008.66,529.683 1009.66,531.042 1009.7,532.401 1010.94,533.761 1011.46,535.12 1011.59,536.479 1011.95,536.479 1012.47,537.838 \n",
       "  1013.33,539.197 1013.48,540.556 1014.24,541.915 1014.63,543.274 1015.22,544.633 1015.92,545.992 1016.36,547.352 1016.68,548.711 1016.72,550.07 1016.93,551.429 \n",
       "  1016.93,552.788 1018.08,554.147 1018.35,555.506 1018.91,556.865 1020.1,556.865 1020.87,556.865 1020.91,558.224 1021.09,559.583 1021.14,560.943 1021.26,562.302 \n",
       "  1021.56,562.302 1022.13,563.661 1022.58,565.02 1022.74,566.379 1022.82,566.379 1023.26,567.738 1024.64,569.097 1024.69,570.456 1024.76,571.815 1025.74,573.174 \n",
       "  1025.85,574.534 1026.31,575.893 1027.29,577.252 1028.71,578.611 1029.88,579.97 1030.23,581.329 1031.53,582.688 1031.58,584.047 1032.54,585.406 1032.56,586.765 \n",
       "  1032.91,588.125 1034.59,588.125 1035.1,588.125 1035.25,589.484 1036.04,590.843 1036.06,592.202 1036.33,593.561 1037.19,594.92 1037.75,596.279 1037.8,597.638 \n",
       "  1038.85,598.997 1038.9,600.356 1038.96,601.716 1039.03,601.716 1039.71,603.075 1040.01,604.434 1040.43,605.793 1041.52,607.152 1043.59,608.511 1043.97,609.87 \n",
       "  1044.32,611.229 1044.66,612.588 1044.86,613.947 1044.86,615.307 1045.06,616.666 1045.26,618.025 1045.37,619.384 1045.38,619.384 1045.46,620.743 1045.49,622.102 \n",
       "  1047.59,623.461 1048.49,623.461 1048.9,624.82 1048.9,626.179 1049.09,627.538 1050.07,628.897 1051.84,630.257 1052,631.616 1052.76,632.975 1052.88,632.975 \n",
       "  1053.89,634.334 1054.62,635.693 1055.32,637.052 1056.5,638.411 1056.77,638.411 1057.47,639.77 1057.58,641.129 1057.62,642.488 1057.74,643.848 1057.78,645.207 \n",
       "  1058.31,646.566 1058.63,647.925 1060.19,649.284 1060.54,649.284 1060.66,650.643 1061.41,650.643 1061.43,652.002 1062.16,653.361 1062.44,654.72 1062.65,656.079 \n",
       "  1063.01,656.079 1063.02,656.079 1063.38,657.439 1063.41,658.798 1063.61,660.157 1063.94,661.516 1064.88,662.875 1065.43,664.234 1065.83,665.593 1066.19,666.952 \n",
       "  1066.75,668.311 1067.57,669.67 1067.71,669.67 1069.23,671.03 1070.66,672.389 1070.75,672.389 1070.85,673.748 1070.89,673.748 1071.06,675.107 1071.21,676.466 \n",
       "  1071.35,676.466 1072.53,677.825 1073.21,679.184 1074.07,680.543 1074.28,681.902 1074.3,683.261 1074.82,684.621 1075.2,685.98 1075.66,687.339 1076.41,688.698 \n",
       "  1076.52,690.057 1076.66,691.416 1076.78,692.775 1076.92,694.134 1077.54,695.493 1077.59,696.852 1077.83,698.212 1078.09,699.571 1078.32,700.93 1078.76,702.289 \n",
       "  1079.03,703.648 1080.06,705.007 1080.51,705.007 1080.72,706.366 1081.15,706.366 1081.4,707.725 1081.87,709.084 1082.19,710.443 1082.21,711.802 1082.37,713.162 \n",
       "  1083.47,714.521 1084.13,715.88 1084.2,717.239 1084.26,718.598 1084.57,719.957 1084.97,719.957 1085.55,721.316 1085.73,722.675 1085.8,724.034 1086.03,725.393 \n",
       "  1086.41,726.753 1086.42,728.112 1086.54,729.471 1086.87,730.83 1087.13,732.189 1087.41,733.548 1087.5,733.548 1087.81,734.907 1087.84,736.266 1088.87,736.266 \n",
       "  1088.91,737.625 1089.07,738.984 1089.13,740.344 1089.25,741.703 1089.87,741.703 1090.25,741.703 1090.57,743.062 1090.99,744.421 1091.51,745.78 1092.2,747.139 \n",
       "  1094.32,748.498 1094.91,749.857 1094.95,751.216 1095.12,752.575 1095.28,753.935 1095.53,755.294 1095.61,756.653 1095.64,758.012 1095.68,759.371 1095.85,760.73 \n",
       "  1095.91,762.089 1096.46,763.448 1096.84,764.807 1096.95,766.166 1097.11,767.526 1097.56,768.885 1097.62,770.244 1098.9,770.244 1099.31,771.603 1099.42,772.962 \n",
       "  1100.42,774.321 1101.2,775.68 1101.61,777.039 1101.77,778.398 1102,779.757 1102.05,781.117 1102.38,782.476 1103.52,783.835 1104.41,783.835 1104.65,785.194 \n",
       "  1105.45,786.553 1106.1,787.912 1106.48,789.271 1107.62,790.63 1108.05,791.989 1108.17,793.348 1108.29,794.708 1108.44,796.067 1108.55,796.067 1108.6,797.426 \n",
       "  1109.2,797.426 1109.37,798.785 1109.97,800.144 1110.08,801.503 1110.11,802.862 1110.26,804.221 1110.46,805.58 1111.69,805.58 1112.93,806.939 1113.56,808.298 \n",
       "  1113.72,809.658 1114.24,809.658 1114.26,811.017 1114.7,812.376 1114.72,813.735 1115.13,815.094 1115.41,816.453 1115.55,816.453 1116.21,817.812 1116.24,817.812 \n",
       "  1116.48,819.171 1116.52,820.53 1116.7,821.889 1116.71,823.249 1116.75,824.608 1116.9,825.967 1117.01,827.326 1117.72,828.685 1117.99,828.685 1119.3,830.044 \n",
       "  1119.42,831.403 1119.53,832.762 1120.08,834.121 1120.57,835.48 1120.92,836.84 1122.4,836.84 1123,838.199 1123.13,839.558 1123.46,840.917 1123.66,842.276 \n",
       "  1124.05,843.635 1124.39,844.994 1124.83,846.353 1125.31,847.712 1126.29,849.071 1126.34,850.431 1127.24,851.79 1127.75,853.149 1127.83,854.508 1128.1,855.867 \n",
       "  1128.1,857.226 1128.44,858.585 1128.66,859.944 1128.69,861.303 1128.75,861.303 1129.04,862.662 1129.28,864.022 1129.36,865.381 1130.62,866.74 1131.02,868.099 \n",
       "  1131.38,868.099 1131.42,869.458 1131.52,870.817 1131.56,872.176 1132.15,872.176 1133.01,873.535 1133.11,874.894 1133.82,874.894 1133.93,874.894 1134.24,876.253 \n",
       "  1134.28,877.613 1134.35,878.972 1134.4,880.331 1134.5,881.69 1134.59,883.049 1135.01,883.049 1135.37,884.408 1135.95,884.408 1136.11,885.767 1136.6,887.126 \n",
       "  1136.83,888.485 1136.98,889.844 1137.14,891.203 1138.12,892.563 1138.18,893.922 1138.78,893.922 1139.07,895.281 1139.46,895.281 1139.61,896.64 1139.7,897.999 \n",
       "  1140.64,899.358 1141.02,900.717 1141.03,902.076 1143.12,903.435 1143.27,903.435 1143.59,904.794 1144.21,906.154 1145.52,907.513 1145.59,908.872 1145.78,910.231 \n",
       "  1146.05,910.231 1146.22,911.59 1146.48,911.59 1147.01,912.949 1147.12,914.308 1147.68,915.667 1150.65,915.667 1150.7,917.026 1150.88,918.385 1151.2,919.745 \n",
       "  1151.34,919.745 1151.84,921.104 1153.11,922.463 1153.31,923.822 1153.42,925.181 1154.42,925.181 1154.46,926.54 1154.59,927.899 1154.77,929.258 1155.46,929.258 \n",
       "  1155.53,930.617 1155.56,931.976 1155.57,933.336 1155.59,934.695 1155.75,936.054 1155.83,937.413 1156.01,938.772 1156.19,940.131 1156.3,940.131 1157.3,940.131 \n",
       "  1158.36,941.49 1158.52,942.849 1158.55,944.208 1159.31,945.567 1160.32,946.927 1160.39,948.286 1160.88,949.645 1160.95,951.004 1161.01,952.363 1162.1,953.722 \n",
       "  1162.2,955.081 1162.55,956.44 1162.77,957.799 1162.99,959.158 1163.02,959.158 1163.09,960.518 1163.24,961.877 1163.5,963.236 1163.57,964.595 1164.22,965.954 \n",
       "  1164.29,967.313 1164.34,968.672 1165.04,970.031 1165.82,970.031 1166.01,971.39 1166.01,972.749 1166.2,974.109 1166.38,975.468 1166.49,975.468 1166.64,976.827 \n",
       "  1167.03,978.186 1167.94,979.545 1169.07,980.904 1169.12,982.263 1169.19,982.263 1169.59,983.622 1169.7,984.981 1170.26,986.34 1170.38,987.699 1170.84,989.059 \n",
       "  1171.24,989.059 1171.31,990.418 1171.55,991.777 1171.86,991.777 1172.23,993.136 1172.28,994.495 1172.47,994.495 1173.76,995.854 1174.32,997.213 1174.58,998.572 \n",
       "  1174.98,998.572 1175.11,998.572 1175.5,999.931 1176.77,1001.29 1176.85,1002.65 1177.86,1004.01 1178.02,1005.37 1178.14,1006.73 1178.6,1008.09 1179.09,1008.09 \n",
       "  1179.73,1009.45 1180,1009.45 1181.35,1010.8 1181.8,1012.16 1182.11,1012.16 1182.27,1012.16 1182.38,1013.52 1182.4,1014.88 1183.07,1016.24 1183.25,1016.24 \n",
       "  1183.41,1016.24 1183.54,1016.24 1184.16,1017.6 1184.72,1017.6 1185.35,1018.96 1185.46,1020.32 1185.78,1021.68 1186.01,1023.04 1186.65,1024.4 1186.78,1024.4 \n",
       "  1186.85,1024.4 1189.04,1025.75 1189.28,1025.75 1190.28,1027.11 1190.5,1028.47 1190.74,1029.83 1191.03,1031.19 1191.47,1032.55 1191.82,1033.91 1191.88,1033.91 \n",
       "  1192.02,1035.27 1192.64,1036.63 1195.16,1037.99 1195.54,1039.35 1196.22,1040.7 1196.55,1040.7 1197.66,1040.7 1198.06,1040.7 1199.25,1040.7 1200,1042.06 \n",
       "  1200.33,1043.42 1200.94,1043.42 1201.2,1044.78 1202.9,1044.78 1202.91,1046.14 1203.43,1047.5 1204.2,1048.86 1204.28,1050.22 1204.66,1051.58 1205.13,1051.58 \n",
       "  1205.28,1051.58 1205.52,1052.94 1205.56,1052.94 1205.96,1054.3 1206.68,1055.65 1206.93,1057.01 1207.43,1058.37 1207.59,1059.73 1207.86,1059.73 1208.2,1061.09 \n",
       "  1208.36,1062.45 1208.67,1063.81 1209.63,1063.81 1209.86,1065.17 1210.81,1066.53 1211.98,1067.89 1212.45,1069.25 1214.46,1069.25 1214.79,1070.6 1214.9,1071.96 \n",
       "  1214.9,1073.32 1215.67,1074.68 1215.85,1076.04 1216.25,1077.4 1216.28,1078.76 1216.36,1078.76 1216.53,1080.12 1216.55,1081.48 1216.58,1082.84 1217.45,1084.2 \n",
       "  1217.52,1085.55 1217.64,1086.91 1218.67,1088.27 1219.48,1089.63 1219.73,1090.99 1219.97,1092.35 1220.88,1093.71 1221.36,1095.07 1221.37,1096.43 1221.38,1097.79 \n",
       "  1221.91,1099.15 1222.69,1099.15 1222.82,1099.15 1223.42,1100.5 1224.16,1100.5 1224.27,1101.86 1226.34,1103.22 1226.82,1103.22 1227.07,1104.58 1227.42,1105.94 \n",
       "  1227.64,1107.3 1227.84,1108.66 1227.91,1110.02 1227.98,1111.38 1228.21,1112.74 1228.97,1112.74 1230.69,1114.1 1230.98,1115.45 1231.27,1116.81 1231.48,1118.17 \n",
       "  1231.72,1119.53 1231.79,1120.89 1233.28,1122.25 1233.3,1123.61 1233.63,1124.97 1233.98,1126.33 1234.1,1127.69 1234.6,1129.05 1234.71,1129.05 1235.05,1130.4 \n",
       "  1235.51,1131.76 1235.52,1133.12 1235.61,1134.48 1235.83,1135.84 1236.1,1137.2 1236.21,1137.2 1236.52,1138.56 1236.87,1139.92 1237.01,1141.28 1237.08,1142.64 \n",
       "  1237.17,1144 1237.6,1145.35 1238.83,1145.35 1239.27,1146.71 1239.29,1148.07 1239.33,1148.07 1239.37,1149.43 1239.84,1150.79 1240.01,1152.15 1240.61,1153.51 \n",
       "  1240.81,1154.87 1241.02,1154.87 1241.32,1154.87 1241.35,1154.87 1241.41,1154.87 1241.58,1156.23 1241.86,1157.59 1243.26,1158.95 1243.49,1160.31 1244,1161.66 \n",
       "  1244.85,1163.02 1245.12,1164.38 1245.17,1165.74 1245.25,1167.1 1245.79,1167.1 1245.99,1168.46 1246.25,1169.82 1246.81,1169.82 1247.01,1169.82 1247.13,1169.82 \n",
       "  1247.2,1171.18 1247.32,1171.18 1248.34,1172.54 1248.39,1173.9 1248.77,1175.26 1249.5,1176.61 1250.13,1176.61 1250.23,1176.61 1250.61,1177.97 1251.13,1177.97 \n",
       "  1251.36,1179.33 1251.88,1180.69 1252.09,1182.05 1253.45,1183.41 1254.94,1184.77 1255.24,1186.13 1256.86,1187.49 1257.89,1188.85 1258.69,1190.21 1259.03,1190.21 \n",
       "  1259.78,1190.21 1259.95,1190.21 1260.13,1190.21 1260.33,1190.21 1260.35,1191.56 1261.01,1192.92 1261.37,1194.28 1262.75,1195.64 1263.21,1197 1263.92,1198.36 \n",
       "  1264.04,1199.72 1264.35,1201.08 1264.44,1202.44 1264.94,1203.8 1266.18,1203.8 1266.19,1203.8 1268.34,1205.16 1268.5,1206.51 1269.23,1206.51 1270.96,1206.51 \n",
       "  1270.99,1206.51 1271.42,1207.87 1271.59,1209.23 1272.22,1209.23 1272.25,1210.59 1272.53,1211.95 1273.27,1213.31 1274.35,1214.67 1274.65,1216.03 1274.84,1217.39 \n",
       "  1274.85,1217.39 1274.89,1218.75 1275.06,1220.11 1276.16,1221.46 1276.25,1221.46 1276.55,1222.82 1276.76,1224.18 1276.95,1225.54 1277.32,1225.54 1277.74,1226.9 \n",
       "  1277.8,1226.9 1278.18,1228.26 1278.6,1229.62 1279.16,1229.62 1279.49,1230.98 1279.91,1232.34 1281.36,1232.34 1281.72,1232.34 1282.44,1232.34 1282.64,1232.34 \n",
       "  1283,1233.7 1283.5,1235.06 1284.06,1236.41 1285.32,1236.41 1286.07,1236.41 1286.77,1237.77 1287.23,1239.13 1287.67,1240.49 1287.75,1240.49 1288.07,1240.49 \n",
       "  1289.32,1241.85 1290.16,1241.85 1290.24,1243.21 1290.73,1244.57 1291.33,1245.93 1291.36,1247.29 1291.59,1248.65 1291.71,1250.01 1292.09,1251.36 1292.64,1251.36 \n",
       "  1293.28,1252.72 1293.31,1254.08 1293.52,1254.08 1293.53,1255.44 1294.71,1255.44 1295.13,1256.8 1295.64,1258.16 1295.67,1258.16 1296.34,1259.52 1296.66,1260.88 \n",
       "  1296.73,1262.24 1298.01,1262.24 1298.57,1262.24 1299.66,1263.6 1299.82,1263.6 1301.15,1264.96 1301.52,1266.31 1302.34,1266.31 1302.43,1266.31 1302.62,1266.31 \n",
       "  1303.45,1267.67 1303.77,1269.03 1305.29,1269.03 1308.55,1269.03 1309.73,1270.39 1310.7,1270.39 1310.99,1270.39 1311.13,1270.39 1312.48,1270.39 1313.35,1271.75 \n",
       "  1314.05,1271.75 1314.09,1273.11 1318.87,1273.11 1319.91,1273.11 1321.02,1273.11 1321.06,1273.11 1321.17,1273.11 1321.69,1274.47 1322.14,1275.83 1322.87,1275.83 \n",
       "  1323.44,1277.19 1323.5,1277.19 1324.09,1278.55 1324.38,1279.91 1324.54,1281.26 1324.7,1281.26 1325.05,1282.62 1325.55,1282.62 1327.69,1282.62 1328.05,1283.98 \n",
       "  1328.18,1283.98 1330.21,1283.98 1330.9,1285.34 1331.66,1285.34 1331.92,1285.34 1333.71,1286.7 1334.64,1286.7 1337.11,1286.7 1339.05,1288.06 1339.23,1288.06 \n",
       "  1339.46,1289.42 1339.57,1289.42 1340.26,1290.78 1340.98,1290.78 1341.51,1290.78 1341.77,1290.78 1342.73,1290.78 1343.64,1290.78 1343.84,1290.78 1344.04,1290.78 \n",
       "  1344.07,1292.14 1344.12,1292.14 1344.4,1292.14 1345.35,1293.5 1346.11,1294.86 1347.44,1294.86 1347.62,1296.21 1347.99,1296.21 1348.57,1296.21 1349.49,1297.57 \n",
       "  1349.92,1298.93 1349.96,1298.93 1351.59,1300.29 1352.75,1301.65 1353.02,1301.65 1353.89,1303.01 1354.91,1303.01 1356.89,1303.01 1357.58,1303.01 1357.59,1304.37 \n",
       "  1357.7,1305.73 1357.81,1307.09 1358.6,1307.09 1358.67,1307.09 1359.82,1307.09 1361.89,1308.45 1361.95,1309.81 1363.66,1311.16 1364.99,1312.52 1366.07,1312.52 \n",
       "  1366.55,1312.52 1366.55,1312.52 1366.91,1312.52 1368.3,1312.52 1369.11,1312.52 1370.63,1312.52 1370.9,1313.88 1370.95,1315.24 1373.23,1316.6 1374.78,1316.6 \n",
       "  1374.82,1316.6 1375.47,1316.6 1376.16,1317.96 1376.91,1319.32 1377.92,1319.32 1378.22,1319.32 1378.53,1320.68 1379.2,1320.68 1379.68,1322.04 1380.55,1323.4 \n",
       "  1380.75,1324.76 1381.58,1324.76 1381.72,1326.12 1382.06,1326.12 1382.35,1326.12 1382.39,1327.47 1385.8,1328.83 1386.47,1328.83 1386.54,1328.83 1386.94,1328.83 \n",
       "  1387.17,1330.19 1389.03,1330.19 1390.45,1331.55 1391.01,1331.55 1392.09,1332.91 1393.74,1332.91 1395.36,1332.91 1396.6,1332.91 1397.19,1334.27 1397.32,1334.27 \n",
       "  1398.65,1335.63 1399.19,1336.99 1399.73,1336.99 1400.83,1338.35 1403.2,1339.71 1403.41,1339.71 1405.42,1339.71 1405.97,1339.71 1406.54,1339.71 1406.57,1339.71 \n",
       "  1406.92,1339.71 1407.07,1339.71 1407.38,1341.07 1407.51,1342.42 1407.77,1342.42 1408.95,1342.42 1409.04,1342.42 1409.62,1343.78 1411.44,1343.78 1411.62,1343.78 \n",
       "  1413.62,1343.78 1414.92,1343.78 1416.38,1345.14 1418.32,1345.14 1419.19,1346.5 1419.74,1347.86 1420.07,1347.86 1420.45,1349.22 1420.46,1350.58 1421.08,1350.58 \n",
       "  1423.6,1350.58 1423.98,1351.94 1424.34,1351.94 1425.17,1353.3 1428.05,1354.66 1428.1,1354.66 1428.2,1354.66 1431.2,1356.02 1433.23,1357.37 1434.03,1358.73 \n",
       "  1434.86,1358.73 1435.27,1358.73 1435.49,1360.09 1439.7,1361.45 1442.43,1361.45 1443.5,1361.45 1444.24,1361.45 1444.88,1361.45 1445.01,1361.45 1445.61,1361.45 \n",
       "  1448.29,1361.45 1448.56,1361.45 1451.21,1362.81 1452.25,1364.17 1452.44,1365.53 1452.5,1365.53 1453.64,1365.53 1454.23,1366.89 1454.41,1366.89 1455.46,1366.89 \n",
       "  1455.49,1366.89 1455.96,1368.25 1457.1,1368.25 1457.68,1368.25 1459.09,1368.25 1459.43,1369.61 1461.44,1369.61 1462.09,1369.61 1463.58,1370.97 1464.68,1370.97 \n",
       "  1465.78,1370.97 1466.44,1372.32 1467.43,1372.32 1470.11,1373.68 1470.64,1375.04 1470.92,1375.04 1472.21,1375.04 1473.88,1375.04 1474.23,1376.4 1474.29,1376.4 \n",
       "  1474.65,1376.4 1474.92,1376.4 1475.26,1377.76 1476.26,1377.76 1477.77,1377.76 1477.94,1377.76 1478.23,1379.12 1479.39,1380.48 1479.55,1381.84 1479.56,1383.2 \n",
       "  1480.3,1383.2 1481.84,1383.2 1482.37,1383.2 1483.55,1383.2 1483.99,1383.2 1485.02,1383.2 1485.36,1383.2 1486.34,1383.2 1486.4,1383.2 1487.32,1384.56 \n",
       "  1487.51,1384.56 1489.14,1384.56 1490.87,1384.56 1492.66,1384.56 1494.45,1384.56 1494.64,1384.56 1495.34,1384.56 1495.38,1385.92 1495.83,1385.92 1496.06,1387.27 \n",
       "  1496.26,1388.63 1496.32,1389.99 1496.41,1389.99 1496.5,1389.99 1497.43,1391.35 1497.98,1391.35 1499.09,1391.35 1500.4,1392.71 1500.86,1392.71 1503.31,1394.07 \n",
       "  1503.74,1395.43 1504.33,1395.43 1504.85,1396.79 1505.28,1396.79 1506.46,1396.79 1507.03,1396.79 1507.7,1398.15 1507.9,1399.51 1508.02,1400.87 1508.38,1400.87 \n",
       "  1510.6,1402.22 1511.67,1403.58 1512.44,1403.58 1513.04,1403.58 1513.65,1403.58 1513.89,1404.94 1514.57,1404.94 1514.91,1404.94 1516.79,1404.94 1518.66,1404.94 \n",
       "  1518.96,1404.94 1520.38,1404.94 1522.13,1406.3 1522.59,1406.3 1523.76,1406.3 1526.1,1406.3 1528.03,1406.3 1528.73,1407.66 1535.88,1407.66 1537.46,1407.66 \n",
       "  1538.68,1407.66 1539.68,1409.02 1542.48,1409.02 1543.01,1409.02 1544.18,1409.02 1544.71,1409.02 1545.93,1409.02 1546.59,1410.38 1549.34,1411.74 1552.26,1411.74 \n",
       "  1554.45,1413.1 1555.03,1414.46 1555.56,1414.46 1555.83,1414.46 1557.83,1414.46 1558.05,1414.46 1558.75,1414.46 1559.21,1414.46 1561.22,1414.46 1561.31,1414.46 \n",
       "  1566.58,1415.82 1566.6,1415.82 1566.64,1415.82 1568.99,1417.17 1569.38,1417.17 1571.71,1417.17 1572.1,1417.17 1574,1417.17 1576.71,1417.17 1581.7,1417.17 \n",
       "  1583.06,1417.17 1586.42,1417.17 1587.23,1417.17 1589.08,1417.17 1589.14,1417.17 1591.52,1417.17 1593.69,1417.17 1593.81,1417.17 1593.85,1417.17 1594.36,1418.53 \n",
       "  1595.87,1418.53 1597.23,1418.53 1598.2,1418.53 1601.48,1418.53 1602.74,1418.53 1603,1418.53 1606.65,1418.53 1606.94,1418.53 1609.9,1418.53 1611.4,1418.53 \n",
       "  1612.57,1418.53 1615.98,1419.89 1616.64,1419.89 1618,1419.89 1619.65,1419.89 1619.83,1419.89 1622.01,1419.89 1622.23,1421.25 1622.31,1421.25 1623.06,1421.25 \n",
       "  1626.4,1421.25 1628.69,1421.25 1628.82,1421.25 1628.86,1421.25 1629.53,1421.25 1632.63,1422.61 1632.82,1422.61 1633.27,1422.61 1634.51,1423.97 1641.4,1423.97 \n",
       "  1641.9,1423.97 1643.82,1423.97 1645.72,1423.97 1646.02,1423.97 1648.1,1423.97 1648.56,1423.97 1648.68,1425.33 1648.68,1425.33 1650.49,1425.33 1651.64,1425.33 \n",
       "  1654.79,1425.33 1655.06,1425.33 1655.62,1425.33 1658.8,1425.33 1658.97,1425.33 1659.03,1425.33 1660.66,1425.33 1661.41,1425.33 1662.79,1425.33 1663.07,1425.33 \n",
       "  1663.6,1426.69 1663.65,1426.69 1666.66,1426.69 1667.05,1426.69 1668.43,1426.69 1670.1,1428.05 1672.98,1428.05 1673.73,1428.05 1673.81,1428.05 1676.66,1428.05 \n",
       "  1679.61,1428.05 1679.88,1428.05 1680.64,1428.05 1682.9,1428.05 1683.26,1429.41 1684.17,1429.41 1684.23,1429.41 1691.35,1429.41 1691.81,1429.41 1692.11,1429.41 \n",
       "  1693.31,1429.41 1695.19,1429.41 1699.99,1429.41 1700.03,1429.41 1700.88,1429.41 1702,1429.41 1703.8,1429.41 1704.8,1429.41 1704.8,1429.41 1706.11,1429.41 \n",
       "  1711.31,1429.41 1711.31,1430.77 1714.32,1430.77 1714.39,1430.77 1716.97,1430.77 1717.27,1430.77 1720.62,1430.77 1721.08,1430.77 1721.61,1432.12 1721.95,1432.12 \n",
       "  1723.96,1433.48 1725.37,1433.48 1726.34,1433.48 1727.64,1433.48 1729.79,1433.48 1730.58,1433.48 1731.73,1433.48 1737.93,1433.48 1738.46,1433.48 1742.12,1433.48 \n",
       "  1743.33,1433.48 1744.26,1433.48 1745.51,1433.48 1749.73,1433.48 1753.94,1433.48 1754.63,1433.48 1757.78,1433.48 1757.78,1433.48 1760.74,1433.48 1760.76,1433.48 \n",
       "  1761.57,1434.84 1765.18,1436.2 1766.64,1436.2 1771.14,1436.2 1778.12,1436.2 1781.08,1436.2 1784.13,1436.2 1785.46,1436.2 1785.84,1436.2 1786.56,1436.2 \n",
       "  1787.7,1436.2 1788.39,1436.2 1789.01,1436.2 1793.53,1436.2 1794.01,1436.2 1795.49,1436.2 1804.84,1436.2 1808.09,1436.2 1809.22,1436.2 1811.93,1436.2 \n",
       "  1813.84,1436.2 1814.24,1436.2 1817.97,1436.2 1818.77,1436.2 1820.37,1436.2 1825.86,1436.2 1826.04,1436.2 1826.95,1436.2 1828.6,1436.2 1832.07,1436.2 \n",
       "  1832.74,1436.2 1836.51,1437.56 1839.53,1437.56 1839.84,1437.56 1840.15,1437.56 1844.58,1437.56 1848.63,1437.56 1852.43,1437.56 1853.88,1437.56 1854.41,1437.56 \n",
       "  1855,1437.56 1856.21,1437.56 1856.67,1437.56 1856.81,1437.56 1857.01,1437.56 1859.66,1437.56 1863.66,1437.56 1864.85,1437.56 1866.85,1437.56 1868.13,1437.56 \n",
       "  1871.64,1437.56 1875.01,1437.56 1878.73,1437.56 1878.85,1437.56 1879.43,1437.56 1880.64,1437.56 1881.9,1437.56 1882.64,1437.56 1882.97,1437.56 1884.99,1437.56 \n",
       "  1885.07,1437.56 1886.57,1437.56 1887.96,1437.56 1888.86,1437.56 1898.58,1437.56 1902.47,1437.56 1906.11,1437.56 1908.77,1437.56 1911.19,1437.56 1912.84,1437.56 \n",
       "  1927.85,1437.56 1928.35,1437.56 1932.05,1437.56 1933.45,1437.56 1933.95,1437.56 1935.28,1437.56 1938.1,1437.56 1939.12,1437.56 1940.76,1437.56 1941.66,1437.56 \n",
       "  1947.16,1437.56 1947.41,1438.92 1947.72,1440.28 1948.21,1440.28 1948.86,1440.28 1949.53,1440.28 1950.99,1440.28 1952.66,1440.28 1954.12,1440.28 1956.93,1440.28 \n",
       "  1965.49,1440.28 1967.11,1440.28 1968.56,1440.28 1974.42,1440.28 1976.25,1440.28 1978.42,1440.28 1979.13,1440.28 1979.39,1440.28 1985.71,1440.28 1987.78,1440.28 \n",
       "  1988.38,1440.28 1988.58,1440.28 1989.79,1440.28 1994.29,1440.28 1994.6,1440.28 1995.6,1440.28 1997.13,1440.28 1997.29,1440.28 2002.41,1440.28 2007.15,1440.28 \n",
       "  2007.25,1440.28 2010.99,1440.28 2012.63,1440.28 2016.29,1440.28 2018.98,1440.28 2021.98,1440.28 2022.19,1440.28 2024.03,1440.28 2025.37,1440.28 2033.49,1440.28 \n",
       "  2034.98,1440.28 2036.31,1440.28 2036.45,1441.64 2037.63,1441.64 2041.57,1441.64 2044.4,1441.64 2046.19,1441.64 2050.71,1441.64 2053.15,1441.64 2053.61,1441.64 \n",
       "  2057.08,1441.64 2057.66,1441.64 2057.99,1441.64 2058.55,1441.64 2059.45,1441.64 2060.01,1441.64 2064,1441.64 2065.12,1441.64 2069.79,1443 2070.57,1443 \n",
       "  2072.12,1443 2075.2,1443 2075.77,1443 2076.3,1443 2076.56,1443 2079.46,1443 2081.71,1443 2086.34,1443 2087.77,1443 2088.77,1443 \n",
       "  2089.02,1443 2089.07,1443 2089.9,1443 2093.95,1443 2096.87,1443 2100.36,1443 2101.25,1443 2104.12,1443 2104.21,1443 2113.75,1443 \n",
       "  2119.29,1443 2120.48,1443 2121.64,1443 2122.01,1443 2122.65,1443 2125.97,1443 2127.41,1443 2127.89,1443 2129.12,1443 2137.3,1443 \n",
       "  2139.73,1443 2139.87,1443 2140.74,1443 2159.31,1443 2160.01,1443 2161.47,1443 2162.76,1443 2166.8,1443 2166.83,1443 2181.9,1443 \n",
       "  2184.68,1443 2185.96,1443 2191.73,1443 2193.55,1443 2199.63,1443 2202.51,1444.36 2208.37,1444.36 2209.06,1444.36 2214.57,1444.36 2214.92,1444.36 \n",
       "  2216.18,1444.36 2218.13,1444.36 2219.48,1444.36 2221.78,1444.36 2221.97,1444.36 2225.51,1444.36 2231.86,1444.36 2233.95,1444.36 2235.07,1444.36 2239.35,1444.36 \n",
       "  2242,1444.36 2243.08,1444.36 2251.16,1444.36 2251.81,1444.36 2252.77,1444.36 2255.57,1444.36 2258.26,1444.36 2261.5,1444.36 2262.47,1444.36 2266.11,1444.36 \n",
       "  2269.21,1444.36 2272.69,1444.36 2273.52,1444.36 2284.94,1444.36 2286.85,1444.36 2289.34,1444.36 2291.81,1444.36 2289.75,1444.36 \n",
       "  \"/>\n",
       "<polyline clip-path=\"url(#clip122)\" style=\"stroke:#0077bb; stroke-linecap:butt; stroke-linejoin:round; stroke-width:4.8; stroke-opacity:1; fill:none\" points=\"\n",
       "  260.231,1444.36 489.545,1443 517.476,1441.64 557.762,1440.28 573.809,1438.92 581.566,1437.56 592.06,1436.2 593.3,1437.56 617.996,1436.2 622.222,1434.84 \n",
       "  623.811,1433.48 629.664,1434.84 650.964,1433.48 651.507,1432.12 659.801,1430.77 661.336,1432.12 670.929,1430.77 671.425,1429.41 677.319,1428.05 679.11,1426.69 \n",
       "  684.736,1425.33 685.926,1423.97 688.61,1422.61 689.302,1421.25 694.967,1419.89 699.07,1418.53 702.801,1417.17 708.327,1415.82 709.583,1414.46 710.597,1413.1 \n",
       "  711.025,1411.74 715.427,1410.38 717.712,1409.02 717.84,1407.66 719.206,1406.3 720.179,1404.94 726.611,1403.58 727.501,1402.22 728.484,1400.87 734.409,1399.51 \n",
       "  737.534,1398.15 738.021,1396.79 738.606,1395.43 739.064,1394.07 742.3,1392.71 752.217,1391.35 753.205,1389.99 758.658,1388.63 758.887,1387.27 760.995,1385.92 \n",
       "  761.875,1384.56 764.29,1383.2 765.406,1381.84 767.826,1380.48 782.743,1381.84 784.899,1380.48 785.22,1379.12 786.45,1377.76 787.491,1376.4 787.518,1375.04 \n",
       "  788.88,1373.68 789.656,1372.32 790.214,1370.97 791.035,1369.61 792.903,1368.25 793.131,1366.89 795.05,1368.25 798.621,1366.89 800.573,1365.53 800.91,1364.17 \n",
       "  801.292,1362.81 801.791,1361.45 807.015,1360.09 807.393,1358.73 807.562,1360.09 807.642,1358.73 809.431,1357.37 809.475,1356.02 812.661,1354.66 815.017,1353.3 \n",
       "  822.944,1351.94 825.409,1350.58 825.883,1349.22 827.069,1347.86 828.132,1346.5 829.887,1347.86 831.368,1346.5 831.447,1345.14 832.074,1343.78 832.301,1342.42 \n",
       "  832.535,1341.07 833.027,1339.71 833.092,1338.35 837.339,1336.99 837.45,1335.63 839.608,1336.99 839.979,1335.63 841.472,1334.27 842.004,1332.91 842.576,1331.55 \n",
       "  844.105,1330.19 845.597,1331.55 847.25,1330.19 847.618,1328.83 847.714,1327.47 849.838,1328.83 850.524,1327.47 850.933,1328.83 851.167,1327.47 852.339,1326.12 \n",
       "  852.844,1324.76 853.033,1323.4 854.358,1322.04 855.274,1320.68 855.438,1319.32 856.26,1317.96 858.078,1316.6 858.772,1315.24 860.234,1313.88 861.522,1315.24 \n",
       "  862.636,1313.88 863.477,1312.52 863.518,1311.16 863.919,1309.81 864.711,1308.45 865.761,1307.09 865.815,1305.73 866.54,1304.37 866.769,1303.01 867.328,1301.65 \n",
       "  867.728,1300.29 868.274,1298.93 869.164,1297.57 869.698,1296.21 871.69,1294.86 872.137,1293.5 873.375,1292.14 873.579,1290.78 875.004,1289.42 876.358,1288.06 \n",
       "  876.582,1289.42 876.756,1288.06 877.759,1289.42 877.939,1288.06 878.584,1286.7 879.93,1285.34 880.373,1283.98 881.035,1282.62 881.195,1281.26 881.392,1279.91 \n",
       "  882.424,1278.55 883.65,1277.19 884.549,1275.83 884.903,1274.47 885.628,1273.11 885.638,1271.75 886.776,1270.39 889.27,1269.03 889.36,1267.67 889.998,1266.31 \n",
       "  891.224,1264.96 891.816,1263.6 893.086,1262.24 893.509,1260.88 893.684,1259.52 894.306,1258.16 894.371,1256.8 895.264,1258.16 895.458,1256.8 898.794,1255.44 \n",
       "  898.904,1256.8 900.52,1258.16 900.678,1259.52 900.761,1258.16 901.079,1256.8 901.162,1255.44 901.253,1254.08 903.879,1255.44 904.443,1254.08 905.07,1252.72 \n",
       "  905.242,1251.36 905.321,1252.72 906.477,1251.36 906.799,1250.01 908.624,1248.65 909.201,1247.29 911.726,1245.93 911.783,1244.57 912,1243.21 912.231,1241.85 \n",
       "  912.391,1243.21 912.7,1241.85 912.729,1240.49 912.976,1239.13 913.166,1237.77 913.451,1236.41 913.781,1235.06 914.351,1233.7 914.694,1232.34 915.929,1230.98 \n",
       "  915.978,1229.62 916.452,1228.26 916.644,1226.9 917.349,1225.54 919.059,1226.9 919.495,1225.54 919.819,1224.18 920.736,1222.82 921.212,1221.46 922.242,1220.11 \n",
       "  922.511,1221.46 923.575,1220.11 923.805,1218.75 924.365,1217.39 924.826,1216.03 925.83,1214.67 926.391,1213.31 927.205,1211.95 927.338,1210.59 928.588,1209.23 \n",
       "  928.826,1207.87 928.961,1206.51 930.013,1205.16 930.527,1203.8 930.532,1202.44 932.336,1201.08 933.993,1202.44 934.939,1201.08 935.831,1202.44 935.845,1201.08 \n",
       "  936.033,1199.72 936.217,1198.36 936.286,1197 936.99,1195.64 937.678,1194.28 937.974,1192.92 939.799,1194.28 940.519,1192.92 940.672,1194.28 941.106,1192.92 \n",
       "  941.255,1191.56 942.919,1190.21 944.061,1188.85 944.439,1187.49 944.504,1186.13 945.436,1184.77 946.279,1183.41 946.874,1182.05 947.024,1180.69 947.391,1179.33 \n",
       "  947.454,1177.97 947.465,1179.33 948.271,1180.69 948.528,1179.33 949.413,1177.97 949.802,1176.61 949.932,1175.26 950.617,1173.9 951.194,1172.54 951.968,1171.18 \n",
       "  953.316,1169.82 953.405,1168.46 954.643,1167.1 954.755,1165.74 955.809,1164.38 955.948,1163.02 957.329,1161.66 958.381,1160.31 959.231,1158.95 961.124,1157.59 \n",
       "  961.284,1156.23 962.081,1154.87 963.006,1153.51 963.38,1152.15 963.466,1150.79 964.003,1149.43 964.305,1148.07 964.72,1149.43 966.298,1148.07 966.47,1146.71 \n",
       "  967.145,1145.35 967.259,1144 967.396,1145.35 967.451,1144 967.635,1145.35 968.033,1144 968.566,1142.64 968.667,1141.28 970.235,1139.92 971.59,1138.56 \n",
       "  972.295,1137.2 972.681,1135.84 973.667,1134.48 973.791,1133.12 974.783,1131.76 976.6,1130.4 976.701,1129.05 977.575,1127.69 978.41,1126.33 978.55,1124.97 \n",
       "  978.904,1123.61 979.075,1122.25 979.135,1120.89 979.454,1119.53 980.024,1118.17 980.199,1116.81 980.469,1115.45 980.703,1114.1 980.822,1112.74 983.29,1111.38 \n",
       "  983.55,1110.02 983.842,1108.66 985.603,1110.02 986.224,1108.66 986.253,1107.3 987.146,1105.94 987.412,1107.3 989.391,1105.94 989.778,1104.58 990.538,1103.22 \n",
       "  991.098,1101.86 991.105,1100.5 991.213,1099.15 991.504,1097.79 991.619,1099.15 993.353,1097.79 994.853,1096.43 994.888,1095.07 995.449,1096.43 995.94,1095.07 \n",
       "  996.362,1093.71 996.393,1092.35 996.626,1090.99 997.004,1089.63 997.266,1088.27 997.285,1086.91 997.433,1085.55 997.483,1084.2 997.492,1082.84 998.332,1081.48 \n",
       "  999.18,1080.12 999.355,1078.76 999.39,1077.4 999.647,1078.76 999.806,1077.4 999.825,1076.04 1000.41,1074.68 1001.14,1073.32 1001.49,1071.96 1003.23,1070.6 \n",
       "  1003.32,1069.25 1004.2,1067.89 1004.41,1066.53 1004.45,1065.17 1004.79,1063.81 1005.43,1062.45 1006.03,1061.09 1007.3,1059.73 1007.74,1058.37 1008.19,1057.01 \n",
       "  1008.4,1055.65 1008.56,1054.3 1008.66,1052.94 1009.66,1051.58 1009.7,1050.22 1010.94,1048.86 1011.46,1047.5 1011.59,1046.14 1011.95,1047.5 1012.47,1046.14 \n",
       "  1013.33,1044.78 1013.48,1043.42 1014.24,1042.06 1014.63,1040.7 1015.22,1039.35 1015.92,1037.99 1016.36,1036.63 1016.68,1035.27 1016.72,1033.91 1016.93,1032.55 \n",
       "  1016.93,1031.19 1018.08,1029.83 1018.35,1028.47 1018.91,1027.11 1020.1,1028.47 1020.87,1029.83 1020.91,1028.47 1021.09,1027.11 1021.14,1025.75 1021.26,1024.4 \n",
       "  1021.56,1025.75 1022.13,1024.4 1022.58,1023.04 1022.74,1021.68 1022.82,1023.04 1023.26,1021.68 1024.64,1020.32 1024.69,1018.96 1024.76,1017.6 1025.74,1016.24 \n",
       "  1025.85,1014.88 1026.31,1013.52 1027.29,1012.16 1028.71,1010.8 1029.88,1009.45 1030.23,1008.09 1031.53,1006.73 1031.58,1005.37 1032.54,1004.01 1032.56,1002.65 \n",
       "  1032.91,1001.29 1034.59,1002.65 1035.1,1004.01 1035.25,1002.65 1036.04,1001.29 1036.06,999.931 1036.33,998.572 1037.19,997.213 1037.75,995.854 1037.8,994.495 \n",
       "  1038.85,993.136 1038.9,991.777 1038.96,990.418 1039.03,991.777 1039.71,990.418 1040.01,989.059 1040.43,987.699 1041.52,986.34 1043.59,984.981 1043.97,983.622 \n",
       "  1044.32,982.263 1044.66,980.904 1044.86,979.545 1044.86,978.186 1045.06,976.827 1045.26,975.468 1045.37,974.109 1045.38,975.468 1045.46,974.109 1045.49,972.749 \n",
       "  1047.59,971.39 1048.49,972.749 1048.9,971.39 1048.9,970.031 1049.09,968.672 1050.07,967.313 1051.84,965.954 1052,964.595 1052.76,963.236 1052.88,964.595 \n",
       "  1053.89,963.236 1054.62,961.877 1055.32,960.518 1056.5,959.158 1056.77,960.518 1057.47,959.158 1057.58,957.799 1057.62,956.44 1057.74,955.081 1057.78,953.722 \n",
       "  1058.31,952.363 1058.63,951.004 1060.19,949.645 1060.54,951.004 1060.66,949.645 1061.41,951.004 1061.43,949.645 1062.16,948.286 1062.44,946.927 1062.65,945.567 \n",
       "  1063.01,946.927 1063.02,948.286 1063.38,946.927 1063.41,945.567 1063.61,944.208 1063.94,942.849 1064.88,941.49 1065.43,940.131 1065.83,938.772 1066.19,937.413 \n",
       "  1066.75,936.054 1067.57,934.695 1067.71,936.054 1069.23,934.695 1070.66,933.336 1070.75,934.695 1070.85,933.336 1070.89,934.695 1071.06,933.336 1071.21,931.976 \n",
       "  1071.35,933.336 1072.53,931.976 1073.21,930.617 1074.07,929.258 1074.28,927.899 1074.3,926.54 1074.82,925.181 1075.2,923.822 1075.66,922.463 1076.41,921.104 \n",
       "  1076.52,919.745 1076.66,918.385 1076.78,917.026 1076.92,915.667 1077.54,914.308 1077.59,912.949 1077.83,911.59 1078.09,910.231 1078.32,908.872 1078.76,907.513 \n",
       "  1079.03,906.154 1080.06,904.794 1080.51,906.154 1080.72,904.794 1081.15,906.154 1081.4,904.794 1081.87,903.435 1082.19,902.076 1082.21,900.717 1082.37,899.358 \n",
       "  1083.47,897.999 1084.13,896.64 1084.2,895.281 1084.26,893.922 1084.57,892.563 1084.97,893.922 1085.55,892.563 1085.73,891.203 1085.8,889.844 1086.03,888.485 \n",
       "  1086.41,887.126 1086.42,885.767 1086.54,884.408 1086.87,883.049 1087.13,881.69 1087.41,880.331 1087.5,881.69 1087.81,880.331 1087.84,878.972 1088.87,880.331 \n",
       "  1088.91,878.972 1089.07,877.613 1089.13,876.253 1089.25,874.894 1089.87,876.253 1090.25,877.613 1090.57,876.253 1090.99,874.894 1091.51,873.535 1092.2,872.176 \n",
       "  1094.32,870.817 1094.91,869.458 1094.95,868.099 1095.12,866.74 1095.28,865.381 1095.53,864.022 1095.61,862.662 1095.64,861.303 1095.68,859.944 1095.85,858.585 \n",
       "  1095.91,857.226 1096.46,855.867 1096.84,854.508 1096.95,853.149 1097.11,851.79 1097.56,850.431 1097.62,849.071 1098.9,850.431 1099.31,849.071 1099.42,847.712 \n",
       "  1100.42,846.353 1101.2,844.994 1101.61,843.635 1101.77,842.276 1102,840.917 1102.05,839.558 1102.38,838.199 1103.52,836.84 1104.41,838.199 1104.65,836.84 \n",
       "  1105.45,835.48 1106.1,834.121 1106.48,832.762 1107.62,831.403 1108.05,830.044 1108.17,828.685 1108.29,827.326 1108.44,825.967 1108.55,827.326 1108.6,825.967 \n",
       "  1109.2,827.326 1109.37,825.967 1109.97,824.608 1110.08,823.249 1110.11,821.889 1110.26,820.53 1110.46,819.171 1111.69,820.53 1112.93,819.171 1113.56,817.812 \n",
       "  1113.72,816.453 1114.24,817.812 1114.26,816.453 1114.7,815.094 1114.72,813.735 1115.13,812.376 1115.41,811.017 1115.55,812.376 1116.21,811.017 1116.24,812.376 \n",
       "  1116.48,811.017 1116.52,809.658 1116.7,808.298 1116.71,806.939 1116.75,805.58 1116.9,804.221 1117.01,802.862 1117.72,801.503 1117.99,802.862 1119.3,801.503 \n",
       "  1119.42,800.144 1119.53,798.785 1120.08,797.426 1120.57,796.067 1120.92,794.708 1122.4,796.067 1123,794.708 1123.13,793.348 1123.46,791.989 1123.66,790.63 \n",
       "  1124.05,789.271 1124.39,787.912 1124.83,786.553 1125.31,785.194 1126.29,783.835 1126.34,782.476 1127.24,781.117 1127.75,779.757 1127.83,778.398 1128.1,777.039 \n",
       "  1128.1,775.68 1128.44,774.321 1128.66,772.962 1128.69,771.603 1128.75,772.962 1129.04,771.603 1129.28,770.244 1129.36,768.885 1130.62,767.526 1131.02,766.166 \n",
       "  1131.38,767.526 1131.42,766.166 1131.52,764.807 1131.56,763.448 1132.15,764.807 1133.01,763.448 1133.11,762.089 1133.82,763.448 1133.93,764.807 1134.24,763.448 \n",
       "  1134.28,762.089 1134.35,760.73 1134.4,759.371 1134.5,758.012 1134.59,756.653 1135.01,758.012 1135.37,756.653 1135.95,758.012 1136.11,756.653 1136.6,755.294 \n",
       "  1136.83,753.935 1136.98,752.575 1137.14,751.216 1138.12,749.857 1138.18,748.498 1138.78,749.857 1139.07,748.498 1139.46,749.857 1139.61,748.498 1139.7,747.139 \n",
       "  1140.64,745.78 1141.02,744.421 1141.03,743.062 1143.12,741.703 1143.27,743.062 1143.59,741.703 1144.21,740.344 1145.52,738.984 1145.59,737.625 1145.78,736.266 \n",
       "  1146.05,737.625 1146.22,736.266 1146.48,737.625 1147.01,736.266 1147.12,734.907 1147.68,733.548 1150.65,734.907 1150.7,733.548 1150.88,732.189 1151.2,730.83 \n",
       "  1151.34,732.189 1151.84,730.83 1153.11,729.471 1153.31,728.112 1153.42,726.753 1154.42,728.112 1154.46,726.753 1154.59,725.393 1154.77,724.034 1155.46,725.393 \n",
       "  1155.53,724.034 1155.56,722.675 1155.57,721.316 1155.59,719.957 1155.75,718.598 1155.83,717.239 1156.01,715.88 1156.19,714.521 1156.3,715.88 1157.3,717.239 \n",
       "  1158.36,715.88 1158.52,714.521 1158.55,713.162 1159.31,711.802 1160.32,710.443 1160.39,709.084 1160.88,707.725 1160.95,706.366 1161.01,705.007 1162.1,703.648 \n",
       "  1162.2,702.289 1162.55,700.93 1162.77,699.571 1162.99,698.212 1163.02,699.571 1163.09,698.212 1163.24,696.852 1163.5,695.493 1163.57,694.134 1164.22,692.775 \n",
       "  1164.29,691.416 1164.34,690.057 1165.04,688.698 1165.82,690.057 1166.01,688.698 1166.01,687.339 1166.2,685.98 1166.38,684.621 1166.49,685.98 1166.64,684.621 \n",
       "  1167.03,683.261 1167.94,681.902 1169.07,680.543 1169.12,679.184 1169.19,680.543 1169.59,679.184 1169.7,677.825 1170.26,676.466 1170.38,675.107 1170.84,673.748 \n",
       "  1171.24,675.107 1171.31,673.748 1171.55,672.389 1171.86,673.748 1172.23,672.389 1172.28,671.03 1172.47,672.389 1173.76,671.03 1174.32,669.67 1174.58,668.311 \n",
       "  1174.98,669.67 1175.11,671.03 1175.5,669.67 1176.77,668.311 1176.85,666.952 1177.86,665.593 1178.02,664.234 1178.14,662.875 1178.6,661.516 1179.09,662.875 \n",
       "  1179.73,661.516 1180,662.875 1181.35,661.516 1181.8,660.157 1182.11,661.516 1182.27,662.875 1182.38,661.516 1182.4,660.157 1183.07,658.798 1183.25,660.157 \n",
       "  1183.41,661.516 1183.54,662.875 1184.16,661.516 1184.72,662.875 1185.35,661.516 1185.46,660.157 1185.78,658.798 1186.01,657.439 1186.65,656.079 1186.78,657.439 \n",
       "  1186.85,658.798 1189.04,657.439 1189.28,658.798 1190.28,657.439 1190.5,656.079 1190.74,654.72 1191.03,653.361 1191.47,652.002 1191.82,650.643 1191.88,652.002 \n",
       "  1192.02,650.643 1192.64,649.284 1195.16,647.925 1195.54,646.566 1196.22,645.207 1196.55,646.566 1197.66,647.925 1198.06,649.284 1199.25,650.643 1200,649.284 \n",
       "  1200.33,647.925 1200.94,649.284 1201.2,647.925 1202.9,649.284 1202.91,647.925 1203.43,646.566 1204.2,645.207 1204.28,643.848 1204.66,642.488 1205.13,643.848 \n",
       "  1205.28,645.207 1205.52,643.848 1205.56,645.207 1205.96,643.848 1206.68,642.488 1206.93,641.129 1207.43,639.77 1207.59,638.411 1207.86,639.77 1208.2,638.411 \n",
       "  1208.36,637.052 1208.67,635.693 1209.63,637.052 1209.86,635.693 1210.81,634.334 1211.98,632.975 1212.45,631.616 1214.46,632.975 1214.79,631.616 1214.9,630.257 \n",
       "  1214.9,628.897 1215.67,627.538 1215.85,626.179 1216.25,624.82 1216.28,623.461 1216.36,624.82 1216.53,623.461 1216.55,622.102 1216.58,620.743 1217.45,619.384 \n",
       "  1217.52,618.025 1217.64,616.666 1218.67,615.307 1219.48,613.947 1219.73,612.588 1219.97,611.229 1220.88,609.87 1221.36,608.511 1221.37,607.152 1221.38,605.793 \n",
       "  1221.91,604.434 1222.69,605.793 1222.82,607.152 1223.42,605.793 1224.16,607.152 1224.27,605.793 1226.34,604.434 1226.82,605.793 1227.07,604.434 1227.42,603.075 \n",
       "  1227.64,601.716 1227.84,600.356 1227.91,598.997 1227.98,597.638 1228.21,596.279 1228.97,597.638 1230.69,596.279 1230.98,594.92 1231.27,593.561 1231.48,592.202 \n",
       "  1231.72,590.843 1231.79,589.484 1233.28,588.125 1233.3,586.765 1233.63,585.406 1233.98,584.047 1234.1,582.688 1234.6,581.329 1234.71,582.688 1235.05,581.329 \n",
       "  1235.51,579.97 1235.52,578.611 1235.61,577.252 1235.83,575.893 1236.1,574.534 1236.21,575.893 1236.52,574.534 1236.87,573.174 1237.01,571.815 1237.08,570.456 \n",
       "  1237.17,569.097 1237.6,567.738 1238.83,569.097 1239.27,567.738 1239.29,566.379 1239.33,567.738 1239.37,566.379 1239.84,565.02 1240.01,563.661 1240.61,562.302 \n",
       "  1240.81,560.943 1241.02,562.302 1241.32,563.661 1241.35,565.02 1241.41,566.379 1241.58,565.02 1241.86,563.661 1243.26,562.302 1243.49,560.943 1244,559.583 \n",
       "  1244.85,558.224 1245.12,556.865 1245.17,555.506 1245.25,554.147 1245.79,555.506 1245.99,554.147 1246.25,552.788 1246.81,554.147 1247.01,555.506 1247.13,556.865 \n",
       "  1247.2,555.506 1247.32,556.865 1248.34,555.506 1248.39,554.147 1248.77,552.788 1249.5,551.429 1250.13,552.788 1250.23,554.147 1250.61,552.788 1251.13,554.147 \n",
       "  1251.36,552.788 1251.88,551.429 1252.09,550.07 1253.45,548.711 1254.94,547.352 1255.24,545.992 1256.86,544.633 1257.89,543.274 1258.69,541.915 1259.03,543.274 \n",
       "  1259.78,544.633 1259.95,545.992 1260.13,547.352 1260.33,548.711 1260.35,547.352 1261.01,545.992 1261.37,544.633 1262.75,543.274 1263.21,541.915 1263.92,540.556 \n",
       "  1264.04,539.197 1264.35,537.838 1264.44,536.479 1264.94,535.12 1266.18,536.479 1266.19,537.838 1268.34,536.479 1268.5,535.12 1269.23,536.479 1270.96,537.838 \n",
       "  1270.99,539.197 1271.42,537.838 1271.59,536.479 1272.22,537.838 1272.25,536.479 1272.53,535.12 1273.27,533.761 1274.35,532.401 1274.65,531.042 1274.84,529.683 \n",
       "  1274.85,531.042 1274.89,529.683 1275.06,528.324 1276.16,526.965 1276.25,528.324 1276.55,526.965 1276.76,525.606 1276.95,524.247 1277.32,525.606 1277.74,524.247 \n",
       "  1277.8,525.606 1278.18,524.247 1278.6,522.888 1279.16,524.247 1279.49,522.888 1279.91,521.529 1281.36,522.888 1281.72,524.247 1282.44,525.606 1282.64,526.965 \n",
       "  1283,525.606 1283.5,524.247 1284.06,522.888 1285.32,524.247 1286.07,525.606 1286.77,524.247 1287.23,522.888 1287.67,521.529 1287.75,522.888 1288.07,524.247 \n",
       "  1289.32,522.888 1290.16,524.247 1290.24,522.888 1290.73,521.529 1291.33,520.17 1291.36,518.811 1291.59,517.451 1291.71,516.092 1292.09,514.733 1292.64,516.092 \n",
       "  1293.28,514.733 1293.31,513.374 1293.52,514.733 1293.53,513.374 1294.71,514.733 1295.13,513.374 1295.64,512.015 1295.67,513.374 1296.34,512.015 1296.66,510.656 \n",
       "  1296.73,509.297 1298.01,510.656 1298.57,512.015 1299.66,510.656 1299.82,512.015 1301.15,510.656 1301.52,509.297 1302.34,510.656 1302.43,512.015 1302.62,513.374 \n",
       "  1303.45,512.015 1303.77,510.656 1305.29,512.015 1308.55,513.374 1309.73,512.015 1310.7,513.374 1310.99,514.733 1311.13,516.092 1312.48,517.451 1313.35,516.092 \n",
       "  1314.05,517.451 1314.09,516.092 1318.87,517.451 1319.91,518.811 1321.02,520.17 1321.06,521.529 1321.17,522.888 1321.69,521.529 1322.14,520.17 1322.87,521.529 \n",
       "  1323.44,520.17 1323.5,521.529 1324.09,520.17 1324.38,518.811 1324.54,517.451 1324.7,518.811 1325.05,517.451 1325.55,518.811 1327.69,520.17 1328.05,518.811 \n",
       "  1328.18,520.17 1330.21,521.529 1330.9,520.17 1331.66,521.529 1331.92,522.888 1333.71,521.529 1334.64,522.888 1337.11,524.247 1339.05,522.888 1339.23,524.247 \n",
       "  1339.46,522.888 1339.57,524.247 1340.26,522.888 1340.98,524.247 1341.51,525.606 1341.77,526.965 1342.73,528.324 1343.64,529.683 1343.84,531.042 1344.04,532.401 \n",
       "  1344.07,531.042 1344.12,532.401 1344.4,533.761 1345.35,532.401 1346.11,531.042 1347.44,532.401 1347.62,531.042 1347.99,532.401 1348.57,533.761 1349.49,532.401 \n",
       "  1349.92,531.042 1349.96,532.401 1351.59,531.042 1352.75,529.683 1353.02,531.042 1353.89,529.683 1354.91,531.042 1356.89,532.401 1357.58,533.761 1357.59,532.401 \n",
       "  1357.7,531.042 1357.81,529.683 1358.6,531.042 1358.67,532.401 1359.82,533.761 1361.89,532.401 1361.95,531.042 1363.66,529.683 1364.99,528.324 1366.07,529.683 \n",
       "  1366.55,531.042 1366.55,532.401 1366.91,533.761 1368.3,535.12 1369.11,536.479 1370.63,537.838 1370.9,536.479 1370.95,535.12 1373.23,533.761 1374.78,535.12 \n",
       "  1374.82,536.479 1375.47,537.838 1376.16,536.479 1376.91,535.12 1377.92,536.479 1378.22,537.838 1378.53,536.479 1379.2,537.838 1379.68,536.479 1380.55,535.12 \n",
       "  1380.75,533.761 1381.58,535.12 1381.72,533.761 1382.06,535.12 1382.35,536.479 1382.39,535.12 1385.8,533.761 1386.47,535.12 1386.54,536.479 1386.94,537.838 \n",
       "  1387.17,536.479 1389.03,537.838 1390.45,536.479 1391.01,537.838 1392.09,536.479 1393.74,537.838 1395.36,539.197 1396.6,540.556 1397.19,539.197 1397.32,540.556 \n",
       "  1398.65,539.197 1399.19,537.838 1399.73,539.197 1400.83,537.838 1403.2,536.479 1403.41,537.838 1405.42,539.197 1405.97,540.556 1406.54,541.915 1406.57,543.274 \n",
       "  1406.92,544.633 1407.07,545.992 1407.38,544.633 1407.51,543.274 1407.77,544.633 1408.95,545.992 1409.04,547.352 1409.62,545.992 1411.44,547.352 1411.62,548.711 \n",
       "  1413.62,550.07 1414.92,551.429 1416.38,550.07 1418.32,551.429 1419.19,550.07 1419.74,548.711 1420.07,550.07 1420.45,548.711 1420.46,547.352 1421.08,548.711 \n",
       "  1423.6,550.07 1423.98,548.711 1424.34,550.07 1425.17,548.711 1428.05,547.352 1428.1,548.711 1428.2,550.07 1431.2,548.711 1433.23,547.352 1434.03,545.992 \n",
       "  1434.86,547.352 1435.27,548.711 1435.49,547.352 1439.7,545.992 1442.43,547.352 1443.5,548.711 1444.24,550.07 1444.88,551.429 1445.01,552.788 1445.61,554.147 \n",
       "  1448.29,555.506 1448.56,556.865 1451.21,555.506 1452.25,554.147 1452.44,552.788 1452.5,554.147 1453.64,555.506 1454.23,554.147 1454.41,555.506 1455.46,556.865 \n",
       "  1455.49,558.224 1455.96,556.865 1457.1,558.224 1457.68,559.583 1459.09,560.943 1459.43,559.583 1461.44,560.943 1462.09,562.302 1463.58,560.943 1464.68,562.302 \n",
       "  1465.78,563.661 1466.44,562.302 1467.43,563.661 1470.11,562.302 1470.64,560.943 1470.92,562.302 1472.21,563.661 1473.88,565.02 1474.23,563.661 1474.29,565.02 \n",
       "  1474.65,566.379 1474.92,567.738 1475.26,566.379 1476.26,567.738 1477.77,569.097 1477.94,570.456 1478.23,569.097 1479.39,567.738 1479.55,566.379 1479.56,565.02 \n",
       "  1480.3,566.379 1481.84,567.738 1482.37,569.097 1483.55,570.456 1483.99,571.815 1485.02,573.174 1485.36,574.534 1486.34,575.893 1486.4,577.252 1487.32,575.893 \n",
       "  1487.51,577.252 1489.14,578.611 1490.87,579.97 1492.66,581.329 1494.45,582.688 1494.64,584.047 1495.34,585.406 1495.38,584.047 1495.83,585.406 1496.06,584.047 \n",
       "  1496.26,582.688 1496.32,581.329 1496.41,582.688 1496.5,584.047 1497.43,582.688 1497.98,584.047 1499.09,585.406 1500.4,584.047 1500.86,585.406 1503.31,584.047 \n",
       "  1503.74,582.688 1504.33,584.047 1504.85,582.688 1505.28,584.047 1506.46,585.406 1507.03,586.765 1507.7,585.406 1507.9,584.047 1508.02,582.688 1508.38,584.047 \n",
       "  1510.6,582.688 1511.67,581.329 1512.44,582.688 1513.04,584.047 1513.65,585.406 1513.89,584.047 1514.57,585.406 1514.91,586.765 1516.79,588.125 1518.66,589.484 \n",
       "  1518.96,590.843 1520.38,592.202 1522.13,590.843 1522.59,592.202 1523.76,593.561 1526.1,594.92 1528.03,596.279 1528.73,594.92 1535.88,596.279 1537.46,597.638 \n",
       "  1538.68,598.997 1539.68,597.638 1542.48,598.997 1543.01,600.356 1544.18,601.716 1544.71,603.075 1545.93,604.434 1546.59,603.075 1549.34,601.716 1552.26,603.075 \n",
       "  1554.45,601.716 1555.03,600.356 1555.56,601.716 1555.83,603.075 1557.83,604.434 1558.05,605.793 1558.75,607.152 1559.21,608.511 1561.22,609.87 1561.31,611.229 \n",
       "  1566.58,609.87 1566.6,611.229 1566.64,612.588 1568.99,611.229 1569.38,612.588 1571.71,613.947 1572.1,615.307 1574,616.666 1576.71,618.025 1581.7,619.384 \n",
       "  1583.06,620.743 1586.42,622.102 1587.23,623.461 1589.08,624.82 1589.14,626.179 1591.52,627.538 1593.69,628.897 1593.81,630.257 1593.85,631.616 1594.36,630.257 \n",
       "  1595.87,631.616 1597.23,632.975 1598.2,634.334 1601.48,635.693 1602.74,637.052 1603,638.411 1606.65,639.77 1606.94,641.129 1609.9,642.488 1611.4,643.848 \n",
       "  1612.57,645.207 1615.98,643.848 1616.64,645.207 1618,646.566 1619.65,647.925 1619.83,649.284 1622.01,650.643 1622.23,649.284 1622.31,650.643 1623.06,652.002 \n",
       "  1626.4,653.361 1628.69,654.72 1628.82,656.079 1628.86,657.439 1629.53,658.798 1632.63,657.439 1632.82,658.798 1633.27,660.157 1634.51,658.798 1641.4,660.157 \n",
       "  1641.9,661.516 1643.82,662.875 1645.72,664.234 1646.02,665.593 1648.1,666.952 1648.56,668.311 1648.68,666.952 1648.68,668.311 1650.49,669.67 1651.64,671.03 \n",
       "  1654.79,672.389 1655.06,673.748 1655.62,675.107 1658.8,676.466 1658.97,677.825 1659.03,679.184 1660.66,680.543 1661.41,681.902 1662.79,683.261 1663.07,684.621 \n",
       "  1663.6,683.261 1663.65,684.621 1666.66,685.98 1667.05,687.339 1668.43,688.698 1670.1,687.339 1672.98,688.698 1673.73,690.057 1673.81,691.416 1676.66,692.775 \n",
       "  1679.61,694.134 1679.88,695.493 1680.64,696.852 1682.9,698.212 1683.26,696.852 1684.17,698.212 1684.23,699.571 1691.35,700.93 1691.81,702.289 1692.11,703.648 \n",
       "  1693.31,705.007 1695.19,706.366 1699.99,707.725 1700.03,709.084 1700.88,710.443 1702,711.802 1703.8,713.162 1704.8,714.521 1704.8,715.88 1706.11,717.239 \n",
       "  1711.31,718.598 1711.31,717.239 1714.32,718.598 1714.39,719.957 1716.97,721.316 1717.27,722.675 1720.62,724.034 1721.08,725.393 1721.61,724.034 1721.95,725.393 \n",
       "  1723.96,724.034 1725.37,725.393 1726.34,726.753 1727.64,728.112 1729.79,729.471 1730.58,730.83 1731.73,732.189 1737.93,733.548 1738.46,734.907 1742.12,736.266 \n",
       "  1743.33,737.625 1744.26,738.984 1745.51,740.344 1749.73,741.703 1753.94,743.062 1754.63,744.421 1757.78,745.78 1757.78,747.139 1760.74,748.498 1760.76,749.857 \n",
       "  1761.57,748.498 1765.18,747.139 1766.64,748.498 1771.14,749.857 1778.12,751.216 1781.08,752.575 1784.13,753.935 1785.46,755.294 1785.84,756.653 1786.56,758.012 \n",
       "  1787.7,759.371 1788.39,760.73 1789.01,762.089 1793.53,763.448 1794.01,764.807 1795.49,766.166 1804.84,767.526 1808.09,768.885 1809.22,770.244 1811.93,771.603 \n",
       "  1813.84,772.962 1814.24,774.321 1817.97,775.68 1818.77,777.039 1820.37,778.398 1825.86,779.757 1826.04,781.117 1826.95,782.476 1828.6,783.835 1832.07,785.194 \n",
       "  1832.74,786.553 1836.51,785.194 1839.53,786.553 1839.84,787.912 1840.15,789.271 1844.58,790.63 1848.63,791.989 1852.43,793.348 1853.88,794.708 1854.41,796.067 \n",
       "  1855,797.426 1856.21,798.785 1856.67,800.144 1856.81,801.503 1857.01,802.862 1859.66,804.221 1863.66,805.58 1864.85,806.939 1866.85,808.298 1868.13,809.658 \n",
       "  1871.64,811.017 1875.01,812.376 1878.73,813.735 1878.85,815.094 1879.43,816.453 1880.64,817.812 1881.9,819.171 1882.64,820.53 1882.97,821.889 1884.99,823.249 \n",
       "  1885.07,824.608 1886.57,825.967 1887.96,827.326 1888.86,828.685 1898.58,830.044 1902.47,831.403 1906.11,832.762 1908.77,834.121 1911.19,835.48 1912.84,836.84 \n",
       "  1927.85,838.199 1928.35,839.558 1932.05,840.917 1933.45,842.276 1933.95,843.635 1935.28,844.994 1938.1,846.353 1939.12,847.712 1940.76,849.071 1941.66,850.431 \n",
       "  1947.16,851.79 1947.41,850.431 1947.72,849.071 1948.21,850.431 1948.86,851.79 1949.53,853.149 1950.99,854.508 1952.66,855.867 1954.12,857.226 1956.93,858.585 \n",
       "  1965.49,859.944 1967.11,861.303 1968.56,862.662 1974.42,864.022 1976.25,865.381 1978.42,866.74 1979.13,868.099 1979.39,869.458 1985.71,870.817 1987.78,872.176 \n",
       "  1988.38,873.535 1988.58,874.894 1989.79,876.253 1994.29,877.613 1994.6,878.972 1995.6,880.331 1997.13,881.69 1997.29,883.049 2002.41,884.408 2007.15,885.767 \n",
       "  2007.25,887.126 2010.99,888.485 2012.63,889.844 2016.29,891.203 2018.98,892.563 2021.98,893.922 2022.19,895.281 2024.03,896.64 2025.37,897.999 2033.49,899.358 \n",
       "  2034.98,900.717 2036.31,902.076 2036.45,900.717 2037.63,902.076 2041.57,903.435 2044.4,904.794 2046.19,906.154 2050.71,907.513 2053.15,908.872 2053.61,910.231 \n",
       "  2057.08,911.59 2057.66,912.949 2057.99,914.308 2058.55,915.667 2059.45,917.026 2060.01,918.385 2064,919.745 2065.12,921.104 2069.79,919.745 2070.57,921.104 \n",
       "  2072.12,922.463 2075.2,923.822 2075.77,925.181 2076.3,926.54 2076.56,927.899 2079.46,929.258 2081.71,930.617 2086.34,931.976 2087.77,933.336 2088.77,934.695 \n",
       "  2089.02,936.054 2089.07,937.413 2089.9,938.772 2093.95,940.131 2096.87,941.49 2100.36,942.849 2101.25,944.208 2104.12,945.567 2104.21,946.927 2113.75,948.286 \n",
       "  2119.29,949.645 2120.48,951.004 2121.64,952.363 2122.01,953.722 2122.65,955.081 2125.97,956.44 2127.41,957.799 2127.89,959.158 2129.12,960.518 2137.3,961.877 \n",
       "  2139.73,963.236 2139.87,964.595 2140.74,965.954 2159.31,967.313 2160.01,968.672 2161.47,970.031 2162.76,971.39 2166.8,972.749 2166.83,974.109 2181.9,975.468 \n",
       "  2184.68,976.827 2185.96,978.186 2191.73,979.545 2193.55,980.904 2199.63,982.263 2202.51,980.904 2208.37,982.263 2209.06,983.622 2214.57,984.981 2214.92,986.34 \n",
       "  2216.18,987.699 2218.13,989.059 2219.48,990.418 2221.78,991.777 2221.97,993.136 2225.51,994.495 2231.86,995.854 2233.95,997.213 2235.07,998.572 2239.35,999.931 \n",
       "  2242,1001.29 2243.08,1002.65 2251.16,1004.01 2251.81,1005.37 2252.77,1006.73 2255.57,1008.09 2258.26,1009.45 2261.5,1010.8 2262.47,1012.16 2266.11,1013.52 \n",
       "  2269.21,1014.88 2272.69,1016.24 2273.52,1017.6 2284.94,1018.96 2286.85,1020.32 2289.34,1021.68 2291.81,1023.04 2289.75,1023.04 \n",
       "  \"/>\n",
       "<polyline clip-path=\"url(#clip122)\" style=\"stroke:#33bbee; stroke-linecap:butt; stroke-linejoin:round; stroke-width:4.8; stroke-opacity:1; fill:none\" points=\"\n",
       "  260.231,1445.72 489.545,1445.72 517.476,1445.72 557.762,1445.72 573.809,1445.72 581.566,1445.72 592.06,1445.72 593.3,1444.36 617.996,1444.36 622.222,1444.36 \n",
       "  623.811,1444.36 629.664,1443 650.964,1443 651.507,1443 659.801,1443 661.336,1441.64 670.929,1441.64 671.425,1441.64 677.319,1441.64 679.11,1441.64 \n",
       "  684.736,1441.64 685.926,1441.64 688.61,1441.64 689.302,1441.64 694.967,1441.64 699.07,1441.64 702.801,1441.64 708.327,1441.64 709.583,1441.64 710.597,1441.64 \n",
       "  711.025,1441.64 715.427,1441.64 717.712,1441.64 717.84,1441.64 719.206,1441.64 720.179,1441.64 726.611,1441.64 727.501,1441.64 728.484,1441.64 734.409,1441.64 \n",
       "  737.534,1441.64 738.021,1441.64 738.606,1441.64 739.064,1441.64 742.3,1441.64 752.217,1441.64 753.205,1441.64 758.658,1441.64 758.887,1441.64 760.995,1441.64 \n",
       "  761.875,1441.64 764.29,1441.64 765.406,1441.64 767.826,1441.64 782.743,1440.28 784.899,1440.28 785.22,1440.28 786.45,1440.28 787.491,1440.28 787.518,1440.28 \n",
       "  788.88,1440.28 789.656,1440.28 790.214,1440.28 791.035,1440.28 792.903,1440.28 793.131,1440.28 795.05,1438.92 798.621,1438.92 800.573,1438.92 800.91,1438.92 \n",
       "  801.292,1438.92 801.791,1438.92 807.015,1438.92 807.393,1438.92 807.562,1437.56 807.642,1437.56 809.431,1437.56 809.475,1437.56 812.661,1437.56 815.017,1437.56 \n",
       "  822.944,1437.56 825.409,1437.56 825.883,1437.56 827.069,1437.56 828.132,1437.56 829.887,1436.2 831.368,1436.2 831.447,1436.2 832.074,1436.2 832.301,1436.2 \n",
       "  832.535,1436.2 833.027,1436.2 833.092,1436.2 837.339,1436.2 837.45,1436.2 839.608,1434.84 839.979,1434.84 841.472,1434.84 842.004,1434.84 842.576,1434.84 \n",
       "  844.105,1434.84 845.597,1433.48 847.25,1433.48 847.618,1433.48 847.714,1433.48 849.838,1432.12 850.524,1432.12 850.933,1430.77 851.167,1430.77 852.339,1430.77 \n",
       "  852.844,1430.77 853.033,1430.77 854.358,1430.77 855.274,1430.77 855.438,1430.77 856.26,1430.77 858.078,1430.77 858.772,1430.77 860.234,1430.77 861.522,1429.41 \n",
       "  862.636,1429.41 863.477,1429.41 863.518,1429.41 863.919,1429.41 864.711,1429.41 865.761,1429.41 865.815,1429.41 866.54,1429.41 866.769,1429.41 867.328,1429.41 \n",
       "  867.728,1429.41 868.274,1429.41 869.164,1429.41 869.698,1429.41 871.69,1429.41 872.137,1429.41 873.375,1429.41 873.579,1429.41 875.004,1429.41 876.358,1429.41 \n",
       "  876.582,1428.05 876.756,1428.05 877.759,1426.69 877.939,1426.69 878.584,1426.69 879.93,1426.69 880.373,1426.69 881.035,1426.69 881.195,1426.69 881.392,1426.69 \n",
       "  882.424,1426.69 883.65,1426.69 884.549,1426.69 884.903,1426.69 885.628,1426.69 885.638,1426.69 886.776,1426.69 889.27,1426.69 889.36,1426.69 889.998,1426.69 \n",
       "  891.224,1426.69 891.816,1426.69 893.086,1426.69 893.509,1426.69 893.684,1426.69 894.306,1426.69 894.371,1426.69 895.264,1425.33 895.458,1425.33 898.794,1425.33 \n",
       "  898.904,1423.97 900.52,1422.61 900.678,1421.25 900.761,1421.25 901.079,1421.25 901.162,1421.25 901.253,1421.25 903.879,1419.89 904.443,1419.89 905.07,1419.89 \n",
       "  905.242,1419.89 905.321,1418.53 906.477,1418.53 906.799,1418.53 908.624,1418.53 909.201,1418.53 911.726,1418.53 911.783,1418.53 912,1418.53 912.231,1418.53 \n",
       "  912.391,1417.17 912.7,1417.17 912.729,1417.17 912.976,1417.17 913.166,1417.17 913.451,1417.17 913.781,1417.17 914.351,1417.17 914.694,1417.17 915.929,1417.17 \n",
       "  915.978,1417.17 916.452,1417.17 916.644,1417.17 917.349,1417.17 919.059,1415.82 919.495,1415.82 919.819,1415.82 920.736,1415.82 921.212,1415.82 922.242,1415.82 \n",
       "  922.511,1414.46 923.575,1414.46 923.805,1414.46 924.365,1414.46 924.826,1414.46 925.83,1414.46 926.391,1414.46 927.205,1414.46 927.338,1414.46 928.588,1414.46 \n",
       "  928.826,1414.46 928.961,1414.46 930.013,1414.46 930.527,1414.46 930.532,1414.46 932.336,1414.46 933.993,1413.1 934.939,1413.1 935.831,1411.74 935.845,1411.74 \n",
       "  936.033,1411.74 936.217,1411.74 936.286,1411.74 936.99,1411.74 937.678,1411.74 937.974,1411.74 939.799,1410.38 940.519,1410.38 940.672,1409.02 941.106,1409.02 \n",
       "  941.255,1409.02 942.919,1409.02 944.061,1409.02 944.439,1409.02 944.504,1409.02 945.436,1409.02 946.279,1409.02 946.874,1409.02 947.024,1409.02 947.391,1409.02 \n",
       "  947.454,1409.02 947.465,1407.66 948.271,1406.3 948.528,1406.3 949.413,1406.3 949.802,1406.3 949.932,1406.3 950.617,1406.3 951.194,1406.3 951.968,1406.3 \n",
       "  953.316,1406.3 953.405,1406.3 954.643,1406.3 954.755,1406.3 955.809,1406.3 955.948,1406.3 957.329,1406.3 958.381,1406.3 959.231,1406.3 961.124,1406.3 \n",
       "  961.284,1406.3 962.081,1406.3 963.006,1406.3 963.38,1406.3 963.466,1406.3 964.003,1406.3 964.305,1406.3 964.72,1404.94 966.298,1404.94 966.47,1404.94 \n",
       "  967.145,1404.94 967.259,1404.94 967.396,1403.58 967.451,1403.58 967.635,1402.22 968.033,1402.22 968.566,1402.22 968.667,1402.22 970.235,1402.22 971.59,1402.22 \n",
       "  972.295,1402.22 972.681,1402.22 973.667,1402.22 973.791,1402.22 974.783,1402.22 976.6,1402.22 976.701,1402.22 977.575,1402.22 978.41,1402.22 978.55,1402.22 \n",
       "  978.904,1402.22 979.075,1402.22 979.135,1402.22 979.454,1402.22 980.024,1402.22 980.199,1402.22 980.469,1402.22 980.703,1402.22 980.822,1402.22 983.29,1402.22 \n",
       "  983.55,1402.22 983.842,1402.22 985.603,1400.87 986.224,1400.87 986.253,1400.87 987.146,1400.87 987.412,1399.51 989.391,1399.51 989.778,1399.51 990.538,1399.51 \n",
       "  991.098,1399.51 991.105,1399.51 991.213,1399.51 991.504,1399.51 991.619,1398.15 993.353,1398.15 994.853,1398.15 994.888,1398.15 995.449,1396.79 995.94,1396.79 \n",
       "  996.362,1396.79 996.393,1396.79 996.626,1396.79 997.004,1396.79 997.266,1396.79 997.285,1396.79 997.433,1396.79 997.483,1396.79 997.492,1396.79 998.332,1396.79 \n",
       "  999.18,1396.79 999.355,1396.79 999.39,1396.79 999.647,1395.43 999.806,1395.43 999.825,1395.43 1000.41,1395.43 1001.14,1395.43 1001.49,1395.43 1003.23,1395.43 \n",
       "  1003.32,1395.43 1004.2,1395.43 1004.41,1395.43 1004.45,1395.43 1004.79,1395.43 1005.43,1395.43 1006.03,1395.43 1007.3,1395.43 1007.74,1395.43 1008.19,1395.43 \n",
       "  1008.4,1395.43 1008.56,1395.43 1008.66,1395.43 1009.66,1395.43 1009.7,1395.43 1010.94,1395.43 1011.46,1395.43 1011.59,1395.43 1011.95,1394.07 1012.47,1394.07 \n",
       "  1013.33,1394.07 1013.48,1394.07 1014.24,1394.07 1014.63,1394.07 1015.22,1394.07 1015.92,1394.07 1016.36,1394.07 1016.68,1394.07 1016.72,1394.07 1016.93,1394.07 \n",
       "  1016.93,1394.07 1018.08,1394.07 1018.35,1394.07 1018.91,1394.07 1020.1,1392.71 1020.87,1391.35 1020.91,1391.35 1021.09,1391.35 1021.14,1391.35 1021.26,1391.35 \n",
       "  1021.56,1389.99 1022.13,1389.99 1022.58,1389.99 1022.74,1389.99 1022.82,1388.63 1023.26,1388.63 1024.64,1388.63 1024.69,1388.63 1024.76,1388.63 1025.74,1388.63 \n",
       "  1025.85,1388.63 1026.31,1388.63 1027.29,1388.63 1028.71,1388.63 1029.88,1388.63 1030.23,1388.63 1031.53,1388.63 1031.58,1388.63 1032.54,1388.63 1032.56,1388.63 \n",
       "  1032.91,1388.63 1034.59,1387.27 1035.1,1385.92 1035.25,1385.92 1036.04,1385.92 1036.06,1385.92 1036.33,1385.92 1037.19,1385.92 1037.75,1385.92 1037.8,1385.92 \n",
       "  1038.85,1385.92 1038.9,1385.92 1038.96,1385.92 1039.03,1384.56 1039.71,1384.56 1040.01,1384.56 1040.43,1384.56 1041.52,1384.56 1043.59,1384.56 1043.97,1384.56 \n",
       "  1044.32,1384.56 1044.66,1384.56 1044.86,1384.56 1044.86,1384.56 1045.06,1384.56 1045.26,1384.56 1045.37,1384.56 1045.38,1383.2 1045.46,1383.2 1045.49,1383.2 \n",
       "  1047.59,1383.2 1048.49,1381.84 1048.9,1381.84 1048.9,1381.84 1049.09,1381.84 1050.07,1381.84 1051.84,1381.84 1052,1381.84 1052.76,1381.84 1052.88,1380.48 \n",
       "  1053.89,1380.48 1054.62,1380.48 1055.32,1380.48 1056.5,1380.48 1056.77,1379.12 1057.47,1379.12 1057.58,1379.12 1057.62,1379.12 1057.74,1379.12 1057.78,1379.12 \n",
       "  1058.31,1379.12 1058.63,1379.12 1060.19,1379.12 1060.54,1377.76 1060.66,1377.76 1061.41,1376.4 1061.43,1376.4 1062.16,1376.4 1062.44,1376.4 1062.65,1376.4 \n",
       "  1063.01,1375.04 1063.02,1373.68 1063.38,1373.68 1063.41,1373.68 1063.61,1373.68 1063.94,1373.68 1064.88,1373.68 1065.43,1373.68 1065.83,1373.68 1066.19,1373.68 \n",
       "  1066.75,1373.68 1067.57,1373.68 1067.71,1372.32 1069.23,1372.32 1070.66,1372.32 1070.75,1370.97 1070.85,1370.97 1070.89,1369.61 1071.06,1369.61 1071.21,1369.61 \n",
       "  1071.35,1368.25 1072.53,1368.25 1073.21,1368.25 1074.07,1368.25 1074.28,1368.25 1074.3,1368.25 1074.82,1368.25 1075.2,1368.25 1075.66,1368.25 1076.41,1368.25 \n",
       "  1076.52,1368.25 1076.66,1368.25 1076.78,1368.25 1076.92,1368.25 1077.54,1368.25 1077.59,1368.25 1077.83,1368.25 1078.09,1368.25 1078.32,1368.25 1078.76,1368.25 \n",
       "  1079.03,1368.25 1080.06,1368.25 1080.51,1366.89 1080.72,1366.89 1081.15,1365.53 1081.4,1365.53 1081.87,1365.53 1082.19,1365.53 1082.21,1365.53 1082.37,1365.53 \n",
       "  1083.47,1365.53 1084.13,1365.53 1084.2,1365.53 1084.26,1365.53 1084.57,1365.53 1084.97,1364.17 1085.55,1364.17 1085.73,1364.17 1085.8,1364.17 1086.03,1364.17 \n",
       "  1086.41,1364.17 1086.42,1364.17 1086.54,1364.17 1086.87,1364.17 1087.13,1364.17 1087.41,1364.17 1087.5,1362.81 1087.81,1362.81 1087.84,1362.81 1088.87,1361.45 \n",
       "  1088.91,1361.45 1089.07,1361.45 1089.13,1361.45 1089.25,1361.45 1089.87,1360.09 1090.25,1358.73 1090.57,1358.73 1090.99,1358.73 1091.51,1358.73 1092.2,1358.73 \n",
       "  1094.32,1358.73 1094.91,1358.73 1094.95,1358.73 1095.12,1358.73 1095.28,1358.73 1095.53,1358.73 1095.61,1358.73 1095.64,1358.73 1095.68,1358.73 1095.85,1358.73 \n",
       "  1095.91,1358.73 1096.46,1358.73 1096.84,1358.73 1096.95,1358.73 1097.11,1358.73 1097.56,1358.73 1097.62,1358.73 1098.9,1357.37 1099.31,1357.37 1099.42,1357.37 \n",
       "  1100.42,1357.37 1101.2,1357.37 1101.61,1357.37 1101.77,1357.37 1102,1357.37 1102.05,1357.37 1102.38,1357.37 1103.52,1357.37 1104.41,1356.02 1104.65,1356.02 \n",
       "  1105.45,1356.02 1106.1,1356.02 1106.48,1356.02 1107.62,1356.02 1108.05,1356.02 1108.17,1356.02 1108.29,1356.02 1108.44,1356.02 1108.55,1354.66 1108.6,1354.66 \n",
       "  1109.2,1353.3 1109.37,1353.3 1109.97,1353.3 1110.08,1353.3 1110.11,1353.3 1110.26,1353.3 1110.46,1353.3 1111.69,1351.94 1112.93,1351.94 1113.56,1351.94 \n",
       "  1113.72,1351.94 1114.24,1350.58 1114.26,1350.58 1114.7,1350.58 1114.72,1350.58 1115.13,1350.58 1115.41,1350.58 1115.55,1349.22 1116.21,1349.22 1116.24,1347.86 \n",
       "  1116.48,1347.86 1116.52,1347.86 1116.7,1347.86 1116.71,1347.86 1116.75,1347.86 1116.9,1347.86 1117.01,1347.86 1117.72,1347.86 1117.99,1346.5 1119.3,1346.5 \n",
       "  1119.42,1346.5 1119.53,1346.5 1120.08,1346.5 1120.57,1346.5 1120.92,1346.5 1122.4,1345.14 1123,1345.14 1123.13,1345.14 1123.46,1345.14 1123.66,1345.14 \n",
       "  1124.05,1345.14 1124.39,1345.14 1124.83,1345.14 1125.31,1345.14 1126.29,1345.14 1126.34,1345.14 1127.24,1345.14 1127.75,1345.14 1127.83,1345.14 1128.1,1345.14 \n",
       "  1128.1,1345.14 1128.44,1345.14 1128.66,1345.14 1128.69,1345.14 1128.75,1343.78 1129.04,1343.78 1129.28,1343.78 1129.36,1343.78 1130.62,1343.78 1131.02,1343.78 \n",
       "  1131.38,1342.42 1131.42,1342.42 1131.52,1342.42 1131.56,1342.42 1132.15,1341.07 1133.01,1341.07 1133.11,1341.07 1133.82,1339.71 1133.93,1338.35 1134.24,1338.35 \n",
       "  1134.28,1338.35 1134.35,1338.35 1134.4,1338.35 1134.5,1338.35 1134.59,1338.35 1135.01,1336.99 1135.37,1336.99 1135.95,1335.63 1136.11,1335.63 1136.6,1335.63 \n",
       "  1136.83,1335.63 1136.98,1335.63 1137.14,1335.63 1138.12,1335.63 1138.18,1335.63 1138.78,1334.27 1139.07,1334.27 1139.46,1332.91 1139.61,1332.91 1139.7,1332.91 \n",
       "  1140.64,1332.91 1141.02,1332.91 1141.03,1332.91 1143.12,1332.91 1143.27,1331.55 1143.59,1331.55 1144.21,1331.55 1145.52,1331.55 1145.59,1331.55 1145.78,1331.55 \n",
       "  1146.05,1330.19 1146.22,1330.19 1146.48,1328.83 1147.01,1328.83 1147.12,1328.83 1147.68,1328.83 1150.65,1327.47 1150.7,1327.47 1150.88,1327.47 1151.2,1327.47 \n",
       "  1151.34,1326.12 1151.84,1326.12 1153.11,1326.12 1153.31,1326.12 1153.42,1326.12 1154.42,1324.76 1154.46,1324.76 1154.59,1324.76 1154.77,1324.76 1155.46,1323.4 \n",
       "  1155.53,1323.4 1155.56,1323.4 1155.57,1323.4 1155.59,1323.4 1155.75,1323.4 1155.83,1323.4 1156.01,1323.4 1156.19,1323.4 1156.3,1322.04 1157.3,1320.68 \n",
       "  1158.36,1320.68 1158.52,1320.68 1158.55,1320.68 1159.31,1320.68 1160.32,1320.68 1160.39,1320.68 1160.88,1320.68 1160.95,1320.68 1161.01,1320.68 1162.1,1320.68 \n",
       "  1162.2,1320.68 1162.55,1320.68 1162.77,1320.68 1162.99,1320.68 1163.02,1319.32 1163.09,1319.32 1163.24,1319.32 1163.5,1319.32 1163.57,1319.32 1164.22,1319.32 \n",
       "  1164.29,1319.32 1164.34,1319.32 1165.04,1319.32 1165.82,1317.96 1166.01,1317.96 1166.01,1317.96 1166.2,1317.96 1166.38,1317.96 1166.49,1316.6 1166.64,1316.6 \n",
       "  1167.03,1316.6 1167.94,1316.6 1169.07,1316.6 1169.12,1316.6 1169.19,1315.24 1169.59,1315.24 1169.7,1315.24 1170.26,1315.24 1170.38,1315.24 1170.84,1315.24 \n",
       "  1171.24,1313.88 1171.31,1313.88 1171.55,1313.88 1171.86,1312.52 1172.23,1312.52 1172.28,1312.52 1172.47,1311.16 1173.76,1311.16 1174.32,1311.16 1174.58,1311.16 \n",
       "  1174.98,1309.81 1175.11,1308.45 1175.5,1308.45 1176.77,1308.45 1176.85,1308.45 1177.86,1308.45 1178.02,1308.45 1178.14,1308.45 1178.6,1308.45 1179.09,1307.09 \n",
       "  1179.73,1307.09 1180,1305.73 1181.35,1305.73 1181.8,1305.73 1182.11,1304.37 1182.27,1303.01 1182.38,1303.01 1182.4,1303.01 1183.07,1303.01 1183.25,1301.65 \n",
       "  1183.41,1300.29 1183.54,1298.93 1184.16,1298.93 1184.72,1297.57 1185.35,1297.57 1185.46,1297.57 1185.78,1297.57 1186.01,1297.57 1186.65,1297.57 1186.78,1296.21 \n",
       "  1186.85,1294.86 1189.04,1294.86 1189.28,1293.5 1190.28,1293.5 1190.5,1293.5 1190.74,1293.5 1191.03,1293.5 1191.47,1293.5 1191.82,1293.5 1191.88,1292.14 \n",
       "  1192.02,1292.14 1192.64,1292.14 1195.16,1292.14 1195.54,1292.14 1196.22,1292.14 1196.55,1290.78 1197.66,1289.42 1198.06,1288.06 1199.25,1286.7 1200,1286.7 \n",
       "  1200.33,1286.7 1200.94,1285.34 1201.2,1285.34 1202.9,1283.98 1202.91,1283.98 1203.43,1283.98 1204.2,1283.98 1204.28,1283.98 1204.66,1283.98 1205.13,1282.62 \n",
       "  1205.28,1281.26 1205.52,1281.26 1205.56,1279.91 1205.96,1279.91 1206.68,1279.91 1206.93,1279.91 1207.43,1279.91 1207.59,1279.91 1207.86,1278.55 1208.2,1278.55 \n",
       "  1208.36,1278.55 1208.67,1278.55 1209.63,1277.19 1209.86,1277.19 1210.81,1277.19 1211.98,1277.19 1212.45,1277.19 1214.46,1275.83 1214.79,1275.83 1214.9,1275.83 \n",
       "  1214.9,1275.83 1215.67,1275.83 1215.85,1275.83 1216.25,1275.83 1216.28,1275.83 1216.36,1274.47 1216.53,1274.47 1216.55,1274.47 1216.58,1274.47 1217.45,1274.47 \n",
       "  1217.52,1274.47 1217.64,1274.47 1218.67,1274.47 1219.48,1274.47 1219.73,1274.47 1219.97,1274.47 1220.88,1274.47 1221.36,1274.47 1221.37,1274.47 1221.38,1274.47 \n",
       "  1221.91,1274.47 1222.69,1273.11 1222.82,1271.75 1223.42,1271.75 1224.16,1270.39 1224.27,1270.39 1226.34,1270.39 1226.82,1269.03 1227.07,1269.03 1227.42,1269.03 \n",
       "  1227.64,1269.03 1227.84,1269.03 1227.91,1269.03 1227.98,1269.03 1228.21,1269.03 1228.97,1267.67 1230.69,1267.67 1230.98,1267.67 1231.27,1267.67 1231.48,1267.67 \n",
       "  1231.72,1267.67 1231.79,1267.67 1233.28,1267.67 1233.3,1267.67 1233.63,1267.67 1233.98,1267.67 1234.1,1267.67 1234.6,1267.67 1234.71,1266.31 1235.05,1266.31 \n",
       "  1235.51,1266.31 1235.52,1266.31 1235.61,1266.31 1235.83,1266.31 1236.1,1266.31 1236.21,1264.96 1236.52,1264.96 1236.87,1264.96 1237.01,1264.96 1237.08,1264.96 \n",
       "  1237.17,1264.96 1237.6,1264.96 1238.83,1263.6 1239.27,1263.6 1239.29,1263.6 1239.33,1262.24 1239.37,1262.24 1239.84,1262.24 1240.01,1262.24 1240.61,1262.24 \n",
       "  1240.81,1262.24 1241.02,1260.88 1241.32,1259.52 1241.35,1258.16 1241.41,1256.8 1241.58,1256.8 1241.86,1256.8 1243.26,1256.8 1243.49,1256.8 1244,1256.8 \n",
       "  1244.85,1256.8 1245.12,1256.8 1245.17,1256.8 1245.25,1256.8 1245.79,1255.44 1245.99,1255.44 1246.25,1255.44 1246.81,1254.08 1247.01,1252.72 1247.13,1251.36 \n",
       "  1247.2,1251.36 1247.32,1250.01 1248.34,1250.01 1248.39,1250.01 1248.77,1250.01 1249.5,1250.01 1250.13,1248.65 1250.23,1247.29 1250.61,1247.29 1251.13,1245.93 \n",
       "  1251.36,1245.93 1251.88,1245.93 1252.09,1245.93 1253.45,1245.93 1254.94,1245.93 1255.24,1245.93 1256.86,1245.93 1257.89,1245.93 1258.69,1245.93 1259.03,1244.57 \n",
       "  1259.78,1243.21 1259.95,1241.85 1260.13,1240.49 1260.33,1239.13 1260.35,1239.13 1261.01,1239.13 1261.37,1239.13 1262.75,1239.13 1263.21,1239.13 1263.92,1239.13 \n",
       "  1264.04,1239.13 1264.35,1239.13 1264.44,1239.13 1264.94,1239.13 1266.18,1237.77 1266.19,1236.41 1268.34,1236.41 1268.5,1236.41 1269.23,1235.06 1270.96,1233.7 \n",
       "  1270.99,1232.34 1271.42,1232.34 1271.59,1232.34 1272.22,1230.98 1272.25,1230.98 1272.53,1230.98 1273.27,1230.98 1274.35,1230.98 1274.65,1230.98 1274.84,1230.98 \n",
       "  1274.85,1229.62 1274.89,1229.62 1275.06,1229.62 1276.16,1229.62 1276.25,1228.26 1276.55,1228.26 1276.76,1228.26 1276.95,1228.26 1277.32,1226.9 1277.74,1226.9 \n",
       "  1277.8,1225.54 1278.18,1225.54 1278.6,1225.54 1279.16,1224.18 1279.49,1224.18 1279.91,1224.18 1281.36,1222.82 1281.72,1221.46 1282.44,1220.11 1282.64,1218.75 \n",
       "  1283,1218.75 1283.5,1218.75 1284.06,1218.75 1285.32,1217.39 1286.07,1216.03 1286.77,1216.03 1287.23,1216.03 1287.67,1216.03 1287.75,1214.67 1288.07,1213.31 \n",
       "  1289.32,1213.31 1290.16,1211.95 1290.24,1211.95 1290.73,1211.95 1291.33,1211.95 1291.36,1211.95 1291.59,1211.95 1291.71,1211.95 1292.09,1211.95 1292.64,1210.59 \n",
       "  1293.28,1210.59 1293.31,1210.59 1293.52,1209.23 1293.53,1209.23 1294.71,1207.87 1295.13,1207.87 1295.64,1207.87 1295.67,1206.51 1296.34,1206.51 1296.66,1206.51 \n",
       "  1296.73,1206.51 1298.01,1205.16 1298.57,1203.8 1299.66,1203.8 1299.82,1202.44 1301.15,1202.44 1301.52,1202.44 1302.34,1201.08 1302.43,1199.72 1302.62,1198.36 \n",
       "  1303.45,1198.36 1303.77,1198.36 1305.29,1197 1308.55,1195.64 1309.73,1195.64 1310.7,1194.28 1310.99,1192.92 1311.13,1191.56 1312.48,1190.21 1313.35,1190.21 \n",
       "  1314.05,1188.85 1314.09,1188.85 1318.87,1187.49 1319.91,1186.13 1321.02,1184.77 1321.06,1183.41 1321.17,1182.05 1321.69,1182.05 1322.14,1182.05 1322.87,1180.69 \n",
       "  1323.44,1180.69 1323.5,1179.33 1324.09,1179.33 1324.38,1179.33 1324.54,1179.33 1324.7,1177.97 1325.05,1177.97 1325.55,1176.61 1327.69,1175.26 1328.05,1175.26 \n",
       "  1328.18,1173.9 1330.21,1172.54 1330.9,1172.54 1331.66,1171.18 1331.92,1169.82 1333.71,1169.82 1334.64,1168.46 1337.11,1167.1 1339.05,1167.1 1339.23,1165.74 \n",
       "  1339.46,1165.74 1339.57,1164.38 1340.26,1164.38 1340.98,1163.02 1341.51,1161.66 1341.77,1160.31 1342.73,1158.95 1343.64,1157.59 1343.84,1156.23 1344.04,1154.87 \n",
       "  1344.07,1154.87 1344.12,1153.51 1344.4,1152.15 1345.35,1152.15 1346.11,1152.15 1347.44,1150.79 1347.62,1150.79 1347.99,1149.43 1348.57,1148.07 1349.49,1148.07 \n",
       "  1349.92,1148.07 1349.96,1146.71 1351.59,1146.71 1352.75,1146.71 1353.02,1145.35 1353.89,1145.35 1354.91,1144 1356.89,1142.64 1357.58,1141.28 1357.59,1141.28 \n",
       "  1357.7,1141.28 1357.81,1141.28 1358.6,1139.92 1358.67,1138.56 1359.82,1137.2 1361.89,1137.2 1361.95,1137.2 1363.66,1137.2 1364.99,1137.2 1366.07,1135.84 \n",
       "  1366.55,1134.48 1366.55,1133.12 1366.91,1131.76 1368.3,1130.4 1369.11,1129.05 1370.63,1127.69 1370.9,1127.69 1370.95,1127.69 1373.23,1127.69 1374.78,1126.33 \n",
       "  1374.82,1124.97 1375.47,1123.61 1376.16,1123.61 1376.91,1123.61 1377.92,1122.25 1378.22,1120.89 1378.53,1120.89 1379.2,1119.53 1379.68,1119.53 1380.55,1119.53 \n",
       "  1380.75,1119.53 1381.58,1118.17 1381.72,1118.17 1382.06,1116.81 1382.35,1115.45 1382.39,1115.45 1385.8,1115.45 1386.47,1114.1 1386.54,1112.74 1386.94,1111.38 \n",
       "  1387.17,1111.38 1389.03,1110.02 1390.45,1110.02 1391.01,1108.66 1392.09,1108.66 1393.74,1107.3 1395.36,1105.94 1396.6,1104.58 1397.19,1104.58 1397.32,1103.22 \n",
       "  1398.65,1103.22 1399.19,1103.22 1399.73,1101.86 1400.83,1101.86 1403.2,1101.86 1403.41,1100.5 1405.42,1099.15 1405.97,1097.79 1406.54,1096.43 1406.57,1095.07 \n",
       "  1406.92,1093.71 1407.07,1092.35 1407.38,1092.35 1407.51,1092.35 1407.77,1090.99 1408.95,1089.63 1409.04,1088.27 1409.62,1088.27 1411.44,1086.91 1411.62,1085.55 \n",
       "  1413.62,1084.2 1414.92,1082.84 1416.38,1082.84 1418.32,1081.48 1419.19,1081.48 1419.74,1081.48 1420.07,1080.12 1420.45,1080.12 1420.46,1080.12 1421.08,1078.76 \n",
       "  1423.6,1077.4 1423.98,1077.4 1424.34,1076.04 1425.17,1076.04 1428.05,1076.04 1428.1,1074.68 1428.2,1073.32 1431.2,1073.32 1433.23,1073.32 1434.03,1073.32 \n",
       "  1434.86,1071.96 1435.27,1070.6 1435.49,1070.6 1439.7,1070.6 1442.43,1069.25 1443.5,1067.89 1444.24,1066.53 1444.88,1065.17 1445.01,1063.81 1445.61,1062.45 \n",
       "  1448.29,1061.09 1448.56,1059.73 1451.21,1059.73 1452.25,1059.73 1452.44,1059.73 1452.5,1058.37 1453.64,1057.01 1454.23,1057.01 1454.41,1055.65 1455.46,1054.3 \n",
       "  1455.49,1052.94 1455.96,1052.94 1457.1,1051.58 1457.68,1050.22 1459.09,1048.86 1459.43,1048.86 1461.44,1047.5 1462.09,1046.14 1463.58,1046.14 1464.68,1044.78 \n",
       "  1465.78,1043.42 1466.44,1043.42 1467.43,1042.06 1470.11,1042.06 1470.64,1042.06 1470.92,1040.7 1472.21,1039.35 1473.88,1037.99 1474.23,1037.99 1474.29,1036.63 \n",
       "  1474.65,1035.27 1474.92,1033.91 1475.26,1033.91 1476.26,1032.55 1477.77,1031.19 1477.94,1029.83 1478.23,1029.83 1479.39,1029.83 1479.55,1029.83 1479.56,1029.83 \n",
       "  1480.3,1028.47 1481.84,1027.11 1482.37,1025.75 1483.55,1024.4 1483.99,1023.04 1485.02,1021.68 1485.36,1020.32 1486.34,1018.96 1486.4,1017.6 1487.32,1017.6 \n",
       "  1487.51,1016.24 1489.14,1014.88 1490.87,1013.52 1492.66,1012.16 1494.45,1010.8 1494.64,1009.45 1495.34,1008.09 1495.38,1008.09 1495.83,1006.73 1496.06,1006.73 \n",
       "  1496.26,1006.73 1496.32,1006.73 1496.41,1005.37 1496.5,1004.01 1497.43,1004.01 1497.98,1002.65 1499.09,1001.29 1500.4,1001.29 1500.86,999.931 1503.31,999.931 \n",
       "  1503.74,999.931 1504.33,998.572 1504.85,998.572 1505.28,997.213 1506.46,995.854 1507.03,994.495 1507.7,994.495 1507.9,994.495 1508.02,994.495 1508.38,993.136 \n",
       "  1510.6,993.136 1511.67,993.136 1512.44,991.777 1513.04,990.418 1513.65,989.059 1513.89,989.059 1514.57,987.699 1514.91,986.34 1516.79,984.981 1518.66,983.622 \n",
       "  1518.96,982.263 1520.38,980.904 1522.13,980.904 1522.59,979.545 1523.76,978.186 1526.1,976.827 1528.03,975.468 1528.73,975.468 1535.88,974.109 1537.46,972.749 \n",
       "  1538.68,971.39 1539.68,971.39 1542.48,970.031 1543.01,968.672 1544.18,967.313 1544.71,965.954 1545.93,964.595 1546.59,964.595 1549.34,964.595 1552.26,963.236 \n",
       "  1554.45,963.236 1555.03,963.236 1555.56,961.877 1555.83,960.518 1557.83,959.158 1558.05,957.799 1558.75,956.44 1559.21,955.081 1561.22,953.722 1561.31,952.363 \n",
       "  1566.58,952.363 1566.6,951.004 1566.64,949.645 1568.99,949.645 1569.38,948.286 1571.71,946.927 1572.1,945.567 1574,944.208 1576.71,942.849 1581.7,941.49 \n",
       "  1583.06,940.131 1586.42,938.772 1587.23,937.413 1589.08,936.054 1589.14,934.695 1591.52,933.336 1593.69,931.976 1593.81,930.617 1593.85,929.258 1594.36,929.258 \n",
       "  1595.87,927.899 1597.23,926.54 1598.2,925.181 1601.48,923.822 1602.74,922.463 1603,921.104 1606.65,919.745 1606.94,918.385 1609.9,917.026 1611.4,915.667 \n",
       "  1612.57,914.308 1615.98,914.308 1616.64,912.949 1618,911.59 1619.65,910.231 1619.83,908.872 1622.01,907.513 1622.23,907.513 1622.31,906.154 1623.06,904.794 \n",
       "  1626.4,903.435 1628.69,902.076 1628.82,900.717 1628.86,899.358 1629.53,897.999 1632.63,897.999 1632.82,896.64 1633.27,895.281 1634.51,895.281 1641.4,893.922 \n",
       "  1641.9,892.563 1643.82,891.203 1645.72,889.844 1646.02,888.485 1648.1,887.126 1648.56,885.767 1648.68,885.767 1648.68,884.408 1650.49,883.049 1651.64,881.69 \n",
       "  1654.79,880.331 1655.06,878.972 1655.62,877.613 1658.8,876.253 1658.97,874.894 1659.03,873.535 1660.66,872.176 1661.41,870.817 1662.79,869.458 1663.07,868.099 \n",
       "  1663.6,868.099 1663.65,866.74 1666.66,865.381 1667.05,864.022 1668.43,862.662 1670.1,862.662 1672.98,861.303 1673.73,859.944 1673.81,858.585 1676.66,857.226 \n",
       "  1679.61,855.867 1679.88,854.508 1680.64,853.149 1682.9,851.79 1683.26,851.79 1684.17,850.431 1684.23,849.071 1691.35,847.712 1691.81,846.353 1692.11,844.994 \n",
       "  1693.31,843.635 1695.19,842.276 1699.99,840.917 1700.03,839.558 1700.88,838.199 1702,836.84 1703.8,835.48 1704.8,834.121 1704.8,832.762 1706.11,831.403 \n",
       "  1711.31,830.044 1711.31,830.044 1714.32,828.685 1714.39,827.326 1716.97,825.967 1717.27,824.608 1720.62,823.249 1721.08,821.889 1721.61,821.889 1721.95,820.53 \n",
       "  1723.96,820.53 1725.37,819.171 1726.34,817.812 1727.64,816.453 1729.79,815.094 1730.58,813.735 1731.73,812.376 1737.93,811.017 1738.46,809.658 1742.12,808.298 \n",
       "  1743.33,806.939 1744.26,805.58 1745.51,804.221 1749.73,802.862 1753.94,801.503 1754.63,800.144 1757.78,798.785 1757.78,797.426 1760.74,796.067 1760.76,794.708 \n",
       "  1761.57,794.708 1765.18,794.708 1766.64,793.348 1771.14,791.989 1778.12,790.63 1781.08,789.271 1784.13,787.912 1785.46,786.553 1785.84,785.194 1786.56,783.835 \n",
       "  1787.7,782.476 1788.39,781.117 1789.01,779.757 1793.53,778.398 1794.01,777.039 1795.49,775.68 1804.84,774.321 1808.09,772.962 1809.22,771.603 1811.93,770.244 \n",
       "  1813.84,768.885 1814.24,767.526 1817.97,766.166 1818.77,764.807 1820.37,763.448 1825.86,762.089 1826.04,760.73 1826.95,759.371 1828.6,758.012 1832.07,756.653 \n",
       "  1832.74,755.294 1836.51,755.294 1839.53,753.935 1839.84,752.575 1840.15,751.216 1844.58,749.857 1848.63,748.498 1852.43,747.139 1853.88,745.78 1854.41,744.421 \n",
       "  1855,743.062 1856.21,741.703 1856.67,740.344 1856.81,738.984 1857.01,737.625 1859.66,736.266 1863.66,734.907 1864.85,733.548 1866.85,732.189 1868.13,730.83 \n",
       "  1871.64,729.471 1875.01,728.112 1878.73,726.753 1878.85,725.393 1879.43,724.034 1880.64,722.675 1881.9,721.316 1882.64,719.957 1882.97,718.598 1884.99,717.239 \n",
       "  1885.07,715.88 1886.57,714.521 1887.96,713.162 1888.86,711.802 1898.58,710.443 1902.47,709.084 1906.11,707.725 1908.77,706.366 1911.19,705.007 1912.84,703.648 \n",
       "  1927.85,702.289 1928.35,700.93 1932.05,699.571 1933.45,698.212 1933.95,696.852 1935.28,695.493 1938.1,694.134 1939.12,692.775 1940.76,691.416 1941.66,690.057 \n",
       "  1947.16,688.698 1947.41,688.698 1947.72,688.698 1948.21,687.339 1948.86,685.98 1949.53,684.621 1950.99,683.261 1952.66,681.902 1954.12,680.543 1956.93,679.184 \n",
       "  1965.49,677.825 1967.11,676.466 1968.56,675.107 1974.42,673.748 1976.25,672.389 1978.42,671.03 1979.13,669.67 1979.39,668.311 1985.71,666.952 1987.78,665.593 \n",
       "  1988.38,664.234 1988.58,662.875 1989.79,661.516 1994.29,660.157 1994.6,658.798 1995.6,657.439 1997.13,656.079 1997.29,654.72 2002.41,653.361 2007.15,652.002 \n",
       "  2007.25,650.643 2010.99,649.284 2012.63,647.925 2016.29,646.566 2018.98,645.207 2021.98,643.848 2022.19,642.488 2024.03,641.129 2025.37,639.77 2033.49,638.411 \n",
       "  2034.98,637.052 2036.31,635.693 2036.45,635.693 2037.63,634.334 2041.57,632.975 2044.4,631.616 2046.19,630.257 2050.71,628.897 2053.15,627.538 2053.61,626.179 \n",
       "  2057.08,624.82 2057.66,623.461 2057.99,622.102 2058.55,620.743 2059.45,619.384 2060.01,618.025 2064,616.666 2065.12,615.307 2069.79,615.307 2070.57,613.947 \n",
       "  2072.12,612.588 2075.2,611.229 2075.77,609.87 2076.3,608.511 2076.56,607.152 2079.46,605.793 2081.71,604.434 2086.34,603.075 2087.77,601.716 2088.77,600.356 \n",
       "  2089.02,598.997 2089.07,597.638 2089.9,596.279 2093.95,594.92 2096.87,593.561 2100.36,592.202 2101.25,590.843 2104.12,589.484 2104.21,588.125 2113.75,586.765 \n",
       "  2119.29,585.406 2120.48,584.047 2121.64,582.688 2122.01,581.329 2122.65,579.97 2125.97,578.611 2127.41,577.252 2127.89,575.893 2129.12,574.534 2137.3,573.174 \n",
       "  2139.73,571.815 2139.87,570.456 2140.74,569.097 2159.31,567.738 2160.01,566.379 2161.47,565.02 2162.76,563.661 2166.8,562.302 2166.83,560.943 2181.9,559.583 \n",
       "  2184.68,558.224 2185.96,556.865 2191.73,555.506 2193.55,554.147 2199.63,552.788 2202.51,552.788 2208.37,551.429 2209.06,550.07 2214.57,548.711 2214.92,547.352 \n",
       "  2216.18,545.992 2218.13,544.633 2219.48,543.274 2221.78,541.915 2221.97,540.556 2225.51,539.197 2231.86,537.838 2233.95,536.479 2235.07,535.12 2239.35,533.761 \n",
       "  2242,532.401 2243.08,531.042 2251.16,529.683 2251.81,528.324 2252.77,526.965 2255.57,525.606 2258.26,524.247 2261.5,522.888 2262.47,521.529 2266.11,520.17 \n",
       "  2269.21,518.811 2272.69,517.451 2273.52,516.092 2284.94,514.733 2286.85,513.374 2289.34,512.015 2291.81,510.656 2289.75,510.656 \n",
       "  \"/>\n",
       "<path clip-path=\"url(#clip120)\" d=\"\n",
       "M1988.69 302.578 L2280.97 302.578 L2280.97 95.2176 L1988.69 95.2176  Z\n",
       "  \" fill=\"#ffffff\" fill-rule=\"evenodd\" fill-opacity=\"0.9\"/>\n",
       "<polyline clip-path=\"url(#clip120)\" style=\"stroke:#222255; stroke-linecap:butt; stroke-linejoin:round; stroke-width:4; stroke-opacity:0.1; fill:none\" points=\"\n",
       "  1988.69,302.578 2280.97,302.578 2280.97,95.2176 1988.69,95.2176 1988.69,302.578 \n",
       "  \"/>\n",
       "<polyline clip-path=\"url(#clip120)\" style=\"stroke:#ee7733; stroke-linecap:butt; stroke-linejoin:round; stroke-width:4; stroke-opacity:1; fill:none\" points=\"\n",
       "  2012.62,147.058 2156.18,147.058 \n",
       "  \"/>\n",
       "<path clip-path=\"url(#clip120)\" d=\"M2193.95 166.745 Q2192.15 171.375 2190.43 172.787 Q2188.72 174.199 2185.85 174.199 L2182.45 174.199 L2182.45 170.634 L2184.95 170.634 Q2186.71 170.634 2187.68 169.8 Q2188.65 168.967 2189.83 165.865 L2190.6 163.921 L2180.11 138.412 L2184.62 138.412 L2192.73 158.689 L2200.83 138.412 L2205.34 138.412 L2193.95 166.745 Z\" fill=\"#000000\" fill-rule=\"evenodd\" fill-opacity=\"1\" /><path clip-path=\"url(#clip120)\" d=\"M2212.63 160.402 L2220.27 160.402 L2220.27 134.037 L2211.96 135.703 L2211.96 131.444 L2220.23 129.778 L2224.9 129.778 L2224.9 160.402 L2232.54 160.402 L2232.54 164.338 L2212.63 164.338 L2212.63 160.402 Z\" fill=\"#000000\" fill-rule=\"evenodd\" fill-opacity=\"1\" /><polyline clip-path=\"url(#clip120)\" style=\"stroke:#0077bb; stroke-linecap:butt; stroke-linejoin:round; stroke-width:4; stroke-opacity:1; fill:none\" points=\"\n",
       "  2012.62,198.898 2156.18,198.898 \n",
       "  \"/>\n",
       "<path clip-path=\"url(#clip120)\" d=\"M2193.95 218.585 Q2192.15 223.215 2190.43 224.627 Q2188.72 226.039 2185.85 226.039 L2182.45 226.039 L2182.45 222.474 L2184.95 222.474 Q2186.71 222.474 2187.68 221.64 Q2188.65 220.807 2189.83 217.705 L2190.6 215.761 L2180.11 190.252 L2184.62 190.252 L2192.73 210.529 L2200.83 190.252 L2205.34 190.252 L2193.95 218.585 Z\" fill=\"#000000\" fill-rule=\"evenodd\" fill-opacity=\"1\" /><path clip-path=\"url(#clip120)\" d=\"M2215.85 212.242 L2232.17 212.242 L2232.17 216.178 L2210.23 216.178 L2210.23 212.242 Q2212.89 209.488 2217.47 204.858 Q2222.08 200.205 2223.26 198.863 Q2225.5 196.34 2226.38 194.604 Q2227.29 192.844 2227.29 191.155 Q2227.29 188.4 2225.34 186.664 Q2223.42 184.928 2220.32 184.928 Q2218.12 184.928 2215.66 185.692 Q2213.23 186.455 2210.46 188.006 L2210.46 183.284 Q2213.28 182.15 2215.73 181.571 Q2218.19 180.993 2220.23 180.993 Q2225.6 180.993 2228.79 183.678 Q2231.98 186.363 2231.98 190.854 Q2231.98 192.983 2231.17 194.905 Q2230.39 196.803 2228.28 199.395 Q2227.7 200.067 2224.6 203.284 Q2221.5 206.479 2215.85 212.242 Z\" fill=\"#000000\" fill-rule=\"evenodd\" fill-opacity=\"1\" /><polyline clip-path=\"url(#clip120)\" style=\"stroke:#33bbee; stroke-linecap:butt; stroke-linejoin:round; stroke-width:4; stroke-opacity:1; fill:none\" points=\"\n",
       "  2012.62,250.738 2156.18,250.738 \n",
       "  \"/>\n",
       "<path clip-path=\"url(#clip120)\" d=\"M2193.95 270.425 Q2192.15 275.055 2190.43 276.467 Q2188.72 277.879 2185.85 277.879 L2182.45 277.879 L2182.45 274.314 L2184.95 274.314 Q2186.71 274.314 2187.68 273.48 Q2188.65 272.647 2189.83 269.545 L2190.6 267.601 L2180.11 242.092 L2184.62 242.092 L2192.73 262.369 L2200.83 242.092 L2205.34 242.092 L2193.95 270.425 Z\" fill=\"#000000\" fill-rule=\"evenodd\" fill-opacity=\"1\" /><path clip-path=\"url(#clip120)\" d=\"M2225.99 249.383 Q2229.35 250.101 2231.22 252.369 Q2233.12 254.638 2233.12 257.971 Q2233.12 263.087 2229.6 265.888 Q2226.08 268.689 2219.6 268.689 Q2217.42 268.689 2215.11 268.249 Q2212.82 267.832 2210.36 266.976 L2210.36 262.462 Q2212.31 263.596 2214.62 264.175 Q2216.94 264.754 2219.46 264.754 Q2223.86 264.754 2226.15 263.018 Q2228.47 261.281 2228.47 257.971 Q2228.47 254.916 2226.31 253.203 Q2224.18 251.467 2220.36 251.467 L2216.34 251.467 L2216.34 247.624 L2220.55 247.624 Q2224 247.624 2225.83 246.258 Q2227.66 244.87 2227.66 242.277 Q2227.66 239.615 2225.76 238.203 Q2223.88 236.768 2220.36 236.768 Q2218.44 236.768 2216.24 237.184 Q2214.04 237.601 2211.41 238.481 L2211.41 234.314 Q2214.07 233.573 2216.38 233.203 Q2218.72 232.833 2220.78 232.833 Q2226.1 232.833 2229.21 235.263 Q2232.31 237.67 2232.31 241.791 Q2232.31 244.661 2230.66 246.652 Q2229.02 248.62 2225.99 249.383 Z\" fill=\"#000000\" fill-rule=\"evenodd\" fill-opacity=\"1\" /></svg>\n"
      ],
      "image/png": "[encoded data removed]"
     },
     "metadata": {},
     "output_type": "display_data"
    }
   ],
   "metadata": {}
  }
 ],
 "metadata": {
  "orig_nbformat": 4,
  "language_info": {
   "file_extension": ".jl",
   "name": "julia",
   "mimetype": "application/julia",
   "version": "1.6.2"
  },
  "kernelspec": {
   "name": "julia-1.6",
   "display_name": "Julia 1.6.2",
   "language": "julia"
  }
 },
 "nbformat": 4,
 "nbformat_minor": 2
}